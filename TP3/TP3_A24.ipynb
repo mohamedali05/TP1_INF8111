{
  "cells": [
    {
      "cell_type": "markdown",
      "metadata": {
        "id": "4mh2MiuVMazk"
      },
      "source": [
        "# TP3 - Market Basket Analysis\n",
        "INF8111 - Fouille de données, Eté 2024\n",
        "### Membres de l'équipe\n",
        "    - Mohamed Ali LAJNEF  (2404991)\n",
        "    - Yannis YAHYA (1886365)\n"
      ]
    },
    {
      "cell_type": "code",
      "source": [
        "import os"
      ],
      "metadata": {
        "id": "oBYZkM_L5NX9",
        "ExecuteTime": {
          "end_time": "2024-11-11T18:06:01.589493400Z",
          "start_time": "2024-11-11T18:06:01.574614100Z"
        }
      },
      "execution_count": 6,
      "outputs": []
    },
    {
      "cell_type": "code",
      "execution_count": 7,
      "outputs": [],
      "source": [
        "ROOT = os.getcwd()+'/data/'"
      ],
      "metadata": {
        "ExecuteTime": {
          "end_time": "2024-11-11T18:06:02.156074Z",
          "start_time": "2024-11-11T18:06:02.133600500Z"
        },
        "id": "zDW_ttnsm64s"
      }
    },
    {
      "cell_type": "markdown",
      "metadata": {
        "id": "bh1o2bpwPQJG"
      },
      "source": [
        "## Date et directives de remise\n",
        "Vous remettrez l'ensemble des fichiers fichiers nécessaires à la réalisation de TP au sein d'une archive compressée ZIP nommée TP3\\_NomDuMembre1\\_NomDuMembre2\\_NomDuMembre3\n",
        "\n",
        "Cette archive devra, au minimum, inclure ce notebook, nommé TP3\\_NomDuMembre1\\_NomDuMembre2\\_NomDuMembre3.ipynb\n",
        "\n",
        "**Date limite: dd mm à hh:mm**."
      ]
    },
    {
      "cell_type": "markdown",
      "source": [
        "## 1. Introduction: Market Basket Analysis"
      ],
      "metadata": {
        "id": "taIxayWsmT9m"
      }
    },
    {
      "cell_type": "markdown",
      "metadata": {
        "id": "ZQOy7hD8t76L"
      },
      "source": [
        "### Présentation\n",
        "\n",
        "Le *Market Basket Analysis* (MBA) est une technique d'analyse de la fouille de données qui permet de découvrir les associations entre les produits ou leur regroupement. En explorant des motifs intéressants à partir d'une vaste collection de données, le MBA vise à comprendre / révéler les comportements d'achat des clients en se basant sur la théorie selon laquelle si vous avez acheté un certain ensemble de produits, vous êtes plus (ou moins) susceptible d'acheter un autre groupe de produits. En d'autres termes, le MBA permet aux détaillants d'identifier la relation entre les articles que les clients achètent, révélant des tendances d'articles souvent achetés ensemble.\n",
        "\n",
        "Une approche largement utilisée pour explorer ces motifs consiste à construire *** des règles d'association *** telles que\n",
        "- **si** acheté *ITEM_1* **alors** achètera *ITEM_2* avec **confiance** *X*.\n",
        "\n",
        "Ces associations n'ont pas à être des règles individuelles. Ils peuvent impliquer de nombreux éléments. Par exemple, une personne dans un supermarché peut ajouter des œufs dans son panier, puis le MBA peut suggérer qu'elle achètera également du pain et/ou de la farine:\n",
        "\n",
        "+ **si**  acheté *OEUFS* **alors** achètera [*PAIN* avec confiance *0,2*; *FARINE* avec confiance 0,05].\n",
        "\n",
        "Cependant, si la personne décide maintenant d'ajouter de la farine à son panier, la nouvelle règle d'association pourrait être comme ci-dessous, suggérant des ingrédients pour faire un gâteau.\n",
        "\n",
        "+ **si** acheté [*OEUFS, FARINE*] **alors** achètera [*SUCRE* avec confiance 0,45; LEVURE avec confiance 0,12; *PAIN* avec confiance *0,03*].\n",
        "\n",
        "Il existe de nombreux scénarios réels où le MBA joue un rôle central dans l'analyse des données, comme les transactions de supermarché, les commandes en ligne ou l'historique des cartes de crédit. Avec une approche un peu moins mercantile, cet algorithme est aussi utilisé dans le domaine médical. Les spécialistes du marketing peuvent utiliser ces règles d'association pour organiser les produits corrélés plus près les uns des autres sur les étagères des magasins ou faire des suggestions en ligne afin que les clients achètent plus d'articles. Un MBA peut généralement aider les détaillants à répondre aux questions les suivantes:\n",
        "\n",
        "- Quels articles sont souvent achetés ensemble ?\n",
        "- Étant donné un panier, quels articles suggérer ?\n",
        "- Comment placer les articles ensemble sur les étagères ?\n"
      ]
    },
    {
      "cell_type": "markdown",
      "source": [
        "### Objectif\n",
        "\n",
        "Votre objectif dans ce TP est de développer un algorithme MBA pour révéler les motifs en créant des règles d'association dans un ensemble de données volumineux avec plus de trois millions de transactions de supermarché. Cependant, la collecte de règles d'association dans les grands ensembles de données est un problème très intensif en calcul, ce qui rend presque impossible leur exécution sans système distribué. Par conséquent, pour exécuter votre algorithme, vous aurez accès à un cluster de *cloud computing* distribué avec des centaines de cœurs.\n",
        "\n",
        "À cette fin, un algorithme **MapReduce** sera implémenté avec le framework [Apache Spark](http://spark.apache.org), un système informatique distribué rapide. En résumé, Spark est un framework open source conçu avec une méthodologie *scale-out* qui en fait un outil très puissant pour les programmeurs ou les développeurs d'applications pour effectuer un volume massif de calculs et de traitement de données dans des environnements distribués. Spark fournit des API de haut niveau qui facilitent la création d'applications parallèles sans avoir à se soucier de la façon dont votre code et vos données sont parallélisés / distribués par le cluster informatique. Spark fait tout pour vous.\n",
        "\n",
        "La mise en œuvre suivra l'algorithme d'analyse du panier de marché présenté par Jongwook Woo et Yuhang Xu (2012). L'image **workflow.pdf** illustre le flux de travail de l'algorithme et doit être utilisée pour consultation tout au long de ce TP. Les cases bleues sont celles où vous devez implémenter une méthode pour effectuer une fonction de mappage ou de réduction, et les cases grises représentent leur sortie attendue. **Toutes ces opérations sont expliquées en détail dans les sections suivantes.**"
      ],
      "metadata": {
        "id": "_WwuVfQgmaRV"
      }
    },
    {
      "cell_type": "markdown",
      "metadata": {
        "id": "VmJEz5JEMazl"
      },
      "source": [
        "## 1. Configuration de Spark"
      ]
    },
    {
      "cell_type": "markdown",
      "source": [
        "#### Exécution avec le notebook Google Colab (fortement conseillé)"
      ],
      "metadata": {
        "id": "kISGZ7w7mue0"
      }
    },
    {
      "cell_type": "code",
      "execution_count": 8,
      "metadata": {
        "id": "JmUMt4htMazm",
        "colab": {
          "base_uri": "https://localhost:8080/"
        },
        "outputId": "2330250c-4769-4fbd-b393-f9df30979de9",
        "ExecuteTime": {
          "end_time": "2024-11-11T18:37:02.458279700Z",
          "start_time": "2024-11-11T18:35:59.400002400Z"
        }
      },
      "outputs": [
        {
          "output_type": "stream",
          "name": "stdout",
          "text": [
            "Requirement already satisfied: pyspark in /usr/local/lib/python3.10/dist-packages (3.5.3)\n",
            "Requirement already satisfied: py4j==0.10.9.7 in /usr/local/lib/python3.10/dist-packages (from pyspark) (0.10.9.7)\n"
          ]
        }
      ],
      "source": [
        "import os\n",
        "!apt-get install openjdk-17-jdk-headless -qq > /dev/null\n",
        "os.environ[\"JAVA_HOME\"] = \"/usr/lib/jvm/java-17-openjdk-amd64\"\n",
        "!pip install pyspark"
      ]
    },
    {
      "cell_type": "markdown",
      "source": [
        "#### Exécution en local\n",
        "\n"
      ],
      "metadata": {
        "id": "dGqidjm0m46p"
      }
    },
    {
      "cell_type": "markdown",
      "source": [
        "Spark fonctionne sur les systèmes Windows et UNIX (par exemple, Linux, Mac OS). Il est facile d'exécuter Spark localement sur une seule machine - tout ce dont vous avez besoin est d'avoir Java installé sur votre système PATH, ou la variable d'environnement JAVA_HOME pointant vers une installation Java. Il est obligatoire que le **JDK v8** soit installé sur votre système, car Spark ne prend actuellement en charge que cette version. Si ce n'est pas le cas, accédez à [la page Web de Java](https://www.oracle.com/technetwork/java/javase/downloads/jdk8-downloads-2133151.html) pour télécharger et installer une machine virtuelle Java. N'oubliez pas de définir la variable d'environnement JAVA_HOME pour utiliser JDK v8 si votre installation ne le fait pas automatiquement.\n",
        "\n",
        "L'interface entre Python et Spark se fait via **PySpark**, qui peut être installé en exécutant `pip install pyspark` ou configuré en suivant la séquence ci-dessous:\n",
        "\n",
        "1. D'abord, allez sur http://spark.apache.org/downloads\n",
        "2. Sélectionnez la dernière version de Spark et le package pré-construit pour Apache Hadoop 2.7\n",
        "3. Cliquez pour télécharger **spark-2.4.5-bin-hadoop2.7.tgz** et décompressez-le dans le dossier de votre choix.\n",
        "4. Ensuite, exportez les variables suivantes pour lier PYSPARK (l'interface python de Spark) à votre distribution python dans votre fichier `~/.bash_profile`.\n",
        "\n",
        "``\n",
        "export SPARK_HOME=/chemin/ vers / spark-2.4.5-bin-hadoop2.7\n",
        "export PYTHONPATH=\"$SPARK_HOME/python:$SPARK_HOME/python/lib/py4j-0.10.7-src.zip:$SPARK_HOME/python/lib/pyspark.zip:$ PYTHONPATH\"\n",
        "export PYSPARK_PYTHON=/chemin/vers/votre/python3\n",
        "``\n",
        "\n",
        "5. Exécutez `source ~./bash_profile` pour effectuer les modifications et redémarrer cette session de notebook jupyter."
      ],
      "metadata": {
        "id": "g1PhMitvnCW2"
      }
    },
    {
      "cell_type": "markdown",
      "metadata": {
        "id": "rovSCW_vYs7m"
      },
      "source": [
        "#### Test de l'installation\n",
        "À l'aide du code suivant, vous pouvez tester si Spark est correctement installé."
      ]
    },
    {
      "cell_type": "code",
      "execution_count": 9,
      "metadata": {
        "id": "UxgNiBFkYs7n",
        "is_executing": true,
        "ExecuteTime": {
          "start_time": "2024-11-11T18:41:28.979827400Z"
        },
        "colab": {
          "base_uri": "https://localhost:8080/"
        },
        "outputId": "6f41b03e-9ecb-4266-86d1-9cada1b992a1"
      },
      "outputs": [
        {
          "output_type": "stream",
          "name": "stdout",
          "text": [
            "+-----+\n",
            "|hello|\n",
            "+-----+\n",
            "|spark|\n",
            "+-----+\n",
            "\n"
          ]
        }
      ],
      "source": [
        "import pyspark\n",
        "from pyspark.sql import SparkSession\n",
        "spark = SparkSession.builder.getOrCreate()\n",
        "df = spark.sql(\"select 'spark' as hello \")\n",
        "df.show()"
      ]
    },
    {
      "cell_type": "markdown",
      "source": [
        "### 1.1 Exemple de comptage de produits / Products Counting Example\n",
        "\n",
        "Pour tester votre installation et commencer à vous familiariser avec Spark, nous suivrons un exemple qui compte combien de fois les produits du GroceryDataset dataset ont été achetés.\n",
        "\n",
        "Le principal point d'entrée pour commencer la programmation avec Spark est [l'API RDD](https://spark.apache.org/docs/latest/rdd-programming-guide.html), une excellente abstraction Spark pour travailler avec MapReduce. RDD est une collection d'éléments partitionnés sur les nœuds du cluster qui peuvent fonctionner en parallèle. En d'autres termes, RDD est la façon dont Spark maintient vos données prêtes à exécuter une fonction (par exemple, une fonction Map ou une fonction reduce) en parallèle. **Ne vous inquiétez pas si cela semble toujours déroutant, il sera clair une fois que vous commencerez à l'implémenter**. Cependant, cela fait partie de ce TP d'étudier / consulter [Spark python API](https://spark.apache.org/docs/latest/api/python/) et d'apprendre à l'utiliser. Certaines fonctions utiles offertes par l'API RDD sont:\n",
        "\n",
        "1. **map**: return a new RDD by applying a function to each element of this RDD.\n",
        "2. **flatMap**: return a new RDD by first applying a function to all elements of this RDD, and then flattening the results. **Should be used when each entry will yield more than one mapped element**\n",
        "3. **reduce**: reduces the elements of this RDD using the specified commutative and associative binary operator.\n",
        "4. **reduceByKey**: merge the values for each key using an associative and commutative reduce function\n",
        "5. **groupByKey**: group the values for each key in the RDD into a single sequence\n",
        "6. **collect**: return a list that contains all of the elements in this RDD. **Should not be used when working with a lot of data**\n",
        "7. **takeSample**: return a sampled subset of this RDD\n",
        "8. **count**: return the number of elements in this RDD.\n",
        "9. **filter**: return a new RDD containing only the elements that satisfy a predicate."
      ],
      "metadata": {
        "id": "Sy3pBo7mZSsM"
      }
    },
    {
      "cell_type": "code",
      "execution_count": 10,
      "metadata": {
        "id": "NZDz1nrBMazu",
        "colab": {
          "base_uri": "https://localhost:8080/"
        },
        "outputId": "22168980-28ad-4853-b246-c5891a68a597"
      },
      "outputs": [
        {
          "output_type": "stream",
          "name": "stdout",
          "text": [
            "Grocery dataset\n",
            "+--------+--------------------+\n",
            "|order_id|         transaction|\n",
            "+--------+--------------------+\n",
            "|       0|  MILK,BREAD,BISCUIT|\n",
            "|       1|BREAD,MILK,BISCUI...|\n",
            "|       2| BREAD,TEA,BOURNVITA|\n",
            "|       3|JAM,MAGGI,BREAD,MILK|\n",
            "|       4|   MAGGI,TEA,BISCUIT|\n",
            "|       5| BREAD,TEA,BOURNVITA|\n",
            "|       6|MAGGI,TEA,CORNFLAKES|\n",
            "|       7|MAGGI,BREAD,TEA,B...|\n",
            "|       8| JAM,MAGGI,BREAD,TEA|\n",
            "|       9|          BREAD,MILK|\n",
            "|      10|COFFEE,COCK,BISCU...|\n",
            "|      11|COFFEE,COCK,BISCU...|\n",
            "|      12|COFFEE,SUGER,BOUR...|\n",
            "|      13|   BREAD,COFFEE,COCK|\n",
            "|      14| BREAD,SUGER,BISCUIT|\n",
            "|      15|COFFEE,SUGER,CORN...|\n",
            "|      16|BREAD,SUGER,BOURN...|\n",
            "|      17|  BREAD,COFFEE,SUGER|\n",
            "|      18|  BREAD,COFFEE,SUGER|\n",
            "|      19|TEA,MILK,COFFEE,C...|\n",
            "+--------+--------------------+\n",
            "\n",
            "Grocery dataframe as a RDD object (list of Row objects):\n",
            "\t [Row(order_id=0, transaction='MILK,BREAD,BISCUIT'), Row(order_id=1, transaction='BREAD,MILK,BISCUIT,CORNFLAKES'), Row(order_id=2, transaction='BREAD,TEA,BOURNVITA'), Row(order_id=3, transaction='JAM,MAGGI,BREAD,MILK'), Row(order_id=4, transaction='MAGGI,TEA,BISCUIT'), Row(order_id=5, transaction='BREAD,TEA,BOURNVITA'), Row(order_id=6, transaction='MAGGI,TEA,CORNFLAKES'), Row(order_id=7, transaction='MAGGI,BREAD,TEA,BISCUIT'), Row(order_id=8, transaction='JAM,MAGGI,BREAD,TEA'), Row(order_id=9, transaction='BREAD,MILK'), Row(order_id=10, transaction='COFFEE,COCK,BISCUIT,CORNFLAKES'), Row(order_id=11, transaction='COFFEE,COCK,BISCUIT,CORNFLAKES'), Row(order_id=12, transaction='COFFEE,SUGER,BOURNVITA'), Row(order_id=13, transaction='BREAD,COFFEE,COCK'), Row(order_id=14, transaction='BREAD,SUGER,BISCUIT'), Row(order_id=15, transaction='COFFEE,SUGER,CORNFLAKES'), Row(order_id=16, transaction='BREAD,SUGER,BOURNVITA'), Row(order_id=17, transaction='BREAD,COFFEE,SUGER'), Row(order_id=18, transaction='BREAD,COFFEE,SUGER'), Row(order_id=19, transaction='TEA,MILK,COFFEE,CORNFLAKES')]\n",
            "\n",
            "Mapped products:\n",
            "\t [('MILK', 1), ('BREAD', 1), ('BISCUIT', 1), ('BREAD', 1), ('MILK', 1), ('BISCUIT', 1), ('CORNFLAKES', 1), ('BREAD', 1), ('TEA', 1), ('BOURNVITA', 1), ('JAM', 1), ('MAGGI', 1), ('BREAD', 1), ('MILK', 1), ('MAGGI', 1), ('TEA', 1), ('BISCUIT', 1), ('BREAD', 1), ('TEA', 1), ('BOURNVITA', 1), ('MAGGI', 1), ('TEA', 1), ('CORNFLAKES', 1), ('MAGGI', 1), ('BREAD', 1), ('TEA', 1), ('BISCUIT', 1), ('JAM', 1), ('MAGGI', 1), ('BREAD', 1), ('TEA', 1), ('BREAD', 1), ('MILK', 1), ('COFFEE', 1), ('COCK', 1), ('BISCUIT', 1), ('CORNFLAKES', 1), ('COFFEE', 1), ('COCK', 1), ('BISCUIT', 1), ('CORNFLAKES', 1), ('COFFEE', 1), ('SUGER', 1), ('BOURNVITA', 1), ('BREAD', 1), ('COFFEE', 1), ('COCK', 1), ('BREAD', 1), ('SUGER', 1), ('BISCUIT', 1), ('COFFEE', 1), ('SUGER', 1), ('CORNFLAKES', 1), ('BREAD', 1), ('SUGER', 1), ('BOURNVITA', 1), ('BREAD', 1), ('COFFEE', 1), ('SUGER', 1), ('BREAD', 1), ('COFFEE', 1), ('SUGER', 1), ('TEA', 1), ('MILK', 1), ('COFFEE', 1), ('CORNFLAKES', 1)]\n",
            "\n",
            "Reduced (merged) products:\n",
            "\t [('MILK', 5), ('BREAD', 13), ('BISCUIT', 7), ('CORNFLAKES', 6), ('TEA', 7), ('BOURNVITA', 4), ('JAM', 2), ('MAGGI', 5), ('COFFEE', 8), ('COCK', 3), ('SUGER', 6)]\n",
            "\n",
            "Visualizing as a dataframe:\n",
            "+----------+-------------+\n",
            "|   product|count_product|\n",
            "+----------+-------------+\n",
            "|      MILK|            5|\n",
            "|     BREAD|           13|\n",
            "|   BISCUIT|            7|\n",
            "|CORNFLAKES|            6|\n",
            "|       TEA|            7|\n",
            "| BOURNVITA|            4|\n",
            "|       JAM|            2|\n",
            "|     MAGGI|            5|\n",
            "|    COFFEE|            8|\n",
            "|      COCK|            3|\n",
            "|     SUGER|            6|\n",
            "+----------+-------------+\n",
            "\n"
          ]
        }
      ],
      "source": [
        "from pyspark.sql import SparkSession\n",
        "from pyspark.sql.functions import monotonically_increasing_id\n",
        "\n",
        "def map_to_product(row):\n",
        "    \"\"\"\n",
        "    Map each transaction into a set of KEY-VALUE elements.\n",
        "    The KEY is the word (product) itself and the VALUE is its number of apparitions.\n",
        "    \"\"\"\n",
        "    products = row.transaction.split(',') # split products from the column transaction\n",
        "    for p in products:\n",
        "        yield (p, 1)\n",
        "\n",
        "def reduce_product_by_key(value1, value2):\n",
        "    \"Reduce the mapped objects to unique words by merging (summing ) their values\"\n",
        "    return value1+value2\n",
        "\n",
        "# Initializates a object of SparkSession class, main entry point to Spark's funcionalites\n",
        "spark = SparkSession.builder.getOrCreate()\n",
        "\n",
        "# Read a grocery dataset\n",
        "grocery = spark.read.csv(ROOT + \"GroceryDataset.csv\") \\\n",
        "              .withColumnRenamed('_c0', 'transaction') \\\n",
        "              .select(\"*\").withColumn(\"order_id\", monotonically_increasing_id())\n",
        "\n",
        "grocery = grocery.select(\"order_id\", \"transaction\")\n",
        "\n",
        "print(\"Grocery dataset\")\n",
        "grocery.show()\n",
        "\n",
        "# Obtain a RDD object to call a map function\n",
        "grocery_rdd = grocery.rdd\n",
        "print(\"Grocery dataframe as a RDD object (list of Row objects):\\n\\t\", grocery_rdd.collect())\n",
        "\n",
        "# Map function to identify all products\n",
        "grocery_rdd = grocery_rdd.flatMap(map_to_product)\n",
        "print(\"\\nMapped products:\\n\\t\", grocery_rdd.collect())\n",
        "\n",
        "# Reduce function to merge values of elements that share the same KEY\n",
        "grocery_rdd = grocery_rdd.reduceByKey(reduce_product_by_key)\n",
        "print(\"\\nReduced (merged) products:\\n\\t\", grocery_rdd.collect())\n",
        "\n",
        "print(\"\\nVisualizing as a dataframe:\")\n",
        "grocery_rdd.toDF([\"product\", \"count_product\"]).show()"
      ]
    },
    {
      "cell_type": "markdown",
      "source": [
        "### 1.1 Exemple de comptage de produits / Products Counting Example"
      ],
      "metadata": {
        "id": "MSbOqazVnsMf"
      }
    },
    {
      "cell_type": "markdown",
      "metadata": {
        "id": "PpJGQmzXMazz"
      },
      "source": [
        "### 1.2 Travailler avec Spark Dataframe / Working with Spark Dataframes\n",
        "\n",
        "Dans l'exemple ci-dessus, nous avons brièvement utilisé une classe Dataframe de Spark, mais uniquement pour obtenir un objet RDD avec ``toy.rdd`` et pour aficher les données sous forme de tableau structuré avec le ``show ()`` une fonction. Cependant, [Dataframe](http://spark.apache.org/docs/latest/api/python/) est une partie cruciale de la version actuelle de Spark et est construit sur l'API RDD. Il s'agit d'une collection distribuée de lignes sous des colonnes nommées, identique à une table dans une base de données relationnelle. Le Dataframe de Spark fonctionne de la même manière que [Pandas](https://pandas.pydata.org/pandas-docs/stable/reference/api/pandas.DataFrame.html). En fait, nous pouvons exporter (obtenir) une Dataframe Spark vers (à partir de) ​​une Dataframe pandas avec la fonction ``toPandas()``  (``spark.createDataFrame``).\n",
        "\n",
        "Une fonctionnalité centrale du Dataframe est de bénéficier du [Spark SQL](https://spark.apache.org/docs/latest/sql-programming-guide.html#sql), un module qui permet des requêtes SQL sur des données structurées. Par exemple, le même « exemple de comptage de produits » aurait pu être implémenté comme une séquence d'opérations SQL sur les données:"
      ]
    },
    {
      "cell_type": "code",
      "execution_count": 11,
      "metadata": {
        "id": "oFL6BuIDMaz0",
        "colab": {
          "base_uri": "https://localhost:8080/"
        },
        "outputId": "5e1903e0-bd6e-45f7-b917-abd1c12d258a"
      },
      "outputs": [
        {
          "output_type": "stream",
          "name": "stdout",
          "text": [
            "New column 'products': exploding the transaction's products to a new row\n",
            "+--------+--------------------+----------+\n",
            "|order_id|         transaction|  products|\n",
            "+--------+--------------------+----------+\n",
            "|       0|  MILK,BREAD,BISCUIT|      MILK|\n",
            "|       0|  MILK,BREAD,BISCUIT|     BREAD|\n",
            "|       0|  MILK,BREAD,BISCUIT|   BISCUIT|\n",
            "|       1|BREAD,MILK,BISCUI...|     BREAD|\n",
            "|       1|BREAD,MILK,BISCUI...|      MILK|\n",
            "|       1|BREAD,MILK,BISCUI...|   BISCUIT|\n",
            "|       1|BREAD,MILK,BISCUI...|CORNFLAKES|\n",
            "|       2| BREAD,TEA,BOURNVITA|     BREAD|\n",
            "|       2| BREAD,TEA,BOURNVITA|       TEA|\n",
            "|       2| BREAD,TEA,BOURNVITA| BOURNVITA|\n",
            "|       3|JAM,MAGGI,BREAD,MILK|       JAM|\n",
            "|       3|JAM,MAGGI,BREAD,MILK|     MAGGI|\n",
            "|       3|JAM,MAGGI,BREAD,MILK|     BREAD|\n",
            "|       3|JAM,MAGGI,BREAD,MILK|      MILK|\n",
            "|       4|   MAGGI,TEA,BISCUIT|     MAGGI|\n",
            "|       4|   MAGGI,TEA,BISCUIT|       TEA|\n",
            "|       4|   MAGGI,TEA,BISCUIT|   BISCUIT|\n",
            "|       5| BREAD,TEA,BOURNVITA|     BREAD|\n",
            "|       5| BREAD,TEA,BOURNVITA|       TEA|\n",
            "|       5| BREAD,TEA,BOURNVITA| BOURNVITA|\n",
            "+--------+--------------------+----------+\n",
            "only showing top 20 rows\n",
            "\n",
            "Couting unique products:\n",
            "+----------+-------------+\n",
            "|  products|count_product|\n",
            "+----------+-------------+\n",
            "|     BREAD|           13|\n",
            "|    COFFEE|            8|\n",
            "|       TEA|            7|\n",
            "|   BISCUIT|            7|\n",
            "|CORNFLAKES|            6|\n",
            "|     SUGER|            6|\n",
            "|      MILK|            5|\n",
            "|     MAGGI|            5|\n",
            "| BOURNVITA|            4|\n",
            "|      COCK|            3|\n",
            "|       JAM|            2|\n",
            "+----------+-------------+\n",
            "\n"
          ]
        }
      ],
      "source": [
        "import pyspark.sql.functions as f\n",
        "\n",
        "# Creates a new column, products, with all products appering in each transaction\n",
        "print('New column \\'products\\': exploding the transaction\\'s products to a new row')\n",
        "df_grocery = grocery.withColumn('products', f.explode(f.split(grocery.transaction, ',')))\n",
        "df_grocery.show()\n",
        "\n",
        "# Performs a select query and group rows by the product name, aggreagating by counting\n",
        "print('Couting unique products:')\n",
        "df_grocery.select(df_grocery.products)\\\n",
        "      .groupBy(df_grocery.products)\\\n",
        "      .agg(f.count('products').alias('count_product'))\\\n",
        "      .sort('count_product', ascending=False)\\\n",
        "      .show()"
      ]
    },
    {
      "cell_type": "markdown",
      "metadata": {
        "id": "W4HFs8CVMaz3"
      },
      "source": [
        "En outre, les mêmes opérations SQL effectuées ci-dessus auraient pu être effectuées avec une requête en langage SQL traditionnel comme indiqué ci-dessous:"
      ]
    },
    {
      "cell_type": "code",
      "execution_count": 12,
      "metadata": {
        "id": "O_eYl-7tMaz3",
        "colab": {
          "base_uri": "https://localhost:8080/"
        },
        "outputId": "12925fb8-8e32-4ce5-f7de-d35cb1c4e565"
      },
      "outputs": [
        {
          "output_type": "stream",
          "name": "stdout",
          "text": [
            "+----------+-------------+\n",
            "|  products|product_count|\n",
            "+----------+-------------+\n",
            "|     BREAD|           13|\n",
            "|    COFFEE|            8|\n",
            "|       TEA|            7|\n",
            "|   BISCUIT|            7|\n",
            "|CORNFLAKES|            6|\n",
            "|     SUGER|            6|\n",
            "|      MILK|            5|\n",
            "|     MAGGI|            5|\n",
            "| BOURNVITA|            4|\n",
            "|      COCK|            3|\n",
            "|       JAM|            2|\n",
            "+----------+-------------+\n",
            "\n"
          ]
        }
      ],
      "source": [
        "# Creates a relational table Grocery in the Spark session\n",
        "df_grocery.createOrReplaceTempView(\"Grocery\")\n",
        "\n",
        "spark.sql(\"SELECT t.products, COUNT(t.products) AS product_count\"\n",
        "          \" FROM Grocery t\"\n",
        "          \" GROUP BY t.products\"\n",
        "          \" ORDER BY product_count DESC\").show()"
      ]
    },
    {
      "cell_type": "markdown",
      "metadata": {
        "id": "MTMT2RlqQBj9"
      },
      "source": [
        "Ces concepts SQL sont mentionnés ici car ils nous seront utiles lors du TP, principalement dans la section 3, pour manipuler les données du supermarché, qui sont structurées en tableaux. Ainsi, si vous n'êtes pas familier avec SQL, il est recommandé de suivre un [tutoriel](https://www.w3schools.com/sql/) pour comprendre les bases."
      ]
    },
    {
      "cell_type": "markdown",
      "metadata": {
        "id": "s1oZzC-ZQEE0"
      },
      "source": [
        "\n",
        "\n",
        "## 2. Algorithme MBA (45 points)\n",
        "Les sections suivantes expliquent comment développer chaque étape de l'algorithme MapReduce pour notre application commerciale. La figure workflow.pdf illustre chaque étape de l'algorithme."
      ]
    },
    {
      "cell_type": "markdown",
      "metadata": {
        "id": "T0Onr2NxMaz8"
      },
      "source": [
        "\n",
        "\n",
        "### 2.1 Map to Patterns (10 points)\n",
        "Pour un sous-ensemble de transactions (c'est-à-dire les lignes de notre grocery dataset), chaque transaction doit être **mappée** vers un ensemble de *motifs d'achat* trouvés dans la transaction. Formellement, ces motifs sont des sous-ensembles de produits qui représentent un groupe d'articles achetés ensemble.\n",
        "\n",
        "Pour le framework MapReduce, chaque motif doit être créé comme un élément *KEY-VALUE*, où la KEY peut prendre la forme d'un singleton, d'une paire ou d'un trio de produits présents dans la transaction. Plus précisément, pour chaque transaction, la fonction de mappage doit générer tous les sous-ensembles **UNIQUE** possibles de taille **UN, DEUX ou TROIS**. La VALEUR associée à chaque KEY est le nombre de fois que la KEY est apparue dans la transaction (si nous supposons qu'aucun produit n'apparaît plus d'une fois dans la transaction, cette valeur est toujours égale à un).\n",
        "\n",
        "Maintenant, implémentez la fonction **map_to_patterns** qui reçoit une transaction (une ligne du dataset) et retourne les motifs trouvés dans la transaction. Les éléments mappés sont un tuple (KEY, VALUE), où KEY est également un tuple de noms de produits. Il est crucial de noter que, puisque chaque entrée (transaction) de la fonction MAP produira **plus** un élément KEY-VALUE, un *flatMap* doit être invoqué pour cette étape. Pour le \"grocery dataset\", la sortie attendue est :\n",
        "\n",
        "<pre style=\"align:center; border:1px solid black;font-size: 8pt; line-height: 1.1; height: auto; width: 20em; padding-left:1px\">\n",
        "<code>\n",
        "+-----------------------------------+-----------+\n",
        "|patterns                           |occurrences|\n",
        "+-----------------------------------+-----------+\n",
        "|('BISCUIT', 'BREAD')               |1          |\n",
        "|('BISCUIT', 'BREAD')               |1          |\n",
        "|('BISCUIT', 'BREAD')               |1          |\n",
        "|('BISCUIT', 'BREAD')               |1          |\n",
        "|('BISCUIT', 'BREAD', 'CORNFLAKES') |1          |\n",
        "|('BISCUIT', 'BREAD', 'MAGGI')      |1          |\n",
        "|('BISCUIT', 'BREAD', 'MILK')       |1          |\n",
        "|('BISCUIT', 'BREAD', 'MILK')       |1          |\n",
        "|('BISCUIT', 'BREAD', 'SUGER')      |1          |\n",
        "|('BISCUIT', 'BREAD', 'TEA')        |1          |\n",
        "|('BISCUIT', 'COCK')                |1          |\n",
        "|('BISCUIT', 'COCK')                |1          |\n",
        "|('BISCUIT', 'COCK', 'COFFEE')      |1          |\n",
        "|('BISCUIT', 'COCK', 'COFFEE')      |1          |\n",
        "|('BISCUIT', 'COCK', 'CORNFLAKES')  |1          |\n",
        "|('BISCUIT', 'COCK', 'CORNFLAKES')  |1          |\n",
        "|('BISCUIT', 'COFFEE')              |1          |\n",
        "|('BISCUIT', 'COFFEE')              |1          |\n",
        "|('BISCUIT', 'COFFEE', 'CORNFLAKES')|1          |\n",
        "|('BISCUIT', 'COFFEE', 'CORNFLAKES')|1          |\n",
        "|('BISCUIT', 'CORNFLAKES')          |1          |\n",
        "|('BISCUIT', 'CORNFLAKES')          |1          |\n",
        "|('BISCUIT', 'CORNFLAKES')          |1          |\n",
        "|('BISCUIT', 'CORNFLAKES', 'MILK')  |1          |\n",
        "|('BISCUIT', 'MAGGI')               |1          |\n",
        "|('BISCUIT', 'MAGGI')               |1          |\n",
        "|('BISCUIT', 'MAGGI', 'TEA')        |1          |\n",
        "|('BISCUIT', 'MAGGI', 'TEA')        |1          |\n",
        "|('BISCUIT', 'MILK')                |1          |\n",
        "|('BISCUIT', 'MILK')                |1          |\n",
        "|('BISCUIT', 'SUGER')               |1          |\n",
        "|('BISCUIT', 'TEA')                 |1          |\n",
        "|('BISCUIT', 'TEA')                 |1          |\n",
        "|('BISCUIT',)                       |1          |\n",
        "|('BISCUIT',)                       |1          |\n",
        "|('BISCUIT',)                       |1          |\n",
        "|('BISCUIT',)                       |1          |\n",
        "|('BISCUIT',)                       |1          |\n",
        "|('BISCUIT',)                       |1          |\n",
        "|('BISCUIT',)                       |1          |\n",
        "|('BOURNVITA', 'BREAD')             |1          |\n",
        "|('BOURNVITA', 'BREAD')             |1          |\n",
        "|('BOURNVITA', 'BREAD')             |1          |\n",
        "|('BOURNVITA', 'BREAD', 'SUGER')    |1          |\n",
        "|('BOURNVITA', 'BREAD', 'TEA')      |1          |\n",
        "|('BOURNVITA', 'BREAD', 'TEA')      |1          |\n",
        "|('BOURNVITA', 'COFFEE')            |1          |\n",
        "|('BOURNVITA', 'COFFEE', 'SUGER')   |1          |\n",
        "|('BOURNVITA', 'SUGER')             |1          |\n",
        "|('BOURNVITA', 'SUGER')             |1          |\n",
        "+-----------------------------------+-----------+\n",
        "</code>\n",
        "</pre>\n",
        "\n",
        "Votre sortie devra ainsi être **exactement** la même, sans quoi aucun point ne pourra vous être attribué pour cette question."
      ]
    },
    {
      "cell_type": "code",
      "execution_count": 13,
      "metadata": {
        "id": "BscKKDAjMaz9",
        "colab": {
          "base_uri": "https://localhost:8080/"
        },
        "outputId": "535aba12-3aec-419c-a3a0-cf32de13bb10"
      },
      "outputs": [
        {
          "output_type": "stream",
          "name": "stdout",
          "text": [
            "+-----------------------------------+-----------+\n",
            "|patterns                           |occurrences|\n",
            "+-----------------------------------+-----------+\n",
            "|('BISCUIT', 'BREAD')               |1          |\n",
            "|('BISCUIT', 'BREAD')               |1          |\n",
            "|('BISCUIT', 'BREAD')               |1          |\n",
            "|('BISCUIT', 'BREAD')               |1          |\n",
            "|('BISCUIT', 'BREAD', 'CORNFLAKES') |1          |\n",
            "|('BISCUIT', 'BREAD', 'MAGGI')      |1          |\n",
            "|('BISCUIT', 'BREAD', 'MILK')       |1          |\n",
            "|('BISCUIT', 'BREAD', 'MILK')       |1          |\n",
            "|('BISCUIT', 'BREAD', 'SUGER')      |1          |\n",
            "|('BISCUIT', 'BREAD', 'TEA')        |1          |\n",
            "|('BISCUIT', 'COCK')                |1          |\n",
            "|('BISCUIT', 'COCK')                |1          |\n",
            "|('BISCUIT', 'COCK', 'COFFEE')      |1          |\n",
            "|('BISCUIT', 'COCK', 'COFFEE')      |1          |\n",
            "|('BISCUIT', 'COCK', 'CORNFLAKES')  |1          |\n",
            "|('BISCUIT', 'COCK', 'CORNFLAKES')  |1          |\n",
            "|('BISCUIT', 'COFFEE')              |1          |\n",
            "|('BISCUIT', 'COFFEE')              |1          |\n",
            "|('BISCUIT', 'COFFEE', 'CORNFLAKES')|1          |\n",
            "|('BISCUIT', 'COFFEE', 'CORNFLAKES')|1          |\n",
            "|('BISCUIT', 'CORNFLAKES')          |1          |\n",
            "|('BISCUIT', 'CORNFLAKES')          |1          |\n",
            "|('BISCUIT', 'CORNFLAKES')          |1          |\n",
            "|('BISCUIT', 'CORNFLAKES', 'MILK')  |1          |\n",
            "|('BISCUIT', 'MAGGI')               |1          |\n",
            "|('BISCUIT', 'MAGGI')               |1          |\n",
            "|('BISCUIT', 'MAGGI', 'TEA')        |1          |\n",
            "|('BISCUIT', 'MAGGI', 'TEA')        |1          |\n",
            "|('BISCUIT', 'MILK')                |1          |\n",
            "|('BISCUIT', 'MILK')                |1          |\n",
            "|('BISCUIT', 'SUGER')               |1          |\n",
            "|('BISCUIT', 'TEA')                 |1          |\n",
            "|('BISCUIT', 'TEA')                 |1          |\n",
            "|('BISCUIT',)                       |1          |\n",
            "|('BISCUIT',)                       |1          |\n",
            "|('BISCUIT',)                       |1          |\n",
            "|('BISCUIT',)                       |1          |\n",
            "|('BISCUIT',)                       |1          |\n",
            "|('BISCUIT',)                       |1          |\n",
            "|('BISCUIT',)                       |1          |\n",
            "|('BOURNVITA', 'BREAD')             |1          |\n",
            "|('BOURNVITA', 'BREAD')             |1          |\n",
            "|('BOURNVITA', 'BREAD')             |1          |\n",
            "|('BOURNVITA', 'BREAD', 'SUGER')    |1          |\n",
            "|('BOURNVITA', 'BREAD', 'TEA')      |1          |\n",
            "|('BOURNVITA', 'BREAD', 'TEA')      |1          |\n",
            "|('BOURNVITA', 'COFFEE')            |1          |\n",
            "|('BOURNVITA', 'COFFEE', 'SUGER')   |1          |\n",
            "|('BOURNVITA', 'SUGER')             |1          |\n",
            "|('BOURNVITA', 'SUGER')             |1          |\n",
            "+-----------------------------------+-----------+\n",
            "only showing top 50 rows\n",
            "\n"
          ]
        }
      ],
      "source": [
        "from itertools import combinations\n",
        "\n",
        "def format_tuples(pattern):\n",
        "    \"\"\"\n",
        "    Used for visualizition.\n",
        "    Transforms tuples to a string since Dataframe does not support column of tuples with different sizes\n",
        "    (a,b,c) -> '(a,b,c)'\n",
        "    \"\"\"\n",
        "    return (str(pattern[0]), str(pattern[1]))\n",
        "\n",
        "def map_to_patterns(row):\n",
        "    products = row.transaction\n",
        "    products = products.split(',')\n",
        "    products.sort()\n",
        "    for i in range(1, 4):\n",
        "        for pattern in combinations(products, i):\n",
        "          yield (pattern, 1)\n",
        "    \"\"\"\n",
        "    TODO\n",
        "    \"\"\"\n",
        "grocery_rdd = grocery.rdd\n",
        "#grocery.show()\n",
        "patterns_rdd = grocery_rdd.flatMap(map_to_patterns)\n",
        "\n",
        "# # Output as dataframe\n",
        "patterns_rdd.map(format_tuples).toDF(['patterns', 'occurrences']).sort(['patterns']).show(50, truncate=False)"
      ]
    },
    {
      "cell_type": "markdown",
      "metadata": {
        "id": "YvvRw0plMa0B"
      },
      "source": [
        "### 2.2  Reduce patterns  (2,5 points)\n",
        "Une fois que différents processeurs ont traité les transactions, une fonction **reduce** doit être appelée pour combiner des KEYS identiques (le sous-ensemble de produits) et calculer le nombre total de ses occurrences dans le dataset. En d'autres termes, cette procédure de réduction doit additionner la *VALUE* de chaque KEY identique.\n",
        "\n",
        "Créez ci-dessous une fonction **reduce_patterns** qui doit additionner la VALUE de chaque motif.\n",
        "Pour le \"grocery dataset\", la sortie attendue est:\n",
        "\n",
        "<pre style=\"align:center; border:1px solid black;font-size: 8pt; line-height: 1.1; height: auto; width: 28em; padding-left:5px\">\n",
        "<code>\n",
        "+-----------------------------------+--------------------+\n",
        "|patterns                           |combined_occurrences|\n",
        "+-----------------------------------+--------------------+\n",
        "|('BISCUIT', 'BREAD')               |4                   |\n",
        "|('BISCUIT', 'BREAD', 'CORNFLAKES') |1                   |\n",
        "|('BISCUIT', 'BREAD', 'MAGGI')      |1                   |\n",
        "|('BISCUIT', 'BREAD', 'MILK')       |2                   |\n",
        "|('BISCUIT', 'BREAD', 'SUGER')      |1                   |\n",
        "|('BISCUIT', 'BREAD', 'TEA')        |1                   |\n",
        "|('BISCUIT', 'COCK')                |2                   |\n",
        "|('BISCUIT', 'COCK', 'COFFEE')      |2                   |\n",
        "|('BISCUIT', 'COCK', 'CORNFLAKES')  |2                   |\n",
        "|('BISCUIT', 'COFFEE')              |2                   |\n",
        "|('BISCUIT', 'COFFEE', 'CORNFLAKES')|2                   |\n",
        "|('BISCUIT', 'CORNFLAKES')          |3                   |\n",
        "|('BISCUIT', 'CORNFLAKES', 'MILK')  |1                   |\n",
        "|('BISCUIT', 'MAGGI')               |2                   |\n",
        "|('BISCUIT', 'MAGGI', 'TEA')        |2                   |\n",
        "|('BISCUIT', 'MILK')                |2                   |\n",
        "|('BISCUIT', 'SUGER')               |1                   |\n",
        "|('BISCUIT', 'TEA')                 |2                   |\n",
        "|('BISCUIT',)                       |7                   |\n",
        "|('BOURNVITA', 'BREAD')             |3                   |\n",
        "|('BOURNVITA', 'BREAD', 'SUGER')    |1                   |\n",
        "|('BOURNVITA', 'BREAD', 'TEA')      |2                   |\n",
        "|('BOURNVITA', 'COFFEE')            |1                   |\n",
        "|('BOURNVITA', 'COFFEE', 'SUGER')   |1                   |\n",
        "|('BOURNVITA', 'SUGER')             |2                   |\n",
        "|('BOURNVITA', 'TEA')               |2                   |\n",
        "|('BOURNVITA',)                     |4                   |\n",
        "|('BREAD', 'COCK')                  |1                   |\n",
        "|('BREAD', 'COCK', 'COFFEE')        |1                   |\n",
        "|('BREAD', 'COFFEE')                |3                   |\n",
        "|('BREAD', 'COFFEE', 'SUGER')       |2                   |\n",
        "|('BREAD', 'CORNFLAKES')            |1                   |\n",
        "|('BREAD', 'CORNFLAKES', 'MILK')    |1                   |\n",
        "|('BREAD', 'JAM')                   |2                   |\n",
        "|('BREAD', 'JAM', 'MAGGI')          |2                   |\n",
        "|('BREAD', 'JAM', 'MILK')           |1                   |\n",
        "|('BREAD', 'JAM', 'TEA')            |1                   |\n",
        "|('BREAD', 'MAGGI')                 |3                   |\n",
        "|('BREAD', 'MAGGI', 'MILK')         |1                   |\n",
        "|('BREAD', 'MAGGI', 'TEA')          |2                   |\n",
        "|('BREAD', 'MILK')                  |4                   |\n",
        "|('BREAD', 'SUGER')                 |4                   |\n",
        "|('BREAD', 'TEA')                   |4                   |\n",
        "|('BREAD',)                         |13                  |\n",
        "|('COCK', 'COFFEE')                 |3                   |\n",
        "|('COCK', 'COFFEE', 'CORNFLAKES')   |2                   |\n",
        "|('COCK', 'CORNFLAKES')             |2                   |\n",
        "|('COCK',)                          |3                   |\n",
        "|('COFFEE', 'CORNFLAKES')           |4                   |\n",
        "|('COFFEE', 'CORNFLAKES', 'MILK')   |1                   |\n",
        "+-----------------------------------+--------------------+\n",
        "</code>\n",
        "</pre>\n",
        "\n",
        "Votre sortie devra ainsi être **exactement** la même, sans quoi aucun point ne pourra vous être attribué pour cette question.\n"
      ]
    },
    {
      "cell_type": "code",
      "execution_count": 14,
      "metadata": {
        "id": "67IKY_4MMa0C",
        "colab": {
          "base_uri": "https://localhost:8080/"
        },
        "outputId": "9228c4e5-4374-469c-e09a-586a998ef01c"
      },
      "outputs": [
        {
          "output_type": "stream",
          "name": "stdout",
          "text": [
            "+-----------------------------------+--------------------+\n",
            "|patterns                           |combined_occurrences|\n",
            "+-----------------------------------+--------------------+\n",
            "|('BISCUIT', 'BREAD')               |4                   |\n",
            "|('BISCUIT', 'BREAD', 'CORNFLAKES') |1                   |\n",
            "|('BISCUIT', 'BREAD', 'MAGGI')      |1                   |\n",
            "|('BISCUIT', 'BREAD', 'MILK')       |2                   |\n",
            "|('BISCUIT', 'BREAD', 'SUGER')      |1                   |\n",
            "|('BISCUIT', 'BREAD', 'TEA')        |1                   |\n",
            "|('BISCUIT', 'COCK')                |2                   |\n",
            "|('BISCUIT', 'COCK', 'COFFEE')      |2                   |\n",
            "|('BISCUIT', 'COCK', 'CORNFLAKES')  |2                   |\n",
            "|('BISCUIT', 'COFFEE')              |2                   |\n",
            "|('BISCUIT', 'COFFEE', 'CORNFLAKES')|2                   |\n",
            "|('BISCUIT', 'CORNFLAKES')          |3                   |\n",
            "|('BISCUIT', 'CORNFLAKES', 'MILK')  |1                   |\n",
            "|('BISCUIT', 'MAGGI')               |2                   |\n",
            "|('BISCUIT', 'MAGGI', 'TEA')        |2                   |\n",
            "|('BISCUIT', 'MILK')                |2                   |\n",
            "|('BISCUIT', 'SUGER')               |1                   |\n",
            "|('BISCUIT', 'TEA')                 |2                   |\n",
            "|('BISCUIT',)                       |7                   |\n",
            "|('BOURNVITA', 'BREAD')             |3                   |\n",
            "|('BOURNVITA', 'BREAD', 'SUGER')    |1                   |\n",
            "|('BOURNVITA', 'BREAD', 'TEA')      |2                   |\n",
            "|('BOURNVITA', 'COFFEE')            |1                   |\n",
            "|('BOURNVITA', 'COFFEE', 'SUGER')   |1                   |\n",
            "|('BOURNVITA', 'SUGER')             |2                   |\n",
            "|('BOURNVITA', 'TEA')               |2                   |\n",
            "|('BOURNVITA',)                     |4                   |\n",
            "|('BREAD', 'COCK')                  |1                   |\n",
            "|('BREAD', 'COCK', 'COFFEE')        |1                   |\n",
            "|('BREAD', 'COFFEE')                |3                   |\n",
            "|('BREAD', 'COFFEE', 'SUGER')       |2                   |\n",
            "|('BREAD', 'CORNFLAKES')            |1                   |\n",
            "|('BREAD', 'CORNFLAKES', 'MILK')    |1                   |\n",
            "|('BREAD', 'JAM')                   |2                   |\n",
            "|('BREAD', 'JAM', 'MAGGI')          |2                   |\n",
            "|('BREAD', 'JAM', 'MILK')           |1                   |\n",
            "|('BREAD', 'JAM', 'TEA')            |1                   |\n",
            "|('BREAD', 'MAGGI')                 |3                   |\n",
            "|('BREAD', 'MAGGI', 'MILK')         |1                   |\n",
            "|('BREAD', 'MAGGI', 'TEA')          |2                   |\n",
            "|('BREAD', 'MILK')                  |4                   |\n",
            "|('BREAD', 'SUGER')                 |4                   |\n",
            "|('BREAD', 'TEA')                   |4                   |\n",
            "|('BREAD',)                         |13                  |\n",
            "|('COCK', 'COFFEE')                 |3                   |\n",
            "|('COCK', 'COFFEE', 'CORNFLAKES')   |2                   |\n",
            "|('COCK', 'CORNFLAKES')             |2                   |\n",
            "|('COCK',)                          |3                   |\n",
            "|('COFFEE', 'CORNFLAKES')           |4                   |\n",
            "|('COFFEE', 'CORNFLAKES', 'MILK')   |1                   |\n",
            "+-----------------------------------+--------------------+\n",
            "only showing top 50 rows\n",
            "\n"
          ]
        }
      ],
      "source": [
        "def reduce_patterns(v1, v2):\n",
        "  \"\"\"\n",
        "  TODO\n",
        "  \"\"\"\n",
        "  return v1 + v2\n",
        "\n",
        "\n",
        "combined_patterns_rdd = patterns_rdd.reduceByKey(reduce_patterns)\n",
        "\n",
        "# Output as dataframe\n",
        "combined_patterns_rdd.map(format_tuples).toDF(['patterns', 'combined_occurrences']).sort(['patterns']).show(50, truncate=False)"
      ]
    },
    {
      "cell_type": "markdown",
      "metadata": {
        "id": "6BME1VugMa0F"
      },
      "source": [
        "### 2.3 Map to subpatterns (15 points)\n",
        "Ensuite, une autre fonction **map** doit être appliquée pour générer des sous-motifs. Encore une fois, les sous-motifs sont des éléments KEY-VALUE, où la KEY est également un sous-ensemble de produits. Cependant, la création de la KEY du sous-motif est une procédure différente. Cette fois, l'idée est de décomposer la liste des produits de chaque motif (KEY), de supprimer un produit à la fois et de produire la liste résultante en tant que nouvelle clé de sous-motif.\n",
        "\n",
        "Par exemple, pour un modèle donné $P$ avec trois produits, $p_1, p_2$ et $p_3$, trois nouvelles clés de sous-motifs vont être créées: (i) supprimer $p_1$ et retourner ($p_2, p_3$) ; (ii) supprimer $p_2$ et retourner ($p_1, p_3$); et (iii) supprimer $p_3$ et retourner ($p_1, p_2$).\n",
        "\n",
        "De plus, la structure VALUE du sous-motif sera également différente. Au lieu d'une seule valeur entière unique comme nous l'avons eu dans les motifs, cette fois un *tuple* devrait être créé pour le sous-motif VALUE. Ce tuple contient le produit qui a été retiré lors de la remise de la KEY et le nombre de fois que le motif est apparu. Par exemple ci-dessus, les valeurs doivent être ($p_1,v$), ($p_2,v$) et ($p_3,v $), respectivement, où $v$ est la VALEUR du motif.\n",
        "\n",
        "L'idée derrière les sous-motif est de créer **des règles** telles que : lorsque les produits de KEY ont été achetés, l'article présent dans la VALEUR a également été acheté *v* fois. En outre, chaque motif doit également produire un sous-motif dans lequel la clé est la même liste de produits du motif, mais la valeur est un tuple avec un produit nul (None) et le nombre de fois que le motif est apparu. Cet élément sera utile pour garder une trace du nombre de fois où un tel motif a été trouvé et sera utilisé ultérieurement pour calculer la valeur de confiance lors de la génération des règles d'association.\n",
        "\n",
        "Maintenant, implémentez la fonction **map_to_subpatterns** qui reçoit un motif et produit tous les sous-motif trouvés. Encore une fois, chaque entrée (motif) générera plus d'un élément KEY-VALUE, puis une fonction flatMap doit être appelée.\n",
        "\n",
        "Pour le \"grocery dataset\", la sortie attendue est:\n",
        "\n",
        "<pre style=\"align:center; border:1px solid black;font-size: 8pt; line-height: 1.1; height: auto; width: 20em; padding-left:5px\">\n",
        "<code>\n",
        "+-----------------------------------+-----------------+\n",
        "|subpatterns                        |rules            |\n",
        "+-----------------------------------+-----------------+\n",
        "|('BISCUIT', 'BREAD')               |(None, 4)        |\n",
        "|('BISCUIT', 'BREAD')               |('MILK', 2)      |\n",
        "|('BISCUIT', 'BREAD')               |('CORNFLAKES', 1)|\n",
        "|('BISCUIT', 'BREAD')               |('MAGGI', 1)     |\n",
        "|('BISCUIT', 'BREAD')               |('TEA', 1)       |\n",
        "|('BISCUIT', 'BREAD')               |('SUGER', 1)     |\n",
        "|('BISCUIT', 'BREAD', 'CORNFLAKES') |(None, 1)        |\n",
        "|('BISCUIT', 'BREAD', 'MAGGI')      |(None, 1)        |\n",
        "|('BISCUIT', 'BREAD', 'MILK')       |(None, 2)        |\n",
        "|('BISCUIT', 'BREAD', 'SUGER')      |(None, 1)        |\n",
        "|('BISCUIT', 'BREAD', 'TEA')        |(None, 1)        |\n",
        "|('BISCUIT', 'COCK')                |(None, 2)        |\n",
        "|('BISCUIT', 'COCK')                |('COFFEE', 2)    |\n",
        "|('BISCUIT', 'COCK')                |('CORNFLAKES', 2)|\n",
        "|('BISCUIT', 'COCK', 'COFFEE')      |(None, 2)        |\n",
        "|('BISCUIT', 'COCK', 'CORNFLAKES')  |(None, 2)        |\n",
        "|('BISCUIT', 'COFFEE')              |(None, 2)        |\n",
        "|('BISCUIT', 'COFFEE')              |('COCK', 2)      |\n",
        "|('BISCUIT', 'COFFEE')              |('CORNFLAKES', 2)|\n",
        "|('BISCUIT', 'COFFEE', 'CORNFLAKES')|(None, 2)        |\n",
        "|('BISCUIT', 'CORNFLAKES')          |(None, 3)        |\n",
        "|('BISCUIT', 'CORNFLAKES')          |('BREAD', 1)     |\n",
        "|('BISCUIT', 'CORNFLAKES')          |('MILK', 1)      |\n",
        "|('BISCUIT', 'CORNFLAKES')          |('COCK', 2)      |\n",
        "|('BISCUIT', 'CORNFLAKES')          |('COFFEE', 2)    |\n",
        "|('BISCUIT', 'CORNFLAKES', 'MILK')  |(None, 1)        |\n",
        "|('BISCUIT', 'MAGGI')               |(None, 2)        |\n",
        "|('BISCUIT', 'MAGGI')               |('TEA', 2)       |\n",
        "|('BISCUIT', 'MAGGI')               |('BREAD', 1)     |\n",
        "|('BISCUIT', 'MAGGI', 'TEA')        |(None, 2)        |\n",
        "|('BISCUIT', 'MILK')                |(None, 2)        |\n",
        "|('BISCUIT', 'MILK')                |('BREAD', 2)     |\n",
        "|('BISCUIT', 'MILK')                |('CORNFLAKES', 1)|\n",
        "|('BISCUIT', 'SUGER')               |(None, 1)        |\n",
        "|('BISCUIT', 'SUGER')               |('BREAD', 1)     |\n",
        "|('BISCUIT', 'TEA')                 |(None, 2)        |\n",
        "|('BISCUIT', 'TEA')                 |('MAGGI', 2)     |\n",
        "|('BISCUIT', 'TEA')                 |('BREAD', 1)     |\n",
        "|('BISCUIT',)                       |(None, 7)        |\n",
        "|('BISCUIT',)                       |('BREAD', 4)     |\n",
        "|('BISCUIT',)                       |('MILK', 2)      |\n",
        "|('BISCUIT',)                       |('CORNFLAKES', 3)|\n",
        "|('BISCUIT',)                       |('MAGGI', 2)     |\n",
        "|('BISCUIT',)                       |('TEA', 2)       |\n",
        "|('BISCUIT',)                       |('COCK', 2)      |\n",
        "|('BISCUIT',)                       |('COFFEE', 2)    |\n",
        "|('BISCUIT',)                       |('SUGER', 1)     |\n",
        "|('BOURNVITA', 'BREAD')             |(None, 3)        |\n",
        "|('BOURNVITA', 'BREAD')             |('TEA', 2)       |\n",
        "|('BOURNVITA', 'BREAD')             |('SUGER', 1)     |\n",
        "+-----------------------------------+-----------------+\n",
        "</code>\n",
        "</pre>\n",
        "\n",
        "Votre sortie devra ainsi être **exactement** la même, sans quoi aucun point ne pourra vous être attribué pour cette question."
      ]
    },
    {
      "cell_type": "code",
      "execution_count": 15,
      "metadata": {
        "id": "t8aLrdMuMa0G",
        "colab": {
          "base_uri": "https://localhost:8080/"
        },
        "outputId": "f7971e3c-2cdc-4e00-e88d-e3534b44c5b2"
      },
      "outputs": [
        {
          "output_type": "stream",
          "name": "stdout",
          "text": [
            "+-----------------------------------+-----------------+\n",
            "|subpatterns                        |rules            |\n",
            "+-----------------------------------+-----------------+\n",
            "|('BISCUIT', 'BREAD')               |(None, 4)        |\n",
            "|('BISCUIT', 'BREAD')               |('MILK', 2)      |\n",
            "|('BISCUIT', 'BREAD')               |('CORNFLAKES', 1)|\n",
            "|('BISCUIT', 'BREAD')               |('MAGGI', 1)     |\n",
            "|('BISCUIT', 'BREAD')               |('TEA', 1)       |\n",
            "|('BISCUIT', 'BREAD')               |('SUGER', 1)     |\n",
            "|('BISCUIT', 'BREAD', 'CORNFLAKES') |(None, 1)        |\n",
            "|('BISCUIT', 'BREAD', 'MAGGI')      |(None, 1)        |\n",
            "|('BISCUIT', 'BREAD', 'MILK')       |(None, 2)        |\n",
            "|('BISCUIT', 'BREAD', 'SUGER')      |(None, 1)        |\n",
            "|('BISCUIT', 'BREAD', 'TEA')        |(None, 1)        |\n",
            "|('BISCUIT', 'COCK')                |(None, 2)        |\n",
            "|('BISCUIT', 'COCK')                |('COFFEE', 2)    |\n",
            "|('BISCUIT', 'COCK')                |('CORNFLAKES', 2)|\n",
            "|('BISCUIT', 'COCK', 'COFFEE')      |(None, 2)        |\n",
            "|('BISCUIT', 'COCK', 'CORNFLAKES')  |(None, 2)        |\n",
            "|('BISCUIT', 'COFFEE')              |(None, 2)        |\n",
            "|('BISCUIT', 'COFFEE')              |('COCK', 2)      |\n",
            "|('BISCUIT', 'COFFEE')              |('CORNFLAKES', 2)|\n",
            "|('BISCUIT', 'COFFEE', 'CORNFLAKES')|(None, 2)        |\n",
            "|('BISCUIT', 'CORNFLAKES')          |(None, 3)        |\n",
            "|('BISCUIT', 'CORNFLAKES')          |('BREAD', 1)     |\n",
            "|('BISCUIT', 'CORNFLAKES')          |('MILK', 1)      |\n",
            "|('BISCUIT', 'CORNFLAKES')          |('COCK', 2)      |\n",
            "|('BISCUIT', 'CORNFLAKES')          |('COFFEE', 2)    |\n",
            "|('BISCUIT', 'CORNFLAKES', 'MILK')  |(None, 1)        |\n",
            "|('BISCUIT', 'MAGGI')               |(None, 2)        |\n",
            "|('BISCUIT', 'MAGGI')               |('TEA', 2)       |\n",
            "|('BISCUIT', 'MAGGI')               |('BREAD', 1)     |\n",
            "|('BISCUIT', 'MAGGI', 'TEA')        |(None, 2)        |\n",
            "|('BISCUIT', 'MILK')                |(None, 2)        |\n",
            "|('BISCUIT', 'MILK')                |('BREAD', 2)     |\n",
            "|('BISCUIT', 'MILK')                |('CORNFLAKES', 1)|\n",
            "|('BISCUIT', 'SUGER')               |(None, 1)        |\n",
            "|('BISCUIT', 'SUGER')               |('BREAD', 1)     |\n",
            "|('BISCUIT', 'TEA')                 |('MAGGI', 2)     |\n",
            "|('BISCUIT', 'TEA')                 |('BREAD', 1)     |\n",
            "|('BISCUIT', 'TEA')                 |(None, 2)        |\n",
            "|('BISCUIT',)                       |('COFFEE', 2)    |\n",
            "|('BISCUIT',)                       |('CORNFLAKES', 3)|\n",
            "|('BISCUIT',)                       |('COCK', 2)      |\n",
            "|('BISCUIT',)                       |('SUGER', 1)     |\n",
            "|('BISCUIT',)                       |('MILK', 2)      |\n",
            "|('BISCUIT',)                       |('MAGGI', 2)     |\n",
            "|('BISCUIT',)                       |('BREAD', 4)     |\n",
            "|('BISCUIT',)                       |(None, 7)        |\n",
            "|('BISCUIT',)                       |('TEA', 2)       |\n",
            "|('BOURNVITA', 'BREAD')             |(None, 3)        |\n",
            "|('BOURNVITA', 'BREAD')             |('TEA', 2)       |\n",
            "|('BOURNVITA', 'BREAD')             |('SUGER', 1)     |\n",
            "+-----------------------------------+-----------------+\n",
            "only showing top 50 rows\n",
            "\n"
          ]
        }
      ],
      "source": [
        "from copy import deepcopy\n",
        "def map_to_subpatterns(pattern):\n",
        "    products, count = pattern\n",
        "    products_list = list(products)\n",
        "    print(products_list)\n",
        "    num_products = len(products_list)\n",
        "\n",
        "    for i in range(num_products):\n",
        "        subpattern = deepcopy(products_list)\n",
        "        removed_product = subpattern.pop(i)\n",
        "        yield (tuple(subpattern), (removed_product, count))\n",
        "\n",
        "    # Additionally, yield the original pattern with a None value to track total occurrences\n",
        "    yield (products, (None, count))\n",
        "\n",
        "subpatterns_rdd = combined_patterns_rdd.flatMap(map_to_subpatterns)\n",
        "\n",
        "# Output as dataframe\n",
        "subpatterns_rdd.map(format_tuples).toDF(['subpatterns', 'rules']).sort(['subpatterns']).show(50, truncate=False)"
      ]
    },
    {
      "cell_type": "markdown",
      "metadata": {
        "id": "jl6TWh8rMa0J"
      },
      "source": [
        "### 2.4 Reduce Subpatterns (2.5 points)\n",
        "\n",
        "Encore une fois, une fonction **reduce** est nécessaire pour regrouper tous les sous-motif par leur KEY. L'objectif de cette procédure de réduction est de créer une liste de toutes les **règles** apparues dans KEY. Par conséquent, la sortie attendue résultant de cette fonction de réduction est également un élément KEY-VALUE, où la clé est la KEY du sous-motif et la valeur est un groupe contenant toutes les valeurs des sous-motif qui partagent la même clé.\n",
        "\n",
        "Pour le \"grocery dataset\", la sortie attendue est:\n",
        "\n",
        "<pre style=\"align:center; border:1px solid black;font-size: 8pt; line-height: 1.1; height: auto; width: 50em; padding-left:5px\">\n",
        "<code>\n",
        "+-----------------------------------+--------------------------------------------------------------------------------------------------------------------------------------------------------------+\n",
        "|subpatterns                        |combined_rules                                                                                                                                                |\n",
        "+-----------------------------------+--------------------------------------------------------------------------------------------------------------------------------------------------------------+\n",
        "|('BISCUIT', 'BREAD')               |[(None, 4), ('MILK', 2), ('CORNFLAKES', 1), ('MAGGI', 1), ('TEA', 1), ('SUGER', 1)]                                                                           |\n",
        "|('BISCUIT', 'BREAD', 'CORNFLAKES') |[(None, 1)]                                                                                                                                                   |\n",
        "|('BISCUIT', 'BREAD', 'MAGGI')      |[(None, 1)]                                                                                                                                                   |\n",
        "|('BISCUIT', 'BREAD', 'MILK')       |[(None, 2)]                                                                                                                                                   |\n",
        "|('BISCUIT', 'BREAD', 'SUGER')      |[(None, 1)]                                                                                                                                                   |\n",
        "|('BISCUIT', 'BREAD', 'TEA')        |[(None, 1)]                                                                                                                                                   |\n",
        "|('BISCUIT', 'COCK')                |[(None, 2), ('COFFEE', 2), ('CORNFLAKES', 2)]                                                                                                                 |\n",
        "|('BISCUIT', 'COCK', 'COFFEE')      |[(None, 2)]                                                                                                                                                   |\n",
        "|('BISCUIT', 'COCK', 'CORNFLAKES')  |[(None, 2)]                                                                                                                                                   |\n",
        "|('BISCUIT', 'COFFEE')              |[(None, 2), ('COCK', 2), ('CORNFLAKES', 2)]                                                                                                                   |\n",
        "|('BISCUIT', 'COFFEE', 'CORNFLAKES')|[(None, 2)]                                                                                                                                                   |\n",
        "|('BISCUIT', 'CORNFLAKES')          |[(None, 3), ('BREAD', 1), ('MILK', 1), ('COCK', 2), ('COFFEE', 2)]                                                                                            |\n",
        "|('BISCUIT', 'CORNFLAKES', 'MILK')  |[(None, 1)]                                                                                                                                                   |\n",
        "|('BISCUIT', 'MAGGI')               |[(None, 2), ('TEA', 2), ('BREAD', 1)]                                                                                                                         |\n",
        "|('BISCUIT', 'MAGGI', 'TEA')        |[(None, 2)]                                                                                                                                                   |\n",
        "|('BISCUIT', 'MILK')                |[(None, 2), ('BREAD', 2), ('CORNFLAKES', 1)]                                                                                                                  |\n",
        "|('BISCUIT', 'SUGER')               |[(None, 1), ('BREAD', 1)]                                                                                                                                     |\n",
        "|('BISCUIT', 'TEA')                 |[(None, 2), ('MAGGI', 2), ('BREAD', 1)]                                                                                                                       |\n",
        "|('BISCUIT',)                       |[(None, 7), ('BREAD', 4), ('MILK', 2), ('CORNFLAKES', 3), ('MAGGI', 2), ('TEA', 2), ('COCK', 2), ('COFFEE', 2), ('SUGER', 1)]                                 |\n",
        "|('BOURNVITA', 'BREAD')             |[(None, 3), ('TEA', 2), ('SUGER', 1)]                                                                                                                         |\n",
        "|('BOURNVITA', 'BREAD', 'SUGER')    |[(None, 1)]                                                                                                                                                   |\n",
        "|('BOURNVITA', 'BREAD', 'TEA')      |[(None, 2)]                                                                                                                                                   |\n",
        "|('BOURNVITA', 'COFFEE')            |[(None, 1), ('SUGER', 1)]                                                                                                                                     |\n",
        "|('BOURNVITA', 'COFFEE', 'SUGER')   |[(None, 1)]                                                                                                                                                   |\n",
        "|('BOURNVITA', 'SUGER')             |[(None, 2), ('COFFEE', 1), ('BREAD', 1)]                                                                                                                      |\n",
        "|('BOURNVITA', 'TEA')               |[(None, 2), ('BREAD', 2)]                                                                                                                                     |\n",
        "|('BOURNVITA',)                     |[(None, 4), ('BREAD', 3), ('TEA', 2), ('COFFEE', 1), ('SUGER', 2)]                                                                                            |\n",
        "|('BREAD', 'COCK')                  |[(None, 1), ('COFFEE', 1)]                                                                                                                                    |\n",
        "|('BREAD', 'COCK', 'COFFEE')        |[(None, 1)]                                                                                                                                                   |\n",
        "|('BREAD', 'COFFEE')                |[(None, 3), ('COCK', 1), ('SUGER', 2)]                                                                                                                        |\n",
        "|('BREAD', 'COFFEE', 'SUGER')       |[(None, 2)]                                                                                                                                                   |\n",
        "|('BREAD', 'CORNFLAKES')            |[(None, 1), ('BISCUIT', 1), ('MILK', 1)]                                                                                                                      |\n",
        "|('BREAD', 'CORNFLAKES', 'MILK')    |[(None, 1)]                                                                                                                                                   |\n",
        "|('BREAD', 'JAM')                   |[(None, 2), ('MAGGI', 2), ('MILK', 1), ('TEA', 1)]                                                                                                            |\n",
        "|('BREAD', 'JAM', 'MAGGI')          |[(None, 2)]                                                                                                                                                   |\n",
        "|('BREAD', 'JAM', 'MILK')           |[(None, 1)]                                                                                                                                                   |\n",
        "|('BREAD', 'JAM', 'TEA')            |[(None, 1)]                                                                                                                                                   |\n",
        "|('BREAD', 'MAGGI')                 |[(None, 3), ('JAM', 2), ('MILK', 1), ('BISCUIT', 1), ('TEA', 2)]                                                                                              |\n",
        "|('BREAD', 'MAGGI', 'MILK')         |[(None, 1)]                                                                                                                                                   |\n",
        "|('BREAD', 'MAGGI', 'TEA')          |[(None, 2)]                                                                                                                                                   |\n",
        "|('BREAD', 'MILK')                  |[(None, 4), ('BISCUIT', 2), ('CORNFLAKES', 1), ('JAM', 1), ('MAGGI', 1)]                                                                                      |\n",
        "|('BREAD', 'SUGER')                 |[(None, 4), ('BISCUIT', 1), ('BOURNVITA', 1), ('COFFEE', 2)]                                                                                                  |\n",
        "|('BREAD', 'TEA')                   |[(None, 4), ('BOURNVITA', 2), ('BISCUIT', 1), ('MAGGI', 2), ('JAM', 1)]                                                                                       |\n",
        "|('BREAD',)                         |[(None, 13), ('BISCUIT', 4), ('MILK', 4), ('CORNFLAKES', 1), ('BOURNVITA', 3), ('TEA', 4), ('JAM', 2), ('MAGGI', 3), ('COCK', 1), ('COFFEE', 3), ('SUGER', 4)]|\n",
        "|('COCK', 'COFFEE')                 |[(None, 3), ('BISCUIT', 2), ('CORNFLAKES', 2), ('BREAD', 1)]                                                                                                  |\n",
        "|('COCK', 'COFFEE', 'CORNFLAKES')   |[(None, 2)]                                                                                                                                                   |\n",
        "|('COCK', 'CORNFLAKES')             |[(None, 2), ('BISCUIT', 2), ('COFFEE', 2)]                                                                                                                    |\n",
        "|('COCK',)                          |[(None, 3), ('BISCUIT', 2), ('COFFEE', 3), ('CORNFLAKES', 2), ('BREAD', 1)]                                                                                   |\n",
        "|('COFFEE', 'CORNFLAKES')           |[(None, 4), ('BISCUIT', 2), ('COCK', 2), ('SUGER', 1), ('MILK', 1), ('TEA', 1)]                                                                               |\n",
        "|('COFFEE', 'CORNFLAKES', 'MILK')   |[(None, 1)]                                                                                                                                                   |\n",
        "+-----------------------------------+--------------------------------------------------------------------------------------------------------------------------------------------------------------+\n",
        "</code>\n",
        "</pre>\n",
        "\n",
        "Votre sortie devra ainsi être **exactement** la même, sans quoi aucun point ne pourra vous être attribué pour cette question.\n"
      ]
    },
    {
      "cell_type": "code",
      "execution_count": 16,
      "metadata": {
        "id": "LOP-SVIhMa0J",
        "colab": {
          "base_uri": "https://localhost:8080/"
        },
        "outputId": "7fddce7a-4161-4bcd-f341-a0de84310b2d"
      },
      "outputs": [
        {
          "output_type": "stream",
          "name": "stdout",
          "text": [
            "+-----------------------------------+--------------------------------------------------------------------------------------------------------------------------------------------------------------+\n",
            "|subpatterns                        |combined_rules                                                                                                                                                |\n",
            "+-----------------------------------+--------------------------------------------------------------------------------------------------------------------------------------------------------------+\n",
            "|('BISCUIT', 'BREAD')               |[(None, 4), ('MILK', 2), ('CORNFLAKES', 1), ('MAGGI', 1), ('TEA', 1), ('SUGER', 1)]                                                                           |\n",
            "|('BISCUIT', 'BREAD', 'CORNFLAKES') |[(None, 1)]                                                                                                                                                   |\n",
            "|('BISCUIT', 'BREAD', 'MAGGI')      |[(None, 1)]                                                                                                                                                   |\n",
            "|('BISCUIT', 'BREAD', 'MILK')       |[(None, 2)]                                                                                                                                                   |\n",
            "|('BISCUIT', 'BREAD', 'SUGER')      |[(None, 1)]                                                                                                                                                   |\n",
            "|('BISCUIT', 'BREAD', 'TEA')        |[(None, 1)]                                                                                                                                                   |\n",
            "|('BISCUIT', 'COCK')                |[(None, 2), ('COFFEE', 2), ('CORNFLAKES', 2)]                                                                                                                 |\n",
            "|('BISCUIT', 'COCK', 'COFFEE')      |[(None, 2)]                                                                                                                                                   |\n",
            "|('BISCUIT', 'COCK', 'CORNFLAKES')  |[(None, 2)]                                                                                                                                                   |\n",
            "|('BISCUIT', 'COFFEE')              |[(None, 2), ('COCK', 2), ('CORNFLAKES', 2)]                                                                                                                   |\n",
            "|('BISCUIT', 'COFFEE', 'CORNFLAKES')|[(None, 2)]                                                                                                                                                   |\n",
            "|('BISCUIT', 'CORNFLAKES')          |[(None, 3), ('BREAD', 1), ('MILK', 1), ('COCK', 2), ('COFFEE', 2)]                                                                                            |\n",
            "|('BISCUIT', 'CORNFLAKES', 'MILK')  |[(None, 1)]                                                                                                                                                   |\n",
            "|('BISCUIT', 'MAGGI')               |[(None, 2), ('TEA', 2), ('BREAD', 1)]                                                                                                                         |\n",
            "|('BISCUIT', 'MAGGI', 'TEA')        |[(None, 2)]                                                                                                                                                   |\n",
            "|('BISCUIT', 'MILK')                |[(None, 2), ('BREAD', 2), ('CORNFLAKES', 1)]                                                                                                                  |\n",
            "|('BISCUIT', 'SUGER')               |[(None, 1), ('BREAD', 1)]                                                                                                                                     |\n",
            "|('BISCUIT', 'TEA')                 |[(None, 2), ('MAGGI', 2), ('BREAD', 1)]                                                                                                                       |\n",
            "|('BISCUIT',)                       |[(None, 7), ('BREAD', 4), ('MILK', 2), ('CORNFLAKES', 3), ('MAGGI', 2), ('TEA', 2), ('COCK', 2), ('COFFEE', 2), ('SUGER', 1)]                                 |\n",
            "|('BOURNVITA', 'BREAD')             |[(None, 3), ('TEA', 2), ('SUGER', 1)]                                                                                                                         |\n",
            "|('BOURNVITA', 'BREAD', 'SUGER')    |[(None, 1)]                                                                                                                                                   |\n",
            "|('BOURNVITA', 'BREAD', 'TEA')      |[(None, 2)]                                                                                                                                                   |\n",
            "|('BOURNVITA', 'COFFEE')            |[(None, 1), ('SUGER', 1)]                                                                                                                                     |\n",
            "|('BOURNVITA', 'COFFEE', 'SUGER')   |[(None, 1)]                                                                                                                                                   |\n",
            "|('BOURNVITA', 'SUGER')             |[(None, 2), ('COFFEE', 1), ('BREAD', 1)]                                                                                                                      |\n",
            "|('BOURNVITA', 'TEA')               |[(None, 2), ('BREAD', 2)]                                                                                                                                     |\n",
            "|('BOURNVITA',)                     |[(None, 4), ('BREAD', 3), ('TEA', 2), ('COFFEE', 1), ('SUGER', 2)]                                                                                            |\n",
            "|('BREAD', 'COCK')                  |[(None, 1), ('COFFEE', 1)]                                                                                                                                    |\n",
            "|('BREAD', 'COCK', 'COFFEE')        |[(None, 1)]                                                                                                                                                   |\n",
            "|('BREAD', 'COFFEE')                |[(None, 3), ('COCK', 1), ('SUGER', 2)]                                                                                                                        |\n",
            "|('BREAD', 'COFFEE', 'SUGER')       |[(None, 2)]                                                                                                                                                   |\n",
            "|('BREAD', 'CORNFLAKES')            |[(None, 1), ('BISCUIT', 1), ('MILK', 1)]                                                                                                                      |\n",
            "|('BREAD', 'CORNFLAKES', 'MILK')    |[(None, 1)]                                                                                                                                                   |\n",
            "|('BREAD', 'JAM')                   |[(None, 2), ('MAGGI', 2), ('MILK', 1), ('TEA', 1)]                                                                                                            |\n",
            "|('BREAD', 'JAM', 'MAGGI')          |[(None, 2)]                                                                                                                                                   |\n",
            "|('BREAD', 'JAM', 'MILK')           |[(None, 1)]                                                                                                                                                   |\n",
            "|('BREAD', 'JAM', 'TEA')            |[(None, 1)]                                                                                                                                                   |\n",
            "|('BREAD', 'MAGGI')                 |[(None, 3), ('JAM', 2), ('MILK', 1), ('BISCUIT', 1), ('TEA', 2)]                                                                                              |\n",
            "|('BREAD', 'MAGGI', 'MILK')         |[(None, 1)]                                                                                                                                                   |\n",
            "|('BREAD', 'MAGGI', 'TEA')          |[(None, 2)]                                                                                                                                                   |\n",
            "|('BREAD', 'MILK')                  |[(None, 4), ('BISCUIT', 2), ('CORNFLAKES', 1), ('JAM', 1), ('MAGGI', 1)]                                                                                      |\n",
            "|('BREAD', 'SUGER')                 |[(None, 4), ('BISCUIT', 1), ('BOURNVITA', 1), ('COFFEE', 2)]                                                                                                  |\n",
            "|('BREAD', 'TEA')                   |[(None, 4), ('BOURNVITA', 2), ('BISCUIT', 1), ('MAGGI', 2), ('JAM', 1)]                                                                                       |\n",
            "|('BREAD',)                         |[(None, 13), ('BISCUIT', 4), ('MILK', 4), ('CORNFLAKES', 1), ('BOURNVITA', 3), ('TEA', 4), ('JAM', 2), ('MAGGI', 3), ('COCK', 1), ('COFFEE', 3), ('SUGER', 4)]|\n",
            "|('COCK', 'COFFEE')                 |[(None, 3), ('BISCUIT', 2), ('CORNFLAKES', 2), ('BREAD', 1)]                                                                                                  |\n",
            "|('COCK', 'COFFEE', 'CORNFLAKES')   |[(None, 2)]                                                                                                                                                   |\n",
            "|('COCK', 'CORNFLAKES')             |[(None, 2), ('BISCUIT', 2), ('COFFEE', 2)]                                                                                                                    |\n",
            "|('COCK',)                          |[(None, 3), ('BISCUIT', 2), ('COFFEE', 3), ('CORNFLAKES', 2), ('BREAD', 1)]                                                                                   |\n",
            "|('COFFEE', 'CORNFLAKES')           |[(None, 4), ('BISCUIT', 2), ('COCK', 2), ('SUGER', 1), ('MILK', 1), ('TEA', 1)]                                                                               |\n",
            "|('COFFEE', 'CORNFLAKES', 'MILK')   |[(None, 1)]                                                                                                                                                   |\n",
            "+-----------------------------------+--------------------------------------------------------------------------------------------------------------------------------------------------------------+\n",
            "only showing top 50 rows\n",
            "\n"
          ]
        }
      ],
      "source": [
        "combined_rules = subpatterns_rdd.reduceByKey(lambda x, y: x + [y] if isinstance(x, list) else [x] + [y]).mapValues(lambda x: [x] if not isinstance(x, list) else x)\n",
        "\n",
        "# Output as dataframe\n",
        "combined_rules.map(format_tuples).toDF(['subpatterns', 'combined_rules']).sort(['subpatterns']).show(50, truncate=False)"
      ]
    },
    {
      "cell_type": "markdown",
      "metadata": {
        "id": "Uh69x3a8Ma0P"
      },
      "source": [
        "### 2.5. Map to Association Rules (15 points)\n",
        "\n",
        "Enfin, la dernière étape de l'algorithme consiste à créer les règles d'association pour effectuer la MBA. Le but de cette fonction Map est de calculer le niveau **de confiance** de l'achat d'un produit, sachant qu'il y a déjà un ensemble de produits dans le panier. Ainsi, la KEY du sous-motif est l'ensemble des produits placés dans le panier et, pour chaque produit présent dans la liste des règles, c'est-à-dire dans la VALEUR, la confiance peut être calculée comme :\n",
        "\n",
        "\\begin{align*}\n",
        "\\frac{\\text{nombre de fois où le produit a été acheté avec KEY}}{\\text{nombre de fois où la KEY est apparue}}\n",
        "\\end{align*}\n",
        "\n",
        "Pour l'exemple donné dans la figure \"workflow\", *le café* a été acheté 20 fois et, dans 17 d'entre eux, le *lait* a été acheté ensemble. Ensuite, le niveau de confiance pour acheter du *lait* sachant que *le café* est dans le panier est $\\frac{17}{20}=0,85$, ce qui signifie que dans 85% des cas où le café a été acheté, le lait a aussi été acheté.\n",
        "\n",
        "Implémentez la fonction **map_to_assoc_rules** qui calcule le niveau de confiance pour chaque sous-motif.\n",
        "\n",
        "Pour le \"grocery dataset\", la sortie attendue est:\n",
        "\n",
        "<pre style=\"align:center; border:1px solid black;font-size: 8pt; line-height: 1.1; height: auto; width: 57em; padding-left:5px\">\n",
        "<code>\n",
        "+-----------------------------------+----------------------------------------------------------------------------------------------------------------------------------------------------------------------------------------------------------------------------------------------------------------------------------------------------------------------------------+\n",
        "|patterns                           |association_rules                                                                                                                                                                                                                                                                                                                 |\n",
        "+-----------------------------------+----------------------------------------------------------------------------------------------------------------------------------------------------------------------------------------------------------------------------------------------------------------------------------------------------------------------------------+\n",
        "|('BISCUIT', 'BREAD')               |[('MILK', 0.5), ('CORNFLAKES', 0.25), ('MAGGI', 0.25), ('TEA', 0.25), ('SUGER', 0.25)]                                                                                                                                                                                                                                            |\n",
        "|('BISCUIT', 'BREAD', 'CORNFLAKES') |[]                                                                                                                                                                                                                                                                                                                                |\n",
        "|('BISCUIT', 'BREAD', 'MAGGI')      |[]                                                                                                                                                                                                                                                                                                                                |\n",
        "|('BISCUIT', 'BREAD', 'MILK')       |[]                                                                                                                                                                                                                                                                                                                                |\n",
        "|('BISCUIT', 'BREAD', 'SUGER')      |[]                                                                                                                                                                                                                                                                                                                                |\n",
        "|('BISCUIT', 'BREAD', 'TEA')        |[]                                                                                                                                                                                                                                                                                                                                |\n",
        "|('BISCUIT', 'COCK')                |[('COFFEE', 1.0), ('CORNFLAKES', 1.0)]                                                                                                                                                                                                                                                                                            |\n",
        "|('BISCUIT', 'COCK', 'COFFEE')      |[]                                                                                                                                                                                                                                                                                                                                |\n",
        "|('BISCUIT', 'COCK', 'CORNFLAKES')  |[]                                                                                                                                                                                                                                                                                                                                |\n",
        "|('BISCUIT', 'COFFEE')              |[('COCK', 1.0), ('CORNFLAKES', 1.0)]                                                                                                                                                                                                                                                                                              |\n",
        "|('BISCUIT', 'COFFEE', 'CORNFLAKES')|[]                                                                                                                                                                                                                                                                                                                                |\n",
        "|('BISCUIT', 'CORNFLAKES')          |[('BREAD', 0.3333333333333333), ('MILK', 0.3333333333333333), ('COCK', 0.6666666666666666), ('COFFEE', 0.6666666666666666)]                                                                                                                                                                                                       |\n",
        "|('BISCUIT', 'CORNFLAKES', 'MILK')  |[]                                                                                                                                                                                                                                                                                                                                |\n",
        "|('BISCUIT', 'MAGGI')               |[('TEA', 1.0), ('BREAD', 0.5)]                                                                                                                                                                                                                                                                                                    |\n",
        "|('BISCUIT', 'MAGGI', 'TEA')        |[]                                                                                                                                                                                                                                                                                                                                |\n",
        "|('BISCUIT', 'MILK')                |[('BREAD', 1.0), ('CORNFLAKES', 0.5)]                                                                                                                                                                                                                                                                                             |\n",
        "|('BISCUIT', 'SUGER')               |[('BREAD', 1.0)]                                                                                                                                                                                                                                                                                                                  |\n",
        "|('BISCUIT', 'TEA')                 |[('MAGGI', 1.0), ('BREAD', 0.5)]                                                                                                                                                                                                                                                                                                  |\n",
        "|('BISCUIT',)                       |[('BREAD', 0.5714285714285714), ('MILK', 0.2857142857142857), ('CORNFLAKES', 0.42857142857142855), ('MAGGI', 0.2857142857142857), ('TEA', 0.2857142857142857), ('COCK', 0.2857142857142857), ('COFFEE', 0.2857142857142857), ('SUGER', 0.14285714285714285)]                                                                      |\n",
        "|('BOURNVITA', 'BREAD')             |[('TEA', 0.6666666666666666), ('SUGER', 0.3333333333333333)]                                                                                                                                                                                                                                                                      |\n",
        "|('BOURNVITA', 'BREAD', 'SUGER')    |[]                                                                                                                                                                                                                                                                                                                                |\n",
        "|('BOURNVITA', 'BREAD', 'TEA')      |[]                                                                                                                                                                                                                                                                                                                                |\n",
        "|('BOURNVITA', 'COFFEE')            |[('SUGER', 1.0)]                                                                                                                                                                                                                                                                                                                  |\n",
        "|('BOURNVITA', 'COFFEE', 'SUGER')   |[]                                                                                                                                                                                                                                                                                                                                |\n",
        "|('BOURNVITA', 'SUGER')             |[('COFFEE', 0.5), ('BREAD', 0.5)]                                                                                                                                                                                                                                                                                                 |\n",
        "|('BOURNVITA', 'TEA')               |[('BREAD', 1.0)]                                                                                                                                                                                                                                                                                                                  |\n",
        "|('BOURNVITA',)                     |[('BREAD', 0.75), ('TEA', 0.5), ('COFFEE', 0.25), ('SUGER', 0.5)]                                                                                                                                                                                                                                                                 |\n",
        "|('BREAD', 'COCK')                  |[('COFFEE', 1.0)]                                                                                                                                                                                                                                                                                                                 |\n",
        "|('BREAD', 'COCK', 'COFFEE')        |[]                                                                                                                                                                                                                                                                                                                                |\n",
        "|('BREAD', 'COFFEE')                |[('COCK', 0.3333333333333333), ('SUGER', 0.6666666666666666)]                                                                                                                                                                                                                                                                     |\n",
        "|('BREAD', 'COFFEE', 'SUGER')       |[]                                                                                                                                                                                                                                                                                                                                |\n",
        "|('BREAD', 'CORNFLAKES')            |[('BISCUIT', 1.0), ('MILK', 1.0)]                                                                                                                                                                                                                                                                                                 |\n",
        "|('BREAD', 'CORNFLAKES', 'MILK')    |[]                                                                                                                                                                                                                                                                                                                                |\n",
        "|('BREAD', 'JAM')                   |[('MAGGI', 1.0), ('MILK', 0.5), ('TEA', 0.5)]                                                                                                                                                                                                                                                                                     |\n",
        "|('BREAD', 'JAM', 'MAGGI')          |[]                                                                                                                                                                                                                                                                                                                                |\n",
        "|('BREAD', 'JAM', 'MILK')           |[]                                                                                                                                                                                                                                                                                                                                |\n",
        "|('BREAD', 'JAM', 'TEA')            |[]                                                                                                                                                                                                                                                                                                                                |\n",
        "|('BREAD', 'MAGGI')                 |[('JAM', 0.6666666666666666), ('MILK', 0.3333333333333333), ('BISCUIT', 0.3333333333333333), ('TEA', 0.6666666666666666)]                                                                                                                                                                                                         |\n",
        "|('BREAD', 'MAGGI', 'MILK')         |[]                                                                                                                                                                                                                                                                                                                                |\n",
        "|('BREAD', 'MAGGI', 'TEA')          |[]                                                                                                                                                                                                                                                                                                                                |\n",
        "|('BREAD', 'MILK')                  |[('BISCUIT', 0.5), ('CORNFLAKES', 0.25), ('JAM', 0.25), ('MAGGI', 0.25)]                                                                                                                                                                                                                                                          |\n",
        "|('BREAD', 'SUGER')                 |[('BISCUIT', 0.25), ('BOURNVITA', 0.25), ('COFFEE', 0.5)]                                                                                                                                                                                                                                                                         |\n",
        "|('BREAD', 'TEA')                   |[('BOURNVITA', 0.5), ('BISCUIT', 0.25), ('MAGGI', 0.5), ('JAM', 0.25)]                                                                                                                                                                                                                                                            |\n",
        "|('BREAD',)                         |[('BISCUIT', 0.3076923076923077), ('MILK', 0.3076923076923077), ('CORNFLAKES', 0.07692307692307693), ('BOURNVITA', 0.23076923076923078), ('TEA', 0.3076923076923077), ('JAM', 0.15384615384615385), ('MAGGI', 0.23076923076923078), ('COCK', 0.07692307692307693), ('COFFEE', 0.23076923076923078), ('SUGER', 0.3076923076923077)]|\n",
        "|('COCK', 'COFFEE')                 |[('BISCUIT', 0.6666666666666666), ('CORNFLAKES', 0.6666666666666666), ('BREAD', 0.3333333333333333)]                                                                                                                                                                                                                              |\n",
        "|('COCK', 'COFFEE', 'CORNFLAKES')   |[]                                                                                                                                                                                                                                                                                                                                |\n",
        "|('COCK', 'CORNFLAKES')             |[('BISCUIT', 1.0), ('COFFEE', 1.0)]                                                                                                                                                                                                                                                                                               |\n",
        "|('COCK',)                          |[('BISCUIT', 0.6666666666666666), ('COFFEE', 1.0), ('CORNFLAKES', 0.6666666666666666), ('BREAD', 0.3333333333333333)]                                                                                                                                                                                                             |\n",
        "|('COFFEE', 'CORNFLAKES')           |[('BISCUIT', 0.5), ('COCK', 0.5), ('SUGER', 0.25), ('MILK', 0.25), ('TEA', 0.25)]                                                                                                                                                                                                                                                 |\n",
        "|('COFFEE', 'CORNFLAKES', 'MILK')   |[]                                                                                                                                                                                                                                                                                                                                |\n",
        "+-----------------------------------+----------------------------------------------------------------------------------------------------------------------------------------------------------------------------------------------------------------------------------------------------------------------------------------------------------------------------------+\n",
        "\n",
        "</code>\n",
        "</pre>\n",
        "\n",
        "Votre sortie devra ainsi être **exactement** la même, sans quoi aucun point ne pourra vous être attribué pour cette question."
      ]
    },
    {
      "cell_type": "code",
      "execution_count": 17,
      "metadata": {
        "id": "DPrbn5CfMa0P",
        "colab": {
          "base_uri": "https://localhost:8080/"
        },
        "outputId": "3eb9cf74-0451-4518-b29f-fd64f56e9fe9"
      },
      "outputs": [
        {
          "output_type": "stream",
          "name": "stdout",
          "text": [
            "+-----------------------------------+----------------------------------------------------------------------------------------------------------------------------------------------------------------------------------------------------------------------------------------------------------------------------------------------------------------------------------+\n",
            "|patterns                           |association_rules                                                                                                                                                                                                                                                                                                                 |\n",
            "+-----------------------------------+----------------------------------------------------------------------------------------------------------------------------------------------------------------------------------------------------------------------------------------------------------------------------------------------------------------------------------+\n",
            "|('BISCUIT', 'BREAD')               |[('MILK', 0.5), ('CORNFLAKES', 0.25), ('MAGGI', 0.25), ('TEA', 0.25), ('SUGER', 0.25)]                                                                                                                                                                                                                                            |\n",
            "|('BISCUIT', 'BREAD', 'CORNFLAKES') |[]                                                                                                                                                                                                                                                                                                                                |\n",
            "|('BISCUIT', 'BREAD', 'MAGGI')      |[]                                                                                                                                                                                                                                                                                                                                |\n",
            "|('BISCUIT', 'BREAD', 'MILK')       |[]                                                                                                                                                                                                                                                                                                                                |\n",
            "|('BISCUIT', 'BREAD', 'SUGER')      |[]                                                                                                                                                                                                                                                                                                                                |\n",
            "|('BISCUIT', 'BREAD', 'TEA')        |[]                                                                                                                                                                                                                                                                                                                                |\n",
            "|('BISCUIT', 'COCK')                |[('COFFEE', 1.0), ('CORNFLAKES', 1.0)]                                                                                                                                                                                                                                                                                            |\n",
            "|('BISCUIT', 'COCK', 'COFFEE')      |[]                                                                                                                                                                                                                                                                                                                                |\n",
            "|('BISCUIT', 'COCK', 'CORNFLAKES')  |[]                                                                                                                                                                                                                                                                                                                                |\n",
            "|('BISCUIT', 'COFFEE')              |[('COCK', 1.0), ('CORNFLAKES', 1.0)]                                                                                                                                                                                                                                                                                              |\n",
            "|('BISCUIT', 'COFFEE', 'CORNFLAKES')|[]                                                                                                                                                                                                                                                                                                                                |\n",
            "|('BISCUIT', 'CORNFLAKES')          |[('BREAD', 0.3333333333333333), ('MILK', 0.3333333333333333), ('COCK', 0.6666666666666666), ('COFFEE', 0.6666666666666666)]                                                                                                                                                                                                       |\n",
            "|('BISCUIT', 'CORNFLAKES', 'MILK')  |[]                                                                                                                                                                                                                                                                                                                                |\n",
            "|('BISCUIT', 'MAGGI')               |[('TEA', 1.0), ('BREAD', 0.5)]                                                                                                                                                                                                                                                                                                    |\n",
            "|('BISCUIT', 'MAGGI', 'TEA')        |[]                                                                                                                                                                                                                                                                                                                                |\n",
            "|('BISCUIT', 'MILK')                |[('BREAD', 1.0), ('CORNFLAKES', 0.5)]                                                                                                                                                                                                                                                                                             |\n",
            "|('BISCUIT', 'SUGER')               |[('BREAD', 1.0)]                                                                                                                                                                                                                                                                                                                  |\n",
            "|('BISCUIT', 'TEA')                 |[('MAGGI', 1.0), ('BREAD', 0.5)]                                                                                                                                                                                                                                                                                                  |\n",
            "|('BISCUIT',)                       |[('BREAD', 0.5714285714285714), ('MILK', 0.2857142857142857), ('CORNFLAKES', 0.42857142857142855), ('MAGGI', 0.2857142857142857), ('TEA', 0.2857142857142857), ('COCK', 0.2857142857142857), ('COFFEE', 0.2857142857142857), ('SUGER', 0.14285714285714285)]                                                                      |\n",
            "|('BOURNVITA', 'BREAD')             |[('TEA', 0.6666666666666666), ('SUGER', 0.3333333333333333)]                                                                                                                                                                                                                                                                      |\n",
            "|('BOURNVITA', 'BREAD', 'SUGER')    |[]                                                                                                                                                                                                                                                                                                                                |\n",
            "|('BOURNVITA', 'BREAD', 'TEA')      |[]                                                                                                                                                                                                                                                                                                                                |\n",
            "|('BOURNVITA', 'COFFEE')            |[('SUGER', 1.0)]                                                                                                                                                                                                                                                                                                                  |\n",
            "|('BOURNVITA', 'COFFEE', 'SUGER')   |[]                                                                                                                                                                                                                                                                                                                                |\n",
            "|('BOURNVITA', 'SUGER')             |[('COFFEE', 0.5), ('BREAD', 0.5)]                                                                                                                                                                                                                                                                                                 |\n",
            "|('BOURNVITA', 'TEA')               |[('BREAD', 1.0)]                                                                                                                                                                                                                                                                                                                  |\n",
            "|('BOURNVITA',)                     |[('BREAD', 0.75), ('TEA', 0.5), ('COFFEE', 0.25), ('SUGER', 0.5)]                                                                                                                                                                                                                                                                 |\n",
            "|('BREAD', 'COCK')                  |[('COFFEE', 1.0)]                                                                                                                                                                                                                                                                                                                 |\n",
            "|('BREAD', 'COCK', 'COFFEE')        |[]                                                                                                                                                                                                                                                                                                                                |\n",
            "|('BREAD', 'COFFEE')                |[('COCK', 0.3333333333333333), ('SUGER', 0.6666666666666666)]                                                                                                                                                                                                                                                                     |\n",
            "|('BREAD', 'COFFEE', 'SUGER')       |[]                                                                                                                                                                                                                                                                                                                                |\n",
            "|('BREAD', 'CORNFLAKES')            |[('BISCUIT', 1.0), ('MILK', 1.0)]                                                                                                                                                                                                                                                                                                 |\n",
            "|('BREAD', 'CORNFLAKES', 'MILK')    |[]                                                                                                                                                                                                                                                                                                                                |\n",
            "|('BREAD', 'JAM')                   |[('MAGGI', 1.0), ('MILK', 0.5), ('TEA', 0.5)]                                                                                                                                                                                                                                                                                     |\n",
            "|('BREAD', 'JAM', 'MAGGI')          |[]                                                                                                                                                                                                                                                                                                                                |\n",
            "|('BREAD', 'JAM', 'MILK')           |[]                                                                                                                                                                                                                                                                                                                                |\n",
            "|('BREAD', 'JAM', 'TEA')            |[]                                                                                                                                                                                                                                                                                                                                |\n",
            "|('BREAD', 'MAGGI')                 |[('JAM', 0.6666666666666666), ('MILK', 0.3333333333333333), ('BISCUIT', 0.3333333333333333), ('TEA', 0.6666666666666666)]                                                                                                                                                                                                         |\n",
            "|('BREAD', 'MAGGI', 'MILK')         |[]                                                                                                                                                                                                                                                                                                                                |\n",
            "|('BREAD', 'MAGGI', 'TEA')          |[]                                                                                                                                                                                                                                                                                                                                |\n",
            "|('BREAD', 'MILK')                  |[('BISCUIT', 0.5), ('CORNFLAKES', 0.25), ('JAM', 0.25), ('MAGGI', 0.25)]                                                                                                                                                                                                                                                          |\n",
            "|('BREAD', 'SUGER')                 |[('BISCUIT', 0.25), ('BOURNVITA', 0.25), ('COFFEE', 0.5)]                                                                                                                                                                                                                                                                         |\n",
            "|('BREAD', 'TEA')                   |[('BOURNVITA', 0.5), ('BISCUIT', 0.25), ('MAGGI', 0.5), ('JAM', 0.25)]                                                                                                                                                                                                                                                            |\n",
            "|('BREAD',)                         |[('BISCUIT', 0.3076923076923077), ('MILK', 0.3076923076923077), ('CORNFLAKES', 0.07692307692307693), ('BOURNVITA', 0.23076923076923078), ('TEA', 0.3076923076923077), ('JAM', 0.15384615384615385), ('MAGGI', 0.23076923076923078), ('COCK', 0.07692307692307693), ('COFFEE', 0.23076923076923078), ('SUGER', 0.3076923076923077)]|\n",
            "|('COCK', 'COFFEE')                 |[('BISCUIT', 0.6666666666666666), ('CORNFLAKES', 0.6666666666666666), ('BREAD', 0.3333333333333333)]                                                                                                                                                                                                                              |\n",
            "|('COCK', 'COFFEE', 'CORNFLAKES')   |[]                                                                                                                                                                                                                                                                                                                                |\n",
            "|('COCK', 'CORNFLAKES')             |[('BISCUIT', 1.0), ('COFFEE', 1.0)]                                                                                                                                                                                                                                                                                               |\n",
            "|('COCK',)                          |[('BISCUIT', 0.6666666666666666), ('COFFEE', 1.0), ('CORNFLAKES', 0.6666666666666666), ('BREAD', 0.3333333333333333)]                                                                                                                                                                                                             |\n",
            "|('COFFEE', 'CORNFLAKES')           |[('BISCUIT', 0.5), ('COCK', 0.5), ('SUGER', 0.25), ('MILK', 0.25), ('TEA', 0.25)]                                                                                                                                                                                                                                                 |\n",
            "|('COFFEE', 'CORNFLAKES', 'MILK')   |[]                                                                                                                                                                                                                                                                                                                                |\n",
            "+-----------------------------------+----------------------------------------------------------------------------------------------------------------------------------------------------------------------------------------------------------------------------------------------------------------------------------------------------------------------------------+\n",
            "only showing top 50 rows\n",
            "\n"
          ]
        }
      ],
      "source": [
        "def map_to_assoc_rules(rule):\n",
        "    subpattern, combined_rule = rule ;\n",
        "    total = 1\n",
        "    for value in combined_rule :\n",
        "      if value[0] == None :\n",
        "        total = value[1]\n",
        "\n",
        "    new_rule = [(value , count/total) for value,count in combined_rule if value != None]\n",
        "    yield(subpattern , new_rule)\n",
        "\n",
        "    \"\"\"\n",
        "    TODO\n",
        "    \"\"\"\n",
        "\n",
        "\n",
        "\n",
        "assoc_rules = combined_rules.flatMap(map_to_assoc_rules)\n",
        "\n",
        "\n",
        "# Output as dataframe\n",
        "assoc_rules.map(format_tuples).toDF(['patterns', 'association_rules']).sort(['patterns']).show(50, truncate=False)"
      ]
    },
    {
      "cell_type": "markdown",
      "source": [
        "## 3. VAERS dataset (35 points)"
      ],
      "metadata": {
        "id": "hA3vXekwqcPo"
      }
    },
    {
      "cell_type": "markdown",
      "metadata": {
        "id": "BPV5g2hwMa0U"
      },
      "source": [
        "Avec votre algorithme MBA prêt à être utilisé, il est maintenant temps de travailler sur l'ensemble de données réel.\n",
        "Pour cette partie du TP, nous l'appliquerons au domaine médical afin de mettre en avant l'apparition de symptômes cooccurents.\n",
        "Cela permet notamment d'anticiper l'apparition de symptômes et ainsi d'effectuer les traitements préventifs adéquates.\n",
        "\n",
        "Pour ce faire, téléchargez le dataset [VAERS]() et lisez sa description (fichier note.txt) pour comprendre la structure de l'ensemble de données.\n",
        "Il s'agit d'une aggrégation et normalisation des données issues du programme états-unien de surveillance [*Vaccine Adverse Event Reporting System*](https://vaers.hhs.gov/index.html), couvrant une période allant de 1990 à 2024.\n",
        "\n",
        "Avant d'appliquer l'algorithme développé sur l'ensemble de données VAERS, vous devez d'abord filtrer les transactions pour qu'elles soient au même format défini par votre algorithme (une transaction par ligne).\n",
        "Pour manipuler les données, nous pouvons utiliser le bloc de données de Spark et le module SQL présenté dans la section 1.\n",
        "\n",
        "La cellule de code suivante utilise le module Spark SQL pour lire les observations de ``OBSERVATIONS_extract.csv`` et les informations détaillées de ``DATA.csv`` et ``SYMPTOMS.csv`` pour construire une dataframe qui contient un liste de tous les symptômes jamais observés pour chaque patient."
      ]
    },
    {
      "cell_type": "markdown",
      "source": [
        "### Chargement des données"
      ],
      "metadata": {
        "id": "3eaInywAwqp5"
      }
    },
    {
      "cell_type": "code",
      "execution_count": 18,
      "metadata": {
        "id": "dcoaqEwByVIM",
        "colab": {
          "base_uri": "https://localhost:8080/"
        },
        "outputId": "66694d48-53fa-4496-8d9a-55252f42bb54"
      },
      "outputs": [
        {
          "output_type": "stream",
          "name": "stdout",
          "text": [
            "SYMPTOMS.csv\n",
            "+----------+--------------------+\n",
            "|SYMPTOM_ID|        SYMPTOM_NAME|\n",
            "+----------+--------------------+\n",
            "|         0|Cardiac vein diss...|\n",
            "|         1|Vaccination site ...|\n",
            "|         2|Blood bicarbonate...|\n",
            "|         3|  Judgement impaired|\n",
            "|         4|Sinus node dysfun...|\n",
            "+----------+--------------------+\n",
            "only showing top 5 rows\n",
            "\n"
          ]
        }
      ],
      "source": [
        "df_symptoms = spark.read.csv(ROOT + 'SYMPTOMS.csv', header=True, sep=',', inferSchema=True)\n",
        "print('SYMPTOMS.csv')\n",
        "df_symptoms.show(5)"
      ]
    },
    {
      "cell_type": "code",
      "execution_count": 19,
      "metadata": {
        "id": "DH1zH_0UyWgv",
        "colab": {
          "base_uri": "https://localhost:8080/"
        },
        "outputId": "6e6b71a9-d478-49e1-e55c-2c49da51f090"
      },
      "outputs": [
        {
          "output_type": "stream",
          "name": "stdout",
          "text": [
            "OBSERVATIONS.csv\n",
            "+--------------+--------+----------+\n",
            "|OBSERVATION_ID|VAERS_ID|SYMPTOM_ID|\n",
            "+--------------+--------+----------+\n",
            "|             0|   25002|      9465|\n",
            "|             0|   25002|      2581|\n",
            "|             1|   25010|     14978|\n",
            "|             2|   25011|      2581|\n",
            "|             2|   25011|      6620|\n",
            "+--------------+--------+----------+\n",
            "only showing top 5 rows\n",
            "\n"
          ]
        }
      ],
      "source": [
        "df_observations = spark.read.csv(ROOT + 'OBSERVATIONS_extract.csv', header=True, sep=',', inferSchema=True)\n",
        "print('OBSERVATIONS.csv')\n",
        "df_observations.show(5)"
      ]
    },
    {
      "cell_type": "code",
      "execution_count": 20,
      "metadata": {
        "id": "bR4veBLryXuM",
        "colab": {
          "base_uri": "https://localhost:8080/"
        },
        "outputId": "9cc42b28-2619-493d-8f91-33167deeed08"
      },
      "outputs": [
        {
          "output_type": "stream",
          "name": "stdout",
          "text": [
            "DATA.csv\n",
            "+--------+-----+-------+---+\n",
            "|VAERS_ID|STATE|AGE_YRS|SEX|\n",
            "+--------+-----+-------+---+\n",
            "|   25002|   FR|   82.0|  M|\n",
            "|   25010|   FR|    1.7|  M|\n",
            "|   25011|   FR|    5.0|  F|\n",
            "|   25064|   FR|   NULL|  F|\n",
            "|   25055|   FR|   54.0|  F|\n",
            "+--------+-----+-------+---+\n",
            "only showing top 5 rows\n",
            "\n"
          ]
        }
      ],
      "source": [
        "df_data = spark.read.csv(ROOT + 'DATA.csv', header=True, sep=',', inferSchema=True)\n",
        "print('DATA.csv')\n",
        "df_data.show(5)"
      ]
    },
    {
      "cell_type": "code",
      "execution_count": 21,
      "metadata": {
        "id": "f9cxx8h8EWMm",
        "colab": {
          "base_uri": "https://localhost:8080/"
        },
        "outputId": "7101f05d-feca-483f-8b26-25e5d0bd1379"
      },
      "outputs": [
        {
          "output_type": "stream",
          "name": "stdout",
          "text": [
            "VAX.csv\n",
            "+--------+--------+------------------+--------------------+\n",
            "|VAERS_ID|VAX_TYPE|          VAX_MANU|            VAX_NAME|\n",
            "+--------+--------+------------------+--------------------+\n",
            "|   25002|     PPV|  MERCK & CO. INC.|  PNEUMO (PNEUMOVAX)|\n",
            "|   25010|     MMR|  MERCK & CO. INC.|MEASLES + MUMPS +...|\n",
            "|   25011|     HEP|SMITHKLINE BEECHAM|   HEP B (ENGERIX-B)|\n",
            "|   25055|     HEP|SMITHKLINE BEECHAM|   HEP B (ENGERIX-B)|\n",
            "|   25056|     HEP|SMITHKLINE BEECHAM|   HEP B (ENGERIX-B)|\n",
            "+--------+--------+------------------+--------------------+\n",
            "only showing top 5 rows\n",
            "\n"
          ]
        }
      ],
      "source": [
        "df_vax = spark.read.csv(ROOT + 'VAX.csv', header=True, sep=',', inferSchema=True)\n",
        "print('VAX.csv')\n",
        "df_vax.show(5)"
      ]
    },
    {
      "cell_type": "markdown",
      "source": [
        "### Requête avec SQL"
      ],
      "metadata": {
        "id": "4SKrggVywy-P"
      }
    },
    {
      "cell_type": "code",
      "execution_count": 22,
      "metadata": {
        "id": "r0j8lixgGl4m"
      },
      "outputs": [],
      "source": [
        "df_observations.createOrReplaceTempView(\"OBSERVATIONS\") # creates table 'observations'\n",
        "df_symptoms.createOrReplaceTempView(\"SYMPTOMS\") # creates table 'symptoms'\n",
        "df_data.createOrReplaceTempView(\"DATA\") # creates table 'data'\n",
        "df_vax.createOrReplaceTempView(\"VAX\") # creates table 'vax'"
      ]
    },
    {
      "cell_type": "code",
      "execution_count": 23,
      "metadata": {
        "id": "mVss9sotT8X9",
        "colab": {
          "base_uri": "https://localhost:8080/"
        },
        "outputId": "03e3a541-c695-4e4d-a6c0-22b38a388054"
      },
      "outputs": [
        {
          "output_type": "stream",
          "name": "stdout",
          "text": [
            "+--------+------------------------------------------------------------------------------+\n",
            "|VAERS_ID|SYMPTOMS                                                                      |\n",
            "+--------+------------------------------------------------------------------------------+\n",
            "|25002   |[Convulsion, Chills]                                                          |\n",
            "|25010   |[Bronchitis]                                                                  |\n",
            "|25011   |[Vomiting, Pyrexia, Convulsion]                                               |\n",
            "|25055   |[Neoplasm malignant, Nausea, Hepatocellular damage, Hepatic function abnormal]|\n",
            "|25056   |[Malaise, Hepatic cirrhosis]                                                  |\n",
            "+--------+------------------------------------------------------------------------------+\n",
            "only showing top 5 rows\n",
            "\n"
          ]
        }
      ],
      "source": [
        "\"\"\"\n",
        "List of symptoms ever contracted by each user\n",
        "\"\"\"\n",
        "spark.sql(\"\"\"\n",
        "  SELECT\n",
        "    data.VAERS_ID,\n",
        "    COLLECT_LIST(symp.SYMPTOM_NAME) AS SYMPTOMS\n",
        "  FROM DATA\n",
        "  INNER JOIN OBSERVATIONS observ ON observ.VAERS_ID = data.VAERS_ID\n",
        "  INNER JOIN SYMPTOMS symp ON observ.SYMPTOM_ID = symp.SYMPTOM_ID\n",
        "  GROUP BY data.VAERS_ID ORDER BY data.VAERS_ID\n",
        "\"\"\").show(5, truncate=False)"
      ]
    },
    {
      "cell_type": "markdown",
      "source": [
        "### Requête avec opérations ensemblistes sur le dataFrame"
      ],
      "metadata": {
        "id": "dxNCqA-Uw52I"
      }
    },
    {
      "cell_type": "code",
      "execution_count": 24,
      "metadata": {
        "id": "6oB1eTkeMa0W",
        "colab": {
          "base_uri": "https://localhost:8080/"
        },
        "outputId": "f0b892d6-33f9-44df-f85d-7685962d4a6b"
      },
      "outputs": [
        {
          "output_type": "stream",
          "name": "stdout",
          "text": [
            "+--------+------------------------------------------------------------------------------+\n",
            "|VAERS_ID|SYMPTOMS                                                                      |\n",
            "+--------+------------------------------------------------------------------------------+\n",
            "|25002   |[Convulsion, Chills]                                                          |\n",
            "|25010   |[Bronchitis]                                                                  |\n",
            "|25011   |[Vomiting, Pyrexia, Convulsion]                                               |\n",
            "|25055   |[Neoplasm malignant, Nausea, Hepatocellular damage, Hepatic function abnormal]|\n",
            "|25056   |[Malaise, Hepatic cirrhosis]                                                  |\n",
            "+--------+------------------------------------------------------------------------------+\n",
            "only showing top 5 rows\n",
            "\n"
          ]
        }
      ],
      "source": [
        "\"\"\"\n",
        "List of symptoms ever contracted by each user\n",
        "\"\"\"\n",
        "df_data.join(df_observations, df_observations.VAERS_ID == df_data.VAERS_ID, 'inner')\\\n",
        " .join(df_symptoms, df_symptoms.SYMPTOM_ID == df_observations.SYMPTOM_ID, 'inner')\\\n",
        " .groupBy(df_data.VAERS_ID).agg(f.collect_list(df_symptoms.SYMPTOM_NAME).alias('SYMPTOMS'))\\\n",
        " .orderBy(df_data.VAERS_ID).show(5, truncate=False)"
      ]
    },
    {
      "cell_type": "markdown",
      "metadata": {
        "id": "JEqVeqhkMa0a"
      },
      "source": [
        "### 3.1 Perspectives médicales (20 points)\n",
        "\n",
        "Maintenant, vous êtes le *data scientist*. **En ne considérant que les lignes de ``OBSERVATIONS.csv``**, l'utilisation du module Spark SQL, performant avec SQL ou dataframe, répondez aux questions suivantes:\n",
        "\n",
        "1. Quel est l'âge moyen des patients par états (américains et autres) ? A trier par ordre décroissant - 4 pts\n",
        "2. Quels sont les 3 symptômes les plus observés pour chaque entreprise de vaccins ? - 8 pts\n",
        "3. Quelle est le nombre moyen de symptômes pour les 20 vaccins les plus utilisés ? - 8 pts\n",
        "    - utilisez un barplot pour visualiser vos résultats, ordonné selon la popularité des vaccins de cette ensemble de données\n",
        "**Les sorties des questions 2 et 3 doivent contenir le NOM des symptômes, pas leur ID.**\n",
        "\n",
        "Aucun pré-traitement des données n'est ici attendu."
      ]
    },
    {
      "cell_type": "code",
      "execution_count": 25,
      "metadata": {
        "id": "mduVYG70d__G",
        "colab": {
          "base_uri": "https://localhost:8080/"
        },
        "collapsed": true,
        "outputId": "c15800c9-bf64-450e-d2f6-8b1162cc0ba7"
      },
      "outputs": [
        {
          "output_type": "stream",
          "name": "stdout",
          "text": [
            "+------------+------------------+\n",
            "|upper(STATE)|          MEAN_AGE|\n",
            "+------------+------------------+\n",
            "|          XV|              53.0|\n",
            "|          XB|              49.5|\n",
            "|          AS|           48.9683|\n",
            "|          FL| 48.70062404526923|\n",
            "|        NULL| 46.56892396607468|\n",
            "|          MN|44.854145968322506|\n",
            "|          KY|44.740111775528945|\n",
            "|          MI|44.572689699918925|\n",
            "|          AZ|44.181660384411686|\n",
            "|          PR| 43.76019668597601|\n",
            "|          CT| 43.63826995692177|\n",
            "|          NV| 43.56006325528701|\n",
            "|          DE| 43.51405103331928|\n",
            "|          IN|43.263884985299256|\n",
            "|          MT|  43.0678064324885|\n",
            "|          FM| 43.02538461538462|\n",
            "|          VT| 42.83776263736264|\n",
            "|          CO| 42.57963074436367|\n",
            "|          TN|42.429461943319815|\n",
            "|          SC|42.245218176686436|\n",
            "|          NY| 41.99645738324132|\n",
            "|          NJ| 41.96889025152699|\n",
            "|          AL|41.957945056538115|\n",
            "|          WI| 41.80816969860606|\n",
            "|          MO|41.601409043112525|\n",
            "|          WA|  41.4279053938252|\n",
            "|          MD| 41.34795341808746|\n",
            "|          NC| 41.28342889744694|\n",
            "|          CA|41.110647955905876|\n",
            "|          HI| 41.10653108851476|\n",
            "|          WV| 41.10172054501738|\n",
            "|          WY| 41.05104681164763|\n",
            "|          IL|40.958682020555116|\n",
            "|          SD| 40.90371924746744|\n",
            "|          OR| 40.88154553123473|\n",
            "|          PA|40.791347107704226|\n",
            "|          MA| 40.75588383902826|\n",
            "|          OH| 40.67127282221884|\n",
            "|          AR|40.525939793737784|\n",
            "|          RI|40.472753260675354|\n",
            "|          IA| 40.42984802867381|\n",
            "|          OK| 40.42577337265929|\n",
            "|          NH| 40.21643134643133|\n",
            "|          MS| 40.05793646591662|\n",
            "|          XL|              40.0|\n",
            "|          DC| 39.98613306085377|\n",
            "|          ME| 39.91859685520854|\n",
            "|          FR| 39.86027431212055|\n",
            "|          GA|39.808706672499426|\n",
            "|          VA| 39.77510538934122|\n",
            "|          TX|  39.7183618305109|\n",
            "|          ND| 39.21987626825043|\n",
            "|          NM|39.199892049188016|\n",
            "|          KS| 38.62527567324283|\n",
            "|          NE| 38.54104138398913|\n",
            "|          LA| 38.33501025721951|\n",
            "|          ID|38.132485826428244|\n",
            "|          QW|              37.0|\n",
            "|          UT| 36.27068635607322|\n",
            "|          AK| 35.90776215277778|\n",
            "|          QM|35.333333333333336|\n",
            "|          MH|33.859259259259254|\n",
            "|          MP|33.565373134328354|\n",
            "|          VI|30.530808625336928|\n",
            "|          PW|              28.8|\n",
            "|          GU|27.117235142118865|\n",
            "+------------+------------------+\n",
            "\n"
          ]
        }
      ],
      "source": [
        "\"\"\"\n",
        "TODO\n",
        "Mean age of patient by state, sorted by mean age\n",
        "\"\"\"\n",
        "\n",
        "spark.sql(\"\"\"\n",
        "  SELECT\n",
        "    upper(data.STATE),\n",
        "    mean(data.AGE_YRS) as MEAN_AGE\n",
        "  FROM DATA data  -- Alias DATA table as data\n",
        "  where data.AGE_YRS IS NOT NULL\n",
        "  GROUP BY upper(data.STATE)\n",
        "  ORDER BY MEAN_AGE DESC\n",
        "\"\"\").show(1000)"
      ]
    },
    {
      "cell_type": "code",
      "execution_count": 26,
      "metadata": {
        "id": "U4oaFriU93Qk",
        "colab": {
          "base_uri": "https://localhost:8080/"
        },
        "outputId": "3305e203-2837-428a-9be0-3ffa2509a989"
      },
      "outputs": [
        {
          "output_type": "stream",
          "name": "stdout",
          "text": [
            "+--------------------+--------------------+--------------------+--------------------+\n",
            "|            VAX_MANU|      RANK_1_SYMPTOM|      RANK_2_SYMPTOM|      RANK_3_SYMPTOM|\n",
            "+--------------------+--------------------+--------------------+--------------------+\n",
            "|     AVENTIS PASTEUR|            Asthenia|                Pain|             Pyrexia|\n",
            "|  BERNA BIOTECH, LTD|         Alcohol use|             Autopsy|               Death|\n",
            "| BERNA BIOTECH, LTD.|             Pyrexia|           Diarrhoea|            Headache|\n",
            "|                 BSI|Grand mal convulsion|              Nausea|  Enzyme abnormality|\n",
            "|CONNAUGHT LABORAT...|             Pyrexia|          Convulsion|           Infection|\n",
            "|      CONNAUGHT LTD.|             Pyrexia|          Convulsion|              Pallor|\n",
            "|         CSL LIMITED|             Pyrexia|            Vomiting|            Headache|\n",
            "|EMERGENT BIOSOLUT...| Injection site pain|             Pyrexia|Injection site er...|\n",
            "|      EVANS VACCINES|             Malaise|            Pruritus|    Medication error|\n",
            "|GLAXOSMITHKLINE B...|             Pyrexia|            Vomiting|              Pallor|\n",
            "|        INTERCELL AG|             Syncope|            Headache|        Paraesthesia|\n",
            "|LEDERLE LABORATORIES|             Pyrexia|           Infection|Angioneurotic oedema|\n",
            "|MASS. PUB HLTH BI...|             Pyrexia|              Apathy|            Pruritus|\n",
            "| MEDEVA PHARMA, LTD.|             Pyrexia|                Pain|        Paraesthesia|\n",
            "|MEDIMMUNE VACCINE...|             Pyrexia|               Cough|            Headache|\n",
            "|    MERCK & CO. INC.|             Pyrexia|            Headache|           Dizziness|\n",
            "|MICHIGAN DEPT PUB...|              Oedema| Myasthenic syndrome|      Vasodilatation|\n",
            "|NOVARTIS VACCINES...|             Pyrexia|            Vomiting|            Headache|\n",
            "|     ORGANON-TEKNIKA|          Skin ulcer|Injection site sw...|Anaphylactic reac...|\n",
            "|         PARKE-DAVIS|Personality disorder|            Insomnia|            Anorexia|\n",
            "|PASTEUR MERIEUX C...|            Myelitis|             Myalgia|   CSF test abnormal|\n",
            "|PASTEUR MERIEUX I...|             Pyrexia|            Asthenia|             Myalgia|\n",
            "|        PFIZER\\WYETH|             Pyrexia|              Crying|              Pallor|\n",
            "|PROTEIN SCIENCES ...| Respiratory failure|                NULL|                NULL|\n",
            "|      SANOFI PASTEUR|             Pyrexia|              Crying|              Pallor|\n",
            "|       SEQIRUS, INC.|             Pyrexia|           Dizziness|              Nausea|\n",
            "|  SMITHKLINE BEECHAM|             Pyrexia|Laboratory test a...|            Asthenia|\n",
            "|UNKNOWN MANUFACTURER|             Pyrexia|              Crying|            Vomiting|\n",
            "+--------------------+--------------------+--------------------+--------------------+\n",
            "\n"
          ]
        }
      ],
      "source": [
        "\"\"\"\n",
        "TODO\n",
        "Top 3 most observated symptoms of each company\n",
        "\"\"\"\n",
        "spark.sql(\"\"\"\n",
        "  SELECT\n",
        "    ranked_symptoms.VAX_MANU,\n",
        "    MAX(CASE WHEN ranked_symptoms.RANK = 1 THEN ranked_symptoms.SYMPTOM_NAME END) AS RANK_1_SYMPTOM,\n",
        "    MAX(CASE WHEN ranked_symptoms.RANK = 2 THEN ranked_symptoms.SYMPTOM_NAME END) AS RANK_2_SYMPTOM,\n",
        "    MAX(CASE WHEN ranked_symptoms.RANK = 3 THEN ranked_symptoms.SYMPTOM_NAME END) AS RANK_3_SYMPTOM\n",
        "  FROM (\n",
        "    SELECT\n",
        "      vax.VAX_MANU,  -- Manufacturer\n",
        "      symptoms.SYMPTOM_NAME,  -- Symptom name\n",
        "      COUNT(*) AS OBSERVATION_COUNT,  -- Count of observations\n",
        "      ROW_NUMBER() OVER (PARTITION BY vax.VAX_MANU ORDER BY COUNT(*) DESC) AS RANK\n",
        "    FROM OBSERVATIONS observ\n",
        "    INNER JOIN VAX vax ON vax.VAERS_ID = observ.VAERS_ID\n",
        "    INNER JOIN SYMPTOMS symptoms ON observ.SYMPTOM_ID = symptoms.SYMPTOM_ID\n",
        "    GROUP BY vax.VAX_MANU, symptoms.SYMPTOM_NAME\n",
        "  ) ranked_symptoms\n",
        "  WHERE ranked_symptoms.RANK <= 3\n",
        "  GROUP BY ranked_symptoms.VAX_MANU\n",
        "\"\"\").show(45)"
      ]
    },
    {
      "cell_type": "code",
      "source": [
        "\"\"\"\n",
        "TODO\n",
        "Average number of symptoms for the top 20 injected vaccine.\n",
        "\"\"\"\n",
        "\n",
        "spark.sql(\"\"\"\n",
        "  SELECT\n",
        "    AVG(num_symptoms) AS average_num_symptoms\n",
        "  FROM (\n",
        "    SELECT\n",
        "      vax.VAX_TYPE,\n",
        "      COUNT(DISTINCT observ.SYMPTOM_ID) AS num_symptoms\n",
        "    FROM VAX vax\n",
        "    INNER JOIN OBSERVATIONS observ ON observ.VAERS_ID = vax.VAERS_ID\n",
        "    WHERE vax.VAX_TYPE IN (\n",
        "      SELECT vax.VAX_TYPE\n",
        "      FROM VAX vax\n",
        "      GROUP BY vax.VAX_TYPE\n",
        "      ORDER BY COUNT(*) DESC\n",
        "      LIMIT 20\n",
        "    )\n",
        "    GROUP BY vax.VAX_TYPE\n",
        "  ) symptom_counts\n",
        "\"\"\").show()"
      ],
      "metadata": {
        "colab": {
          "base_uri": "https://localhost:8080/"
        },
        "id": "wrxHPMI4sFar",
        "outputId": "a4ea6754-5dcf-4380-bc74-7d6e55989da7"
      },
      "execution_count": 27,
      "outputs": [
        {
          "output_type": "stream",
          "name": "stdout",
          "text": [
            "+--------------------+\n",
            "|average_num_symptoms|\n",
            "+--------------------+\n",
            "|  2308.4736842105262|\n",
            "+--------------------+\n",
            "\n"
          ]
        }
      ]
    },
    {
      "cell_type": "markdown",
      "metadata": {
        "id": "PEWqTH1QMa0a"
      },
      "source": [
        "### 3.2 MBA pour les observations de 2024 (15 points)\n",
        "\n",
        "En utilisant les commandes du ``OBSERVATIONS_extract.csv``, créez un bloc de données où chaque ligne contient la liste des symptomes observés pour chaque patient, de manière similaire au GroceryDataset. Ensuite, exécutez l'algorithme MBA pour cet ensemble de transactions.\n",
        "Le format devra permettre d'appeler l'ensemble des méthodes précédemment implémentées.\n",
        "\n",
        "- Vous devez signaler le temps passé pour effectuer cette tâche.\n",
        "- La sortie doit contenir le nom des symptômes."
      ]
    },
    {
      "source": [
        "%%time\n",
        "\"\"\"\n",
        "TODO: create a query to create and struct the transactions\n",
        "\"\"\"\n",
        "list_symptoms = spark.sql(\"\"\"\n",
        "  SELECT\n",
        "    data.VAERS_ID as VAERS_id,\n",
        "    CONCAT_WS(', ', COLLECT_LIST(symp.SYMPTOM_NAME)) as transaction\n",
        "  FROM DATA\n",
        "  INNER JOIN OBSERVATIONS observ ON observ.VAERS_ID = data.VAERS_ID\n",
        "  INNER JOIN SYMPTOMS symp ON observ.SYMPTOM_ID = symp.SYMPTOM_ID\n",
        "  GROUP BY data.VAERS_ID ORDER BY data.VAERS_ID\n",
        "\"\"\")"
      ],
      "cell_type": "code",
      "metadata": {
        "colab": {
          "base_uri": "https://localhost:8080/"
        },
        "collapsed": true,
        "id": "K3hqBdiR9a8P",
        "outputId": "c721ded6-350e-40e3-be2c-57c03ad99156"
      },
      "execution_count": 28,
      "outputs": [
        {
          "output_type": "stream",
          "name": "stdout",
          "text": [
            "CPU times: user 3.1 ms, sys: 265 µs, total: 3.37 ms\n",
            "Wall time: 116 ms\n"
          ]
        }
      ]
    },
    {
      "cell_type": "markdown",
      "source": [
        "Attention, l'exécution de cellule-ci devrait prendre plusieurs dizaines de minutes, dépendamment de l'implémentation que vous avez codé."
      ],
      "metadata": {
        "id": "wJD-Ra-qp5QZ"
      }
    },
    {
      "cell_type": "code",
      "execution_count": 29,
      "metadata": {
        "id": "dewN0YUEMa0h",
        "colab": {
          "base_uri": "https://localhost:8080/"
        },
        "collapsed": true,
        "outputId": "7a38598e-6b0f-4640-ce3c-e80a144962ee"
      },
      "outputs": [
        {
          "output_type": "stream",
          "name": "stdout",
          "text": [
            "+------------------------------------------------------------------------------------------------------------------+-----------+\n",
            "|patterns                                                                                                          |occurrences|\n",
            "+------------------------------------------------------------------------------------------------------------------+-----------+\n",
            "|(\" 5'nucleotidase\", ' Activated partial thromboplastin time prolonged')                                           |1          |\n",
            "|(\" 5'nucleotidase\", ' Activated partial thromboplastin time prolonged', ' Alanine aminotransferase normal')       |1          |\n",
            "|(\" 5'nucleotidase\", ' Activated partial thromboplastin time prolonged', ' Antibody test negative')                |1          |\n",
            "|(\" 5'nucleotidase\", ' Activated partial thromboplastin time prolonged', ' Aspartate aminotransferase normal')     |1          |\n",
            "|(\" 5'nucleotidase\", ' Activated partial thromboplastin time prolonged', ' Bilirubin conjugated')                  |1          |\n",
            "|(\" 5'nucleotidase\", ' Activated partial thromboplastin time prolonged', ' Blood albumin normal')                  |1          |\n",
            "|(\" 5'nucleotidase\", ' Activated partial thromboplastin time prolonged', ' Blood bilirubin normal')                |1          |\n",
            "|(\" 5'nucleotidase\", ' Activated partial thromboplastin time prolonged', ' Blood bilirubin unconjugated increased')|1          |\n",
            "|(\" 5'nucleotidase\", ' Activated partial thromboplastin time prolonged', ' Blood cholinesterase increased')        |1          |\n",
            "|(\" 5'nucleotidase\", ' Activated partial thromboplastin time prolonged', ' Blood fibrinogen')                      |1          |\n",
            "|(\" 5'nucleotidase\", ' Activated partial thromboplastin time prolonged', ' Blood immunoglobulin A')                |1          |\n",
            "|(\" 5'nucleotidase\", ' Activated partial thromboplastin time prolonged', ' Blood immunoglobulin G')                |1          |\n",
            "|(\" 5'nucleotidase\", ' Activated partial thromboplastin time prolonged', ' Blood immunoglobulin M')                |1          |\n",
            "|(\" 5'nucleotidase\", ' Activated partial thromboplastin time prolonged', ' Blood pH decreased')                    |1          |\n",
            "|(\" 5'nucleotidase\", ' Activated partial thromboplastin time prolonged', ' C-reactive protein increased')          |1          |\n",
            "|(\" 5'nucleotidase\", ' Activated partial thromboplastin time prolonged', ' Cytomegalovirus test negative')         |1          |\n",
            "|(\" 5'nucleotidase\", ' Activated partial thromboplastin time prolonged', ' Fibrin D dimer')                        |1          |\n",
            "|(\" 5'nucleotidase\", ' Activated partial thromboplastin time prolonged', ' Gamma-glutamyltransferase increased')   |1          |\n",
            "|(\" 5'nucleotidase\", ' Activated partial thromboplastin time prolonged', ' Globulin')                              |1          |\n",
            "|(\" 5'nucleotidase\", ' Activated partial thromboplastin time prolonged', ' HIV antibody negative')                 |1          |\n",
            "|(\" 5'nucleotidase\", ' Activated partial thromboplastin time prolonged', ' Haemoglobin decreased')                 |1          |\n",
            "|(\" 5'nucleotidase\", ' Activated partial thromboplastin time prolonged', ' Hepatitis B core antibody')             |1          |\n",
            "|(\" 5'nucleotidase\", ' Activated partial thromboplastin time prolonged', ' Hepatitis B e antibody')                |1          |\n",
            "|(\" 5'nucleotidase\", ' Activated partial thromboplastin time prolonged', ' Hepatitis B e antigen negative')        |1          |\n",
            "|(\" 5'nucleotidase\", ' Activated partial thromboplastin time prolonged', ' Hepatitis B e antigen')                 |1          |\n",
            "|(\" 5'nucleotidase\", ' Activated partial thromboplastin time prolonged', ' Hepatitis B surface antibody positive') |1          |\n",
            "|(\" 5'nucleotidase\", ' Activated partial thromboplastin time prolonged', ' Hepatitis B surface antigen negative')  |1          |\n",
            "|(\" 5'nucleotidase\", ' Activated partial thromboplastin time prolonged', ' Hepatitis C virus test')                |1          |\n",
            "|(\" 5'nucleotidase\", ' Activated partial thromboplastin time prolonged', ' Herpes simplex serology negative')      |1          |\n",
            "|(\" 5'nucleotidase\", ' Activated partial thromboplastin time prolonged', ' Idiopathic thrombocytopenic purpura')   |1          |\n",
            "|(\" 5'nucleotidase\", ' Activated partial thromboplastin time prolonged', ' Immunoglobulin therapy')                |1          |\n",
            "|(\" 5'nucleotidase\", ' Activated partial thromboplastin time prolonged', ' International normalised ratio normal') |1          |\n",
            "|(\" 5'nucleotidase\", ' Activated partial thromboplastin time prolonged', ' Mycoplasma test')                       |1          |\n",
            "|(\" 5'nucleotidase\", ' Activated partial thromboplastin time prolonged', ' PCO2 decreased')                        |1          |\n",
            "|(\" 5'nucleotidase\", ' Activated partial thromboplastin time prolonged', ' Petechiae')                             |1          |\n",
            "|(\" 5'nucleotidase\", ' Activated partial thromboplastin time prolonged', ' Platelet count decreased')              |1          |\n",
            "|(\" 5'nucleotidase\", ' Activated partial thromboplastin time prolonged', ' Protein total normal')                  |1          |\n",
            "|(\" 5'nucleotidase\", ' Activated partial thromboplastin time prolonged', ' Prothrombin time shortened')            |1          |\n",
            "|(\" 5'nucleotidase\", ' Activated partial thromboplastin time prolonged', ' Red blood cell count decreased')        |1          |\n",
            "|(\" 5'nucleotidase\", ' Activated partial thromboplastin time prolonged', ' Rubella antibody negative')             |1          |\n",
            "|(\" 5'nucleotidase\", ' Activated partial thromboplastin time prolonged', ' Scan bone marrow abnormal')             |1          |\n",
            "|(\" 5'nucleotidase\", ' Activated partial thromboplastin time prolonged', ' Streptococcus test negative')           |1          |\n",
            "|(\" 5'nucleotidase\", ' Activated partial thromboplastin time prolonged', ' Thrombin time abnormal')                |1          |\n",
            "|(\" 5'nucleotidase\", ' Activated partial thromboplastin time prolonged', ' Total bile acids')                      |1          |\n",
            "|(\" 5'nucleotidase\", ' Activated partial thromboplastin time prolonged', ' Toxoplasma serology negative')          |1          |\n",
            "|(\" 5'nucleotidase\", ' Activated partial thromboplastin time prolonged', ' Treponema test negative')               |1          |\n",
            "|(\" 5'nucleotidase\", ' Activated partial thromboplastin time prolonged', 'White blood cell count normal')          |1          |\n",
            "|(\" 5'nucleotidase\", ' Alanine aminotransferase normal')                                                           |1          |\n",
            "|(\" 5'nucleotidase\", ' Alanine aminotransferase normal', ' Antibody test negative')                                |1          |\n",
            "|(\" 5'nucleotidase\", ' Alanine aminotransferase normal', ' Aspartate aminotransferase normal')                     |1          |\n",
            "+------------------------------------------------------------------------------------------------------------------+-----------+\n",
            "only showing top 50 rows\n",
            "\n",
            "CPU times: user 757 ms, sys: 87.2 ms, total: 844 ms\n",
            "Wall time: 2min 35s\n"
          ]
        }
      ],
      "source": [
        "%%time\n",
        "\"\"\"\n",
        "TODO: run the MBA algorithm and show the first 5 association rules\n",
        "\"\"\"\n",
        "\n",
        "symptoms_rdd = list_symptoms.rdd\n",
        "patterns_rdd = symptoms_rdd.flatMap(map_to_patterns)\n",
        "patterns_rdd.map(format_tuples).toDF(['patterns', 'occurrences']).sort(['patterns']).show(50, truncate = False)\n"
      ]
    },
    {
      "cell_type": "code",
      "source": [
        "combined_patterns_rdd = patterns_rdd.reduceByKey(reduce_patterns)\n",
        "combined_patterns_rdd.map(format_tuples).toDF(['patterns', 'combined_occurrences']).sort(['patterns']).show(50, truncate=False)"
      ],
      "metadata": {
        "colab": {
          "base_uri": "https://localhost:8080/"
        },
        "id": "BEo6XGQsSYvR",
        "outputId": "b1b892b3-0c9a-4707-ca65-cfaf546d72ed"
      },
      "execution_count": 30,
      "outputs": [
        {
          "output_type": "stream",
          "name": "stdout",
          "text": [
            "+------------------------------------------------------------------------------------------------------------------+--------------------+\n",
            "|patterns                                                                                                          |combined_occurrences|\n",
            "+------------------------------------------------------------------------------------------------------------------+--------------------+\n",
            "|(\" 5'nucleotidase\", ' Activated partial thromboplastin time prolonged')                                           |1                   |\n",
            "|(\" 5'nucleotidase\", ' Activated partial thromboplastin time prolonged', ' Alanine aminotransferase normal')       |1                   |\n",
            "|(\" 5'nucleotidase\", ' Activated partial thromboplastin time prolonged', ' Antibody test negative')                |1                   |\n",
            "|(\" 5'nucleotidase\", ' Activated partial thromboplastin time prolonged', ' Aspartate aminotransferase normal')     |1                   |\n",
            "|(\" 5'nucleotidase\", ' Activated partial thromboplastin time prolonged', ' Bilirubin conjugated')                  |1                   |\n",
            "|(\" 5'nucleotidase\", ' Activated partial thromboplastin time prolonged', ' Blood albumin normal')                  |1                   |\n",
            "|(\" 5'nucleotidase\", ' Activated partial thromboplastin time prolonged', ' Blood bilirubin normal')                |1                   |\n",
            "|(\" 5'nucleotidase\", ' Activated partial thromboplastin time prolonged', ' Blood bilirubin unconjugated increased')|1                   |\n",
            "|(\" 5'nucleotidase\", ' Activated partial thromboplastin time prolonged', ' Blood cholinesterase increased')        |1                   |\n",
            "|(\" 5'nucleotidase\", ' Activated partial thromboplastin time prolonged', ' Blood fibrinogen')                      |1                   |\n",
            "|(\" 5'nucleotidase\", ' Activated partial thromboplastin time prolonged', ' Blood immunoglobulin A')                |1                   |\n",
            "|(\" 5'nucleotidase\", ' Activated partial thromboplastin time prolonged', ' Blood immunoglobulin G')                |1                   |\n",
            "|(\" 5'nucleotidase\", ' Activated partial thromboplastin time prolonged', ' Blood immunoglobulin M')                |1                   |\n",
            "|(\" 5'nucleotidase\", ' Activated partial thromboplastin time prolonged', ' Blood pH decreased')                    |1                   |\n",
            "|(\" 5'nucleotidase\", ' Activated partial thromboplastin time prolonged', ' C-reactive protein increased')          |1                   |\n",
            "|(\" 5'nucleotidase\", ' Activated partial thromboplastin time prolonged', ' Cytomegalovirus test negative')         |1                   |\n",
            "|(\" 5'nucleotidase\", ' Activated partial thromboplastin time prolonged', ' Fibrin D dimer')                        |1                   |\n",
            "|(\" 5'nucleotidase\", ' Activated partial thromboplastin time prolonged', ' Gamma-glutamyltransferase increased')   |1                   |\n",
            "|(\" 5'nucleotidase\", ' Activated partial thromboplastin time prolonged', ' Globulin')                              |1                   |\n",
            "|(\" 5'nucleotidase\", ' Activated partial thromboplastin time prolonged', ' HIV antibody negative')                 |1                   |\n",
            "|(\" 5'nucleotidase\", ' Activated partial thromboplastin time prolonged', ' Haemoglobin decreased')                 |1                   |\n",
            "|(\" 5'nucleotidase\", ' Activated partial thromboplastin time prolonged', ' Hepatitis B core antibody')             |1                   |\n",
            "|(\" 5'nucleotidase\", ' Activated partial thromboplastin time prolonged', ' Hepatitis B e antibody')                |1                   |\n",
            "|(\" 5'nucleotidase\", ' Activated partial thromboplastin time prolonged', ' Hepatitis B e antigen negative')        |1                   |\n",
            "|(\" 5'nucleotidase\", ' Activated partial thromboplastin time prolonged', ' Hepatitis B e antigen')                 |1                   |\n",
            "|(\" 5'nucleotidase\", ' Activated partial thromboplastin time prolonged', ' Hepatitis B surface antibody positive') |1                   |\n",
            "|(\" 5'nucleotidase\", ' Activated partial thromboplastin time prolonged', ' Hepatitis B surface antigen negative')  |1                   |\n",
            "|(\" 5'nucleotidase\", ' Activated partial thromboplastin time prolonged', ' Hepatitis C virus test')                |1                   |\n",
            "|(\" 5'nucleotidase\", ' Activated partial thromboplastin time prolonged', ' Herpes simplex serology negative')      |1                   |\n",
            "|(\" 5'nucleotidase\", ' Activated partial thromboplastin time prolonged', ' Idiopathic thrombocytopenic purpura')   |1                   |\n",
            "|(\" 5'nucleotidase\", ' Activated partial thromboplastin time prolonged', ' Immunoglobulin therapy')                |1                   |\n",
            "|(\" 5'nucleotidase\", ' Activated partial thromboplastin time prolonged', ' International normalised ratio normal') |1                   |\n",
            "|(\" 5'nucleotidase\", ' Activated partial thromboplastin time prolonged', ' Mycoplasma test')                       |1                   |\n",
            "|(\" 5'nucleotidase\", ' Activated partial thromboplastin time prolonged', ' PCO2 decreased')                        |1                   |\n",
            "|(\" 5'nucleotidase\", ' Activated partial thromboplastin time prolonged', ' Petechiae')                             |1                   |\n",
            "|(\" 5'nucleotidase\", ' Activated partial thromboplastin time prolonged', ' Platelet count decreased')              |1                   |\n",
            "|(\" 5'nucleotidase\", ' Activated partial thromboplastin time prolonged', ' Protein total normal')                  |1                   |\n",
            "|(\" 5'nucleotidase\", ' Activated partial thromboplastin time prolonged', ' Prothrombin time shortened')            |1                   |\n",
            "|(\" 5'nucleotidase\", ' Activated partial thromboplastin time prolonged', ' Red blood cell count decreased')        |1                   |\n",
            "|(\" 5'nucleotidase\", ' Activated partial thromboplastin time prolonged', ' Rubella antibody negative')             |1                   |\n",
            "|(\" 5'nucleotidase\", ' Activated partial thromboplastin time prolonged', ' Scan bone marrow abnormal')             |1                   |\n",
            "|(\" 5'nucleotidase\", ' Activated partial thromboplastin time prolonged', ' Streptococcus test negative')           |1                   |\n",
            "|(\" 5'nucleotidase\", ' Activated partial thromboplastin time prolonged', ' Thrombin time abnormal')                |1                   |\n",
            "|(\" 5'nucleotidase\", ' Activated partial thromboplastin time prolonged', ' Total bile acids')                      |1                   |\n",
            "|(\" 5'nucleotidase\", ' Activated partial thromboplastin time prolonged', ' Toxoplasma serology negative')          |1                   |\n",
            "|(\" 5'nucleotidase\", ' Activated partial thromboplastin time prolonged', ' Treponema test negative')               |1                   |\n",
            "|(\" 5'nucleotidase\", ' Activated partial thromboplastin time prolonged', 'White blood cell count normal')          |1                   |\n",
            "|(\" 5'nucleotidase\", ' Alanine aminotransferase normal')                                                           |1                   |\n",
            "|(\" 5'nucleotidase\", ' Alanine aminotransferase normal', ' Antibody test negative')                                |1                   |\n",
            "|(\" 5'nucleotidase\", ' Alanine aminotransferase normal', ' Aspartate aminotransferase normal')                     |1                   |\n",
            "+------------------------------------------------------------------------------------------------------------------+--------------------+\n",
            "only showing top 50 rows\n",
            "\n"
          ]
        }
      ]
    },
    {
      "cell_type": "code",
      "source": [
        "\n",
        "subpatterns_rdd = combined_patterns_rdd.flatMap(map_to_subpatterns)\n",
        "subpatterns_rdd.map(format_tuples).toDF(['subpatterns', 'rules']).sort(['subpatterns']).show(50, truncate=False)\n",
        "\n"
      ],
      "metadata": {
        "colab": {
          "base_uri": "https://localhost:8080/"
        },
        "id": "ad2DoTfERon2",
        "outputId": "0b564d46-dac5-4f71-cda8-c1b00664e9a5",
        "collapsed": true
      },
      "execution_count": 31,
      "outputs": [
        {
          "output_type": "stream",
          "name": "stdout",
          "text": [
            "+-------------------------------------------------------------------------------------------------------------+----------------------------------------------+\n",
            "|subpatterns                                                                                                  |rules                                         |\n",
            "+-------------------------------------------------------------------------------------------------------------+----------------------------------------------+\n",
            "|(\" 5'nucleotidase\", ' Activated partial thromboplastin time prolonged')                                      |(' Hepatitis B e antigen', 1)                 |\n",
            "|(\" 5'nucleotidase\", ' Activated partial thromboplastin time prolonged')                                      |(' Platelet count decreased', 1)              |\n",
            "|(\" 5'nucleotidase\", ' Activated partial thromboplastin time prolonged')                                      |(' Gamma-glutamyltransferase increased', 1)   |\n",
            "|(\" 5'nucleotidase\", ' Activated partial thromboplastin time prolonged')                                      |(' Aspartate aminotransferase normal', 1)     |\n",
            "|(\" 5'nucleotidase\", ' Activated partial thromboplastin time prolonged')                                      |(' Treponema test negative', 1)               |\n",
            "|(\" 5'nucleotidase\", ' Activated partial thromboplastin time prolonged')                                      |(' PCO2 decreased', 1)                        |\n",
            "|(\" 5'nucleotidase\", ' Activated partial thromboplastin time prolonged')                                      |(' Immunoglobulin therapy', 1)                |\n",
            "|(\" 5'nucleotidase\", ' Activated partial thromboplastin time prolonged')                                      |(' Scan bone marrow abnormal', 1)             |\n",
            "|(\" 5'nucleotidase\", ' Activated partial thromboplastin time prolonged')                                      |(' Blood immunoglobulin G', 1)                |\n",
            "|(\" 5'nucleotidase\", ' Activated partial thromboplastin time prolonged')                                      |(' Idiopathic thrombocytopenic purpura', 1)   |\n",
            "|(\" 5'nucleotidase\", ' Activated partial thromboplastin time prolonged')                                      |(' Total bile acids', 1)                      |\n",
            "|(\" 5'nucleotidase\", ' Activated partial thromboplastin time prolonged')                                      |(' Toxoplasma serology negative', 1)          |\n",
            "|(\" 5'nucleotidase\", ' Activated partial thromboplastin time prolonged')                                      |(' Fibrin D dimer', 1)                        |\n",
            "|(\" 5'nucleotidase\", ' Activated partial thromboplastin time prolonged')                                      |(' Hepatitis B surface antibody positive', 1) |\n",
            "|(\" 5'nucleotidase\", ' Activated partial thromboplastin time prolonged')                                      |(' Globulin', 1)                              |\n",
            "|(\" 5'nucleotidase\", ' Activated partial thromboplastin time prolonged')                                      |(' Hepatitis B core antibody', 1)             |\n",
            "|(\" 5'nucleotidase\", ' Activated partial thromboplastin time prolonged')                                      |(' Alanine aminotransferase normal', 1)       |\n",
            "|(\" 5'nucleotidase\", ' Activated partial thromboplastin time prolonged')                                      |(' Blood immunoglobulin M', 1)                |\n",
            "|(\" 5'nucleotidase\", ' Activated partial thromboplastin time prolonged')                                      |(None, 1)                                     |\n",
            "|(\" 5'nucleotidase\", ' Activated partial thromboplastin time prolonged')                                      |(' Prothrombin time shortened', 1)            |\n",
            "|(\" 5'nucleotidase\", ' Activated partial thromboplastin time prolonged')                                      |(' Antibody test negative', 1)                |\n",
            "|(\" 5'nucleotidase\", ' Activated partial thromboplastin time prolonged')                                      |(' Haemoglobin decreased', 1)                 |\n",
            "|(\" 5'nucleotidase\", ' Activated partial thromboplastin time prolonged')                                      |(' Hepatitis B surface antigen negative', 1)  |\n",
            "|(\" 5'nucleotidase\", ' Activated partial thromboplastin time prolonged')                                      |('White blood cell count normal', 1)          |\n",
            "|(\" 5'nucleotidase\", ' Activated partial thromboplastin time prolonged')                                      |(' Red blood cell count decreased', 1)        |\n",
            "|(\" 5'nucleotidase\", ' Activated partial thromboplastin time prolonged')                                      |(' Rubella antibody negative', 1)             |\n",
            "|(\" 5'nucleotidase\", ' Activated partial thromboplastin time prolonged')                                      |(' International normalised ratio normal', 1) |\n",
            "|(\" 5'nucleotidase\", ' Activated partial thromboplastin time prolonged')                                      |(' Bilirubin conjugated', 1)                  |\n",
            "|(\" 5'nucleotidase\", ' Activated partial thromboplastin time prolonged')                                      |(' Blood fibrinogen', 1)                      |\n",
            "|(\" 5'nucleotidase\", ' Activated partial thromboplastin time prolonged')                                      |(' Herpes simplex serology negative', 1)      |\n",
            "|(\" 5'nucleotidase\", ' Activated partial thromboplastin time prolonged')                                      |(' Blood albumin normal', 1)                  |\n",
            "|(\" 5'nucleotidase\", ' Activated partial thromboplastin time prolonged')                                      |(' Thrombin time abnormal', 1)                |\n",
            "|(\" 5'nucleotidase\", ' Activated partial thromboplastin time prolonged')                                      |(' Blood bilirubin unconjugated increased', 1)|\n",
            "|(\" 5'nucleotidase\", ' Activated partial thromboplastin time prolonged')                                      |(' Hepatitis B e antibody', 1)                |\n",
            "|(\" 5'nucleotidase\", ' Activated partial thromboplastin time prolonged')                                      |(' Mycoplasma test', 1)                       |\n",
            "|(\" 5'nucleotidase\", ' Activated partial thromboplastin time prolonged')                                      |(' HIV antibody negative', 1)                 |\n",
            "|(\" 5'nucleotidase\", ' Activated partial thromboplastin time prolonged')                                      |(' Blood pH decreased', 1)                    |\n",
            "|(\" 5'nucleotidase\", ' Activated partial thromboplastin time prolonged')                                      |(' Hepatitis B e antigen negative', 1)        |\n",
            "|(\" 5'nucleotidase\", ' Activated partial thromboplastin time prolonged')                                      |(' Protein total normal', 1)                  |\n",
            "|(\" 5'nucleotidase\", ' Activated partial thromboplastin time prolonged')                                      |(' C-reactive protein increased', 1)          |\n",
            "|(\" 5'nucleotidase\", ' Activated partial thromboplastin time prolonged')                                      |(' Blood immunoglobulin A', 1)                |\n",
            "|(\" 5'nucleotidase\", ' Activated partial thromboplastin time prolonged')                                      |(' Streptococcus test negative', 1)           |\n",
            "|(\" 5'nucleotidase\", ' Activated partial thromboplastin time prolonged')                                      |(' Hepatitis C virus test', 1)                |\n",
            "|(\" 5'nucleotidase\", ' Activated partial thromboplastin time prolonged')                                      |(' Blood bilirubin normal', 1)                |\n",
            "|(\" 5'nucleotidase\", ' Activated partial thromboplastin time prolonged')                                      |(' Petechiae', 1)                             |\n",
            "|(\" 5'nucleotidase\", ' Activated partial thromboplastin time prolonged')                                      |(' Cytomegalovirus test negative', 1)         |\n",
            "|(\" 5'nucleotidase\", ' Activated partial thromboplastin time prolonged')                                      |(' Blood cholinesterase increased', 1)        |\n",
            "|(\" 5'nucleotidase\", ' Activated partial thromboplastin time prolonged', ' Alanine aminotransferase normal')  |(None, 1)                                     |\n",
            "|(\" 5'nucleotidase\", ' Activated partial thromboplastin time prolonged', ' Antibody test negative')           |(None, 1)                                     |\n",
            "|(\" 5'nucleotidase\", ' Activated partial thromboplastin time prolonged', ' Aspartate aminotransferase normal')|(None, 1)                                     |\n",
            "+-------------------------------------------------------------------------------------------------------------+----------------------------------------------+\n",
            "only showing top 50 rows\n",
            "\n"
          ]
        }
      ]
    },
    {
      "cell_type": "code",
      "source": [
        "combined_rules = subpatterns_rdd.reduceByKey(lambda x, y: x + [y] if isinstance(x, list) else [x] + [y]).mapValues(lambda x: [x] if not isinstance(x, list) else x)\n",
        "combined_rules = combined_rules.flatMapValues(lambda x: x)\n",
        "combined_rules.map(format_tuples).toDF(['subpatterns', 'combined_rules']).sort(['subpatterns']).show(50, truncate=False)\n"
      ],
      "metadata": {
        "id": "x_ICd27KSi58",
        "colab": {
          "base_uri": "https://localhost:8080/"
        },
        "outputId": "65b56cfa-adcb-4a54-83e3-915b1bc9cc3d"
      },
      "execution_count": 32,
      "outputs": [
        {
          "output_type": "stream",
          "name": "stdout",
          "text": [
            "+------------------------------------------------------------------------------------------------------------------+-------------------------------------------------------------------------------------------------------------------------------------------------------------------------------------------------------------------------------------------------------------------------------------------------------------------------------------------------------------------------------------------------------------------------------------------------------------------------------------------------------------------------------------------------------------------------------------------------------------------------------------------------------------------------------------------------------------+\n",
            "|subpatterns                                                                                                       |combined_rules                                                                                                                                                                                                                                                                                                                                                                                                                                                                                                                                                                                                                                                                                               |\n",
            "+------------------------------------------------------------------------------------------------------------------+-------------------------------------------------------------------------------------------------------------------------------------------------------------------------------------------------------------------------------------------------------------------------------------------------------------------------------------------------------------------------------------------------------------------------------------------------------------------------------------------------------------------------------------------------------------------------------------------------------------------------------------------------------------------------------------------------------------+\n",
            "|(\" 5'nucleotidase\", ' Activated partial thromboplastin time prolonged')                                           |(' Cytomegalovirus test negative', 1)                                                                                                                                                                                                                                                                                                                                                                                                                                                                                                                                                                                                                                                                        |\n",
            "|(\" 5'nucleotidase\", ' Activated partial thromboplastin time prolonged')                                           |(' Prothrombin time shortened', 1)                                                                                                                                                                                                                                                                                                                                                                                                                                                                                                                                                                                                                                                                           |\n",
            "|(\" 5'nucleotidase\", ' Activated partial thromboplastin time prolonged')                                           |(' Blood cholinesterase increased', 1)                                                                                                                                                                                                                                                                                                                                                                                                                                                                                                                                                                                                                                                                       |\n",
            "|(\" 5'nucleotidase\", ' Activated partial thromboplastin time prolonged')                                           |(' PCO2 decreased', 1)                                                                                                                                                                                                                                                                                                                                                                                                                                                                                                                                                                                                                                                                                       |\n",
            "|(\" 5'nucleotidase\", ' Activated partial thromboplastin time prolonged')                                           |[(' Idiopathic thrombocytopenic purpura', 1), (' Scan bone marrow abnormal', 1)]                                                                                                                                                                                                                                                                                                                                                                                                                                                                                                                                                                                                                             |\n",
            "|(\" 5'nucleotidase\", ' Activated partial thromboplastin time prolonged')                                           |[(' Toxoplasma serology negative', 1), (' Hepatitis B surface antibody positive', 1)]                                                                                                                                                                                                                                                                                                                                                                                                                                                                                                                                                                                                                        |\n",
            "|(\" 5'nucleotidase\", ' Activated partial thromboplastin time prolonged')                                           |(' Blood immunoglobulin M', 1)                                                                                                                                                                                                                                                                                                                                                                                                                                                                                                                                                                                                                                                                               |\n",
            "|(\" 5'nucleotidase\", ' Activated partial thromboplastin time prolonged')                                           |[(' Hepatitis B core antibody', 1), ('White blood cell count normal', 1)]                                                                                                                                                                                                                                                                                                                                                                                                                                                                                                                                                                                                                                    |\n",
            "|(\" 5'nucleotidase\", ' Activated partial thromboplastin time prolonged')                                           |(' Platelet count decreased', 1)                                                                                                                                                                                                                                                                                                                                                                                                                                                                                                                                                                                                                                                                             |\n",
            "|(\" 5'nucleotidase\", ' Activated partial thromboplastin time prolonged')                                           |[(' Rubella antibody negative', 1), (' Haemoglobin decreased', 1)]                                                                                                                                                                                                                                                                                                                                                                                                                                                                                                                                                                                                                                           |\n",
            "|(\" 5'nucleotidase\", ' Activated partial thromboplastin time prolonged')                                           |[(' Herpes simplex serology negative', 1), (' Thrombin time abnormal', 1), (' Bilirubin conjugated', 1)]                                                                                                                                                                                                                                                                                                                                                                                                                                                                                                                                                                                                     |\n",
            "|(\" 5'nucleotidase\", ' Activated partial thromboplastin time prolonged')                                           |[(' Hepatitis B e antigen negative', 1), (' HIV antibody negative', 1)]                                                                                                                                                                                                                                                                                                                                                                                                                                                                                                                                                                                                                                      |\n",
            "|(\" 5'nucleotidase\", ' Activated partial thromboplastin time prolonged')                                           |[(' Streptococcus test negative', 1), (' Hepatitis B e antibody', 1), (' C-reactive protein increased', 1)]                                                                                                                                                                                                                                                                                                                                                                                                                                                                                                                                                                                                  |\n",
            "|(\" 5'nucleotidase\", ' Activated partial thromboplastin time prolonged')                                           |[(' Aspartate aminotransferase normal', 1), (' Petechiae', 1)]                                                                                                                                                                                                                                                                                                                                                                                                                                                                                                                                                                                                                                               |\n",
            "|(\" 5'nucleotidase\", ' Activated partial thromboplastin time prolonged')                                           |(' Hepatitis C virus test', 1)                                                                                                                                                                                                                                                                                                                                                                                                                                                                                                                                                                                                                                                                               |\n",
            "|(\" 5'nucleotidase\", ' Activated partial thromboplastin time prolonged')                                           |(' Blood bilirubin normal', 1)                                                                                                                                                                                                                                                                                                                                                                                                                                                                                                                                                                                                                                                                               |\n",
            "|(\" 5'nucleotidase\", ' Activated partial thromboplastin time prolonged')                                           |[(' Total bile acids', 1), (' Treponema test negative', 1), (' Fibrin D dimer', 1), (' Globulin', 1), [(' Alanine aminotransferase normal', 1), (None, 1), (' Antibody test negative', 1)], (' Red blood cell count decreased', 1), (' International normalised ratio normal', 1), [(' Blood fibrinogen', 1), (' Blood albumin normal', 1)], [(' Blood bilirubin unconjugated increased', 1), (' Mycoplasma test', 1), (' Blood pH decreased', 1)], (' Hepatitis B surface antigen negative', 1), (' Protein total normal', 1), (' Blood immunoglobulin A', 1), [(' Hepatitis B e antigen', 1), (' Immunoglobulin therapy', 1)], (' Gamma-glutamyltransferase increased', 1), (' Blood immunoglobulin G', 1)]|\n",
            "|(\" 5'nucleotidase\", ' Activated partial thromboplastin time prolonged', ' Alanine aminotransferase normal')       |(None, 1)                                                                                                                                                                                                                                                                                                                                                                                                                                                                                                                                                                                                                                                                                                    |\n",
            "|(\" 5'nucleotidase\", ' Activated partial thromboplastin time prolonged', ' Antibody test negative')                |(None, 1)                                                                                                                                                                                                                                                                                                                                                                                                                                                                                                                                                                                                                                                                                                    |\n",
            "|(\" 5'nucleotidase\", ' Activated partial thromboplastin time prolonged', ' Aspartate aminotransferase normal')     |(None, 1)                                                                                                                                                                                                                                                                                                                                                                                                                                                                                                                                                                                                                                                                                                    |\n",
            "|(\" 5'nucleotidase\", ' Activated partial thromboplastin time prolonged', ' Bilirubin conjugated')                  |(None, 1)                                                                                                                                                                                                                                                                                                                                                                                                                                                                                                                                                                                                                                                                                                    |\n",
            "|(\" 5'nucleotidase\", ' Activated partial thromboplastin time prolonged', ' Blood albumin normal')                  |(None, 1)                                                                                                                                                                                                                                                                                                                                                                                                                                                                                                                                                                                                                                                                                                    |\n",
            "|(\" 5'nucleotidase\", ' Activated partial thromboplastin time prolonged', ' Blood bilirubin normal')                |(None, 1)                                                                                                                                                                                                                                                                                                                                                                                                                                                                                                                                                                                                                                                                                                    |\n",
            "|(\" 5'nucleotidase\", ' Activated partial thromboplastin time prolonged', ' Blood bilirubin unconjugated increased')|(None, 1)                                                                                                                                                                                                                                                                                                                                                                                                                                                                                                                                                                                                                                                                                                    |\n",
            "|(\" 5'nucleotidase\", ' Activated partial thromboplastin time prolonged', ' Blood cholinesterase increased')        |(None, 1)                                                                                                                                                                                                                                                                                                                                                                                                                                                                                                                                                                                                                                                                                                    |\n",
            "|(\" 5'nucleotidase\", ' Activated partial thromboplastin time prolonged', ' Blood fibrinogen')                      |(None, 1)                                                                                                                                                                                                                                                                                                                                                                                                                                                                                                                                                                                                                                                                                                    |\n",
            "|(\" 5'nucleotidase\", ' Activated partial thromboplastin time prolonged', ' Blood immunoglobulin A')                |(None, 1)                                                                                                                                                                                                                                                                                                                                                                                                                                                                                                                                                                                                                                                                                                    |\n",
            "|(\" 5'nucleotidase\", ' Activated partial thromboplastin time prolonged', ' Blood immunoglobulin G')                |(None, 1)                                                                                                                                                                                                                                                                                                                                                                                                                                                                                                                                                                                                                                                                                                    |\n",
            "|(\" 5'nucleotidase\", ' Activated partial thromboplastin time prolonged', ' Blood immunoglobulin M')                |(None, 1)                                                                                                                                                                                                                                                                                                                                                                                                                                                                                                                                                                                                                                                                                                    |\n",
            "|(\" 5'nucleotidase\", ' Activated partial thromboplastin time prolonged', ' Blood pH decreased')                    |(None, 1)                                                                                                                                                                                                                                                                                                                                                                                                                                                                                                                                                                                                                                                                                                    |\n",
            "|(\" 5'nucleotidase\", ' Activated partial thromboplastin time prolonged', ' C-reactive protein increased')          |(None, 1)                                                                                                                                                                                                                                                                                                                                                                                                                                                                                                                                                                                                                                                                                                    |\n",
            "|(\" 5'nucleotidase\", ' Activated partial thromboplastin time prolonged', ' Cytomegalovirus test negative')         |(None, 1)                                                                                                                                                                                                                                                                                                                                                                                                                                                                                                                                                                                                                                                                                                    |\n",
            "|(\" 5'nucleotidase\", ' Activated partial thromboplastin time prolonged', ' Fibrin D dimer')                        |(None, 1)                                                                                                                                                                                                                                                                                                                                                                                                                                                                                                                                                                                                                                                                                                    |\n",
            "|(\" 5'nucleotidase\", ' Activated partial thromboplastin time prolonged', ' Gamma-glutamyltransferase increased')   |(None, 1)                                                                                                                                                                                                                                                                                                                                                                                                                                                                                                                                                                                                                                                                                                    |\n",
            "|(\" 5'nucleotidase\", ' Activated partial thromboplastin time prolonged', ' Globulin')                              |(None, 1)                                                                                                                                                                                                                                                                                                                                                                                                                                                                                                                                                                                                                                                                                                    |\n",
            "|(\" 5'nucleotidase\", ' Activated partial thromboplastin time prolonged', ' HIV antibody negative')                 |(None, 1)                                                                                                                                                                                                                                                                                                                                                                                                                                                                                                                                                                                                                                                                                                    |\n",
            "|(\" 5'nucleotidase\", ' Activated partial thromboplastin time prolonged', ' Haemoglobin decreased')                 |(None, 1)                                                                                                                                                                                                                                                                                                                                                                                                                                                                                                                                                                                                                                                                                                    |\n",
            "|(\" 5'nucleotidase\", ' Activated partial thromboplastin time prolonged', ' Hepatitis B core antibody')             |(None, 1)                                                                                                                                                                                                                                                                                                                                                                                                                                                                                                                                                                                                                                                                                                    |\n",
            "|(\" 5'nucleotidase\", ' Activated partial thromboplastin time prolonged', ' Hepatitis B e antibody')                |(None, 1)                                                                                                                                                                                                                                                                                                                                                                                                                                                                                                                                                                                                                                                                                                    |\n",
            "|(\" 5'nucleotidase\", ' Activated partial thromboplastin time prolonged', ' Hepatitis B e antigen negative')        |(None, 1)                                                                                                                                                                                                                                                                                                                                                                                                                                                                                                                                                                                                                                                                                                    |\n",
            "|(\" 5'nucleotidase\", ' Activated partial thromboplastin time prolonged', ' Hepatitis B e antigen')                 |(None, 1)                                                                                                                                                                                                                                                                                                                                                                                                                                                                                                                                                                                                                                                                                                    |\n",
            "|(\" 5'nucleotidase\", ' Activated partial thromboplastin time prolonged', ' Hepatitis B surface antibody positive') |(None, 1)                                                                                                                                                                                                                                                                                                                                                                                                                                                                                                                                                                                                                                                                                                    |\n",
            "|(\" 5'nucleotidase\", ' Activated partial thromboplastin time prolonged', ' Hepatitis B surface antigen negative')  |(None, 1)                                                                                                                                                                                                                                                                                                                                                                                                                                                                                                                                                                                                                                                                                                    |\n",
            "|(\" 5'nucleotidase\", ' Activated partial thromboplastin time prolonged', ' Hepatitis C virus test')                |(None, 1)                                                                                                                                                                                                                                                                                                                                                                                                                                                                                                                                                                                                                                                                                                    |\n",
            "|(\" 5'nucleotidase\", ' Activated partial thromboplastin time prolonged', ' Herpes simplex serology negative')      |(None, 1)                                                                                                                                                                                                                                                                                                                                                                                                                                                                                                                                                                                                                                                                                                    |\n",
            "|(\" 5'nucleotidase\", ' Activated partial thromboplastin time prolonged', ' Idiopathic thrombocytopenic purpura')   |(None, 1)                                                                                                                                                                                                                                                                                                                                                                                                                                                                                                                                                                                                                                                                                                    |\n",
            "|(\" 5'nucleotidase\", ' Activated partial thromboplastin time prolonged', ' Immunoglobulin therapy')                |(None, 1)                                                                                                                                                                                                                                                                                                                                                                                                                                                                                                                                                                                                                                                                                                    |\n",
            "|(\" 5'nucleotidase\", ' Activated partial thromboplastin time prolonged', ' International normalised ratio normal') |(None, 1)                                                                                                                                                                                                                                                                                                                                                                                                                                                                                                                                                                                                                                                                                                    |\n",
            "|(\" 5'nucleotidase\", ' Activated partial thromboplastin time prolonged', ' Mycoplasma test')                       |(None, 1)                                                                                                                                                                                                                                                                                                                                                                                                                                                                                                                                                                                                                                                                                                    |\n",
            "|(\" 5'nucleotidase\", ' Activated partial thromboplastin time prolonged', ' PCO2 decreased')                        |(None, 1)                                                                                                                                                                                                                                                                                                                                                                                                                                                                                                                                                                                                                                                                                                    |\n",
            "+------------------------------------------------------------------------------------------------------------------+-------------------------------------------------------------------------------------------------------------------------------------------------------------------------------------------------------------------------------------------------------------------------------------------------------------------------------------------------------------------------------------------------------------------------------------------------------------------------------------------------------------------------------------------------------------------------------------------------------------------------------------------------------------------------------------------------------------+\n",
            "only showing top 50 rows\n",
            "\n"
          ]
        }
      ]
    },
    {
      "cell_type": "code",
      "source": [
        "assoc_rules = combined_rules.flatMap(map_to_assoc_rules)\n",
        "assoc_rules.map(format_tuples).toDF(['patterns', 'association_rules']).sort(['patterns']).show(50, truncate=False)\n"
      ],
      "metadata": {
        "colab": {
          "base_uri": "https://localhost:8080/",
          "height": 1000
        },
        "id": "JQfwzp09SuoK",
        "outputId": "597f08d7-0e08-42d6-f437-5f912685aab0"
      },
      "execution_count": 33,
      "outputs": [
        {
          "output_type": "error",
          "ename": "Py4JJavaError",
          "evalue": "An error occurred while calling z:org.apache.spark.api.python.PythonRDD.runJob.\n: org.apache.spark.SparkException: Job aborted due to stage failure: Task 0 in stage 131.0 failed 1 times, most recent failure: Lost task 0.0 in stage 131.0 (TID 101) (058e098d8e24 executor driver): org.apache.spark.api.python.PythonException: Traceback (most recent call last):\n  File \"/usr/local/lib/python3.10/dist-packages/pyspark/python/lib/pyspark.zip/pyspark/worker.py\", line 1247, in main\n    process()\n  File \"/usr/local/lib/python3.10/dist-packages/pyspark/python/lib/pyspark.zip/pyspark/worker.py\", line 1239, in process\n    serializer.dump_stream(out_iter, outfile)\n  File \"/usr/local/lib/python3.10/dist-packages/pyspark/python/lib/pyspark.zip/pyspark/serializers.py\", line 274, in dump_stream\n    vs = list(itertools.islice(iterator, batch))\n  File \"/usr/local/lib/python3.10/dist-packages/pyspark/rdd.py\", line 2849, in takeUpToNumLeft\n    yield next(iterator)\n  File \"<ipython-input-17-820240083f6c>\", line 5, in map_to_assoc_rules\nTypeError: 'int' object is not subscriptable\n\n\tat org.apache.spark.api.python.BasePythonRunner$ReaderIterator.handlePythonException(PythonRunner.scala:572)\n\tat org.apache.spark.api.python.PythonRunner$$anon$3.read(PythonRunner.scala:784)\n\tat org.apache.spark.api.python.PythonRunner$$anon$3.read(PythonRunner.scala:766)\n\tat org.apache.spark.api.python.BasePythonRunner$ReaderIterator.hasNext(PythonRunner.scala:525)\n\tat org.apache.spark.InterruptibleIterator.hasNext(InterruptibleIterator.scala:37)\n\tat scala.collection.Iterator.foreach(Iterator.scala:943)\n\tat scala.collection.Iterator.foreach$(Iterator.scala:943)\n\tat org.apache.spark.InterruptibleIterator.foreach(InterruptibleIterator.scala:28)\n\tat scala.collection.generic.Growable.$plus$plus$eq(Growable.scala:62)\n\tat scala.collection.generic.Growable.$plus$plus$eq$(Growable.scala:53)\n\tat scala.collection.mutable.ArrayBuffer.$plus$plus$eq(ArrayBuffer.scala:105)\n\tat scala.collection.mutable.ArrayBuffer.$plus$plus$eq(ArrayBuffer.scala:49)\n\tat scala.collection.TraversableOnce.to(TraversableOnce.scala:366)\n\tat scala.collection.TraversableOnce.to$(TraversableOnce.scala:364)\n\tat org.apache.spark.InterruptibleIterator.to(InterruptibleIterator.scala:28)\n\tat scala.collection.TraversableOnce.toBuffer(TraversableOnce.scala:358)\n\tat scala.collection.TraversableOnce.toBuffer$(TraversableOnce.scala:358)\n\tat org.apache.spark.InterruptibleIterator.toBuffer(InterruptibleIterator.scala:28)\n\tat scala.collection.TraversableOnce.toArray(TraversableOnce.scala:345)\n\tat scala.collection.TraversableOnce.toArray$(TraversableOnce.scala:339)\n\tat org.apache.spark.InterruptibleIterator.toArray(InterruptibleIterator.scala:28)\n\tat org.apache.spark.api.python.PythonRDD$.$anonfun$runJob$1(PythonRDD.scala:181)\n\tat org.apache.spark.SparkContext.$anonfun$runJob$5(SparkContext.scala:2433)\n\tat org.apache.spark.scheduler.ResultTask.runTask(ResultTask.scala:93)\n\tat org.apache.spark.TaskContext.runTaskWithListeners(TaskContext.scala:166)\n\tat org.apache.spark.scheduler.Task.run(Task.scala:141)\n\tat org.apache.spark.executor.Executor$TaskRunner.$anonfun$run$4(Executor.scala:620)\n\tat org.apache.spark.util.SparkErrorUtils.tryWithSafeFinally(SparkErrorUtils.scala:64)\n\tat org.apache.spark.util.SparkErrorUtils.tryWithSafeFinally$(SparkErrorUtils.scala:61)\n\tat org.apache.spark.util.Utils$.tryWithSafeFinally(Utils.scala:94)\n\tat org.apache.spark.executor.Executor$TaskRunner.run(Executor.scala:623)\n\tat java.base/java.util.concurrent.ThreadPoolExecutor.runWorker(ThreadPoolExecutor.java:1136)\n\tat java.base/java.util.concurrent.ThreadPoolExecutor$Worker.run(ThreadPoolExecutor.java:635)\n\tat java.base/java.lang.Thread.run(Thread.java:840)\n\nDriver stacktrace:\n\tat org.apache.spark.scheduler.DAGScheduler.failJobAndIndependentStages(DAGScheduler.scala:2856)\n\tat org.apache.spark.scheduler.DAGScheduler.$anonfun$abortStage$2(DAGScheduler.scala:2792)\n\tat org.apache.spark.scheduler.DAGScheduler.$anonfun$abortStage$2$adapted(DAGScheduler.scala:2791)\n\tat scala.collection.mutable.ResizableArray.foreach(ResizableArray.scala:62)\n\tat scala.collection.mutable.ResizableArray.foreach$(ResizableArray.scala:55)\n\tat scala.collection.mutable.ArrayBuffer.foreach(ArrayBuffer.scala:49)\n\tat org.apache.spark.scheduler.DAGScheduler.abortStage(DAGScheduler.scala:2791)\n\tat org.apache.spark.scheduler.DAGScheduler.$anonfun$handleTaskSetFailed$1(DAGScheduler.scala:1247)\n\tat org.apache.spark.scheduler.DAGScheduler.$anonfun$handleTaskSetFailed$1$adapted(DAGScheduler.scala:1247)\n\tat scala.Option.foreach(Option.scala:407)\n\tat org.apache.spark.scheduler.DAGScheduler.handleTaskSetFailed(DAGScheduler.scala:1247)\n\tat org.apache.spark.scheduler.DAGSchedulerEventProcessLoop.doOnReceive(DAGScheduler.scala:3060)\n\tat org.apache.spark.scheduler.DAGSchedulerEventProcessLoop.onReceive(DAGScheduler.scala:2994)\n\tat org.apache.spark.scheduler.DAGSchedulerEventProcessLoop.onReceive(DAGScheduler.scala:2983)\n\tat org.apache.spark.util.EventLoop$$anon$1.run(EventLoop.scala:49)\n\tat org.apache.spark.scheduler.DAGScheduler.runJob(DAGScheduler.scala:989)\n\tat org.apache.spark.SparkContext.runJob(SparkContext.scala:2393)\n\tat org.apache.spark.SparkContext.runJob(SparkContext.scala:2414)\n\tat org.apache.spark.SparkContext.runJob(SparkContext.scala:2433)\n\tat org.apache.spark.api.python.PythonRDD$.runJob(PythonRDD.scala:181)\n\tat org.apache.spark.api.python.PythonRDD.runJob(PythonRDD.scala)\n\tat java.base/jdk.internal.reflect.NativeMethodAccessorImpl.invoke0(Native Method)\n\tat java.base/jdk.internal.reflect.NativeMethodAccessorImpl.invoke(NativeMethodAccessorImpl.java:77)\n\tat java.base/jdk.internal.reflect.DelegatingMethodAccessorImpl.invoke(DelegatingMethodAccessorImpl.java:43)\n\tat java.base/java.lang.reflect.Method.invoke(Method.java:569)\n\tat py4j.reflection.MethodInvoker.invoke(MethodInvoker.java:244)\n\tat py4j.reflection.ReflectionEngine.invoke(ReflectionEngine.java:374)\n\tat py4j.Gateway.invoke(Gateway.java:282)\n\tat py4j.commands.AbstractCommand.invokeMethod(AbstractCommand.java:132)\n\tat py4j.commands.CallCommand.execute(CallCommand.java:79)\n\tat py4j.ClientServerConnection.waitForCommands(ClientServerConnection.java:182)\n\tat py4j.ClientServerConnection.run(ClientServerConnection.java:106)\n\tat java.base/java.lang.Thread.run(Thread.java:840)\nCaused by: org.apache.spark.api.python.PythonException: Traceback (most recent call last):\n  File \"/usr/local/lib/python3.10/dist-packages/pyspark/python/lib/pyspark.zip/pyspark/worker.py\", line 1247, in main\n    process()\n  File \"/usr/local/lib/python3.10/dist-packages/pyspark/python/lib/pyspark.zip/pyspark/worker.py\", line 1239, in process\n    serializer.dump_stream(out_iter, outfile)\n  File \"/usr/local/lib/python3.10/dist-packages/pyspark/python/lib/pyspark.zip/pyspark/serializers.py\", line 274, in dump_stream\n    vs = list(itertools.islice(iterator, batch))\n  File \"/usr/local/lib/python3.10/dist-packages/pyspark/rdd.py\", line 2849, in takeUpToNumLeft\n    yield next(iterator)\n  File \"<ipython-input-17-820240083f6c>\", line 5, in map_to_assoc_rules\nTypeError: 'int' object is not subscriptable\n\n\tat org.apache.spark.api.python.BasePythonRunner$ReaderIterator.handlePythonException(PythonRunner.scala:572)\n\tat org.apache.spark.api.python.PythonRunner$$anon$3.read(PythonRunner.scala:784)\n\tat org.apache.spark.api.python.PythonRunner$$anon$3.read(PythonRunner.scala:766)\n\tat org.apache.spark.api.python.BasePythonRunner$ReaderIterator.hasNext(PythonRunner.scala:525)\n\tat org.apache.spark.InterruptibleIterator.hasNext(InterruptibleIterator.scala:37)\n\tat scala.collection.Iterator.foreach(Iterator.scala:943)\n\tat scala.collection.Iterator.foreach$(Iterator.scala:943)\n\tat org.apache.spark.InterruptibleIterator.foreach(InterruptibleIterator.scala:28)\n\tat scala.collection.generic.Growable.$plus$plus$eq(Growable.scala:62)\n\tat scala.collection.generic.Growable.$plus$plus$eq$(Growable.scala:53)\n\tat scala.collection.mutable.ArrayBuffer.$plus$plus$eq(ArrayBuffer.scala:105)\n\tat scala.collection.mutable.ArrayBuffer.$plus$plus$eq(ArrayBuffer.scala:49)\n\tat scala.collection.TraversableOnce.to(TraversableOnce.scala:366)\n\tat scala.collection.TraversableOnce.to$(TraversableOnce.scala:364)\n\tat org.apache.spark.InterruptibleIterator.to(InterruptibleIterator.scala:28)\n\tat scala.collection.TraversableOnce.toBuffer(TraversableOnce.scala:358)\n\tat scala.collection.TraversableOnce.toBuffer$(TraversableOnce.scala:358)\n\tat org.apache.spark.InterruptibleIterator.toBuffer(InterruptibleIterator.scala:28)\n\tat scala.collection.TraversableOnce.toArray(TraversableOnce.scala:345)\n\tat scala.collection.TraversableOnce.toArray$(TraversableOnce.scala:339)\n\tat org.apache.spark.InterruptibleIterator.toArray(InterruptibleIterator.scala:28)\n\tat org.apache.spark.api.python.PythonRDD$.$anonfun$runJob$1(PythonRDD.scala:181)\n\tat org.apache.spark.SparkContext.$anonfun$runJob$5(SparkContext.scala:2433)\n\tat org.apache.spark.scheduler.ResultTask.runTask(ResultTask.scala:93)\n\tat org.apache.spark.TaskContext.runTaskWithListeners(TaskContext.scala:166)\n\tat org.apache.spark.scheduler.Task.run(Task.scala:141)\n\tat org.apache.spark.executor.Executor$TaskRunner.$anonfun$run$4(Executor.scala:620)\n\tat org.apache.spark.util.SparkErrorUtils.tryWithSafeFinally(SparkErrorUtils.scala:64)\n\tat org.apache.spark.util.SparkErrorUtils.tryWithSafeFinally$(SparkErrorUtils.scala:61)\n\tat org.apache.spark.util.Utils$.tryWithSafeFinally(Utils.scala:94)\n\tat org.apache.spark.executor.Executor$TaskRunner.run(Executor.scala:623)\n\tat java.base/java.util.concurrent.ThreadPoolExecutor.runWorker(ThreadPoolExecutor.java:1136)\n\tat java.base/java.util.concurrent.ThreadPoolExecutor$Worker.run(ThreadPoolExecutor.java:635)\n\t... 1 more\n",
          "traceback": [
            "\u001b[0;31m---------------------------------------------------------------------------\u001b[0m",
            "\u001b[0;31mPy4JJavaError\u001b[0m                             Traceback (most recent call last)",
            "\u001b[0;32m<ipython-input-33-b8659a8a6173>\u001b[0m in \u001b[0;36m<cell line: 2>\u001b[0;34m()\u001b[0m\n\u001b[1;32m      1\u001b[0m \u001b[0massoc_rules\u001b[0m \u001b[0;34m=\u001b[0m \u001b[0mcombined_rules\u001b[0m\u001b[0;34m.\u001b[0m\u001b[0mflatMap\u001b[0m\u001b[0;34m(\u001b[0m\u001b[0mmap_to_assoc_rules\u001b[0m\u001b[0;34m)\u001b[0m\u001b[0;34m\u001b[0m\u001b[0;34m\u001b[0m\u001b[0m\n\u001b[0;32m----> 2\u001b[0;31m \u001b[0massoc_rules\u001b[0m\u001b[0;34m.\u001b[0m\u001b[0mmap\u001b[0m\u001b[0;34m(\u001b[0m\u001b[0mformat_tuples\u001b[0m\u001b[0;34m)\u001b[0m\u001b[0;34m.\u001b[0m\u001b[0mtoDF\u001b[0m\u001b[0;34m(\u001b[0m\u001b[0;34m[\u001b[0m\u001b[0;34m'patterns'\u001b[0m\u001b[0;34m,\u001b[0m \u001b[0;34m'association_rules'\u001b[0m\u001b[0;34m]\u001b[0m\u001b[0;34m)\u001b[0m\u001b[0;34m.\u001b[0m\u001b[0msort\u001b[0m\u001b[0;34m(\u001b[0m\u001b[0;34m[\u001b[0m\u001b[0;34m'patterns'\u001b[0m\u001b[0;34m]\u001b[0m\u001b[0;34m)\u001b[0m\u001b[0;34m.\u001b[0m\u001b[0mshow\u001b[0m\u001b[0;34m(\u001b[0m\u001b[0;36m50\u001b[0m\u001b[0;34m,\u001b[0m \u001b[0mtruncate\u001b[0m\u001b[0;34m=\u001b[0m\u001b[0;32mFalse\u001b[0m\u001b[0;34m)\u001b[0m\u001b[0;34m\u001b[0m\u001b[0;34m\u001b[0m\u001b[0m\n\u001b[0m",
            "\u001b[0;32m/usr/local/lib/python3.10/dist-packages/pyspark/sql/session.py\u001b[0m in \u001b[0;36mtoDF\u001b[0;34m(self, schema, sampleRatio)\u001b[0m\n\u001b[1;32m    120\u001b[0m         \u001b[0;34m+\u001b[0m\u001b[0;34m-\u001b[0m\u001b[0;34m-\u001b[0m\u001b[0;34m-\u001b[0m\u001b[0;34m+\u001b[0m\u001b[0;34m\u001b[0m\u001b[0;34m\u001b[0m\u001b[0m\n\u001b[1;32m    121\u001b[0m         \"\"\"\n\u001b[0;32m--> 122\u001b[0;31m         \u001b[0;32mreturn\u001b[0m \u001b[0msparkSession\u001b[0m\u001b[0;34m.\u001b[0m\u001b[0mcreateDataFrame\u001b[0m\u001b[0;34m(\u001b[0m\u001b[0mself\u001b[0m\u001b[0;34m,\u001b[0m \u001b[0mschema\u001b[0m\u001b[0;34m,\u001b[0m \u001b[0msampleRatio\u001b[0m\u001b[0;34m)\u001b[0m\u001b[0;34m\u001b[0m\u001b[0;34m\u001b[0m\u001b[0m\n\u001b[0m\u001b[1;32m    123\u001b[0m \u001b[0;34m\u001b[0m\u001b[0m\n\u001b[1;32m    124\u001b[0m     \u001b[0mRDD\u001b[0m\u001b[0;34m.\u001b[0m\u001b[0mtoDF\u001b[0m \u001b[0;34m=\u001b[0m \u001b[0mtoDF\u001b[0m  \u001b[0;31m# type: ignore[assignment]\u001b[0m\u001b[0;34m\u001b[0m\u001b[0;34m\u001b[0m\u001b[0m\n",
            "\u001b[0;32m/usr/local/lib/python3.10/dist-packages/pyspark/sql/session.py\u001b[0m in \u001b[0;36mcreateDataFrame\u001b[0;34m(self, data, schema, samplingRatio, verifySchema)\u001b[0m\n\u001b[1;32m   1441\u001b[0m                 \u001b[0mdata\u001b[0m\u001b[0;34m,\u001b[0m \u001b[0mschema\u001b[0m\u001b[0;34m,\u001b[0m \u001b[0msamplingRatio\u001b[0m\u001b[0;34m,\u001b[0m \u001b[0mverifySchema\u001b[0m\u001b[0;34m\u001b[0m\u001b[0;34m\u001b[0m\u001b[0m\n\u001b[1;32m   1442\u001b[0m             )\n\u001b[0;32m-> 1443\u001b[0;31m         return self._create_dataframe(\n\u001b[0m\u001b[1;32m   1444\u001b[0m             \u001b[0mdata\u001b[0m\u001b[0;34m,\u001b[0m \u001b[0mschema\u001b[0m\u001b[0;34m,\u001b[0m \u001b[0msamplingRatio\u001b[0m\u001b[0;34m,\u001b[0m \u001b[0mverifySchema\u001b[0m  \u001b[0;31m# type: ignore[arg-type]\u001b[0m\u001b[0;34m\u001b[0m\u001b[0;34m\u001b[0m\u001b[0m\n\u001b[1;32m   1445\u001b[0m         )\n",
            "\u001b[0;32m/usr/local/lib/python3.10/dist-packages/pyspark/sql/session.py\u001b[0m in \u001b[0;36m_create_dataframe\u001b[0;34m(self, data, schema, samplingRatio, verifySchema)\u001b[0m\n\u001b[1;32m   1481\u001b[0m \u001b[0;34m\u001b[0m\u001b[0m\n\u001b[1;32m   1482\u001b[0m         \u001b[0;32mif\u001b[0m \u001b[0misinstance\u001b[0m\u001b[0;34m(\u001b[0m\u001b[0mdata\u001b[0m\u001b[0;34m,\u001b[0m \u001b[0mRDD\u001b[0m\u001b[0;34m)\u001b[0m\u001b[0;34m:\u001b[0m\u001b[0;34m\u001b[0m\u001b[0;34m\u001b[0m\u001b[0m\n\u001b[0;32m-> 1483\u001b[0;31m             \u001b[0mrdd\u001b[0m\u001b[0;34m,\u001b[0m \u001b[0mstruct\u001b[0m \u001b[0;34m=\u001b[0m \u001b[0mself\u001b[0m\u001b[0;34m.\u001b[0m\u001b[0m_createFromRDD\u001b[0m\u001b[0;34m(\u001b[0m\u001b[0mdata\u001b[0m\u001b[0;34m.\u001b[0m\u001b[0mmap\u001b[0m\u001b[0;34m(\u001b[0m\u001b[0mprepare\u001b[0m\u001b[0;34m)\u001b[0m\u001b[0;34m,\u001b[0m \u001b[0mschema\u001b[0m\u001b[0;34m,\u001b[0m \u001b[0msamplingRatio\u001b[0m\u001b[0;34m)\u001b[0m\u001b[0;34m\u001b[0m\u001b[0;34m\u001b[0m\u001b[0m\n\u001b[0m\u001b[1;32m   1484\u001b[0m         \u001b[0;32melse\u001b[0m\u001b[0;34m:\u001b[0m\u001b[0;34m\u001b[0m\u001b[0;34m\u001b[0m\u001b[0m\n\u001b[1;32m   1485\u001b[0m             \u001b[0mrdd\u001b[0m\u001b[0;34m,\u001b[0m \u001b[0mstruct\u001b[0m \u001b[0;34m=\u001b[0m \u001b[0mself\u001b[0m\u001b[0;34m.\u001b[0m\u001b[0m_createFromLocal\u001b[0m\u001b[0;34m(\u001b[0m\u001b[0mmap\u001b[0m\u001b[0;34m(\u001b[0m\u001b[0mprepare\u001b[0m\u001b[0;34m,\u001b[0m \u001b[0mdata\u001b[0m\u001b[0;34m)\u001b[0m\u001b[0;34m,\u001b[0m \u001b[0mschema\u001b[0m\u001b[0;34m)\u001b[0m\u001b[0;34m\u001b[0m\u001b[0;34m\u001b[0m\u001b[0m\n",
            "\u001b[0;32m/usr/local/lib/python3.10/dist-packages/pyspark/sql/session.py\u001b[0m in \u001b[0;36m_createFromRDD\u001b[0;34m(self, rdd, schema, samplingRatio)\u001b[0m\n\u001b[1;32m   1054\u001b[0m         \"\"\"\n\u001b[1;32m   1055\u001b[0m         \u001b[0;32mif\u001b[0m \u001b[0mschema\u001b[0m \u001b[0;32mis\u001b[0m \u001b[0;32mNone\u001b[0m \u001b[0;32mor\u001b[0m \u001b[0misinstance\u001b[0m\u001b[0;34m(\u001b[0m\u001b[0mschema\u001b[0m\u001b[0;34m,\u001b[0m \u001b[0;34m(\u001b[0m\u001b[0mlist\u001b[0m\u001b[0;34m,\u001b[0m \u001b[0mtuple\u001b[0m\u001b[0;34m)\u001b[0m\u001b[0;34m)\u001b[0m\u001b[0;34m:\u001b[0m\u001b[0;34m\u001b[0m\u001b[0;34m\u001b[0m\u001b[0m\n\u001b[0;32m-> 1056\u001b[0;31m             \u001b[0mstruct\u001b[0m \u001b[0;34m=\u001b[0m \u001b[0mself\u001b[0m\u001b[0;34m.\u001b[0m\u001b[0m_inferSchema\u001b[0m\u001b[0;34m(\u001b[0m\u001b[0mrdd\u001b[0m\u001b[0;34m,\u001b[0m \u001b[0msamplingRatio\u001b[0m\u001b[0;34m,\u001b[0m \u001b[0mnames\u001b[0m\u001b[0;34m=\u001b[0m\u001b[0mschema\u001b[0m\u001b[0;34m)\u001b[0m\u001b[0;34m\u001b[0m\u001b[0;34m\u001b[0m\u001b[0m\n\u001b[0m\u001b[1;32m   1057\u001b[0m             \u001b[0mconverter\u001b[0m \u001b[0;34m=\u001b[0m \u001b[0m_create_converter\u001b[0m\u001b[0;34m(\u001b[0m\u001b[0mstruct\u001b[0m\u001b[0;34m)\u001b[0m\u001b[0;34m\u001b[0m\u001b[0;34m\u001b[0m\u001b[0m\n\u001b[1;32m   1058\u001b[0m             \u001b[0mtupled_rdd\u001b[0m \u001b[0;34m=\u001b[0m \u001b[0mrdd\u001b[0m\u001b[0;34m.\u001b[0m\u001b[0mmap\u001b[0m\u001b[0;34m(\u001b[0m\u001b[0mconverter\u001b[0m\u001b[0;34m)\u001b[0m\u001b[0;34m\u001b[0m\u001b[0;34m\u001b[0m\u001b[0m\n",
            "\u001b[0;32m/usr/local/lib/python3.10/dist-packages/pyspark/sql/session.py\u001b[0m in \u001b[0;36m_inferSchema\u001b[0;34m(self, rdd, samplingRatio, names)\u001b[0m\n\u001b[1;32m    994\u001b[0m         \u001b[0;34m:\u001b[0m\u001b[0;32mclass\u001b[0m\u001b[0;34m:\u001b[0m\u001b[0;31m`\u001b[0m\u001b[0mpyspark\u001b[0m\u001b[0;34m.\u001b[0m\u001b[0msql\u001b[0m\u001b[0;34m.\u001b[0m\u001b[0mtypes\u001b[0m\u001b[0;34m.\u001b[0m\u001b[0mStructType\u001b[0m\u001b[0;31m`\u001b[0m\u001b[0;34m\u001b[0m\u001b[0;34m\u001b[0m\u001b[0m\n\u001b[1;32m    995\u001b[0m         \"\"\"\n\u001b[0;32m--> 996\u001b[0;31m         \u001b[0mfirst\u001b[0m \u001b[0;34m=\u001b[0m \u001b[0mrdd\u001b[0m\u001b[0;34m.\u001b[0m\u001b[0mfirst\u001b[0m\u001b[0;34m(\u001b[0m\u001b[0;34m)\u001b[0m\u001b[0;34m\u001b[0m\u001b[0;34m\u001b[0m\u001b[0m\n\u001b[0m\u001b[1;32m    997\u001b[0m         \u001b[0;32mif\u001b[0m \u001b[0misinstance\u001b[0m\u001b[0;34m(\u001b[0m\u001b[0mfirst\u001b[0m\u001b[0;34m,\u001b[0m \u001b[0mSized\u001b[0m\u001b[0;34m)\u001b[0m \u001b[0;32mand\u001b[0m \u001b[0mlen\u001b[0m\u001b[0;34m(\u001b[0m\u001b[0mfirst\u001b[0m\u001b[0;34m)\u001b[0m \u001b[0;34m==\u001b[0m \u001b[0;36m0\u001b[0m\u001b[0;34m:\u001b[0m\u001b[0;34m\u001b[0m\u001b[0;34m\u001b[0m\u001b[0m\n\u001b[1;32m    998\u001b[0m             raise PySparkValueError(\n",
            "\u001b[0;32m/usr/local/lib/python3.10/dist-packages/pyspark/rdd.py\u001b[0m in \u001b[0;36mfirst\u001b[0;34m(self)\u001b[0m\n\u001b[1;32m   2886\u001b[0m         \u001b[0mValueError\u001b[0m\u001b[0;34m:\u001b[0m \u001b[0mRDD\u001b[0m \u001b[0;32mis\u001b[0m \u001b[0mempty\u001b[0m\u001b[0;34m\u001b[0m\u001b[0;34m\u001b[0m\u001b[0m\n\u001b[1;32m   2887\u001b[0m         \"\"\"\n\u001b[0;32m-> 2888\u001b[0;31m         \u001b[0mrs\u001b[0m \u001b[0;34m=\u001b[0m \u001b[0mself\u001b[0m\u001b[0;34m.\u001b[0m\u001b[0mtake\u001b[0m\u001b[0;34m(\u001b[0m\u001b[0;36m1\u001b[0m\u001b[0;34m)\u001b[0m\u001b[0;34m\u001b[0m\u001b[0;34m\u001b[0m\u001b[0m\n\u001b[0m\u001b[1;32m   2889\u001b[0m         \u001b[0;32mif\u001b[0m \u001b[0mrs\u001b[0m\u001b[0;34m:\u001b[0m\u001b[0;34m\u001b[0m\u001b[0;34m\u001b[0m\u001b[0m\n\u001b[1;32m   2890\u001b[0m             \u001b[0;32mreturn\u001b[0m \u001b[0mrs\u001b[0m\u001b[0;34m[\u001b[0m\u001b[0;36m0\u001b[0m\u001b[0;34m]\u001b[0m\u001b[0;34m\u001b[0m\u001b[0;34m\u001b[0m\u001b[0m\n",
            "\u001b[0;32m/usr/local/lib/python3.10/dist-packages/pyspark/rdd.py\u001b[0m in \u001b[0;36mtake\u001b[0;34m(self, num)\u001b[0m\n\u001b[1;32m   2853\u001b[0m \u001b[0;34m\u001b[0m\u001b[0m\n\u001b[1;32m   2854\u001b[0m             \u001b[0mp\u001b[0m \u001b[0;34m=\u001b[0m \u001b[0mrange\u001b[0m\u001b[0;34m(\u001b[0m\u001b[0mpartsScanned\u001b[0m\u001b[0;34m,\u001b[0m \u001b[0mmin\u001b[0m\u001b[0;34m(\u001b[0m\u001b[0mpartsScanned\u001b[0m \u001b[0;34m+\u001b[0m \u001b[0mnumPartsToTry\u001b[0m\u001b[0;34m,\u001b[0m \u001b[0mtotalParts\u001b[0m\u001b[0;34m)\u001b[0m\u001b[0;34m)\u001b[0m\u001b[0;34m\u001b[0m\u001b[0;34m\u001b[0m\u001b[0m\n\u001b[0;32m-> 2855\u001b[0;31m             \u001b[0mres\u001b[0m \u001b[0;34m=\u001b[0m \u001b[0mself\u001b[0m\u001b[0;34m.\u001b[0m\u001b[0mcontext\u001b[0m\u001b[0;34m.\u001b[0m\u001b[0mrunJob\u001b[0m\u001b[0;34m(\u001b[0m\u001b[0mself\u001b[0m\u001b[0;34m,\u001b[0m \u001b[0mtakeUpToNumLeft\u001b[0m\u001b[0;34m,\u001b[0m \u001b[0mp\u001b[0m\u001b[0;34m)\u001b[0m\u001b[0;34m\u001b[0m\u001b[0;34m\u001b[0m\u001b[0m\n\u001b[0m\u001b[1;32m   2856\u001b[0m \u001b[0;34m\u001b[0m\u001b[0m\n\u001b[1;32m   2857\u001b[0m             \u001b[0mitems\u001b[0m \u001b[0;34m+=\u001b[0m \u001b[0mres\u001b[0m\u001b[0;34m\u001b[0m\u001b[0;34m\u001b[0m\u001b[0m\n",
            "\u001b[0;32m/usr/local/lib/python3.10/dist-packages/pyspark/context.py\u001b[0m in \u001b[0;36mrunJob\u001b[0;34m(self, rdd, partitionFunc, partitions, allowLocal)\u001b[0m\n\u001b[1;32m   2508\u001b[0m         \u001b[0mmappedRDD\u001b[0m \u001b[0;34m=\u001b[0m \u001b[0mrdd\u001b[0m\u001b[0;34m.\u001b[0m\u001b[0mmapPartitions\u001b[0m\u001b[0;34m(\u001b[0m\u001b[0mpartitionFunc\u001b[0m\u001b[0;34m)\u001b[0m\u001b[0;34m\u001b[0m\u001b[0;34m\u001b[0m\u001b[0m\n\u001b[1;32m   2509\u001b[0m         \u001b[0;32massert\u001b[0m \u001b[0mself\u001b[0m\u001b[0;34m.\u001b[0m\u001b[0m_jvm\u001b[0m \u001b[0;32mis\u001b[0m \u001b[0;32mnot\u001b[0m \u001b[0;32mNone\u001b[0m\u001b[0;34m\u001b[0m\u001b[0;34m\u001b[0m\u001b[0m\n\u001b[0;32m-> 2510\u001b[0;31m         \u001b[0msock_info\u001b[0m \u001b[0;34m=\u001b[0m \u001b[0mself\u001b[0m\u001b[0;34m.\u001b[0m\u001b[0m_jvm\u001b[0m\u001b[0;34m.\u001b[0m\u001b[0mPythonRDD\u001b[0m\u001b[0;34m.\u001b[0m\u001b[0mrunJob\u001b[0m\u001b[0;34m(\u001b[0m\u001b[0mself\u001b[0m\u001b[0;34m.\u001b[0m\u001b[0m_jsc\u001b[0m\u001b[0;34m.\u001b[0m\u001b[0msc\u001b[0m\u001b[0;34m(\u001b[0m\u001b[0;34m)\u001b[0m\u001b[0;34m,\u001b[0m \u001b[0mmappedRDD\u001b[0m\u001b[0;34m.\u001b[0m\u001b[0m_jrdd\u001b[0m\u001b[0;34m,\u001b[0m \u001b[0mpartitions\u001b[0m\u001b[0;34m)\u001b[0m\u001b[0;34m\u001b[0m\u001b[0;34m\u001b[0m\u001b[0m\n\u001b[0m\u001b[1;32m   2511\u001b[0m         \u001b[0;32mreturn\u001b[0m \u001b[0mlist\u001b[0m\u001b[0;34m(\u001b[0m\u001b[0m_load_from_socket\u001b[0m\u001b[0;34m(\u001b[0m\u001b[0msock_info\u001b[0m\u001b[0;34m,\u001b[0m \u001b[0mmappedRDD\u001b[0m\u001b[0;34m.\u001b[0m\u001b[0m_jrdd_deserializer\u001b[0m\u001b[0;34m)\u001b[0m\u001b[0;34m)\u001b[0m\u001b[0;34m\u001b[0m\u001b[0;34m\u001b[0m\u001b[0m\n\u001b[1;32m   2512\u001b[0m \u001b[0;34m\u001b[0m\u001b[0m\n",
            "\u001b[0;32m/usr/local/lib/python3.10/dist-packages/py4j/java_gateway.py\u001b[0m in \u001b[0;36m__call__\u001b[0;34m(self, *args)\u001b[0m\n\u001b[1;32m   1320\u001b[0m \u001b[0;34m\u001b[0m\u001b[0m\n\u001b[1;32m   1321\u001b[0m         \u001b[0manswer\u001b[0m \u001b[0;34m=\u001b[0m \u001b[0mself\u001b[0m\u001b[0;34m.\u001b[0m\u001b[0mgateway_client\u001b[0m\u001b[0;34m.\u001b[0m\u001b[0msend_command\u001b[0m\u001b[0;34m(\u001b[0m\u001b[0mcommand\u001b[0m\u001b[0;34m)\u001b[0m\u001b[0;34m\u001b[0m\u001b[0;34m\u001b[0m\u001b[0m\n\u001b[0;32m-> 1322\u001b[0;31m         return_value = get_return_value(\n\u001b[0m\u001b[1;32m   1323\u001b[0m             answer, self.gateway_client, self.target_id, self.name)\n\u001b[1;32m   1324\u001b[0m \u001b[0;34m\u001b[0m\u001b[0m\n",
            "\u001b[0;32m/usr/local/lib/python3.10/dist-packages/pyspark/errors/exceptions/captured.py\u001b[0m in \u001b[0;36mdeco\u001b[0;34m(*a, **kw)\u001b[0m\n\u001b[1;32m    177\u001b[0m     \u001b[0;32mdef\u001b[0m \u001b[0mdeco\u001b[0m\u001b[0;34m(\u001b[0m\u001b[0;34m*\u001b[0m\u001b[0ma\u001b[0m\u001b[0;34m:\u001b[0m \u001b[0mAny\u001b[0m\u001b[0;34m,\u001b[0m \u001b[0;34m**\u001b[0m\u001b[0mkw\u001b[0m\u001b[0;34m:\u001b[0m \u001b[0mAny\u001b[0m\u001b[0;34m)\u001b[0m \u001b[0;34m->\u001b[0m \u001b[0mAny\u001b[0m\u001b[0;34m:\u001b[0m\u001b[0;34m\u001b[0m\u001b[0;34m\u001b[0m\u001b[0m\n\u001b[1;32m    178\u001b[0m         \u001b[0;32mtry\u001b[0m\u001b[0;34m:\u001b[0m\u001b[0;34m\u001b[0m\u001b[0;34m\u001b[0m\u001b[0m\n\u001b[0;32m--> 179\u001b[0;31m             \u001b[0;32mreturn\u001b[0m \u001b[0mf\u001b[0m\u001b[0;34m(\u001b[0m\u001b[0;34m*\u001b[0m\u001b[0ma\u001b[0m\u001b[0;34m,\u001b[0m \u001b[0;34m**\u001b[0m\u001b[0mkw\u001b[0m\u001b[0;34m)\u001b[0m\u001b[0;34m\u001b[0m\u001b[0;34m\u001b[0m\u001b[0m\n\u001b[0m\u001b[1;32m    180\u001b[0m         \u001b[0;32mexcept\u001b[0m \u001b[0mPy4JJavaError\u001b[0m \u001b[0;32mas\u001b[0m \u001b[0me\u001b[0m\u001b[0;34m:\u001b[0m\u001b[0;34m\u001b[0m\u001b[0;34m\u001b[0m\u001b[0m\n\u001b[1;32m    181\u001b[0m             \u001b[0mconverted\u001b[0m \u001b[0;34m=\u001b[0m \u001b[0mconvert_exception\u001b[0m\u001b[0;34m(\u001b[0m\u001b[0me\u001b[0m\u001b[0;34m.\u001b[0m\u001b[0mjava_exception\u001b[0m\u001b[0;34m)\u001b[0m\u001b[0;34m\u001b[0m\u001b[0;34m\u001b[0m\u001b[0m\n",
            "\u001b[0;32m/usr/local/lib/python3.10/dist-packages/py4j/protocol.py\u001b[0m in \u001b[0;36mget_return_value\u001b[0;34m(answer, gateway_client, target_id, name)\u001b[0m\n\u001b[1;32m    324\u001b[0m             \u001b[0mvalue\u001b[0m \u001b[0;34m=\u001b[0m \u001b[0mOUTPUT_CONVERTER\u001b[0m\u001b[0;34m[\u001b[0m\u001b[0mtype\u001b[0m\u001b[0;34m]\u001b[0m\u001b[0;34m(\u001b[0m\u001b[0manswer\u001b[0m\u001b[0;34m[\u001b[0m\u001b[0;36m2\u001b[0m\u001b[0;34m:\u001b[0m\u001b[0;34m]\u001b[0m\u001b[0;34m,\u001b[0m \u001b[0mgateway_client\u001b[0m\u001b[0;34m)\u001b[0m\u001b[0;34m\u001b[0m\u001b[0;34m\u001b[0m\u001b[0m\n\u001b[1;32m    325\u001b[0m             \u001b[0;32mif\u001b[0m \u001b[0manswer\u001b[0m\u001b[0;34m[\u001b[0m\u001b[0;36m1\u001b[0m\u001b[0;34m]\u001b[0m \u001b[0;34m==\u001b[0m \u001b[0mREFERENCE_TYPE\u001b[0m\u001b[0;34m:\u001b[0m\u001b[0;34m\u001b[0m\u001b[0;34m\u001b[0m\u001b[0m\n\u001b[0;32m--> 326\u001b[0;31m                 raise Py4JJavaError(\n\u001b[0m\u001b[1;32m    327\u001b[0m                     \u001b[0;34m\"An error occurred while calling {0}{1}{2}.\\n\"\u001b[0m\u001b[0;34m.\u001b[0m\u001b[0;34m\u001b[0m\u001b[0;34m\u001b[0m\u001b[0m\n\u001b[1;32m    328\u001b[0m                     format(target_id, \".\", name), value)\n",
            "\u001b[0;31mPy4JJavaError\u001b[0m: An error occurred while calling z:org.apache.spark.api.python.PythonRDD.runJob.\n: org.apache.spark.SparkException: Job aborted due to stage failure: Task 0 in stage 131.0 failed 1 times, most recent failure: Lost task 0.0 in stage 131.0 (TID 101) (058e098d8e24 executor driver): org.apache.spark.api.python.PythonException: Traceback (most recent call last):\n  File \"/usr/local/lib/python3.10/dist-packages/pyspark/python/lib/pyspark.zip/pyspark/worker.py\", line 1247, in main\n    process()\n  File \"/usr/local/lib/python3.10/dist-packages/pyspark/python/lib/pyspark.zip/pyspark/worker.py\", line 1239, in process\n    serializer.dump_stream(out_iter, outfile)\n  File \"/usr/local/lib/python3.10/dist-packages/pyspark/python/lib/pyspark.zip/pyspark/serializers.py\", line 274, in dump_stream\n    vs = list(itertools.islice(iterator, batch))\n  File \"/usr/local/lib/python3.10/dist-packages/pyspark/rdd.py\", line 2849, in takeUpToNumLeft\n    yield next(iterator)\n  File \"<ipython-input-17-820240083f6c>\", line 5, in map_to_assoc_rules\nTypeError: 'int' object is not subscriptable\n\n\tat org.apache.spark.api.python.BasePythonRunner$ReaderIterator.handlePythonException(PythonRunner.scala:572)\n\tat org.apache.spark.api.python.PythonRunner$$anon$3.read(PythonRunner.scala:784)\n\tat org.apache.spark.api.python.PythonRunner$$anon$3.read(PythonRunner.scala:766)\n\tat org.apache.spark.api.python.BasePythonRunner$ReaderIterator.hasNext(PythonRunner.scala:525)\n\tat org.apache.spark.InterruptibleIterator.hasNext(InterruptibleIterator.scala:37)\n\tat scala.collection.Iterator.foreach(Iterator.scala:943)\n\tat scala.collection.Iterator.foreach$(Iterator.scala:943)\n\tat org.apache.spark.InterruptibleIterator.foreach(InterruptibleIterator.scala:28)\n\tat scala.collection.generic.Growable.$plus$plus$eq(Growable.scala:62)\n\tat scala.collection.generic.Growable.$plus$plus$eq$(Growable.scala:53)\n\tat scala.collection.mutable.ArrayBuffer.$plus$plus$eq(ArrayBuffer.scala:105)\n\tat scala.collection.mutable.ArrayBuffer.$plus$plus$eq(ArrayBuffer.scala:49)\n\tat scala.collection.TraversableOnce.to(TraversableOnce.scala:366)\n\tat scala.collection.TraversableOnce.to$(TraversableOnce.scala:364)\n\tat org.apache.spark.InterruptibleIterator.to(InterruptibleIterator.scala:28)\n\tat scala.collection.TraversableOnce.toBuffer(TraversableOnce.scala:358)\n\tat scala.collection.TraversableOnce.toBuffer$(TraversableOnce.scala:358)\n\tat org.apache.spark.InterruptibleIterator.toBuffer(InterruptibleIterator.scala:28)\n\tat scala.collection.TraversableOnce.toArray(TraversableOnce.scala:345)\n\tat scala.collection.TraversableOnce.toArray$(TraversableOnce.scala:339)\n\tat org.apache.spark.InterruptibleIterator.toArray(InterruptibleIterator.scala:28)\n\tat org.apache.spark.api.python.PythonRDD$.$anonfun$runJob$1(PythonRDD.scala:181)\n\tat org.apache.spark.SparkContext.$anonfun$runJob$5(SparkContext.scala:2433)\n\tat org.apache.spark.scheduler.ResultTask.runTask(ResultTask.scala:93)\n\tat org.apache.spark.TaskContext.runTaskWithListeners(TaskContext.scala:166)\n\tat org.apache.spark.scheduler.Task.run(Task.scala:141)\n\tat org.apache.spark.executor.Executor$TaskRunner.$anonfun$run$4(Executor.scala:620)\n\tat org.apache.spark.util.SparkErrorUtils.tryWithSafeFinally(SparkErrorUtils.scala:64)\n\tat org.apache.spark.util.SparkErrorUtils.tryWithSafeFinally$(SparkErrorUtils.scala:61)\n\tat org.apache.spark.util.Utils$.tryWithSafeFinally(Utils.scala:94)\n\tat org.apache.spark.executor.Executor$TaskRunner.run(Executor.scala:623)\n\tat java.base/java.util.concurrent.ThreadPoolExecutor.runWorker(ThreadPoolExecutor.java:1136)\n\tat java.base/java.util.concurrent.ThreadPoolExecutor$Worker.run(ThreadPoolExecutor.java:635)\n\tat java.base/java.lang.Thread.run(Thread.java:840)\n\nDriver stacktrace:\n\tat org.apache.spark.scheduler.DAGScheduler.failJobAndIndependentStages(DAGScheduler.scala:2856)\n\tat org.apache.spark.scheduler.DAGScheduler.$anonfun$abortStage$2(DAGScheduler.scala:2792)\n\tat org.apache.spark.scheduler.DAGScheduler.$anonfun$abortStage$2$adapted(DAGScheduler.scala:2791)\n\tat scala.collection.mutable.ResizableArray.foreach(ResizableArray.scala:62)\n\tat scala.collection.mutable.ResizableArray.foreach$(ResizableArray.scala:55)\n\tat scala.collection.mutable.ArrayBuffer.foreach(ArrayBuffer.scala:49)\n\tat org.apache.spark.scheduler.DAGScheduler.abortStage(DAGScheduler.scala:2791)\n\tat org.apache.spark.scheduler.DAGScheduler.$anonfun$handleTaskSetFailed$1(DAGScheduler.scala:1247)\n\tat org.apache.spark.scheduler.DAGScheduler.$anonfun$handleTaskSetFailed$1$adapted(DAGScheduler.scala:1247)\n\tat scala.Option.foreach(Option.scala:407)\n\tat org.apache.spark.scheduler.DAGScheduler.handleTaskSetFailed(DAGScheduler.scala:1247)\n\tat org.apache.spark.scheduler.DAGSchedulerEventProcessLoop.doOnReceive(DAGScheduler.scala:3060)\n\tat org.apache.spark.scheduler.DAGSchedulerEventProcessLoop.onReceive(DAGScheduler.scala:2994)\n\tat org.apache.spark.scheduler.DAGSchedulerEventProcessLoop.onReceive(DAGScheduler.scala:2983)\n\tat org.apache.spark.util.EventLoop$$anon$1.run(EventLoop.scala:49)\n\tat org.apache.spark.scheduler.DAGScheduler.runJob(DAGScheduler.scala:989)\n\tat org.apache.spark.SparkContext.runJob(SparkContext.scala:2393)\n\tat org.apache.spark.SparkContext.runJob(SparkContext.scala:2414)\n\tat org.apache.spark.SparkContext.runJob(SparkContext.scala:2433)\n\tat org.apache.spark.api.python.PythonRDD$.runJob(PythonRDD.scala:181)\n\tat org.apache.spark.api.python.PythonRDD.runJob(PythonRDD.scala)\n\tat java.base/jdk.internal.reflect.NativeMethodAccessorImpl.invoke0(Native Method)\n\tat java.base/jdk.internal.reflect.NativeMethodAccessorImpl.invoke(NativeMethodAccessorImpl.java:77)\n\tat java.base/jdk.internal.reflect.DelegatingMethodAccessorImpl.invoke(DelegatingMethodAccessorImpl.java:43)\n\tat java.base/java.lang.reflect.Method.invoke(Method.java:569)\n\tat py4j.reflection.MethodInvoker.invoke(MethodInvoker.java:244)\n\tat py4j.reflection.ReflectionEngine.invoke(ReflectionEngine.java:374)\n\tat py4j.Gateway.invoke(Gateway.java:282)\n\tat py4j.commands.AbstractCommand.invokeMethod(AbstractCommand.java:132)\n\tat py4j.commands.CallCommand.execute(CallCommand.java:79)\n\tat py4j.ClientServerConnection.waitForCommands(ClientServerConnection.java:182)\n\tat py4j.ClientServerConnection.run(ClientServerConnection.java:106)\n\tat java.base/java.lang.Thread.run(Thread.java:840)\nCaused by: org.apache.spark.api.python.PythonException: Traceback (most recent call last):\n  File \"/usr/local/lib/python3.10/dist-packages/pyspark/python/lib/pyspark.zip/pyspark/worker.py\", line 1247, in main\n    process()\n  File \"/usr/local/lib/python3.10/dist-packages/pyspark/python/lib/pyspark.zip/pyspark/worker.py\", line 1239, in process\n    serializer.dump_stream(out_iter, outfile)\n  File \"/usr/local/lib/python3.10/dist-packages/pyspark/python/lib/pyspark.zip/pyspark/serializers.py\", line 274, in dump_stream\n    vs = list(itertools.islice(iterator, batch))\n  File \"/usr/local/lib/python3.10/dist-packages/pyspark/rdd.py\", line 2849, in takeUpToNumLeft\n    yield next(iterator)\n  File \"<ipython-input-17-820240083f6c>\", line 5, in map_to_assoc_rules\nTypeError: 'int' object is not subscriptable\n\n\tat org.apache.spark.api.python.BasePythonRunner$ReaderIterator.handlePythonException(PythonRunner.scala:572)\n\tat org.apache.spark.api.python.PythonRunner$$anon$3.read(PythonRunner.scala:784)\n\tat org.apache.spark.api.python.PythonRunner$$anon$3.read(PythonRunner.scala:766)\n\tat org.apache.spark.api.python.BasePythonRunner$ReaderIterator.hasNext(PythonRunner.scala:525)\n\tat org.apache.spark.InterruptibleIterator.hasNext(InterruptibleIterator.scala:37)\n\tat scala.collection.Iterator.foreach(Iterator.scala:943)\n\tat scala.collection.Iterator.foreach$(Iterator.scala:943)\n\tat org.apache.spark.InterruptibleIterator.foreach(InterruptibleIterator.scala:28)\n\tat scala.collection.generic.Growable.$plus$plus$eq(Growable.scala:62)\n\tat scala.collection.generic.Growable.$plus$plus$eq$(Growable.scala:53)\n\tat scala.collection.mutable.ArrayBuffer.$plus$plus$eq(ArrayBuffer.scala:105)\n\tat scala.collection.mutable.ArrayBuffer.$plus$plus$eq(ArrayBuffer.scala:49)\n\tat scala.collection.TraversableOnce.to(TraversableOnce.scala:366)\n\tat scala.collection.TraversableOnce.to$(TraversableOnce.scala:364)\n\tat org.apache.spark.InterruptibleIterator.to(InterruptibleIterator.scala:28)\n\tat scala.collection.TraversableOnce.toBuffer(TraversableOnce.scala:358)\n\tat scala.collection.TraversableOnce.toBuffer$(TraversableOnce.scala:358)\n\tat org.apache.spark.InterruptibleIterator.toBuffer(InterruptibleIterator.scala:28)\n\tat scala.collection.TraversableOnce.toArray(TraversableOnce.scala:345)\n\tat scala.collection.TraversableOnce.toArray$(TraversableOnce.scala:339)\n\tat org.apache.spark.InterruptibleIterator.toArray(InterruptibleIterator.scala:28)\n\tat org.apache.spark.api.python.PythonRDD$.$anonfun$runJob$1(PythonRDD.scala:181)\n\tat org.apache.spark.SparkContext.$anonfun$runJob$5(SparkContext.scala:2433)\n\tat org.apache.spark.scheduler.ResultTask.runTask(ResultTask.scala:93)\n\tat org.apache.spark.TaskContext.runTaskWithListeners(TaskContext.scala:166)\n\tat org.apache.spark.scheduler.Task.run(Task.scala:141)\n\tat org.apache.spark.executor.Executor$TaskRunner.$anonfun$run$4(Executor.scala:620)\n\tat org.apache.spark.util.SparkErrorUtils.tryWithSafeFinally(SparkErrorUtils.scala:64)\n\tat org.apache.spark.util.SparkErrorUtils.tryWithSafeFinally$(SparkErrorUtils.scala:61)\n\tat org.apache.spark.util.Utils$.tryWithSafeFinally(Utils.scala:94)\n\tat org.apache.spark.executor.Executor$TaskRunner.run(Executor.scala:623)\n\tat java.base/java.util.concurrent.ThreadPoolExecutor.runWorker(ThreadPoolExecutor.java:1136)\n\tat java.base/java.util.concurrent.ThreadPoolExecutor$Worker.run(ThreadPoolExecutor.java:635)\n\t... 1 more\n"
          ]
        }
      ]
    },
    {
      "cell_type": "code",
      "source": [],
      "metadata": {
        "id": "hAOHENbP5jDG"
      },
      "execution_count": null,
      "outputs": []
    },
    {
      "cell_type": "markdown",
      "source": [
        "## 4. MBA pour le dataset complet (20 points)\n"
      ],
      "metadata": {
        "id": "e06nMh97qgl_"
      }
    },
    {
      "cell_type": "markdown",
      "metadata": {
        "id": "5DkNPEtGMa0l"
      },
      "source": [
        "Comme vous l'avez probablement remarqué, même pour un ensemble de données moins volumineux, l'algorithme MBA est coûteux en calcul. Pour cette raison, cette fois, nous allons répéter le processus, mais en utilisant maintenant Google Cloud Platform (GCP) pour créer un grand cluster. Toutes les instructions pour créer un cluster avec spark et comment soumettre un travail seront expliquées dans le laboratoire. Dans tous les cas, vous devez lire les instructions données dans le ``Instruction_GCP.pdf``.\n",
        "\n",
        "Cette fois, nous travaillerons avec le fichier ``OBSERVATIONS.csv``, qui contient plusieurs millions d'observations.\n",
        "\n",
        "**PRODUCTION ATTENDUE**\n",
        "\n",
        "Après avoir exécuté le MBA pour la plus grande collection d'observation, sélectionnez au hasard UN symptôme observé dans ``OBSERVATIONS`` et affichez les règles d'association (nom du symptôme et valeur d'association) de ce symptôme, c'est-à-dire lorsque le symptôme est seul. La sortie doit être formatée dans un tableau, où chaque ligne contenant les informations d'un symptôme associé.\n",
        "Afin d'accélérer son exécution, vous pouvez créer un second notebook uniquement dédié à cette partie et l'insérer dans le rendu final.\n",
        "\n",
        "- Affichez l'identifiant (SYMPTOM_ID) et le nom du symptôme (SYMPTOM_NAME) sélectionné au hasard.\n",
        "- Signalez le temps d'exécution.\n",
        "\n",
        "**Remarque importante : joignez des captures d'écran de votre sortie et de votre configuration de cluster.**"
      ]
    },
    {
      "cell_type": "code",
      "source": [
        "!pip install google-cloud-dataproc"
      ],
      "metadata": {
        "id": "Jg64tuLL-DPK"
      },
      "execution_count": null,
      "outputs": []
    },
    {
      "cell_type": "code",
      "execution_count": null,
      "metadata": {
        "id": "X1cVWxraMa0l"
      },
      "outputs": [],
      "source": [
        "%%time\n",
        "\"\"\"\n",
        "TODO: create a query to create and struct the transactions from the OBSERVATIONS.csv file\n",
        "\"\"\"\n",
        "\n",
        "import argparse\n",
        "import re\n",
        "\n",
        "from google.cloud import dataproc_v1 as dataproc\n",
        "from google.cloud import storage\n",
        "\n",
        "\n"
      ]
    },
    {
      "cell_type": "code",
      "source": [
        "def create_cluster(project_id, region, cluster_name):\n",
        "    \"\"\"This sample walks a user through creating a Cloud Dataproc cluster\n",
        "    using the Python client library.\n",
        "\n",
        "    Args:\n",
        "        project_id (string): Project to use for creating resources.\n",
        "        region (string): Region where the resources should live.\n",
        "        cluster_name (string): Name to use for creating a cluster.\n",
        "    \"\"\"\n",
        "\n",
        "    # Create a client with the endpoint set to the desired cluster region.\n",
        "    cluster_client = dataproc.ClusterControllerClient(\n",
        "        client_options={\"api_endpoint\": f\"{region}-dataproc.googleapis.com:443\"}\n",
        "    )\n",
        "\n",
        "    # Create the cluster config.\n",
        "    cluster = {\n",
        "        \"project_id\": project_id,\n",
        "        \"cluster_name\": cluster_name,\n",
        "        \"config\": {\n",
        "            \"master_config\": {\"num_instances\": 1, \"machine_type_uri\": \"n1-standard-2\"},\n",
        "            \"worker_config\": {\"num_instances\": 2, \"machine_type_uri\": \"n1-standard-2\"},\n",
        "        },\n",
        "    }\n",
        "\n",
        "    # Create the cluster.\n",
        "    operation = cluster_client.create_cluster(\n",
        "        request={\"project_id\": project_id, \"region\": region, \"cluster\": cluster}\n",
        "    )\n",
        "    result = operation.result()\n",
        "\n",
        "    # Output a success message.\n",
        "    print(f\"Cluster created successfully: {result.cluster_name}\")\n",
        "\n",
        "\n",
        "project_id = \"infra-memento-407615\"\n",
        "region = \"us-central1\"\n",
        "cluster_name = \"example-cluster\"\n",
        "\n",
        "create_cluster(project_id, region, cluster_name)"
      ],
      "metadata": {
        "id": "mOLa9fF8-eM4"
      },
      "execution_count": null,
      "outputs": []
    },
    {
      "cell_type": "code",
      "execution_count": null,
      "metadata": {
        "id": "MVBQ12b2Ma0o"
      },
      "outputs": [],
      "source": [
        "%%time\n",
        "\"\"\"\n",
        "TODO: run the MBA algorithm and print the requested output\n",
        "\"\"\""
      ]
    }
  ],
  "metadata": {
    "colab": {
      "collapsed_sections": [
        "ZQOy7hD8t76L"
      ],
      "provenance": []
    },
    "kernelspec": {
      "display_name": "Python 3",
      "language": "python",
      "name": "python3"
    },
    "language_info": {
      "codemirror_mode": {
        "name": "ipython",
        "version": 3
      },
      "file_extension": ".py",
      "mimetype": "text/x-python",
      "name": "python",
      "nbconvert_exporter": "python",
      "pygments_lexer": "ipython3",
      "version": "3.7.3"
    }
  },
  "nbformat": 4,
  "nbformat_minor": 0
}