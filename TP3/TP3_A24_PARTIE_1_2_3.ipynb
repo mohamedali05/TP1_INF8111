{
 "cells": [
  {
   "cell_type": "markdown",
   "metadata": {
    "id": "4mh2MiuVMazk"
   },
   "source": [
    "# TP3 - Market Basket Analysis\n",
    "INF8111 - Fouille de données, Eté 2024\n",
    "### Membres de l'équipe\n",
    "    - Mohamed Ali LAJNEF  (2404991)\n",
    "    - Yannis YAHYA (1886365)\n"
   ]
  },
  {
   "cell_type": "code",
   "source": [
    "import os"
   ],
   "metadata": {
    "id": "oBYZkM_L5NX9",
    "ExecuteTime": {
     "end_time": "2024-11-11T18:06:01.589493400Z",
     "start_time": "2024-11-11T18:06:01.574614100Z"
    }
   },
   "execution_count": null,
   "outputs": []
  },
  {
   "cell_type": "code",
   "execution_count": null,
   "outputs": [],
   "source": [
    "ROOT = os.getcwd()+'/data/'"
   ],
   "metadata": {
    "ExecuteTime": {
     "end_time": "2024-11-11T18:06:02.156074Z",
     "start_time": "2024-11-11T18:06:02.133600500Z"
    },
    "id": "zDW_ttnsm64s"
   }
  },
  {
   "cell_type": "markdown",
   "metadata": {
    "id": "bh1o2bpwPQJG"
   },
   "source": [
    "## Date et directives de remise\n",
    "Vous remettrez l'ensemble des fichiers fichiers nécessaires à la réalisation de TP au sein d'une archive compressée ZIP nommée TP3\\_NomDuMembre1\\_NomDuMembre2\\_NomDuMembre3\n",
    "\n",
    "Cette archive devra, au minimum, inclure ce notebook, nommé TP3\\_NomDuMembre1\\_NomDuMembre2\\_NomDuMembre3.ipynb\n",
    "\n",
    "**Date limite: dd mm à hh:mm**."
   ]
  },
  {
   "cell_type": "markdown",
   "source": [
    "## 1. Introduction: Market Basket Analysis"
   ],
   "metadata": {
    "id": "taIxayWsmT9m"
   }
  },
  {
   "cell_type": "markdown",
   "metadata": {
    "id": "ZQOy7hD8t76L"
   },
   "source": [
    "### Présentation\n",
    "\n",
    "Le *Market Basket Analysis* (MBA) est une technique d'analyse de la fouille de données qui permet de découvrir les associations entre les produits ou leur regroupement. En explorant des motifs intéressants à partir d'une vaste collection de données, le MBA vise à comprendre / révéler les comportements d'achat des clients en se basant sur la théorie selon laquelle si vous avez acheté un certain ensemble de produits, vous êtes plus (ou moins) susceptible d'acheter un autre groupe de produits. En d'autres termes, le MBA permet aux détaillants d'identifier la relation entre les articles que les clients achètent, révélant des tendances d'articles souvent achetés ensemble.\n",
    "\n",
    "Une approche largement utilisée pour explorer ces motifs consiste à construire *** des règles d'association *** telles que\n",
    "- **si** acheté *ITEM_1* **alors** achètera *ITEM_2* avec **confiance** *X*.\n",
    "\n",
    "Ces associations n'ont pas à être des règles individuelles. Ils peuvent impliquer de nombreux éléments. Par exemple, une personne dans un supermarché peut ajouter des œufs dans son panier, puis le MBA peut suggérer qu'elle achètera également du pain et/ou de la farine:\n",
    "\n",
    "+ **si**  acheté *OEUFS* **alors** achètera [*PAIN* avec confiance *0,2*; *FARINE* avec confiance 0,05].\n",
    "\n",
    "Cependant, si la personne décide maintenant d'ajouter de la farine à son panier, la nouvelle règle d'association pourrait être comme ci-dessous, suggérant des ingrédients pour faire un gâteau.\n",
    "\n",
    "+ **si** acheté [*OEUFS, FARINE*] **alors** achètera [*SUCRE* avec confiance 0,45; LEVURE avec confiance 0,12; *PAIN* avec confiance *0,03*].\n",
    "\n",
    "Il existe de nombreux scénarios réels où le MBA joue un rôle central dans l'analyse des données, comme les transactions de supermarché, les commandes en ligne ou l'historique des cartes de crédit. Avec une approche un peu moins mercantile, cet algorithme est aussi utilisé dans le domaine médical. Les spécialistes du marketing peuvent utiliser ces règles d'association pour organiser les produits corrélés plus près les uns des autres sur les étagères des magasins ou faire des suggestions en ligne afin que les clients achètent plus d'articles. Un MBA peut généralement aider les détaillants à répondre aux questions les suivantes:\n",
    "\n",
    "- Quels articles sont souvent achetés ensemble ?\n",
    "- Étant donné un panier, quels articles suggérer ?\n",
    "- Comment placer les articles ensemble sur les étagères ?\n"
   ]
  },
  {
   "cell_type": "markdown",
   "source": [
    "### Objectif\n",
    "\n",
    "Votre objectif dans ce TP est de développer un algorithme MBA pour révéler les motifs en créant des règles d'association dans un ensemble de données volumineux avec plus de trois millions de transactions de supermarché. Cependant, la collecte de règles d'association dans les grands ensembles de données est un problème très intensif en calcul, ce qui rend presque impossible leur exécution sans système distribué. Par conséquent, pour exécuter votre algorithme, vous aurez accès à un cluster de *cloud computing* distribué avec des centaines de cœurs.\n",
    "\n",
    "À cette fin, un algorithme **MapReduce** sera implémenté avec le framework [Apache Spark](http://spark.apache.org), un système informatique distribué rapide. En résumé, Spark est un framework open source conçu avec une méthodologie *scale-out* qui en fait un outil très puissant pour les programmeurs ou les développeurs d'applications pour effectuer un volume massif de calculs et de traitement de données dans des environnements distribués. Spark fournit des API de haut niveau qui facilitent la création d'applications parallèles sans avoir à se soucier de la façon dont votre code et vos données sont parallélisés / distribués par le cluster informatique. Spark fait tout pour vous.\n",
    "\n",
    "La mise en œuvre suivra l'algorithme d'analyse du panier de marché présenté par Jongwook Woo et Yuhang Xu (2012). L'image **workflow.pdf** illustre le flux de travail de l'algorithme et doit être utilisée pour consultation tout au long de ce TP. Les cases bleues sont celles où vous devez implémenter une méthode pour effectuer une fonction de mappage ou de réduction, et les cases grises représentent leur sortie attendue. **Toutes ces opérations sont expliquées en détail dans les sections suivantes.**"
   ],
   "metadata": {
    "id": "_WwuVfQgmaRV"
   }
  },
  {
   "cell_type": "markdown",
   "metadata": {
    "id": "VmJEz5JEMazl"
   },
   "source": [
    "## 1. Configuration de Spark"
   ]
  },
  {
   "cell_type": "markdown",
   "source": [
    "#### Exécution avec le notebook Google Colab (fortement conseillé)"
   ],
   "metadata": {
    "id": "kISGZ7w7mue0"
   }
  },
  {
   "cell_type": "code",
   "execution_count": null,
   "metadata": {
    "id": "JmUMt4htMazm",
    "colab": {
     "base_uri": "https://localhost:8080/"
    },
    "outputId": "6e5f368b-b882-4468-e7ad-b41d52b0b9e3",
    "ExecuteTime": {
     "end_time": "2024-11-11T18:37:02.458279700Z",
     "start_time": "2024-11-11T18:35:59.400002400Z"
    }
   },
   "outputs": [
    {
     "output_type": "stream",
     "name": "stdout",
     "text": [
      "Requirement already satisfied: pyspark in /usr/local/lib/python3.10/dist-packages (3.5.3)\n",
      "Requirement already satisfied: py4j==0.10.9.7 in /usr/local/lib/python3.10/dist-packages (from pyspark) (0.10.9.7)\n"
     ]
    }
   ],
   "source": [
    "import os\n",
    "!apt-get install openjdk-17-jdk-headless -qq > /dev/null\n",
    "os.environ[\"JAVA_HOME\"] = \"/usr/lib/jvm/java-17-openjdk-amd64\"\n",
    "!pip install pyspark"
   ]
  },
  {
   "cell_type": "markdown",
   "source": [
    "#### Exécution en local\n",
    "\n"
   ],
   "metadata": {
    "id": "dGqidjm0m46p"
   }
  },
  {
   "cell_type": "markdown",
   "source": [
    "Spark fonctionne sur les systèmes Windows et UNIX (par exemple, Linux, Mac OS). Il est facile d'exécuter Spark localement sur une seule machine - tout ce dont vous avez besoin est d'avoir Java installé sur votre système PATH, ou la variable d'environnement JAVA_HOME pointant vers une installation Java. Il est obligatoire que le **JDK v8** soit installé sur votre système, car Spark ne prend actuellement en charge que cette version. Si ce n'est pas le cas, accédez à [la page Web de Java](https://www.oracle.com/technetwork/java/javase/downloads/jdk8-downloads-2133151.html) pour télécharger et installer une machine virtuelle Java. N'oubliez pas de définir la variable d'environnement JAVA_HOME pour utiliser JDK v8 si votre installation ne le fait pas automatiquement.\n",
    "\n",
    "L'interface entre Python et Spark se fait via **PySpark**, qui peut être installé en exécutant `pip install pyspark` ou configuré en suivant la séquence ci-dessous:\n",
    "\n",
    "1. D'abord, allez sur http://spark.apache.org/downloads\n",
    "2. Sélectionnez la dernière version de Spark et le package pré-construit pour Apache Hadoop 2.7\n",
    "3. Cliquez pour télécharger **spark-2.4.5-bin-hadoop2.7.tgz** et décompressez-le dans le dossier de votre choix.\n",
    "4. Ensuite, exportez les variables suivantes pour lier PYSPARK (l'interface python de Spark) à votre distribution python dans votre fichier `~/.bash_profile`.\n",
    "\n",
    "``\n",
    "export SPARK_HOME=/chemin/ vers / spark-2.4.5-bin-hadoop2.7\n",
    "export PYTHONPATH=\"$SPARK_HOME/python:$SPARK_HOME/python/lib/py4j-0.10.7-src.zip:$SPARK_HOME/python/lib/pyspark.zip:$ PYTHONPATH\"\n",
    "export PYSPARK_PYTHON=/chemin/vers/votre/python3\n",
    "``\n",
    "\n",
    "5. Exécutez `source ~./bash_profile` pour effectuer les modifications et redémarrer cette session de notebook jupyter."
   ],
   "metadata": {
    "id": "g1PhMitvnCW2"
   }
  },
  {
   "cell_type": "markdown",
   "metadata": {
    "id": "rovSCW_vYs7m"
   },
   "source": [
    "#### Test de l'installation\n",
    "À l'aide du code suivant, vous pouvez tester si Spark est correctement installé."
   ]
  },
  {
   "cell_type": "code",
   "execution_count": null,
   "metadata": {
    "id": "UxgNiBFkYs7n",
    "is_executing": true,
    "ExecuteTime": {
     "start_time": "2024-11-11T18:41:28.979827400Z"
    },
    "colab": {
     "base_uri": "https://localhost:8080/"
    },
    "outputId": "570d939a-27e5-4d1a-fd88-89138f4066e6"
   },
   "outputs": [
    {
     "output_type": "stream",
     "name": "stdout",
     "text": [
      "+-----+\n",
      "|hello|\n",
      "+-----+\n",
      "|spark|\n",
      "+-----+\n"
     ]
    }
   ],
   "source": [
    "import pyspark\n",
    "from pyspark.sql import SparkSession\n",
    "spark = SparkSession.builder.getOrCreate()\n",
    "df = spark.sql(\"select 'spark' as hello \")\n",
    "df.show()"
   ]
  },
  {
   "cell_type": "markdown",
   "source": [
    "### 1.1 Exemple de comptage de produits / Products Counting Example\n",
    "\n",
    "Pour tester votre installation et commencer à vous familiariser avec Spark, nous suivrons un exemple qui compte combien de fois les produits du GroceryDataset dataset ont été achetés.\n",
    "\n",
    "Le principal point d'entrée pour commencer la programmation avec Spark est [l'API RDD](https://spark.apache.org/docs/latest/rdd-programming-guide.html), une excellente abstraction Spark pour travailler avec MapReduce. RDD est une collection d'éléments partitionnés sur les nœuds du cluster qui peuvent fonctionner en parallèle. En d'autres termes, RDD est la façon dont Spark maintient vos données prêtes à exécuter une fonction (par exemple, une fonction Map ou une fonction reduce) en parallèle. **Ne vous inquiétez pas si cela semble toujours déroutant, il sera clair une fois que vous commencerez à l'implémenter**. Cependant, cela fait partie de ce TP d'étudier / consulter [Spark python API](https://spark.apache.org/docs/latest/api/python/) et d'apprendre à l'utiliser. Certaines fonctions utiles offertes par l'API RDD sont:\n",
    "\n",
    "1. **map**: return a new RDD by applying a function to each element of this RDD.\n",
    "2. **flatMap**: return a new RDD by first applying a function to all elements of this RDD, and then flattening the results. **Should be used when each entry will yield more than one mapped element**\n",
    "3. **reduce**: reduces the elements of this RDD using the specified commutative and associative binary operator.\n",
    "4. **reduceByKey**: merge the values for each key using an associative and commutative reduce function\n",
    "5. **groupByKey**: group the values for each key in the RDD into a single sequence\n",
    "6. **collect**: return a list that contains all of the elements in this RDD. **Should not be used when working with a lot of data**\n",
    "7. **takeSample**: return a sampled subset of this RDD\n",
    "8. **count**: return the number of elements in this RDD.\n",
    "9. **filter**: return a new RDD containing only the elements that satisfy a predicate."
   ],
   "metadata": {
    "id": "Sy3pBo7mZSsM"
   }
  },
  {
   "cell_type": "code",
   "execution_count": null,
   "metadata": {
    "id": "NZDz1nrBMazu",
    "colab": {
     "base_uri": "https://localhost:8080/"
    },
    "outputId": "b001d64b-3164-495c-b3e9-1855e24326d9"
   },
   "outputs": [
    {
     "output_type": "stream",
     "name": "stdout",
     "text": [
      "Grocery dataset\n",
      "+--------+--------------------+\n",
      "|order_id|         transaction|\n",
      "+--------+--------------------+\n",
      "|       0|  MILK,BREAD,BISCUIT|\n",
      "|       1|BREAD,MILK,BISCUI...|\n",
      "|       2| BREAD,TEA,BOURNVITA|\n",
      "|       3|JAM,MAGGI,BREAD,MILK|\n",
      "|       4|   MAGGI,TEA,BISCUIT|\n",
      "|       5| BREAD,TEA,BOURNVITA|\n",
      "|       6|MAGGI,TEA,CORNFLAKES|\n",
      "|       7|MAGGI,BREAD,TEA,B...|\n",
      "|       8| JAM,MAGGI,BREAD,TEA|\n",
      "|       9|          BREAD,MILK|\n",
      "|      10|COFFEE,COCK,BISCU...|\n",
      "|      11|COFFEE,COCK,BISCU...|\n",
      "|      12|COFFEE,SUGER,BOUR...|\n",
      "|      13|   BREAD,COFFEE,COCK|\n",
      "|      14| BREAD,SUGER,BISCUIT|\n",
      "|      15|COFFEE,SUGER,CORN...|\n",
      "|      16|BREAD,SUGER,BOURN...|\n",
      "|      17|  BREAD,COFFEE,SUGER|\n",
      "|      18|  BREAD,COFFEE,SUGER|\n",
      "|      19|TEA,MILK,COFFEE,C...|\n",
      "+--------+--------------------+\n",
      "\n",
      "Grocery dataframe as a RDD object (list of Row objects):\n",
      "\t [Row(order_id=0, transaction='MILK,BREAD,BISCUIT'), Row(order_id=1, transaction='BREAD,MILK,BISCUIT,CORNFLAKES'), Row(order_id=2, transaction='BREAD,TEA,BOURNVITA'), Row(order_id=3, transaction='JAM,MAGGI,BREAD,MILK'), Row(order_id=4, transaction='MAGGI,TEA,BISCUIT'), Row(order_id=5, transaction='BREAD,TEA,BOURNVITA'), Row(order_id=6, transaction='MAGGI,TEA,CORNFLAKES'), Row(order_id=7, transaction='MAGGI,BREAD,TEA,BISCUIT'), Row(order_id=8, transaction='JAM,MAGGI,BREAD,TEA'), Row(order_id=9, transaction='BREAD,MILK'), Row(order_id=10, transaction='COFFEE,COCK,BISCUIT,CORNFLAKES'), Row(order_id=11, transaction='COFFEE,COCK,BISCUIT,CORNFLAKES'), Row(order_id=12, transaction='COFFEE,SUGER,BOURNVITA'), Row(order_id=13, transaction='BREAD,COFFEE,COCK'), Row(order_id=14, transaction='BREAD,SUGER,BISCUIT'), Row(order_id=15, transaction='COFFEE,SUGER,CORNFLAKES'), Row(order_id=16, transaction='BREAD,SUGER,BOURNVITA'), Row(order_id=17, transaction='BREAD,COFFEE,SUGER'), Row(order_id=18, transaction='BREAD,COFFEE,SUGER'), Row(order_id=19, transaction='TEA,MILK,COFFEE,CORNFLAKES')]\n",
      "\n",
      "Mapped products:\n",
      "\t [('MILK', 1), ('BREAD', 1), ('BISCUIT', 1), ('BREAD', 1), ('MILK', 1), ('BISCUIT', 1), ('CORNFLAKES', 1), ('BREAD', 1), ('TEA', 1), ('BOURNVITA', 1), ('JAM', 1), ('MAGGI', 1), ('BREAD', 1), ('MILK', 1), ('MAGGI', 1), ('TEA', 1), ('BISCUIT', 1), ('BREAD', 1), ('TEA', 1), ('BOURNVITA', 1), ('MAGGI', 1), ('TEA', 1), ('CORNFLAKES', 1), ('MAGGI', 1), ('BREAD', 1), ('TEA', 1), ('BISCUIT', 1), ('JAM', 1), ('MAGGI', 1), ('BREAD', 1), ('TEA', 1), ('BREAD', 1), ('MILK', 1), ('COFFEE', 1), ('COCK', 1), ('BISCUIT', 1), ('CORNFLAKES', 1), ('COFFEE', 1), ('COCK', 1), ('BISCUIT', 1), ('CORNFLAKES', 1), ('COFFEE', 1), ('SUGER', 1), ('BOURNVITA', 1), ('BREAD', 1), ('COFFEE', 1), ('COCK', 1), ('BREAD', 1), ('SUGER', 1), ('BISCUIT', 1), ('COFFEE', 1), ('SUGER', 1), ('CORNFLAKES', 1), ('BREAD', 1), ('SUGER', 1), ('BOURNVITA', 1), ('BREAD', 1), ('COFFEE', 1), ('SUGER', 1), ('BREAD', 1), ('COFFEE', 1), ('SUGER', 1), ('TEA', 1), ('MILK', 1), ('COFFEE', 1), ('CORNFLAKES', 1)]\n",
      "\n",
      "Reduced (merged) products:\n",
      "\t [('MILK', 5), ('BREAD', 13), ('BISCUIT', 7), ('CORNFLAKES', 6), ('TEA', 7), ('BOURNVITA', 4), ('JAM', 2), ('MAGGI', 5), ('COFFEE', 8), ('COCK', 3), ('SUGER', 6)]\n",
      "\n",
      "Visualizing as a dataframe:\n",
      "+----------+-------------+\n",
      "|   product|count_product|\n",
      "+----------+-------------+\n",
      "|      MILK|            5|\n",
      "|     BREAD|           13|\n",
      "|   BISCUIT|            7|\n",
      "|CORNFLAKES|            6|\n",
      "|       TEA|            7|\n",
      "| BOURNVITA|            4|\n",
      "|       JAM|            2|\n",
      "|     MAGGI|            5|\n",
      "|    COFFEE|            8|\n",
      "|      COCK|            3|\n",
      "|     SUGER|            6|\n",
      "+----------+-------------+\n"
     ]
    }
   ],
   "source": [
    "from pyspark.sql import SparkSession\n",
    "from pyspark.sql.functions import monotonically_increasing_id\n",
    "\n",
    "def map_to_product(row):\n",
    "    \"\"\"\n",
    "    Map each transaction into a set of KEY-VALUE elements.\n",
    "    The KEY is the word (product) itself and the VALUE is its number of apparitions.\n",
    "    \"\"\"\n",
    "    products = row.transaction.split(',') # split products from the column transaction\n",
    "    for p in products:\n",
    "        yield (p, 1)\n",
    "\n",
    "def reduce_product_by_key(value1, value2):\n",
    "    \"Reduce the mapped objects to unique words by merging (summing ) their values\"\n",
    "    return value1+value2\n",
    "\n",
    "# Initializates a object of SparkSession class, main entry point to Spark's funcionalites\n",
    "spark = SparkSession.builder.getOrCreate()\n",
    "\n",
    "# Read a grocery dataset\n",
    "grocery = spark.read.csv(ROOT + \"GroceryDataset.csv\") \\\n",
    "              .withColumnRenamed('_c0', 'transaction') \\\n",
    "              .select(\"*\").withColumn(\"order_id\", monotonically_increasing_id())\n",
    "\n",
    "grocery = grocery.select(\"order_id\", \"transaction\")\n",
    "\n",
    "print(\"Grocery dataset\")\n",
    "grocery.show()\n",
    "\n",
    "# Obtain a RDD object to call a map function\n",
    "grocery_rdd = grocery.rdd\n",
    "print(\"Grocery dataframe as a RDD object (list of Row objects):\\n\\t\", grocery_rdd.collect())\n",
    "\n",
    "# Map function to identify all products\n",
    "grocery_rdd = grocery_rdd.flatMap(map_to_product)\n",
    "print(\"\\nMapped products:\\n\\t\", grocery_rdd.collect())\n",
    "\n",
    "# Reduce function to merge values of elements that share the same KEY\n",
    "grocery_rdd = grocery_rdd.reduceByKey(reduce_product_by_key)\n",
    "print(\"\\nReduced (merged) products:\\n\\t\", grocery_rdd.collect())\n",
    "\n",
    "print(\"\\nVisualizing as a dataframe:\")\n",
    "grocery_rdd.toDF([\"product\", \"count_product\"]).show()"
   ]
  },
  {
   "cell_type": "markdown",
   "source": [
    "### 1.1 Exemple de comptage de produits / Products Counting Example"
   ],
   "metadata": {
    "id": "MSbOqazVnsMf"
   }
  },
  {
   "cell_type": "markdown",
   "metadata": {
    "id": "PpJGQmzXMazz"
   },
   "source": [
    "### 1.2 Travailler avec Spark Dataframe / Working with Spark Dataframes\n",
    "\n",
    "Dans l'exemple ci-dessus, nous avons brièvement utilisé une classe Dataframe de Spark, mais uniquement pour obtenir un objet RDD avec ``toy.rdd`` et pour aficher les données sous forme de tableau structuré avec le ``show ()`` une fonction. Cependant, [Dataframe](http://spark.apache.org/docs/latest/api/python/) est une partie cruciale de la version actuelle de Spark et est construit sur l'API RDD. Il s'agit d'une collection distribuée de lignes sous des colonnes nommées, identique à une table dans une base de données relationnelle. Le Dataframe de Spark fonctionne de la même manière que [Pandas](https://pandas.pydata.org/pandas-docs/stable/reference/api/pandas.DataFrame.html). En fait, nous pouvons exporter (obtenir) une Dataframe Spark vers (à partir de) ​​une Dataframe pandas avec la fonction ``toPandas()``  (``spark.createDataFrame``).\n",
    "\n",
    "Une fonctionnalité centrale du Dataframe est de bénéficier du [Spark SQL](https://spark.apache.org/docs/latest/sql-programming-guide.html#sql), un module qui permet des requêtes SQL sur des données structurées. Par exemple, le même « exemple de comptage de produits » aurait pu être implémenté comme une séquence d'opérations SQL sur les données:"
   ]
  },
  {
   "cell_type": "code",
   "execution_count": null,
   "metadata": {
    "id": "oFL6BuIDMaz0",
    "colab": {
     "base_uri": "https://localhost:8080/"
    },
    "outputId": "f13e61d8-f5e4-4b93-f88f-adf2fb21ae03"
   },
   "outputs": [
    {
     "output_type": "stream",
     "name": "stdout",
     "text": [
      "New column 'products': exploding the transaction's products to a new row\n",
      "+--------+--------------------+----------+\n",
      "|order_id|         transaction|  products|\n",
      "+--------+--------------------+----------+\n",
      "|       0|  MILK,BREAD,BISCUIT|      MILK|\n",
      "|       0|  MILK,BREAD,BISCUIT|     BREAD|\n",
      "|       0|  MILK,BREAD,BISCUIT|   BISCUIT|\n",
      "|       1|BREAD,MILK,BISCUI...|     BREAD|\n",
      "|       1|BREAD,MILK,BISCUI...|      MILK|\n",
      "|       1|BREAD,MILK,BISCUI...|   BISCUIT|\n",
      "|       1|BREAD,MILK,BISCUI...|CORNFLAKES|\n",
      "|       2| BREAD,TEA,BOURNVITA|     BREAD|\n",
      "|       2| BREAD,TEA,BOURNVITA|       TEA|\n",
      "|       2| BREAD,TEA,BOURNVITA| BOURNVITA|\n",
      "|       3|JAM,MAGGI,BREAD,MILK|       JAM|\n",
      "|       3|JAM,MAGGI,BREAD,MILK|     MAGGI|\n",
      "|       3|JAM,MAGGI,BREAD,MILK|     BREAD|\n",
      "|       3|JAM,MAGGI,BREAD,MILK|      MILK|\n",
      "|       4|   MAGGI,TEA,BISCUIT|     MAGGI|\n",
      "|       4|   MAGGI,TEA,BISCUIT|       TEA|\n",
      "|       4|   MAGGI,TEA,BISCUIT|   BISCUIT|\n",
      "|       5| BREAD,TEA,BOURNVITA|     BREAD|\n",
      "|       5| BREAD,TEA,BOURNVITA|       TEA|\n",
      "|       5| BREAD,TEA,BOURNVITA| BOURNVITA|\n",
      "+--------+--------------------+----------+\n",
      "only showing top 20 rows\n",
      "\n",
      "Couting unique products:\n",
      "+----------+-------------+\n",
      "|  products|count_product|\n",
      "+----------+-------------+\n",
      "|     BREAD|           13|\n",
      "|    COFFEE|            8|\n",
      "|       TEA|            7|\n",
      "|   BISCUIT|            7|\n",
      "|CORNFLAKES|            6|\n",
      "|     SUGER|            6|\n",
      "|      MILK|            5|\n",
      "|     MAGGI|            5|\n",
      "| BOURNVITA|            4|\n",
      "|      COCK|            3|\n",
      "|       JAM|            2|\n",
      "+----------+-------------+\n"
     ]
    }
   ],
   "source": [
    "import pyspark.sql.functions as f\n",
    "\n",
    "# Creates a new column, products, with all products appering in each transaction\n",
    "print('New column \\'products\\': exploding the transaction\\'s products to a new row')\n",
    "df_grocery = grocery.withColumn('products', f.explode(f.split(grocery.transaction, ',')))\n",
    "df_grocery.show()\n",
    "\n",
    "# Performs a select query and group rows by the product name, aggreagating by counting\n",
    "print('Couting unique products:')\n",
    "df_grocery.select(df_grocery.products)\\\n",
    "      .groupBy(df_grocery.products)\\\n",
    "      .agg(f.count('products').alias('count_product'))\\\n",
    "      .sort('count_product', ascending=False)\\\n",
    "      .show()"
   ]
  },
  {
   "cell_type": "markdown",
   "metadata": {
    "id": "W4HFs8CVMaz3"
   },
   "source": [
    "En outre, les mêmes opérations SQL effectuées ci-dessus auraient pu être effectuées avec une requête en langage SQL traditionnel comme indiqué ci-dessous:"
   ]
  },
  {
   "cell_type": "code",
   "execution_count": null,
   "metadata": {
    "id": "O_eYl-7tMaz3",
    "colab": {
     "base_uri": "https://localhost:8080/"
    },
    "outputId": "3fda0ddb-3953-4982-c89a-cbe11b7f7997"
   },
   "outputs": [
    {
     "output_type": "stream",
     "name": "stdout",
     "text": [
      "+----------+-------------+\n",
      "|  products|product_count|\n",
      "+----------+-------------+\n",
      "|     BREAD|           13|\n",
      "|    COFFEE|            8|\n",
      "|       TEA|            7|\n",
      "|   BISCUIT|            7|\n",
      "|CORNFLAKES|            6|\n",
      "|     SUGER|            6|\n",
      "|      MILK|            5|\n",
      "|     MAGGI|            5|\n",
      "| BOURNVITA|            4|\n",
      "|      COCK|            3|\n",
      "|       JAM|            2|\n",
      "+----------+-------------+\n"
     ]
    }
   ],
   "source": [
    "# Creates a relational table Grocery in the Spark session\n",
    "df_grocery.createOrReplaceTempView(\"Grocery\")\n",
    "\n",
    "spark.sql(\"SELECT t.products, COUNT(t.products) AS product_count\"\n",
    "          \" FROM Grocery t\"\n",
    "          \" GROUP BY t.products\"\n",
    "          \" ORDER BY product_count DESC\").show()"
   ]
  },
  {
   "cell_type": "markdown",
   "metadata": {
    "id": "MTMT2RlqQBj9"
   },
   "source": [
    "Ces concepts SQL sont mentionnés ici car ils nous seront utiles lors du TP, principalement dans la section 3, pour manipuler les données du supermarché, qui sont structurées en tableaux. Ainsi, si vous n'êtes pas familier avec SQL, il est recommandé de suivre un [tutoriel](https://www.w3schools.com/sql/) pour comprendre les bases."
   ]
  },
  {
   "cell_type": "markdown",
   "metadata": {
    "id": "s1oZzC-ZQEE0"
   },
   "source": [
    "\n",
    "\n",
    "## 2. Algorithme MBA (45 points)\n",
    "Les sections suivantes expliquent comment développer chaque étape de l'algorithme MapReduce pour notre application commerciale. La figure workflow.pdf illustre chaque étape de l'algorithme."
   ]
  },
  {
   "cell_type": "markdown",
   "metadata": {
    "id": "T0Onr2NxMaz8"
   },
   "source": [
    "\n",
    "\n",
    "### 2.1 Map to Patterns (10 points)\n",
    "Pour un sous-ensemble de transactions (c'est-à-dire les lignes de notre grocery dataset), chaque transaction doit être **mappée** vers un ensemble de *motifs d'achat* trouvés dans la transaction. Formellement, ces motifs sont des sous-ensembles de produits qui représentent un groupe d'articles achetés ensemble.\n",
    "\n",
    "Pour le framework MapReduce, chaque motif doit être créé comme un élément *KEY-VALUE*, où la KEY peut prendre la forme d'un singleton, d'une paire ou d'un trio de produits présents dans la transaction. Plus précisément, pour chaque transaction, la fonction de mappage doit générer tous les sous-ensembles **UNIQUE** possibles de taille **UN, DEUX ou TROIS**. La VALEUR associée à chaque KEY est le nombre de fois que la KEY est apparue dans la transaction (si nous supposons qu'aucun produit n'apparaît plus d'une fois dans la transaction, cette valeur est toujours égale à un).\n",
    "\n",
    "Maintenant, implémentez la fonction **map_to_patterns** qui reçoit une transaction (une ligne du dataset) et retourne les motifs trouvés dans la transaction. Les éléments mappés sont un tuple (KEY, VALUE), où KEY est également un tuple de noms de produits. Il est crucial de noter que, puisque chaque entrée (transaction) de la fonction MAP produira **plus** un élément KEY-VALUE, un *flatMap* doit être invoqué pour cette étape. Pour le \"grocery dataset\", la sortie attendue est :\n",
    "\n",
    "<pre style=\"align:center; border:1px solid black;font-size: 8pt; line-height: 1.1; height: auto; width: 20em; padding-left:1px\">\n",
    "<code>\n",
    "+-----------------------------------+-----------+\n",
    "|patterns                           |occurrences|\n",
    "+-----------------------------------+-----------+\n",
    "|('BISCUIT', 'BREAD')               |1          |\n",
    "|('BISCUIT', 'BREAD')               |1          |\n",
    "|('BISCUIT', 'BREAD')               |1          |\n",
    "|('BISCUIT', 'BREAD')               |1          |\n",
    "|('BISCUIT', 'BREAD', 'CORNFLAKES') |1          |\n",
    "|('BISCUIT', 'BREAD', 'MAGGI')      |1          |\n",
    "|('BISCUIT', 'BREAD', 'MILK')       |1          |\n",
    "|('BISCUIT', 'BREAD', 'MILK')       |1          |\n",
    "|('BISCUIT', 'BREAD', 'SUGER')      |1          |\n",
    "|('BISCUIT', 'BREAD', 'TEA')        |1          |\n",
    "|('BISCUIT', 'COCK')                |1          |\n",
    "|('BISCUIT', 'COCK')                |1          |\n",
    "|('BISCUIT', 'COCK', 'COFFEE')      |1          |\n",
    "|('BISCUIT', 'COCK', 'COFFEE')      |1          |\n",
    "|('BISCUIT', 'COCK', 'CORNFLAKES')  |1          |\n",
    "|('BISCUIT', 'COCK', 'CORNFLAKES')  |1          |\n",
    "|('BISCUIT', 'COFFEE')              |1          |\n",
    "|('BISCUIT', 'COFFEE')              |1          |\n",
    "|('BISCUIT', 'COFFEE', 'CORNFLAKES')|1          |\n",
    "|('BISCUIT', 'COFFEE', 'CORNFLAKES')|1          |\n",
    "|('BISCUIT', 'CORNFLAKES')          |1          |\n",
    "|('BISCUIT', 'CORNFLAKES')          |1          |\n",
    "|('BISCUIT', 'CORNFLAKES')          |1          |\n",
    "|('BISCUIT', 'CORNFLAKES', 'MILK')  |1          |\n",
    "|('BISCUIT', 'MAGGI')               |1          |\n",
    "|('BISCUIT', 'MAGGI')               |1          |\n",
    "|('BISCUIT', 'MAGGI', 'TEA')        |1          |\n",
    "|('BISCUIT', 'MAGGI', 'TEA')        |1          |\n",
    "|('BISCUIT', 'MILK')                |1          |\n",
    "|('BISCUIT', 'MILK')                |1          |\n",
    "|('BISCUIT', 'SUGER')               |1          |\n",
    "|('BISCUIT', 'TEA')                 |1          |\n",
    "|('BISCUIT', 'TEA')                 |1          |\n",
    "|('BISCUIT',)                       |1          |\n",
    "|('BISCUIT',)                       |1          |\n",
    "|('BISCUIT',)                       |1          |\n",
    "|('BISCUIT',)                       |1          |\n",
    "|('BISCUIT',)                       |1          |\n",
    "|('BISCUIT',)                       |1          |\n",
    "|('BISCUIT',)                       |1          |\n",
    "|('BOURNVITA', 'BREAD')             |1          |\n",
    "|('BOURNVITA', 'BREAD')             |1          |\n",
    "|('BOURNVITA', 'BREAD')             |1          |\n",
    "|('BOURNVITA', 'BREAD', 'SUGER')    |1          |\n",
    "|('BOURNVITA', 'BREAD', 'TEA')      |1          |\n",
    "|('BOURNVITA', 'BREAD', 'TEA')      |1          |\n",
    "|('BOURNVITA', 'COFFEE')            |1          |\n",
    "|('BOURNVITA', 'COFFEE', 'SUGER')   |1          |\n",
    "|('BOURNVITA', 'SUGER')             |1          |\n",
    "|('BOURNVITA', 'SUGER')             |1          |\n",
    "+-----------------------------------+-----------+\n",
    "</code>\n",
    "</pre>\n",
    "\n",
    "Votre sortie devra ainsi être **exactement** la même, sans quoi aucun point ne pourra vous être attribué pour cette question."
   ]
  },
  {
   "cell_type": "code",
   "execution_count": null,
   "metadata": {
    "id": "BscKKDAjMaz9",
    "colab": {
     "base_uri": "https://localhost:8080/"
    },
    "outputId": "91a22155-9265-4b11-8f02-519d844ed58e"
   },
   "outputs": [
    {
     "output_type": "stream",
     "name": "stdout",
     "text": [
      "+-----------------------------------+-----------+\n",
      "|patterns                           |occurrences|\n",
      "+-----------------------------------+-----------+\n",
      "|('BISCUIT', 'BREAD')               |1          |\n",
      "|('BISCUIT', 'BREAD')               |1          |\n",
      "|('BISCUIT', 'BREAD')               |1          |\n",
      "|('BISCUIT', 'BREAD')               |1          |\n",
      "|('BISCUIT', 'BREAD', 'CORNFLAKES') |1          |\n",
      "|('BISCUIT', 'BREAD', 'MAGGI')      |1          |\n",
      "|('BISCUIT', 'BREAD', 'MILK')       |1          |\n",
      "|('BISCUIT', 'BREAD', 'MILK')       |1          |\n",
      "|('BISCUIT', 'BREAD', 'SUGER')      |1          |\n",
      "|('BISCUIT', 'BREAD', 'TEA')        |1          |\n",
      "|('BISCUIT', 'COCK')                |1          |\n",
      "|('BISCUIT', 'COCK')                |1          |\n",
      "|('BISCUIT', 'COCK', 'COFFEE')      |1          |\n",
      "|('BISCUIT', 'COCK', 'COFFEE')      |1          |\n",
      "|('BISCUIT', 'COCK', 'CORNFLAKES')  |1          |\n",
      "|('BISCUIT', 'COCK', 'CORNFLAKES')  |1          |\n",
      "|('BISCUIT', 'COFFEE')              |1          |\n",
      "|('BISCUIT', 'COFFEE')              |1          |\n",
      "|('BISCUIT', 'COFFEE', 'CORNFLAKES')|1          |\n",
      "|('BISCUIT', 'COFFEE', 'CORNFLAKES')|1          |\n",
      "|('BISCUIT', 'CORNFLAKES')          |1          |\n",
      "|('BISCUIT', 'CORNFLAKES')          |1          |\n",
      "|('BISCUIT', 'CORNFLAKES')          |1          |\n",
      "|('BISCUIT', 'CORNFLAKES', 'MILK')  |1          |\n",
      "|('BISCUIT', 'MAGGI')               |1          |\n",
      "|('BISCUIT', 'MAGGI')               |1          |\n",
      "|('BISCUIT', 'MAGGI', 'TEA')        |1          |\n",
      "|('BISCUIT', 'MAGGI', 'TEA')        |1          |\n",
      "|('BISCUIT', 'MILK')                |1          |\n",
      "|('BISCUIT', 'MILK')                |1          |\n",
      "|('BISCUIT', 'SUGER')               |1          |\n",
      "|('BISCUIT', 'TEA')                 |1          |\n",
      "|('BISCUIT', 'TEA')                 |1          |\n",
      "|('BISCUIT',)                       |1          |\n",
      "|('BISCUIT',)                       |1          |\n",
      "|('BISCUIT',)                       |1          |\n",
      "|('BISCUIT',)                       |1          |\n",
      "|('BISCUIT',)                       |1          |\n",
      "|('BISCUIT',)                       |1          |\n",
      "|('BISCUIT',)                       |1          |\n",
      "|('BOURNVITA', 'BREAD')             |1          |\n",
      "|('BOURNVITA', 'BREAD')             |1          |\n",
      "|('BOURNVITA', 'BREAD')             |1          |\n",
      "|('BOURNVITA', 'BREAD', 'SUGER')    |1          |\n",
      "|('BOURNVITA', 'BREAD', 'TEA')      |1          |\n",
      "|('BOURNVITA', 'BREAD', 'TEA')      |1          |\n",
      "|('BOURNVITA', 'COFFEE')            |1          |\n",
      "|('BOURNVITA', 'COFFEE', 'SUGER')   |1          |\n",
      "|('BOURNVITA', 'SUGER')             |1          |\n",
      "|('BOURNVITA', 'SUGER')             |1          |\n",
      "+-----------------------------------+-----------+\n"
     ]
    }
   ],
   "source": [
    "from itertools import combinations\n",
    "\n",
    "def format_tuples(pattern):\n",
    "    \"\"\"\n",
    "    Used for visualizition.\n",
    "    Transforms tuples to a string since Dataframe does not support column of tuples with different sizes\n",
    "    (a,b,c) -> '(a,b,c)'\n",
    "    \"\"\"\n",
    "    return (str(pattern[0]), str(pattern[1]))\n",
    "\n",
    "def map_to_patterns(row):\n",
    "    products = row.transaction\n",
    "    products = products.split(',')\n",
    "    products.sort()\n",
    "    for i in range(1, 4):\n",
    "        for pattern in combinations(products, i):\n",
    "          yield (pattern, 1)\n",
    "    \"\"\"\n",
    "    TODO\n",
    "    \"\"\"\n",
    "grocery_rdd = grocery.rdd\n",
    "#grocery.show()\n",
    "patterns_rdd = grocery_rdd.flatMap(map_to_patterns)\n",
    "\n",
    "# # Output as dataframe\n",
    "patterns_rdd.map(format_tuples).toDF(['patterns', 'occurrences']).sort(['patterns']).show(50, truncate=False)"
   ]
  },
  {
   "cell_type": "markdown",
   "metadata": {
    "id": "YvvRw0plMa0B"
   },
   "source": [
    "### 2.2  Reduce patterns  (2,5 points)\n",
    "Une fois que différents processeurs ont traité les transactions, une fonction **reduce** doit être appelée pour combiner des KEYS identiques (le sous-ensemble de produits) et calculer le nombre total de ses occurrences dans le dataset. En d'autres termes, cette procédure de réduction doit additionner la *VALUE* de chaque KEY identique.\n",
    "\n",
    "Créez ci-dessous une fonction **reduce_patterns** qui doit additionner la VALUE de chaque motif.\n",
    "Pour le \"grocery dataset\", la sortie attendue est:\n",
    "\n",
    "<pre style=\"align:center; border:1px solid black;font-size: 8pt; line-height: 1.1; height: auto; width: 28em; padding-left:5px\">\n",
    "<code>\n",
    "+-----------------------------------+--------------------+\n",
    "|patterns                           |combined_occurrences|\n",
    "+-----------------------------------+--------------------+\n",
    "|('BISCUIT', 'BREAD')               |4                   |\n",
    "|('BISCUIT', 'BREAD', 'CORNFLAKES') |1                   |\n",
    "|('BISCUIT', 'BREAD', 'MAGGI')      |1                   |\n",
    "|('BISCUIT', 'BREAD', 'MILK')       |2                   |\n",
    "|('BISCUIT', 'BREAD', 'SUGER')      |1                   |\n",
    "|('BISCUIT', 'BREAD', 'TEA')        |1                   |\n",
    "|('BISCUIT', 'COCK')                |2                   |\n",
    "|('BISCUIT', 'COCK', 'COFFEE')      |2                   |\n",
    "|('BISCUIT', 'COCK', 'CORNFLAKES')  |2                   |\n",
    "|('BISCUIT', 'COFFEE')              |2                   |\n",
    "|('BISCUIT', 'COFFEE', 'CORNFLAKES')|2                   |\n",
    "|('BISCUIT', 'CORNFLAKES')          |3                   |\n",
    "|('BISCUIT', 'CORNFLAKES', 'MILK')  |1                   |\n",
    "|('BISCUIT', 'MAGGI')               |2                   |\n",
    "|('BISCUIT', 'MAGGI', 'TEA')        |2                   |\n",
    "|('BISCUIT', 'MILK')                |2                   |\n",
    "|('BISCUIT', 'SUGER')               |1                   |\n",
    "|('BISCUIT', 'TEA')                 |2                   |\n",
    "|('BISCUIT',)                       |7                   |\n",
    "|('BOURNVITA', 'BREAD')             |3                   |\n",
    "|('BOURNVITA', 'BREAD', 'SUGER')    |1                   |\n",
    "|('BOURNVITA', 'BREAD', 'TEA')      |2                   |\n",
    "|('BOURNVITA', 'COFFEE')            |1                   |\n",
    "|('BOURNVITA', 'COFFEE', 'SUGER')   |1                   |\n",
    "|('BOURNVITA', 'SUGER')             |2                   |\n",
    "|('BOURNVITA', 'TEA')               |2                   |\n",
    "|('BOURNVITA',)                     |4                   |\n",
    "|('BREAD', 'COCK')                  |1                   |\n",
    "|('BREAD', 'COCK', 'COFFEE')        |1                   |\n",
    "|('BREAD', 'COFFEE')                |3                   |\n",
    "|('BREAD', 'COFFEE', 'SUGER')       |2                   |\n",
    "|('BREAD', 'CORNFLAKES')            |1                   |\n",
    "|('BREAD', 'CORNFLAKES', 'MILK')    |1                   |\n",
    "|('BREAD', 'JAM')                   |2                   |\n",
    "|('BREAD', 'JAM', 'MAGGI')          |2                   |\n",
    "|('BREAD', 'JAM', 'MILK')           |1                   |\n",
    "|('BREAD', 'JAM', 'TEA')            |1                   |\n",
    "|('BREAD', 'MAGGI')                 |3                   |\n",
    "|('BREAD', 'MAGGI', 'MILK')         |1                   |\n",
    "|('BREAD', 'MAGGI', 'TEA')          |2                   |\n",
    "|('BREAD', 'MILK')                  |4                   |\n",
    "|('BREAD', 'SUGER')                 |4                   |\n",
    "|('BREAD', 'TEA')                   |4                   |\n",
    "|('BREAD',)                         |13                  |\n",
    "|('COCK', 'COFFEE')                 |3                   |\n",
    "|('COCK', 'COFFEE', 'CORNFLAKES')   |2                   |\n",
    "|('COCK', 'CORNFLAKES')             |2                   |\n",
    "|('COCK',)                          |3                   |\n",
    "|('COFFEE', 'CORNFLAKES')           |4                   |\n",
    "|('COFFEE', 'CORNFLAKES', 'MILK')   |1                   |\n",
    "+-----------------------------------+--------------------+\n",
    "</code>\n",
    "</pre>\n",
    "\n",
    "Votre sortie devra ainsi être **exactement** la même, sans quoi aucun point ne pourra vous être attribué pour cette question.\n"
   ]
  },
  {
   "cell_type": "code",
   "execution_count": null,
   "metadata": {
    "id": "67IKY_4MMa0C",
    "colab": {
     "base_uri": "https://localhost:8080/"
    },
    "outputId": "2b557463-d5a9-40b4-a72f-015ece791f4a"
   },
   "outputs": [
    {
     "output_type": "stream",
     "name": "stdout",
     "text": [
      "+-----------------------------------+--------------------+\n",
      "|patterns                           |combined_occurrences|\n",
      "+-----------------------------------+--------------------+\n",
      "|('BISCUIT', 'BREAD')               |4                   |\n",
      "|('BISCUIT', 'BREAD', 'CORNFLAKES') |1                   |\n",
      "|('BISCUIT', 'BREAD', 'MAGGI')      |1                   |\n",
      "|('BISCUIT', 'BREAD', 'MILK')       |2                   |\n",
      "|('BISCUIT', 'BREAD', 'SUGER')      |1                   |\n",
      "|('BISCUIT', 'BREAD', 'TEA')        |1                   |\n",
      "|('BISCUIT', 'COCK')                |2                   |\n",
      "|('BISCUIT', 'COCK', 'COFFEE')      |2                   |\n",
      "|('BISCUIT', 'COCK', 'CORNFLAKES')  |2                   |\n",
      "|('BISCUIT', 'COFFEE')              |2                   |\n",
      "|('BISCUIT', 'COFFEE', 'CORNFLAKES')|2                   |\n",
      "|('BISCUIT', 'CORNFLAKES')          |3                   |\n",
      "|('BISCUIT', 'CORNFLAKES', 'MILK')  |1                   |\n",
      "|('BISCUIT', 'MAGGI')               |2                   |\n",
      "|('BISCUIT', 'MAGGI', 'TEA')        |2                   |\n",
      "|('BISCUIT', 'MILK')                |2                   |\n",
      "|('BISCUIT', 'SUGER')               |1                   |\n",
      "|('BISCUIT', 'TEA')                 |2                   |\n",
      "|('BISCUIT',)                       |7                   |\n",
      "|('BOURNVITA', 'BREAD')             |3                   |\n",
      "|('BOURNVITA', 'BREAD', 'SUGER')    |1                   |\n",
      "|('BOURNVITA', 'BREAD', 'TEA')      |2                   |\n",
      "|('BOURNVITA', 'COFFEE')            |1                   |\n",
      "|('BOURNVITA', 'COFFEE', 'SUGER')   |1                   |\n",
      "|('BOURNVITA', 'SUGER')             |2                   |\n",
      "|('BOURNVITA', 'TEA')               |2                   |\n",
      "|('BOURNVITA',)                     |4                   |\n",
      "|('BREAD', 'COCK')                  |1                   |\n",
      "|('BREAD', 'COCK', 'COFFEE')        |1                   |\n",
      "|('BREAD', 'COFFEE')                |3                   |\n",
      "|('BREAD', 'COFFEE', 'SUGER')       |2                   |\n",
      "|('BREAD', 'CORNFLAKES')            |1                   |\n",
      "|('BREAD', 'CORNFLAKES', 'MILK')    |1                   |\n",
      "|('BREAD', 'JAM')                   |2                   |\n",
      "|('BREAD', 'JAM', 'MAGGI')          |2                   |\n",
      "|('BREAD', 'JAM', 'MILK')           |1                   |\n",
      "|('BREAD', 'JAM', 'TEA')            |1                   |\n",
      "|('BREAD', 'MAGGI')                 |3                   |\n",
      "|('BREAD', 'MAGGI', 'MILK')         |1                   |\n",
      "|('BREAD', 'MAGGI', 'TEA')          |2                   |\n",
      "|('BREAD', 'MILK')                  |4                   |\n",
      "|('BREAD', 'SUGER')                 |4                   |\n",
      "|('BREAD', 'TEA')                   |4                   |\n",
      "|('BREAD',)                         |13                  |\n",
      "|('COCK', 'COFFEE')                 |3                   |\n",
      "|('COCK', 'COFFEE', 'CORNFLAKES')   |2                   |\n",
      "|('COCK', 'CORNFLAKES')             |2                   |\n",
      "|('COCK',)                          |3                   |\n",
      "|('COFFEE', 'CORNFLAKES')           |4                   |\n",
      "|('COFFEE', 'CORNFLAKES', 'MILK')   |1                   |\n",
      "+-----------------------------------+--------------------+\n"
     ]
    }
   ],
   "source": [
    "def reduce_patterns(v1, v2):\n",
    "  \"\"\"\n",
    "  TODO\n",
    "  \"\"\"\n",
    "  return v1 + v2\n",
    "\n",
    "\n",
    "combined_patterns_rdd = patterns_rdd.reduceByKey(reduce_patterns)\n",
    "\n",
    "# Output as dataframe\n",
    "combined_patterns_rdd.map(format_tuples).toDF(['patterns', 'combined_occurrences']).sort(['patterns']).show(50, truncate=False)"
   ]
  },
  {
   "cell_type": "markdown",
   "metadata": {
    "id": "6BME1VugMa0F"
   },
   "source": [
    "### 2.3 Map to subpatterns (15 points)\n",
    "Ensuite, une autre fonction **map** doit être appliquée pour générer des sous-motifs. Encore une fois, les sous-motifs sont des éléments KEY-VALUE, où la KEY est également un sous-ensemble de produits. Cependant, la création de la KEY du sous-motif est une procédure différente. Cette fois, l'idée est de décomposer la liste des produits de chaque motif (KEY), de supprimer un produit à la fois et de produire la liste résultante en tant que nouvelle clé de sous-motif.\n",
    "\n",
    "Par exemple, pour un modèle donné $P$ avec trois produits, $p_1, p_2$ et $p_3$, trois nouvelles clés de sous-motifs vont être créées: (i) supprimer $p_1$ et retourner ($p_2, p_3$) ; (ii) supprimer $p_2$ et retourner ($p_1, p_3$); et (iii) supprimer $p_3$ et retourner ($p_1, p_2$).\n",
    "\n",
    "De plus, la structure VALUE du sous-motif sera également différente. Au lieu d'une seule valeur entière unique comme nous l'avons eu dans les motifs, cette fois un *tuple* devrait être créé pour le sous-motif VALUE. Ce tuple contient le produit qui a été retiré lors de la remise de la KEY et le nombre de fois que le motif est apparu. Par exemple ci-dessus, les valeurs doivent être ($p_1,v$), ($p_2,v$) et ($p_3,v $), respectivement, où $v$ est la VALEUR du motif.\n",
    "\n",
    "L'idée derrière les sous-motif est de créer **des règles** telles que : lorsque les produits de KEY ont été achetés, l'article présent dans la VALEUR a également été acheté *v* fois. En outre, chaque motif doit également produire un sous-motif dans lequel la clé est la même liste de produits du motif, mais la valeur est un tuple avec un produit nul (None) et le nombre de fois que le motif est apparu. Cet élément sera utile pour garder une trace du nombre de fois où un tel motif a été trouvé et sera utilisé ultérieurement pour calculer la valeur de confiance lors de la génération des règles d'association.\n",
    "\n",
    "Maintenant, implémentez la fonction **map_to_subpatterns** qui reçoit un motif et produit tous les sous-motif trouvés. Encore une fois, chaque entrée (motif) générera plus d'un élément KEY-VALUE, puis une fonction flatMap doit être appelée.\n",
    "\n",
    "Pour le \"grocery dataset\", la sortie attendue est:\n",
    "\n",
    "<pre style=\"align:center; border:1px solid black;font-size: 8pt; line-height: 1.1; height: auto; width: 20em; padding-left:5px\">\n",
    "<code>\n",
    "+-----------------------------------+-----------------+\n",
    "|subpatterns                        |rules            |\n",
    "+-----------------------------------+-----------------+\n",
    "|('BISCUIT', 'BREAD')               |(None, 4)        |\n",
    "|('BISCUIT', 'BREAD')               |('MILK', 2)      |\n",
    "|('BISCUIT', 'BREAD')               |('CORNFLAKES', 1)|\n",
    "|('BISCUIT', 'BREAD')               |('MAGGI', 1)     |\n",
    "|('BISCUIT', 'BREAD')               |('TEA', 1)       |\n",
    "|('BISCUIT', 'BREAD')               |('SUGER', 1)     |\n",
    "|('BISCUIT', 'BREAD', 'CORNFLAKES') |(None, 1)        |\n",
    "|('BISCUIT', 'BREAD', 'MAGGI')      |(None, 1)        |\n",
    "|('BISCUIT', 'BREAD', 'MILK')       |(None, 2)        |\n",
    "|('BISCUIT', 'BREAD', 'SUGER')      |(None, 1)        |\n",
    "|('BISCUIT', 'BREAD', 'TEA')        |(None, 1)        |\n",
    "|('BISCUIT', 'COCK')                |(None, 2)        |\n",
    "|('BISCUIT', 'COCK')                |('COFFEE', 2)    |\n",
    "|('BISCUIT', 'COCK')                |('CORNFLAKES', 2)|\n",
    "|('BISCUIT', 'COCK', 'COFFEE')      |(None, 2)        |\n",
    "|('BISCUIT', 'COCK', 'CORNFLAKES')  |(None, 2)        |\n",
    "|('BISCUIT', 'COFFEE')              |(None, 2)        |\n",
    "|('BISCUIT', 'COFFEE')              |('COCK', 2)      |\n",
    "|('BISCUIT', 'COFFEE')              |('CORNFLAKES', 2)|\n",
    "|('BISCUIT', 'COFFEE', 'CORNFLAKES')|(None, 2)        |\n",
    "|('BISCUIT', 'CORNFLAKES')          |(None, 3)        |\n",
    "|('BISCUIT', 'CORNFLAKES')          |('BREAD', 1)     |\n",
    "|('BISCUIT', 'CORNFLAKES')          |('MILK', 1)      |\n",
    "|('BISCUIT', 'CORNFLAKES')          |('COCK', 2)      |\n",
    "|('BISCUIT', 'CORNFLAKES')          |('COFFEE', 2)    |\n",
    "|('BISCUIT', 'CORNFLAKES', 'MILK')  |(None, 1)        |\n",
    "|('BISCUIT', 'MAGGI')               |(None, 2)        |\n",
    "|('BISCUIT', 'MAGGI')               |('TEA', 2)       |\n",
    "|('BISCUIT', 'MAGGI')               |('BREAD', 1)     |\n",
    "|('BISCUIT', 'MAGGI', 'TEA')        |(None, 2)        |\n",
    "|('BISCUIT', 'MILK')                |(None, 2)        |\n",
    "|('BISCUIT', 'MILK')                |('BREAD', 2)     |\n",
    "|('BISCUIT', 'MILK')                |('CORNFLAKES', 1)|\n",
    "|('BISCUIT', 'SUGER')               |(None, 1)        |\n",
    "|('BISCUIT', 'SUGER')               |('BREAD', 1)     |\n",
    "|('BISCUIT', 'TEA')                 |(None, 2)        |\n",
    "|('BISCUIT', 'TEA')                 |('MAGGI', 2)     |\n",
    "|('BISCUIT', 'TEA')                 |('BREAD', 1)     |\n",
    "|('BISCUIT',)                       |(None, 7)        |\n",
    "|('BISCUIT',)                       |('BREAD', 4)     |\n",
    "|('BISCUIT',)                       |('MILK', 2)      |\n",
    "|('BISCUIT',)                       |('CORNFLAKES', 3)|\n",
    "|('BISCUIT',)                       |('MAGGI', 2)     |\n",
    "|('BISCUIT',)                       |('TEA', 2)       |\n",
    "|('BISCUIT',)                       |('COCK', 2)      |\n",
    "|('BISCUIT',)                       |('COFFEE', 2)    |\n",
    "|('BISCUIT',)                       |('SUGER', 1)     |\n",
    "|('BOURNVITA', 'BREAD')             |(None, 3)        |\n",
    "|('BOURNVITA', 'BREAD')             |('TEA', 2)       |\n",
    "|('BOURNVITA', 'BREAD')             |('SUGER', 1)     |\n",
    "+-----------------------------------+-----------------+\n",
    "</code>\n",
    "</pre>\n",
    "\n",
    "Votre sortie devra ainsi être **exactement** la même, sans quoi aucun point ne pourra vous être attribué pour cette question."
   ]
  },
  {
   "cell_type": "code",
   "execution_count": null,
   "metadata": {
    "id": "t8aLrdMuMa0G",
    "colab": {
     "base_uri": "https://localhost:8080/"
    },
    "outputId": "fbc49158-c5d6-4644-d2c3-48d078d7252f"
   },
   "outputs": [
    {
     "output_type": "stream",
     "name": "stdout",
     "text": [
      "+-----------------------------------+-----------------+\n",
      "|subpatterns                        |rules            |\n",
      "+-----------------------------------+-----------------+\n",
      "|('BISCUIT', 'BREAD')               |(None, 4)        |\n",
      "|('BISCUIT', 'BREAD')               |('MILK', 2)      |\n",
      "|('BISCUIT', 'BREAD')               |('CORNFLAKES', 1)|\n",
      "|('BISCUIT', 'BREAD')               |('MAGGI', 1)     |\n",
      "|('BISCUIT', 'BREAD')               |('TEA', 1)       |\n",
      "|('BISCUIT', 'BREAD')               |('SUGER', 1)     |\n",
      "|('BISCUIT', 'BREAD', 'CORNFLAKES') |(None, 1)        |\n",
      "|('BISCUIT', 'BREAD', 'MAGGI')      |(None, 1)        |\n",
      "|('BISCUIT', 'BREAD', 'MILK')       |(None, 2)        |\n",
      "|('BISCUIT', 'BREAD', 'SUGER')      |(None, 1)        |\n",
      "|('BISCUIT', 'BREAD', 'TEA')        |(None, 1)        |\n",
      "|('BISCUIT', 'COCK')                |(None, 2)        |\n",
      "|('BISCUIT', 'COCK')                |('COFFEE', 2)    |\n",
      "|('BISCUIT', 'COCK')                |('CORNFLAKES', 2)|\n",
      "|('BISCUIT', 'COCK', 'COFFEE')      |(None, 2)        |\n",
      "|('BISCUIT', 'COCK', 'CORNFLAKES')  |(None, 2)        |\n",
      "|('BISCUIT', 'COFFEE')              |(None, 2)        |\n",
      "|('BISCUIT', 'COFFEE')              |('COCK', 2)      |\n",
      "|('BISCUIT', 'COFFEE')              |('CORNFLAKES', 2)|\n",
      "|('BISCUIT', 'COFFEE', 'CORNFLAKES')|(None, 2)        |\n",
      "|('BISCUIT', 'CORNFLAKES')          |(None, 3)        |\n",
      "|('BISCUIT', 'CORNFLAKES')          |('BREAD', 1)     |\n",
      "|('BISCUIT', 'CORNFLAKES')          |('MILK', 1)      |\n",
      "|('BISCUIT', 'CORNFLAKES')          |('COCK', 2)      |\n",
      "|('BISCUIT', 'CORNFLAKES')          |('COFFEE', 2)    |\n",
      "|('BISCUIT', 'CORNFLAKES', 'MILK')  |(None, 1)        |\n",
      "|('BISCUIT', 'MAGGI')               |(None, 2)        |\n",
      "|('BISCUIT', 'MAGGI')               |('TEA', 2)       |\n",
      "|('BISCUIT', 'MAGGI')               |('BREAD', 1)     |\n",
      "|('BISCUIT', 'MAGGI', 'TEA')        |(None, 2)        |\n",
      "|('BISCUIT', 'MILK')                |(None, 2)        |\n",
      "|('BISCUIT', 'MILK')                |('BREAD', 2)     |\n",
      "|('BISCUIT', 'MILK')                |('CORNFLAKES', 1)|\n",
      "|('BISCUIT', 'SUGER')               |(None, 1)        |\n",
      "|('BISCUIT', 'SUGER')               |('BREAD', 1)     |\n",
      "|('BISCUIT', 'TEA')                 |('MAGGI', 2)     |\n",
      "|('BISCUIT', 'TEA')                 |('BREAD', 1)     |\n",
      "|('BISCUIT', 'TEA')                 |(None, 2)        |\n",
      "|('BISCUIT',)                       |('COFFEE', 2)    |\n",
      "|('BISCUIT',)                       |('CORNFLAKES', 3)|\n",
      "|('BISCUIT',)                       |('COCK', 2)      |\n",
      "|('BISCUIT',)                       |('SUGER', 1)     |\n",
      "|('BISCUIT',)                       |('MILK', 2)      |\n",
      "|('BISCUIT',)                       |('MAGGI', 2)     |\n",
      "|('BISCUIT',)                       |('BREAD', 4)     |\n",
      "|('BISCUIT',)                       |(None, 7)        |\n",
      "|('BISCUIT',)                       |('TEA', 2)       |\n",
      "|('BOURNVITA', 'BREAD')             |(None, 3)        |\n",
      "|('BOURNVITA', 'BREAD')             |('TEA', 2)       |\n",
      "|('BOURNVITA', 'BREAD')             |('SUGER', 1)     |\n",
      "+-----------------------------------+-----------------+\n"
     ]
    }
   ],
   "source": [
    "from copy import deepcopy\n",
    "def map_to_subpatterns(pattern):\n",
    "    products, count = pattern\n",
    "    products_list = list(products)\n",
    "    num_products = len(products_list)\n",
    "\n",
    "    for i in range(num_products):\n",
    "        subpattern = deepcopy(products_list)\n",
    "        removed_product = subpattern.pop(i)\n",
    "        yield (tuple(subpattern), (removed_product, count))\n",
    "\n",
    "    yield (products, (None, count))\n",
    "\n",
    "subpatterns_rdd = combined_patterns_rdd.flatMap(map_to_subpatterns)\n",
    "\n",
    "# Output as dataframe\n",
    "subpatterns_rdd.map(format_tuples).toDF(['subpatterns', 'rules']).sort(['subpatterns']).show(50, truncate=False)"
   ]
  },
  {
   "cell_type": "markdown",
   "metadata": {
    "id": "jl6TWh8rMa0J"
   },
   "source": [
    "### 2.4 Reduce Subpatterns (2.5 points)\n",
    "\n",
    "Encore une fois, une fonction **reduce** est nécessaire pour regrouper tous les sous-motif par leur KEY. L'objectif de cette procédure de réduction est de créer une liste de toutes les **règles** apparues dans KEY. Par conséquent, la sortie attendue résultant de cette fonction de réduction est également un élément KEY-VALUE, où la clé est la KEY du sous-motif et la valeur est un groupe contenant toutes les valeurs des sous-motif qui partagent la même clé.\n",
    "\n",
    "Pour le \"grocery dataset\", la sortie attendue est:\n",
    "\n",
    "<pre style=\"align:center; border:1px solid black;font-size: 8pt; line-height: 1.1; height: auto; width: 50em; padding-left:5px\">\n",
    "<code>\n",
    "+-----------------------------------+--------------------------------------------------------------------------------------------------------------------------------------------------------------+\n",
    "|subpatterns                        |combined_rules                                                                                                                                                |\n",
    "+-----------------------------------+--------------------------------------------------------------------------------------------------------------------------------------------------------------+\n",
    "|('BISCUIT', 'BREAD')               |[(None, 4), ('MILK', 2), ('CORNFLAKES', 1), ('MAGGI', 1), ('TEA', 1), ('SUGER', 1)]                                                                           |\n",
    "|('BISCUIT', 'BREAD', 'CORNFLAKES') |[(None, 1)]                                                                                                                                                   |\n",
    "|('BISCUIT', 'BREAD', 'MAGGI')      |[(None, 1)]                                                                                                                                                   |\n",
    "|('BISCUIT', 'BREAD', 'MILK')       |[(None, 2)]                                                                                                                                                   |\n",
    "|('BISCUIT', 'BREAD', 'SUGER')      |[(None, 1)]                                                                                                                                                   |\n",
    "|('BISCUIT', 'BREAD', 'TEA')        |[(None, 1)]                                                                                                                                                   |\n",
    "|('BISCUIT', 'COCK')                |[(None, 2), ('COFFEE', 2), ('CORNFLAKES', 2)]                                                                                                                 |\n",
    "|('BISCUIT', 'COCK', 'COFFEE')      |[(None, 2)]                                                                                                                                                   |\n",
    "|('BISCUIT', 'COCK', 'CORNFLAKES')  |[(None, 2)]                                                                                                                                                   |\n",
    "|('BISCUIT', 'COFFEE')              |[(None, 2), ('COCK', 2), ('CORNFLAKES', 2)]                                                                                                                   |\n",
    "|('BISCUIT', 'COFFEE', 'CORNFLAKES')|[(None, 2)]                                                                                                                                                   |\n",
    "|('BISCUIT', 'CORNFLAKES')          |[(None, 3), ('BREAD', 1), ('MILK', 1), ('COCK', 2), ('COFFEE', 2)]                                                                                            |\n",
    "|('BISCUIT', 'CORNFLAKES', 'MILK')  |[(None, 1)]                                                                                                                                                   |\n",
    "|('BISCUIT', 'MAGGI')               |[(None, 2), ('TEA', 2), ('BREAD', 1)]                                                                                                                         |\n",
    "|('BISCUIT', 'MAGGI', 'TEA')        |[(None, 2)]                                                                                                                                                   |\n",
    "|('BISCUIT', 'MILK')                |[(None, 2), ('BREAD', 2), ('CORNFLAKES', 1)]                                                                                                                  |\n",
    "|('BISCUIT', 'SUGER')               |[(None, 1), ('BREAD', 1)]                                                                                                                                     |\n",
    "|('BISCUIT', 'TEA')                 |[(None, 2), ('MAGGI', 2), ('BREAD', 1)]                                                                                                                       |\n",
    "|('BISCUIT',)                       |[(None, 7), ('BREAD', 4), ('MILK', 2), ('CORNFLAKES', 3), ('MAGGI', 2), ('TEA', 2), ('COCK', 2), ('COFFEE', 2), ('SUGER', 1)]                                 |\n",
    "|('BOURNVITA', 'BREAD')             |[(None, 3), ('TEA', 2), ('SUGER', 1)]                                                                                                                         |\n",
    "|('BOURNVITA', 'BREAD', 'SUGER')    |[(None, 1)]                                                                                                                                                   |\n",
    "|('BOURNVITA', 'BREAD', 'TEA')      |[(None, 2)]                                                                                                                                                   |\n",
    "|('BOURNVITA', 'COFFEE')            |[(None, 1), ('SUGER', 1)]                                                                                                                                     |\n",
    "|('BOURNVITA', 'COFFEE', 'SUGER')   |[(None, 1)]                                                                                                                                                   |\n",
    "|('BOURNVITA', 'SUGER')             |[(None, 2), ('COFFEE', 1), ('BREAD', 1)]                                                                                                                      |\n",
    "|('BOURNVITA', 'TEA')               |[(None, 2), ('BREAD', 2)]                                                                                                                                     |\n",
    "|('BOURNVITA',)                     |[(None, 4), ('BREAD', 3), ('TEA', 2), ('COFFEE', 1), ('SUGER', 2)]                                                                                            |\n",
    "|('BREAD', 'COCK')                  |[(None, 1), ('COFFEE', 1)]                                                                                                                                    |\n",
    "|('BREAD', 'COCK', 'COFFEE')        |[(None, 1)]                                                                                                                                                   |\n",
    "|('BREAD', 'COFFEE')                |[(None, 3), ('COCK', 1), ('SUGER', 2)]                                                                                                                        |\n",
    "|('BREAD', 'COFFEE', 'SUGER')       |[(None, 2)]                                                                                                                                                   |\n",
    "|('BREAD', 'CORNFLAKES')            |[(None, 1), ('BISCUIT', 1), ('MILK', 1)]                                                                                                                      |\n",
    "|('BREAD', 'CORNFLAKES', 'MILK')    |[(None, 1)]                                                                                                                                                   |\n",
    "|('BREAD', 'JAM')                   |[(None, 2), ('MAGGI', 2), ('MILK', 1), ('TEA', 1)]                                                                                                            |\n",
    "|('BREAD', 'JAM', 'MAGGI')          |[(None, 2)]                                                                                                                                                   |\n",
    "|('BREAD', 'JAM', 'MILK')           |[(None, 1)]                                                                                                                                                   |\n",
    "|('BREAD', 'JAM', 'TEA')            |[(None, 1)]                                                                                                                                                   |\n",
    "|('BREAD', 'MAGGI')                 |[(None, 3), ('JAM', 2), ('MILK', 1), ('BISCUIT', 1), ('TEA', 2)]                                                                                              |\n",
    "|('BREAD', 'MAGGI', 'MILK')         |[(None, 1)]                                                                                                                                                   |\n",
    "|('BREAD', 'MAGGI', 'TEA')          |[(None, 2)]                                                                                                                                                   |\n",
    "|('BREAD', 'MILK')                  |[(None, 4), ('BISCUIT', 2), ('CORNFLAKES', 1), ('JAM', 1), ('MAGGI', 1)]                                                                                      |\n",
    "|('BREAD', 'SUGER')                 |[(None, 4), ('BISCUIT', 1), ('BOURNVITA', 1), ('COFFEE', 2)]                                                                                                  |\n",
    "|('BREAD', 'TEA')                   |[(None, 4), ('BOURNVITA', 2), ('BISCUIT', 1), ('MAGGI', 2), ('JAM', 1)]                                                                                       |\n",
    "|('BREAD',)                         |[(None, 13), ('BISCUIT', 4), ('MILK', 4), ('CORNFLAKES', 1), ('BOURNVITA', 3), ('TEA', 4), ('JAM', 2), ('MAGGI', 3), ('COCK', 1), ('COFFEE', 3), ('SUGER', 4)]|\n",
    "|('COCK', 'COFFEE')                 |[(None, 3), ('BISCUIT', 2), ('CORNFLAKES', 2), ('BREAD', 1)]                                                                                                  |\n",
    "|('COCK', 'COFFEE', 'CORNFLAKES')   |[(None, 2)]                                                                                                                                                   |\n",
    "|('COCK', 'CORNFLAKES')             |[(None, 2), ('BISCUIT', 2), ('COFFEE', 2)]                                                                                                                    |\n",
    "|('COCK',)                          |[(None, 3), ('BISCUIT', 2), ('COFFEE', 3), ('CORNFLAKES', 2), ('BREAD', 1)]                                                                                   |\n",
    "|('COFFEE', 'CORNFLAKES')           |[(None, 4), ('BISCUIT', 2), ('COCK', 2), ('SUGER', 1), ('MILK', 1), ('TEA', 1)]                                                                               |\n",
    "|('COFFEE', 'CORNFLAKES', 'MILK')   |[(None, 1)]                                                                                                                                                   |\n",
    "+-----------------------------------+--------------------------------------------------------------------------------------------------------------------------------------------------------------+\n",
    "</code>\n",
    "</pre>\n",
    "\n",
    "Votre sortie devra ainsi être **exactement** la même, sans quoi aucun point ne pourra vous être attribué pour cette question.\n"
   ]
  },
  {
   "cell_type": "code",
   "execution_count": null,
   "metadata": {
    "id": "LOP-SVIhMa0J",
    "colab": {
     "base_uri": "https://localhost:8080/"
    },
    "outputId": "fb795965-b9c9-48bc-d4aa-7fe1f4b43c38"
   },
   "outputs": [
    {
     "output_type": "stream",
     "name": "stdout",
     "text": [
      "+-----------------------------------+--------------------------------------------------------------------------------------------------------------------------------------------------------------+\n",
      "|subpatterns                        |combined_rules                                                                                                                                                |\n",
      "+-----------------------------------+--------------------------------------------------------------------------------------------------------------------------------------------------------------+\n",
      "|('BISCUIT', 'BREAD')               |[(None, 4), ('MILK', 2), ('CORNFLAKES', 1), ('MAGGI', 1), ('TEA', 1), ('SUGER', 1)]                                                                           |\n",
      "|('BISCUIT', 'BREAD', 'CORNFLAKES') |[(None, 1)]                                                                                                                                                   |\n",
      "|('BISCUIT', 'BREAD', 'MAGGI')      |[(None, 1)]                                                                                                                                                   |\n",
      "|('BISCUIT', 'BREAD', 'MILK')       |[(None, 2)]                                                                                                                                                   |\n",
      "|('BISCUIT', 'BREAD', 'SUGER')      |[(None, 1)]                                                                                                                                                   |\n",
      "|('BISCUIT', 'BREAD', 'TEA')        |[(None, 1)]                                                                                                                                                   |\n",
      "|('BISCUIT', 'COCK')                |[(None, 2), ('COFFEE', 2), ('CORNFLAKES', 2)]                                                                                                                 |\n",
      "|('BISCUIT', 'COCK', 'COFFEE')      |[(None, 2)]                                                                                                                                                   |\n",
      "|('BISCUIT', 'COCK', 'CORNFLAKES')  |[(None, 2)]                                                                                                                                                   |\n",
      "|('BISCUIT', 'COFFEE')              |[(None, 2), ('COCK', 2), ('CORNFLAKES', 2)]                                                                                                                   |\n",
      "|('BISCUIT', 'COFFEE', 'CORNFLAKES')|[(None, 2)]                                                                                                                                                   |\n",
      "|('BISCUIT', 'CORNFLAKES')          |[(None, 3), ('BREAD', 1), ('MILK', 1), ('COCK', 2), ('COFFEE', 2)]                                                                                            |\n",
      "|('BISCUIT', 'CORNFLAKES', 'MILK')  |[(None, 1)]                                                                                                                                                   |\n",
      "|('BISCUIT', 'MAGGI')               |[(None, 2), ('TEA', 2), ('BREAD', 1)]                                                                                                                         |\n",
      "|('BISCUIT', 'MAGGI', 'TEA')        |[(None, 2)]                                                                                                                                                   |\n",
      "|('BISCUIT', 'MILK')                |[(None, 2), ('BREAD', 2), ('CORNFLAKES', 1)]                                                                                                                  |\n",
      "|('BISCUIT', 'SUGER')               |[(None, 1), ('BREAD', 1)]                                                                                                                                     |\n",
      "|('BISCUIT', 'TEA')                 |[(None, 2), ('MAGGI', 2), ('BREAD', 1)]                                                                                                                       |\n",
      "|('BISCUIT',)                       |[(None, 7), ('BREAD', 4), ('MILK', 2), ('CORNFLAKES', 3), ('MAGGI', 2), ('TEA', 2), ('COCK', 2), ('COFFEE', 2), ('SUGER', 1)]                                 |\n",
      "|('BOURNVITA', 'BREAD')             |[(None, 3), ('TEA', 2), ('SUGER', 1)]                                                                                                                         |\n",
      "|('BOURNVITA', 'BREAD', 'SUGER')    |[(None, 1)]                                                                                                                                                   |\n",
      "|('BOURNVITA', 'BREAD', 'TEA')      |[(None, 2)]                                                                                                                                                   |\n",
      "|('BOURNVITA', 'COFFEE')            |[(None, 1), ('SUGER', 1)]                                                                                                                                     |\n",
      "|('BOURNVITA', 'COFFEE', 'SUGER')   |[(None, 1)]                                                                                                                                                   |\n",
      "|('BOURNVITA', 'SUGER')             |[(None, 2), ('COFFEE', 1), ('BREAD', 1)]                                                                                                                      |\n",
      "|('BOURNVITA', 'TEA')               |[(None, 2), ('BREAD', 2)]                                                                                                                                     |\n",
      "|('BOURNVITA',)                     |[(None, 4), ('BREAD', 3), ('TEA', 2), ('COFFEE', 1), ('SUGER', 2)]                                                                                            |\n",
      "|('BREAD', 'COCK')                  |[(None, 1), ('COFFEE', 1)]                                                                                                                                    |\n",
      "|('BREAD', 'COCK', 'COFFEE')        |[(None, 1)]                                                                                                                                                   |\n",
      "|('BREAD', 'COFFEE')                |[(None, 3), ('COCK', 1), ('SUGER', 2)]                                                                                                                        |\n",
      "|('BREAD', 'COFFEE', 'SUGER')       |[(None, 2)]                                                                                                                                                   |\n",
      "|('BREAD', 'CORNFLAKES')            |[(None, 1), ('BISCUIT', 1), ('MILK', 1)]                                                                                                                      |\n",
      "|('BREAD', 'CORNFLAKES', 'MILK')    |[(None, 1)]                                                                                                                                                   |\n",
      "|('BREAD', 'JAM')                   |[(None, 2), ('MAGGI', 2), ('MILK', 1), ('TEA', 1)]                                                                                                            |\n",
      "|('BREAD', 'JAM', 'MAGGI')          |[(None, 2)]                                                                                                                                                   |\n",
      "|('BREAD', 'JAM', 'MILK')           |[(None, 1)]                                                                                                                                                   |\n",
      "|('BREAD', 'JAM', 'TEA')            |[(None, 1)]                                                                                                                                                   |\n",
      "|('BREAD', 'MAGGI')                 |[(None, 3), ('JAM', 2), ('MILK', 1), ('BISCUIT', 1), ('TEA', 2)]                                                                                              |\n",
      "|('BREAD', 'MAGGI', 'MILK')         |[(None, 1)]                                                                                                                                                   |\n",
      "|('BREAD', 'MAGGI', 'TEA')          |[(None, 2)]                                                                                                                                                   |\n",
      "|('BREAD', 'MILK')                  |[(None, 4), ('BISCUIT', 2), ('CORNFLAKES', 1), ('JAM', 1), ('MAGGI', 1)]                                                                                      |\n",
      "|('BREAD', 'SUGER')                 |[(None, 4), ('BISCUIT', 1), ('BOURNVITA', 1), ('COFFEE', 2)]                                                                                                  |\n",
      "|('BREAD', 'TEA')                   |[(None, 4), ('BOURNVITA', 2), ('BISCUIT', 1), ('MAGGI', 2), ('JAM', 1)]                                                                                       |\n",
      "|('BREAD',)                         |[(None, 13), ('BISCUIT', 4), ('MILK', 4), ('CORNFLAKES', 1), ('BOURNVITA', 3), ('TEA', 4), ('JAM', 2), ('MAGGI', 3), ('COCK', 1), ('COFFEE', 3), ('SUGER', 4)]|\n",
      "|('COCK', 'COFFEE')                 |[(None, 3), ('BISCUIT', 2), ('CORNFLAKES', 2), ('BREAD', 1)]                                                                                                  |\n",
      "|('COCK', 'COFFEE', 'CORNFLAKES')   |[(None, 2)]                                                                                                                                                   |\n",
      "|('COCK', 'CORNFLAKES')             |[(None, 2), ('BISCUIT', 2), ('COFFEE', 2)]                                                                                                                    |\n",
      "|('COCK',)                          |[(None, 3), ('BISCUIT', 2), ('COFFEE', 3), ('CORNFLAKES', 2), ('BREAD', 1)]                                                                                   |\n",
      "|('COFFEE', 'CORNFLAKES')           |[(None, 4), ('BISCUIT', 2), ('COCK', 2), ('SUGER', 1), ('MILK', 1), ('TEA', 1)]                                                                               |\n",
      "|('COFFEE', 'CORNFLAKES', 'MILK')   |[(None, 1)]                                                                                                                                                   |\n",
      "+-----------------------------------+--------------------------------------------------------------------------------------------------------------------------------------------------------------+\n"
     ]
    }
   ],
   "source": [
    "combined_rules = subpatterns_rdd.map(lambda x:(x[0] , [x[1]])).reduceByKey(lambda x,y : x+y)\n",
    "\n",
    "# Output as dataframe\n",
    "combined_rules.map(format_tuples).toDF(['subpatterns', 'combined_rules']).sort(['subpatterns']).show(50, truncate=False)"
   ]
  },
  {
   "cell_type": "markdown",
   "metadata": {
    "id": "Uh69x3a8Ma0P"
   },
   "source": [
    "### 2.5. Map to Association Rules (15 points)\n",
    "\n",
    "Enfin, la dernière étape de l'algorithme consiste à créer les règles d'association pour effectuer la MBA. Le but de cette fonction Map est de calculer le niveau **de confiance** de l'achat d'un produit, sachant qu'il y a déjà un ensemble de produits dans le panier. Ainsi, la KEY du sous-motif est l'ensemble des produits placés dans le panier et, pour chaque produit présent dans la liste des règles, c'est-à-dire dans la VALEUR, la confiance peut être calculée comme :\n",
    "\n",
    "\\begin{align*}\n",
    "\\frac{\\text{nombre de fois où le produit a été acheté avec KEY}}{\\text{nombre de fois où la KEY est apparue}}\n",
    "\\end{align*}\n",
    "\n",
    "Pour l'exemple donné dans la figure \"workflow\", *le café* a été acheté 20 fois et, dans 17 d'entre eux, le *lait* a été acheté ensemble. Ensuite, le niveau de confiance pour acheter du *lait* sachant que *le café* est dans le panier est $\\frac{17}{20}=0,85$, ce qui signifie que dans 85% des cas où le café a été acheté, le lait a aussi été acheté.\n",
    "\n",
    "Implémentez la fonction **map_to_assoc_rules** qui calcule le niveau de confiance pour chaque sous-motif.\n",
    "\n",
    "Pour le \"grocery dataset\", la sortie attendue est:\n",
    "\n",
    "<pre style=\"align:center; border:1px solid black;font-size: 8pt; line-height: 1.1; height: auto; width: 57em; padding-left:5px\">\n",
    "<code>\n",
    "+-----------------------------------+----------------------------------------------------------------------------------------------------------------------------------------------------------------------------------------------------------------------------------------------------------------------------------------------------------------------------------+\n",
    "|patterns                           |association_rules                                                                                                                                                                                                                                                                                                                 |\n",
    "+-----------------------------------+----------------------------------------------------------------------------------------------------------------------------------------------------------------------------------------------------------------------------------------------------------------------------------------------------------------------------------+\n",
    "|('BISCUIT', 'BREAD')               |[('MILK', 0.5), ('CORNFLAKES', 0.25), ('MAGGI', 0.25), ('TEA', 0.25), ('SUGER', 0.25)]                                                                                                                                                                                                                                            |\n",
    "|('BISCUIT', 'BREAD', 'CORNFLAKES') |[]                                                                                                                                                                                                                                                                                                                                |\n",
    "|('BISCUIT', 'BREAD', 'MAGGI')      |[]                                                                                                                                                                                                                                                                                                                                |\n",
    "|('BISCUIT', 'BREAD', 'MILK')       |[]                                                                                                                                                                                                                                                                                                                                |\n",
    "|('BISCUIT', 'BREAD', 'SUGER')      |[]                                                                                                                                                                                                                                                                                                                                |\n",
    "|('BISCUIT', 'BREAD', 'TEA')        |[]                                                                                                                                                                                                                                                                                                                                |\n",
    "|('BISCUIT', 'COCK')                |[('COFFEE', 1.0), ('CORNFLAKES', 1.0)]                                                                                                                                                                                                                                                                                            |\n",
    "|('BISCUIT', 'COCK', 'COFFEE')      |[]                                                                                                                                                                                                                                                                                                                                |\n",
    "|('BISCUIT', 'COCK', 'CORNFLAKES')  |[]                                                                                                                                                                                                                                                                                                                                |\n",
    "|('BISCUIT', 'COFFEE')              |[('COCK', 1.0), ('CORNFLAKES', 1.0)]                                                                                                                                                                                                                                                                                              |\n",
    "|('BISCUIT', 'COFFEE', 'CORNFLAKES')|[]                                                                                                                                                                                                                                                                                                                                |\n",
    "|('BISCUIT', 'CORNFLAKES')          |[('BREAD', 0.3333333333333333), ('MILK', 0.3333333333333333), ('COCK', 0.6666666666666666), ('COFFEE', 0.6666666666666666)]                                                                                                                                                                                                       |\n",
    "|('BISCUIT', 'CORNFLAKES', 'MILK')  |[]                                                                                                                                                                                                                                                                                                                                |\n",
    "|('BISCUIT', 'MAGGI')               |[('TEA', 1.0), ('BREAD', 0.5)]                                                                                                                                                                                                                                                                                                    |\n",
    "|('BISCUIT', 'MAGGI', 'TEA')        |[]                                                                                                                                                                                                                                                                                                                                |\n",
    "|('BISCUIT', 'MILK')                |[('BREAD', 1.0), ('CORNFLAKES', 0.5)]                                                                                                                                                                                                                                                                                             |\n",
    "|('BISCUIT', 'SUGER')               |[('BREAD', 1.0)]                                                                                                                                                                                                                                                                                                                  |\n",
    "|('BISCUIT', 'TEA')                 |[('MAGGI', 1.0), ('BREAD', 0.5)]                                                                                                                                                                                                                                                                                                  |\n",
    "|('BISCUIT',)                       |[('BREAD', 0.5714285714285714), ('MILK', 0.2857142857142857), ('CORNFLAKES', 0.42857142857142855), ('MAGGI', 0.2857142857142857), ('TEA', 0.2857142857142857), ('COCK', 0.2857142857142857), ('COFFEE', 0.2857142857142857), ('SUGER', 0.14285714285714285)]                                                                      |\n",
    "|('BOURNVITA', 'BREAD')             |[('TEA', 0.6666666666666666), ('SUGER', 0.3333333333333333)]                                                                                                                                                                                                                                                                      |\n",
    "|('BOURNVITA', 'BREAD', 'SUGER')    |[]                                                                                                                                                                                                                                                                                                                                |\n",
    "|('BOURNVITA', 'BREAD', 'TEA')      |[]                                                                                                                                                                                                                                                                                                                                |\n",
    "|('BOURNVITA', 'COFFEE')            |[('SUGER', 1.0)]                                                                                                                                                                                                                                                                                                                  |\n",
    "|('BOURNVITA', 'COFFEE', 'SUGER')   |[]                                                                                                                                                                                                                                                                                                                                |\n",
    "|('BOURNVITA', 'SUGER')             |[('COFFEE', 0.5), ('BREAD', 0.5)]                                                                                                                                                                                                                                                                                                 |\n",
    "|('BOURNVITA', 'TEA')               |[('BREAD', 1.0)]                                                                                                                                                                                                                                                                                                                  |\n",
    "|('BOURNVITA',)                     |[('BREAD', 0.75), ('TEA', 0.5), ('COFFEE', 0.25), ('SUGER', 0.5)]                                                                                                                                                                                                                                                                 |\n",
    "|('BREAD', 'COCK')                  |[('COFFEE', 1.0)]                                                                                                                                                                                                                                                                                                                 |\n",
    "|('BREAD', 'COCK', 'COFFEE')        |[]                                                                                                                                                                                                                                                                                                                                |\n",
    "|('BREAD', 'COFFEE')                |[('COCK', 0.3333333333333333), ('SUGER', 0.6666666666666666)]                                                                                                                                                                                                                                                                     |\n",
    "|('BREAD', 'COFFEE', 'SUGER')       |[]                                                                                                                                                                                                                                                                                                                                |\n",
    "|('BREAD', 'CORNFLAKES')            |[('BISCUIT', 1.0), ('MILK', 1.0)]                                                                                                                                                                                                                                                                                                 |\n",
    "|('BREAD', 'CORNFLAKES', 'MILK')    |[]                                                                                                                                                                                                                                                                                                                                |\n",
    "|('BREAD', 'JAM')                   |[('MAGGI', 1.0), ('MILK', 0.5), ('TEA', 0.5)]                                                                                                                                                                                                                                                                                     |\n",
    "|('BREAD', 'JAM', 'MAGGI')          |[]                                                                                                                                                                                                                                                                                                                                |\n",
    "|('BREAD', 'JAM', 'MILK')           |[]                                                                                                                                                                                                                                                                                                                                |\n",
    "|('BREAD', 'JAM', 'TEA')            |[]                                                                                                                                                                                                                                                                                                                                |\n",
    "|('BREAD', 'MAGGI')                 |[('JAM', 0.6666666666666666), ('MILK', 0.3333333333333333), ('BISCUIT', 0.3333333333333333), ('TEA', 0.6666666666666666)]                                                                                                                                                                                                         |\n",
    "|('BREAD', 'MAGGI', 'MILK')         |[]                                                                                                                                                                                                                                                                                                                                |\n",
    "|('BREAD', 'MAGGI', 'TEA')          |[]                                                                                                                                                                                                                                                                                                                                |\n",
    "|('BREAD', 'MILK')                  |[('BISCUIT', 0.5), ('CORNFLAKES', 0.25), ('JAM', 0.25), ('MAGGI', 0.25)]                                                                                                                                                                                                                                                          |\n",
    "|('BREAD', 'SUGER')                 |[('BISCUIT', 0.25), ('BOURNVITA', 0.25), ('COFFEE', 0.5)]                                                                                                                                                                                                                                                                         |\n",
    "|('BREAD', 'TEA')                   |[('BOURNVITA', 0.5), ('BISCUIT', 0.25), ('MAGGI', 0.5), ('JAM', 0.25)]                                                                                                                                                                                                                                                            |\n",
    "|('BREAD',)                         |[('BISCUIT', 0.3076923076923077), ('MILK', 0.3076923076923077), ('CORNFLAKES', 0.07692307692307693), ('BOURNVITA', 0.23076923076923078), ('TEA', 0.3076923076923077), ('JAM', 0.15384615384615385), ('MAGGI', 0.23076923076923078), ('COCK', 0.07692307692307693), ('COFFEE', 0.23076923076923078), ('SUGER', 0.3076923076923077)]|\n",
    "|('COCK', 'COFFEE')                 |[('BISCUIT', 0.6666666666666666), ('CORNFLAKES', 0.6666666666666666), ('BREAD', 0.3333333333333333)]                                                                                                                                                                                                                              |\n",
    "|('COCK', 'COFFEE', 'CORNFLAKES')   |[]                                                                                                                                                                                                                                                                                                                                |\n",
    "|('COCK', 'CORNFLAKES')             |[('BISCUIT', 1.0), ('COFFEE', 1.0)]                                                                                                                                                                                                                                                                                               |\n",
    "|('COCK',)                          |[('BISCUIT', 0.6666666666666666), ('COFFEE', 1.0), ('CORNFLAKES', 0.6666666666666666), ('BREAD', 0.3333333333333333)]                                                                                                                                                                                                             |\n",
    "|('COFFEE', 'CORNFLAKES')           |[('BISCUIT', 0.5), ('COCK', 0.5), ('SUGER', 0.25), ('MILK', 0.25), ('TEA', 0.25)]                                                                                                                                                                                                                                                 |\n",
    "|('COFFEE', 'CORNFLAKES', 'MILK')   |[]                                                                                                                                                                                                                                                                                                                                |\n",
    "+-----------------------------------+----------------------------------------------------------------------------------------------------------------------------------------------------------------------------------------------------------------------------------------------------------------------------------------------------------------------------------+\n",
    "\n",
    "</code>\n",
    "</pre>\n",
    "\n",
    "Votre sortie devra ainsi être **exactement** la même, sans quoi aucun point ne pourra vous être attribué pour cette question."
   ]
  },
  {
   "cell_type": "code",
   "execution_count": null,
   "metadata": {
    "id": "DPrbn5CfMa0P",
    "colab": {
     "base_uri": "https://localhost:8080/"
    },
    "outputId": "70883c4b-4899-4940-99dd-18b39b15efaf"
   },
   "outputs": [
    {
     "output_type": "stream",
     "name": "stdout",
     "text": [
      "+-----------------------------------+----------------------------------------------------------------------------------------------------------------------------------------------------------------------------------------------------------------------------------------------------------------------------------------------------------------------------------+\n",
      "|patterns                           |association_rules                                                                                                                                                                                                                                                                                                                 |\n",
      "+-----------------------------------+----------------------------------------------------------------------------------------------------------------------------------------------------------------------------------------------------------------------------------------------------------------------------------------------------------------------------------+\n",
      "|('BISCUIT', 'BREAD')               |[('MILK', 0.5), ('CORNFLAKES', 0.25), ('MAGGI', 0.25), ('TEA', 0.25), ('SUGER', 0.25)]                                                                                                                                                                                                                                            |\n",
      "|('BISCUIT', 'BREAD', 'CORNFLAKES') |[]                                                                                                                                                                                                                                                                                                                                |\n",
      "|('BISCUIT', 'BREAD', 'MAGGI')      |[]                                                                                                                                                                                                                                                                                                                                |\n",
      "|('BISCUIT', 'BREAD', 'MILK')       |[]                                                                                                                                                                                                                                                                                                                                |\n",
      "|('BISCUIT', 'BREAD', 'SUGER')      |[]                                                                                                                                                                                                                                                                                                                                |\n",
      "|('BISCUIT', 'BREAD', 'TEA')        |[]                                                                                                                                                                                                                                                                                                                                |\n",
      "|('BISCUIT', 'COCK')                |[('COFFEE', 1.0), ('CORNFLAKES', 1.0)]                                                                                                                                                                                                                                                                                            |\n",
      "|('BISCUIT', 'COCK', 'COFFEE')      |[]                                                                                                                                                                                                                                                                                                                                |\n",
      "|('BISCUIT', 'COCK', 'CORNFLAKES')  |[]                                                                                                                                                                                                                                                                                                                                |\n",
      "|('BISCUIT', 'COFFEE')              |[('COCK', 1.0), ('CORNFLAKES', 1.0)]                                                                                                                                                                                                                                                                                              |\n",
      "|('BISCUIT', 'COFFEE', 'CORNFLAKES')|[]                                                                                                                                                                                                                                                                                                                                |\n",
      "|('BISCUIT', 'CORNFLAKES')          |[('BREAD', 0.3333333333333333), ('MILK', 0.3333333333333333), ('COCK', 0.6666666666666666), ('COFFEE', 0.6666666666666666)]                                                                                                                                                                                                       |\n",
      "|('BISCUIT', 'CORNFLAKES', 'MILK')  |[]                                                                                                                                                                                                                                                                                                                                |\n",
      "|('BISCUIT', 'MAGGI')               |[('TEA', 1.0), ('BREAD', 0.5)]                                                                                                                                                                                                                                                                                                    |\n",
      "|('BISCUIT', 'MAGGI', 'TEA')        |[]                                                                                                                                                                                                                                                                                                                                |\n",
      "|('BISCUIT', 'MILK')                |[('BREAD', 1.0), ('CORNFLAKES', 0.5)]                                                                                                                                                                                                                                                                                             |\n",
      "|('BISCUIT', 'SUGER')               |[('BREAD', 1.0)]                                                                                                                                                                                                                                                                                                                  |\n",
      "|('BISCUIT', 'TEA')                 |[('MAGGI', 1.0), ('BREAD', 0.5)]                                                                                                                                                                                                                                                                                                  |\n",
      "|('BISCUIT',)                       |[('BREAD', 0.5714285714285714), ('MILK', 0.2857142857142857), ('CORNFLAKES', 0.42857142857142855), ('MAGGI', 0.2857142857142857), ('TEA', 0.2857142857142857), ('COCK', 0.2857142857142857), ('COFFEE', 0.2857142857142857), ('SUGER', 0.14285714285714285)]                                                                      |\n",
      "|('BOURNVITA', 'BREAD')             |[('TEA', 0.6666666666666666), ('SUGER', 0.3333333333333333)]                                                                                                                                                                                                                                                                      |\n",
      "|('BOURNVITA', 'BREAD', 'SUGER')    |[]                                                                                                                                                                                                                                                                                                                                |\n",
      "|('BOURNVITA', 'BREAD', 'TEA')      |[]                                                                                                                                                                                                                                                                                                                                |\n",
      "|('BOURNVITA', 'COFFEE')            |[('SUGER', 1.0)]                                                                                                                                                                                                                                                                                                                  |\n",
      "|('BOURNVITA', 'COFFEE', 'SUGER')   |[]                                                                                                                                                                                                                                                                                                                                |\n",
      "|('BOURNVITA', 'SUGER')             |[('COFFEE', 0.5), ('BREAD', 0.5)]                                                                                                                                                                                                                                                                                                 |\n",
      "|('BOURNVITA', 'TEA')               |[('BREAD', 1.0)]                                                                                                                                                                                                                                                                                                                  |\n",
      "|('BOURNVITA',)                     |[('BREAD', 0.75), ('TEA', 0.5), ('COFFEE', 0.25), ('SUGER', 0.5)]                                                                                                                                                                                                                                                                 |\n",
      "|('BREAD', 'COCK')                  |[('COFFEE', 1.0)]                                                                                                                                                                                                                                                                                                                 |\n",
      "|('BREAD', 'COCK', 'COFFEE')        |[]                                                                                                                                                                                                                                                                                                                                |\n",
      "|('BREAD', 'COFFEE')                |[('COCK', 0.3333333333333333), ('SUGER', 0.6666666666666666)]                                                                                                                                                                                                                                                                     |\n",
      "|('BREAD', 'COFFEE', 'SUGER')       |[]                                                                                                                                                                                                                                                                                                                                |\n",
      "|('BREAD', 'CORNFLAKES')            |[('BISCUIT', 1.0), ('MILK', 1.0)]                                                                                                                                                                                                                                                                                                 |\n",
      "|('BREAD', 'CORNFLAKES', 'MILK')    |[]                                                                                                                                                                                                                                                                                                                                |\n",
      "|('BREAD', 'JAM')                   |[('MAGGI', 1.0), ('MILK', 0.5), ('TEA', 0.5)]                                                                                                                                                                                                                                                                                     |\n",
      "|('BREAD', 'JAM', 'MAGGI')          |[]                                                                                                                                                                                                                                                                                                                                |\n",
      "|('BREAD', 'JAM', 'MILK')           |[]                                                                                                                                                                                                                                                                                                                                |\n",
      "|('BREAD', 'JAM', 'TEA')            |[]                                                                                                                                                                                                                                                                                                                                |\n",
      "|('BREAD', 'MAGGI')                 |[('JAM', 0.6666666666666666), ('MILK', 0.3333333333333333), ('BISCUIT', 0.3333333333333333), ('TEA', 0.6666666666666666)]                                                                                                                                                                                                         |\n",
      "|('BREAD', 'MAGGI', 'MILK')         |[]                                                                                                                                                                                                                                                                                                                                |\n",
      "|('BREAD', 'MAGGI', 'TEA')          |[]                                                                                                                                                                                                                                                                                                                                |\n",
      "|('BREAD', 'MILK')                  |[('BISCUIT', 0.5), ('CORNFLAKES', 0.25), ('JAM', 0.25), ('MAGGI', 0.25)]                                                                                                                                                                                                                                                          |\n",
      "|('BREAD', 'SUGER')                 |[('BISCUIT', 0.25), ('BOURNVITA', 0.25), ('COFFEE', 0.5)]                                                                                                                                                                                                                                                                         |\n",
      "|('BREAD', 'TEA')                   |[('BOURNVITA', 0.5), ('BISCUIT', 0.25), ('MAGGI', 0.5), ('JAM', 0.25)]                                                                                                                                                                                                                                                            |\n",
      "|('BREAD',)                         |[('BISCUIT', 0.3076923076923077), ('MILK', 0.3076923076923077), ('CORNFLAKES', 0.07692307692307693), ('BOURNVITA', 0.23076923076923078), ('TEA', 0.3076923076923077), ('JAM', 0.15384615384615385), ('MAGGI', 0.23076923076923078), ('COCK', 0.07692307692307693), ('COFFEE', 0.23076923076923078), ('SUGER', 0.3076923076923077)]|\n",
      "|('COCK', 'COFFEE')                 |[('BISCUIT', 0.6666666666666666), ('CORNFLAKES', 0.6666666666666666), ('BREAD', 0.3333333333333333)]                                                                                                                                                                                                                              |\n",
      "|('COCK', 'COFFEE', 'CORNFLAKES')   |[]                                                                                                                                                                                                                                                                                                                                |\n",
      "|('COCK', 'CORNFLAKES')             |[('BISCUIT', 1.0), ('COFFEE', 1.0)]                                                                                                                                                                                                                                                                                               |\n",
      "|('COCK',)                          |[('BISCUIT', 0.6666666666666666), ('COFFEE', 1.0), ('CORNFLAKES', 0.6666666666666666), ('BREAD', 0.3333333333333333)]                                                                                                                                                                                                             |\n",
      "|('COFFEE', 'CORNFLAKES')           |[('BISCUIT', 0.5), ('COCK', 0.5), ('SUGER', 0.25), ('MILK', 0.25), ('TEA', 0.25)]                                                                                                                                                                                                                                                 |\n",
      "|('COFFEE', 'CORNFLAKES', 'MILK')   |[]                                                                                                                                                                                                                                                                                                                                |\n",
      "+-----------------------------------+----------------------------------------------------------------------------------------------------------------------------------------------------------------------------------------------------------------------------------------------------------------------------------------------------------------------------------+\n"
     ]
    }
   ],
   "source": [
    "def map_to_assoc_rules(rule):\n",
    "    subpattern, combined_rule = rule ;\n",
    "    total = 1\n",
    "    for value in combined_rule :\n",
    "      if value[0] == None :\n",
    "        total = value[1]\n",
    "\n",
    "    new_rule = [(value , count/total) for value,count in combined_rule if value != None]\n",
    "    yield(subpattern , new_rule)\n",
    "\n",
    "    \"\"\"\n",
    "    TODO\n",
    "    \"\"\"\n",
    "\n",
    "assoc_rules = combined_rules.flatMap(map_to_assoc_rules)\n",
    "\n",
    "\n",
    "# Output as dataframe\n",
    "assoc_rules.map(format_tuples).toDF(['patterns', 'association_rules']).sort(['patterns']).show(50, truncate=False)"
   ]
  },
  {
   "cell_type": "code",
   "source": [
    "single_rule_list = assoc_rules.filter(lambda rule: len(rule[0]) == 1).take(1)\n"
   ],
   "metadata": {
    "colab": {
     "base_uri": "https://localhost:8080/"
    },
    "id": "z_jhA3H5RTuP",
    "outputId": "4b16058d-7e7b-4ae0-c270-7cc938583b70"
   },
   "execution_count": null,
   "outputs": [
    {
     "output_type": "execute_result",
     "data": {
      "text/plain": [
       "(('BISCUIT',),\n",
       " [('BREAD', 0.5714285714285714),\n",
       "  ('MILK', 0.2857142857142857),\n",
       "  ('CORNFLAKES', 0.42857142857142855),\n",
       "  ('MAGGI', 0.2857142857142857),\n",
       "  ('TEA', 0.2857142857142857),\n",
       "  ('COCK', 0.2857142857142857),\n",
       "  ('COFFEE', 0.2857142857142857),\n",
       "  ('SUGER', 0.14285714285714285)])"
      ]
     },
     "metadata": {},
     "execution_count": 25
    }
   ]
  },
  {
   "cell_type": "markdown",
   "source": [
    "## 3. VAERS dataset (35 points)"
   ],
   "metadata": {
    "id": "hA3vXekwqcPo"
   }
  },
  {
   "cell_type": "markdown",
   "metadata": {
    "id": "BPV5g2hwMa0U"
   },
   "source": [
    "Avec votre algorithme MBA prêt à être utilisé, il est maintenant temps de travailler sur l'ensemble de données réel.\n",
    "Pour cette partie du TP, nous l'appliquerons au domaine médical afin de mettre en avant l'apparition de symptômes cooccurents.\n",
    "Cela permet notamment d'anticiper l'apparition de symptômes et ainsi d'effectuer les traitements préventifs adéquates.\n",
    "\n",
    "Pour ce faire, téléchargez le dataset [VAERS]() et lisez sa description (fichier note.txt) pour comprendre la structure de l'ensemble de données.\n",
    "Il s'agit d'une aggrégation et normalisation des données issues du programme états-unien de surveillance [*Vaccine Adverse Event Reporting System*](https://vaers.hhs.gov/index.html), couvrant une période allant de 1990 à 2024.\n",
    "\n",
    "Avant d'appliquer l'algorithme développé sur l'ensemble de données VAERS, vous devez d'abord filtrer les transactions pour qu'elles soient au même format défini par votre algorithme (une transaction par ligne).\n",
    "Pour manipuler les données, nous pouvons utiliser le bloc de données de Spark et le module SQL présenté dans la section 1.\n",
    "\n",
    "La cellule de code suivante utilise le module Spark SQL pour lire les observations de ``OBSERVATIONS_extract.csv`` et les informations détaillées de ``DATA.csv`` et ``SYMPTOMS.csv`` pour construire une dataframe qui contient un liste de tous les symptômes jamais observés pour chaque patient."
   ]
  },
  {
   "cell_type": "markdown",
   "source": [
    "### Chargement des données"
   ],
   "metadata": {
    "id": "3eaInywAwqp5"
   }
  },
  {
   "cell_type": "code",
   "execution_count": null,
   "metadata": {
    "id": "dcoaqEwByVIM",
    "colab": {
     "base_uri": "https://localhost:8080/"
    },
    "outputId": "88e1f240-c2fd-4098-8647-e3707ccf4710"
   },
   "outputs": [
    {
     "output_type": "stream",
     "name": "stdout",
     "text": [
      "SYMPTOMS.csv\n",
      "+----------+--------------------+\n",
      "|SYMPTOM_ID|        SYMPTOM_NAME|\n",
      "+----------+--------------------+\n",
      "|         0|Cardiac vein diss...|\n",
      "|         1|Vaccination site ...|\n",
      "|         2|Blood bicarbonate...|\n",
      "|         3|  Judgement impaired|\n",
      "|         4|Sinus node dysfun...|\n",
      "+----------+--------------------+\n",
      "only showing top 5 rows\n"
     ]
    }
   ],
   "source": [
    "df_symptoms = spark.read.csv(ROOT + 'SYMPTOMS.csv', header=True, sep=',', inferSchema=True)\n",
    "print('SYMPTOMS.csv')\n",
    "df_symptoms.show(5)"
   ]
  },
  {
   "cell_type": "code",
   "execution_count": null,
   "metadata": {
    "id": "DH1zH_0UyWgv",
    "colab": {
     "base_uri": "https://localhost:8080/"
    },
    "outputId": "a9632fc2-c34d-437f-b310-0bc97930243c"
   },
   "outputs": [
    {
     "output_type": "stream",
     "name": "stdout",
     "text": [
      "OBSERVATIONS.csv\n",
      "+--------------+--------+----------+\n",
      "|OBSERVATION_ID|VAERS_ID|SYMPTOM_ID|\n",
      "+--------------+--------+----------+\n",
      "|             0|   25002|      9465|\n",
      "|             0|   25002|      2581|\n",
      "|             1|   25010|     14978|\n",
      "|             2|   25011|      2581|\n",
      "|             2|   25011|      6620|\n",
      "+--------------+--------+----------+\n",
      "only showing top 5 rows\n"
     ]
    }
   ],
   "source": [
    "df_observations = spark.read.csv(ROOT + 'OBSERVATIONS_extract.csv', header=True, sep=',', inferSchema=True)\n",
    "print('OBSERVATIONS.csv')\n",
    "df_observations.show(5)"
   ]
  },
  {
   "cell_type": "code",
   "execution_count": null,
   "metadata": {
    "id": "bR4veBLryXuM",
    "colab": {
     "base_uri": "https://localhost:8080/"
    },
    "outputId": "0a949416-c2a5-44be-91bf-eb6f3dcf9099"
   },
   "outputs": [
    {
     "output_type": "stream",
     "name": "stdout",
     "text": [
      "DATA.csv\n",
      "+--------+-----+-------+---+\n",
      "|VAERS_ID|STATE|AGE_YRS|SEX|\n",
      "+--------+-----+-------+---+\n",
      "|   25002|   FR|   82.0|  M|\n",
      "|   25010|   FR|    1.7|  M|\n",
      "|   25011|   FR|    5.0|  F|\n",
      "|   25064|   FR|   NULL|  F|\n",
      "|   25055|   FR|   54.0|  F|\n",
      "+--------+-----+-------+---+\n",
      "only showing top 5 rows\n"
     ]
    }
   ],
   "source": [
    "df_data = spark.read.csv(ROOT + 'DATA.csv', header=True, sep=',', inferSchema=True)\n",
    "print('DATA.csv')\n",
    "df_data.show(5)"
   ]
  },
  {
   "cell_type": "code",
   "execution_count": null,
   "metadata": {
    "id": "f9cxx8h8EWMm",
    "colab": {
     "base_uri": "https://localhost:8080/"
    },
    "outputId": "f1f99621-6b64-4d34-fc7a-6507ce91d9ac"
   },
   "outputs": [
    {
     "output_type": "stream",
     "name": "stdout",
     "text": [
      "VAX.csv\n",
      "+--------+--------+------------------+--------------------+\n",
      "|VAERS_ID|VAX_TYPE|          VAX_MANU|            VAX_NAME|\n",
      "+--------+--------+------------------+--------------------+\n",
      "|   25002|     PPV|  MERCK & CO. INC.|  PNEUMO (PNEUMOVAX)|\n",
      "|   25010|     MMR|  MERCK & CO. INC.|MEASLES + MUMPS +...|\n",
      "|   25011|     HEP|SMITHKLINE BEECHAM|   HEP B (ENGERIX-B)|\n",
      "|   25055|     HEP|SMITHKLINE BEECHAM|   HEP B (ENGERIX-B)|\n",
      "|   25056|     HEP|SMITHKLINE BEECHAM|   HEP B (ENGERIX-B)|\n",
      "+--------+--------+------------------+--------------------+\n",
      "only showing top 5 rows\n"
     ]
    }
   ],
   "source": [
    "df_vax = spark.read.csv(ROOT + 'VAX.csv', header=True, sep=',', inferSchema=True)\n",
    "print('VAX.csv')\n",
    "df_vax.show(5)"
   ]
  },
  {
   "cell_type": "markdown",
   "source": [
    "### Requête avec SQL"
   ],
   "metadata": {
    "id": "4SKrggVywy-P"
   }
  },
  {
   "cell_type": "code",
   "execution_count": null,
   "metadata": {
    "id": "r0j8lixgGl4m"
   },
   "outputs": [],
   "source": [
    "df_observations.createOrReplaceTempView(\"OBSERVATIONS\") # creates table 'observations'\n",
    "df_symptoms.createOrReplaceTempView(\"SYMPTOMS\") # creates table 'symptoms'\n",
    "df_data.createOrReplaceTempView(\"DATA\") # creates table 'data'\n",
    "df_vax.createOrReplaceTempView(\"VAX\") # creates table 'vax'"
   ]
  },
  {
   "cell_type": "code",
   "execution_count": null,
   "metadata": {
    "id": "mVss9sotT8X9",
    "colab": {
     "base_uri": "https://localhost:8080/"
    },
    "outputId": "83c5994e-8179-4dfd-dc6a-a439d7cdca50"
   },
   "outputs": [
    {
     "output_type": "stream",
     "name": "stdout",
     "text": [
      "+--------+------------------------------------------------------------------------------+\n",
      "|VAERS_ID|SYMPTOMS                                                                      |\n",
      "+--------+------------------------------------------------------------------------------+\n",
      "|25002   |[Convulsion, Chills]                                                          |\n",
      "|25010   |[Bronchitis]                                                                  |\n",
      "|25011   |[Vomiting, Pyrexia, Convulsion]                                               |\n",
      "|25055   |[Neoplasm malignant, Nausea, Hepatocellular damage, Hepatic function abnormal]|\n",
      "|25056   |[Malaise, Hepatic cirrhosis]                                                  |\n",
      "+--------+------------------------------------------------------------------------------+\n"
     ]
    }
   ],
   "source": [
    "\"\"\"\n",
    "List of symptoms ever contracted by each user\n",
    "\"\"\"\n",
    "spark.sql(\"\"\"\n",
    "  SELECT\n",
    "    data.VAERS_ID,\n",
    "    COLLECT_LIST(symp.SYMPTOM_NAME) AS SYMPTOMS\n",
    "  FROM DATA\n",
    "  INNER JOIN OBSERVATIONS observ ON observ.VAERS_ID = data.VAERS_ID\n",
    "  INNER JOIN SYMPTOMS symp ON observ.SYMPTOM_ID = symp.SYMPTOM_ID\n",
    "  GROUP BY data.VAERS_ID ORDER BY data.VAERS_ID\n",
    "\"\"\").show(5, truncate=False)"
   ]
  },
  {
   "cell_type": "markdown",
   "source": [
    "### Requête avec opérations ensemblistes sur le dataFrame"
   ],
   "metadata": {
    "id": "dxNCqA-Uw52I"
   }
  },
  {
   "cell_type": "code",
   "execution_count": null,
   "metadata": {
    "id": "6oB1eTkeMa0W",
    "colab": {
     "base_uri": "https://localhost:8080/"
    },
    "outputId": "02fe5b69-1955-450b-83d5-a1172205eb4a"
   },
   "outputs": [
    {
     "output_type": "stream",
     "name": "stdout",
     "text": [
      "+--------+------------------------------------------------------------------------------+\n",
      "|VAERS_ID|SYMPTOMS                                                                      |\n",
      "+--------+------------------------------------------------------------------------------+\n",
      "|25002   |[Convulsion, Chills]                                                          |\n",
      "|25010   |[Bronchitis]                                                                  |\n",
      "|25011   |[Vomiting, Pyrexia, Convulsion]                                               |\n",
      "|25055   |[Neoplasm malignant, Nausea, Hepatocellular damage, Hepatic function abnormal]|\n",
      "|25056   |[Malaise, Hepatic cirrhosis]                                                  |\n",
      "+--------+------------------------------------------------------------------------------+\n"
     ]
    }
   ],
   "source": [
    "\"\"\"\n",
    "List of symptoms ever contracted by each user\n",
    "\"\"\"\n",
    "df_data.join(df_observations, df_observations.VAERS_ID == df_data.VAERS_ID, 'inner')\\\n",
    " .join(df_symptoms, df_symptoms.SYMPTOM_ID == df_observations.SYMPTOM_ID, 'inner')\\\n",
    " .groupBy(df_data.VAERS_ID).agg(f.collect_list(df_symptoms.SYMPTOM_NAME).alias('SYMPTOMS'))\\\n",
    " .orderBy(df_data.VAERS_ID).show(5, truncate=False)"
   ]
  },
  {
   "cell_type": "markdown",
   "metadata": {
    "id": "JEqVeqhkMa0a"
   },
   "source": [
    "### 3.1 Perspectives médicales (20 points)\n",
    "\n",
    "Maintenant, vous êtes le *data scientist*. **En ne considérant que les lignes de ``OBSERVATIONS.csv``**, l'utilisation du module Spark SQL, performant avec SQL ou dataframe, répondez aux questions suivantes:\n",
    "\n",
    "1. Quel est l'âge moyen des patients par états (américains et autres) ? A trier par ordre décroissant - 4 pts\n",
    "2. Quels sont les 3 symptômes les plus observés pour chaque entreprise de vaccins ? - 8 pts\n",
    "3. Quelle est le nombre moyen de symptômes pour les 20 vaccins les plus utilisés ? - 8 pts\n",
    "    - utilisez un barplot pour visualiser vos résultats, ordonné selon la popularité des vaccins de cette ensemble de données\n",
    "**Les sorties des questions 2 et 3 doivent contenir le NOM des symptômes, pas leur ID.**\n",
    "\n",
    "Aucun pré-traitement des données n'est ici attendu."
   ]
  },
  {
   "cell_type": "code",
   "execution_count": null,
   "metadata": {
    "id": "mduVYG70d__G",
    "collapsed": true,
    "colab": {
     "base_uri": "https://localhost:8080/"
    },
    "outputId": "83b9b2b1-b426-45b1-bd60-ffd2710bd484"
   },
   "outputs": [
    {
     "output_type": "stream",
     "name": "stdout",
     "text": [
      "+------------+------------------+\n",
      "|upper(STATE)|          MEAN_AGE|\n",
      "+------------+------------------+\n",
      "|          XV|              53.0|\n",
      "|          XB|              49.5|\n",
      "|          AS|           48.9683|\n",
      "|          FL| 48.70062404526923|\n",
      "|        NULL| 46.56892396607468|\n",
      "|          MN|44.854145968322506|\n",
      "|          KY|44.740111775528945|\n",
      "|          MI|44.572689699918925|\n",
      "|          AZ|44.181660384411686|\n",
      "|          PR| 43.76019668597601|\n",
      "|          CT| 43.63826995692177|\n",
      "|          NV| 43.56006325528701|\n",
      "|          DE| 43.51405103331928|\n",
      "|          IN|43.263884985299256|\n",
      "|          MT|  43.0678064324885|\n",
      "|          FM| 43.02538461538462|\n",
      "|          VT| 42.83776263736264|\n",
      "|          CO| 42.57963074436367|\n",
      "|          TN|42.429461943319815|\n",
      "|          SC|42.245218176686436|\n",
      "|          NY| 41.99645738324132|\n",
      "|          NJ| 41.96889025152699|\n",
      "|          AL|41.957945056538115|\n",
      "|          WI| 41.80816969860606|\n",
      "|          MO|41.601409043112525|\n",
      "|          WA|  41.4279053938252|\n",
      "|          MD| 41.34795341808746|\n",
      "|          NC| 41.28342889744694|\n",
      "|          CA|41.110647955905876|\n",
      "|          HI| 41.10653108851476|\n",
      "|          WV| 41.10172054501738|\n",
      "|          WY| 41.05104681164763|\n",
      "|          IL|40.958682020555116|\n",
      "|          SD| 40.90371924746744|\n",
      "|          OR| 40.88154553123473|\n",
      "|          PA|40.791347107704226|\n",
      "|          MA| 40.75588383902826|\n",
      "|          OH| 40.67127282221884|\n",
      "|          AR|40.525939793737784|\n",
      "|          RI|40.472753260675354|\n",
      "|          IA| 40.42984802867381|\n",
      "|          OK| 40.42577337265929|\n",
      "|          NH| 40.21643134643133|\n",
      "|          MS| 40.05793646591662|\n",
      "|          XL|              40.0|\n",
      "|          DC| 39.98613306085377|\n",
      "|          ME| 39.91859685520854|\n",
      "|          FR| 39.86027431212055|\n",
      "|          GA|39.808706672499426|\n",
      "|          VA| 39.77510538934122|\n",
      "|          TX|  39.7183618305109|\n",
      "|          ND| 39.21987626825043|\n",
      "|          NM|39.199892049188016|\n",
      "|          KS| 38.62527567324283|\n",
      "|          NE| 38.54104138398913|\n",
      "|          LA| 38.33501025721951|\n",
      "|          ID|38.132485826428244|\n",
      "|          QW|              37.0|\n",
      "|          UT| 36.27068635607322|\n",
      "|          AK| 35.90776215277778|\n",
      "|          QM|35.333333333333336|\n",
      "|          MH|33.859259259259254|\n",
      "|          MP|33.565373134328354|\n",
      "|          VI|30.530808625336928|\n",
      "|          PW|              28.8|\n",
      "|          GU|27.117235142118865|\n",
      "+------------+------------------+\n"
     ]
    }
   ],
   "source": [
    "\"\"\"\n",
    "TODO\n",
    "Mean age of patient by state, sorted by mean age\n",
    "\"\"\"\n",
    "\n",
    "spark.sql(\"\"\"\n",
    "  SELECT\n",
    "    upper(data.STATE),\n",
    "    mean(data.AGE_YRS) as MEAN_AGE\n",
    "  FROM DATA data  -- Alias DATA table as data\n",
    "  where data.AGE_YRS IS NOT NULL\n",
    "  GROUP BY upper(data.STATE)\n",
    "  ORDER BY MEAN_AGE DESC\n",
    "\"\"\").show(1000)"
   ]
  },
  {
   "cell_type": "code",
   "execution_count": null,
   "metadata": {
    "id": "U4oaFriU93Qk",
    "colab": {
     "base_uri": "https://localhost:8080/"
    },
    "outputId": "6fd7f0d6-b87f-4db0-f1ba-c81a260e4f29"
   },
   "outputs": [
    {
     "output_type": "stream",
     "name": "stdout",
     "text": [
      "+--------------------+--------------------+--------------------+--------------------+\n",
      "|            VAX_MANU|      RANK_1_SYMPTOM|      RANK_2_SYMPTOM|      RANK_3_SYMPTOM|\n",
      "+--------------------+--------------------+--------------------+--------------------+\n",
      "|     AVENTIS PASTEUR|            Asthenia|                Pain|             Pyrexia|\n",
      "|  BERNA BIOTECH, LTD|         Alcohol use|             Autopsy|               Death|\n",
      "| BERNA BIOTECH, LTD.|             Pyrexia|           Diarrhoea|            Headache|\n",
      "|                 BSI|Grand mal convulsion|              Nausea|  Enzyme abnormality|\n",
      "|CONNAUGHT LABORAT...|             Pyrexia|          Convulsion|           Infection|\n",
      "|      CONNAUGHT LTD.|             Pyrexia|          Convulsion|              Pallor|\n",
      "|         CSL LIMITED|             Pyrexia|            Vomiting|            Headache|\n",
      "|EMERGENT BIOSOLUT...| Injection site pain|             Pyrexia|Injection site er...|\n",
      "|      EVANS VACCINES|             Malaise|            Pruritus|    Medication error|\n",
      "|GLAXOSMITHKLINE B...|             Pyrexia|            Vomiting|              Pallor|\n",
      "|        INTERCELL AG|             Syncope|            Headache|        Paraesthesia|\n",
      "|LEDERLE LABORATORIES|             Pyrexia|           Infection|Angioneurotic oedema|\n",
      "|MASS. PUB HLTH BI...|             Pyrexia|              Apathy|            Pruritus|\n",
      "| MEDEVA PHARMA, LTD.|             Pyrexia|                Pain|        Paraesthesia|\n",
      "|MEDIMMUNE VACCINE...|             Pyrexia|               Cough|            Headache|\n",
      "|    MERCK & CO. INC.|             Pyrexia|            Headache|           Dizziness|\n",
      "|MICHIGAN DEPT PUB...|              Oedema| Myasthenic syndrome|      Vasodilatation|\n",
      "|NOVARTIS VACCINES...|             Pyrexia|            Vomiting|            Headache|\n",
      "|     ORGANON-TEKNIKA|          Skin ulcer|Injection site sw...|Anaphylactic reac...|\n",
      "|         PARKE-DAVIS|Personality disorder|            Insomnia|            Anorexia|\n",
      "|PASTEUR MERIEUX C...|            Myelitis|             Myalgia|   CSF test abnormal|\n",
      "|PASTEUR MERIEUX I...|             Pyrexia|            Asthenia|             Myalgia|\n",
      "|        PFIZER\\WYETH|             Pyrexia|              Crying|              Pallor|\n",
      "|PROTEIN SCIENCES ...| Respiratory failure|                NULL|                NULL|\n",
      "|      SANOFI PASTEUR|             Pyrexia|              Crying|              Pallor|\n",
      "|       SEQIRUS, INC.|             Pyrexia|           Dizziness|              Nausea|\n",
      "|  SMITHKLINE BEECHAM|             Pyrexia|Laboratory test a...|            Asthenia|\n",
      "|UNKNOWN MANUFACTURER|             Pyrexia|              Crying|            Vomiting|\n",
      "+--------------------+--------------------+--------------------+--------------------+\n"
     ]
    }
   ],
   "source": [
    "\"\"\"\n",
    "TODO\n",
    "Top 3 most observated symptoms of each company\n",
    "\"\"\"\n",
    "spark.sql(\"\"\"\n",
    "  SELECT\n",
    "    ranked_symptoms.VAX_MANU,\n",
    "    MAX(CASE WHEN ranked_symptoms.RANK = 1 THEN ranked_symptoms.SYMPTOM_NAME END) AS RANK_1_SYMPTOM,\n",
    "    MAX(CASE WHEN ranked_symptoms.RANK = 2 THEN ranked_symptoms.SYMPTOM_NAME END) AS RANK_2_SYMPTOM,\n",
    "    MAX(CASE WHEN ranked_symptoms.RANK = 3 THEN ranked_symptoms.SYMPTOM_NAME END) AS RANK_3_SYMPTOM\n",
    "  FROM (\n",
    "    SELECT\n",
    "      vax.VAX_MANU,  -- Manufacturer\n",
    "      symptoms.SYMPTOM_NAME,  -- Symptom name\n",
    "      COUNT(*) AS OBSERVATION_COUNT,  -- Count of observations\n",
    "      ROW_NUMBER() OVER (PARTITION BY vax.VAX_MANU ORDER BY COUNT(*) DESC) AS RANK\n",
    "    FROM OBSERVATIONS observ\n",
    "    INNER JOIN VAX vax ON vax.VAERS_ID = observ.VAERS_ID\n",
    "    INNER JOIN SYMPTOMS symptoms ON observ.SYMPTOM_ID = symptoms.SYMPTOM_ID\n",
    "    GROUP BY vax.VAX_MANU, symptoms.SYMPTOM_NAME\n",
    "  ) ranked_symptoms\n",
    "  WHERE ranked_symptoms.RANK <= 3\n",
    "  GROUP BY ranked_symptoms.VAX_MANU\n",
    "\"\"\").show(45)"
   ]
  },
  {
   "cell_type": "code",
   "source": [
    "\"\"\"\n",
    "TODO\n",
    "Average number of symptoms for the top 20 injected vaccine.\n",
    "\"\"\"\n",
    "\n",
    "spark.sql(\"\"\"\n",
    "    SELECT\n",
    "      vax.VAX_TYPE,\n",
    "      COUNT(DISTINCT observ.SYMPTOM_ID) AS num_symptoms\n",
    "    FROM VAX vax\n",
    "    INNER JOIN OBSERVATIONS observ ON observ.VAERS_ID = vax.VAERS_ID\n",
    "    WHERE vax.VAX_TYPE IN (\n",
    "      SELECT vax.VAX_TYPE\n",
    "      FROM VAX vax\n",
    "      GROUP BY vax.VAX_TYPE\n",
    "      ORDER BY COUNT(*) DESC\n",
    "      LIMIT 20\n",
    "    )\n",
    "    GROUP BY vax.VAX_TYPE\n",
    "\n",
    "\"\"\").show()"
   ],
   "metadata": {
    "id": "wrxHPMI4sFar",
    "colab": {
     "base_uri": "https://localhost:8080/"
    },
    "outputId": "00aae331-9429-4389-b38d-77bcec4895f8"
   },
   "execution_count": null,
   "outputs": [
    {
     "output_type": "stream",
     "name": "stdout",
     "text": [
      "+--------+------------+\n",
      "|VAX_TYPE|num_symptoms|\n",
      "+--------+------------+\n",
      "|     IPV|        2668|\n",
      "|     DTP|        1710|\n",
      "|     PNC|        2560|\n",
      "|     RV1|        2211|\n",
      "|  VARCEL|        1333|\n",
      "|  VARZOS|        1052|\n",
      "|     UNK|         818|\n",
      "|    DTAP|        2345|\n",
      "|    HIBV|        2859|\n",
      "|  DTPHIB|         406|\n",
      "|      TD|        1238|\n",
      "|     HEP|        4088|\n",
      "|     PPV|        2843|\n",
      "|    FLU3|        2455|\n",
      "|     OPV|        1190|\n",
      "|    HPV4|        4271|\n",
      "|     MMR|        3136|\n",
      "|   PNC13|        3325|\n",
      "|    FLUX|        3353|\n",
      "+--------+------------+\n"
     ]
    }
   ]
  },
  {
   "cell_type": "code",
   "source": [
    "spark.sql(\"\"\"\n",
    "    Select vax.VAX_NAME , count(vax.VAERS_ID)\n",
    "    FROM VAX vax\n",
    "    where vax.VAX_NAME IN (\n",
    "      SELECT vax.VAX_NAME\n",
    "      FROM OBSERVATIONS observ\n",
    "      INNER JOIN VAX vax ON vax.VAERS_ID = observ.VAERS_ID\n",
    "      GROUP BY vax.VAX_NAME\n",
    "      ORDER BY COUNT(*) DESC\n",
    "      LIMIT 20) group by vax.VAX_NAME\n",
    "      \"\"\"\n",
    "      ).show(50 , truncate=False)"
   ],
   "metadata": {
    "id": "nZ98gqigwvKd",
    "colab": {
     "base_uri": "https://localhost:8080/"
    },
    "outputId": "009a525c-f6ea-4b70-fc5f-142844741563"
   },
   "execution_count": null,
   "outputs": [
    {
     "output_type": "stream",
     "name": "stdout",
     "text": [
      "+-----------------------------------------+---------------+\n",
      "|VAX_NAME                                 |count(VAERS_ID)|\n",
      "+-----------------------------------------+---------------+\n",
      "|ROTAVIRUS (ROTATEQ)                      |4529           |\n",
      "|PNEUMO (PREVNAR13)                       |12700          |\n",
      "|DTP (NO BRAND NAME)                      |15189          |\n",
      "|HEP B (ENGERIX-B)                        |20954          |\n",
      "|HEP A (HAVRIX)                           |3656           |\n",
      "|HEP B (NO BRAND NAME)                    |5570           |\n",
      "|DTAP+IPV+HEPB+HIB (INFANRIX HEXA)        |4408           |\n",
      "|PNEUMO (PNEUMOVAX)                       |14225          |\n",
      "|DTAP (INFANRIX)                          |7923           |\n",
      "|INFLUENZA (SEASONAL) (NO BRAND NAME)     |12806          |\n",
      "|MENINGOCOCCAL B (BEXSERO)                |5787           |\n",
      "|HIB (ACTHIB)                             |9498           |\n",
      "|ROTAVIRUS (ROTARIX)                      |8133           |\n",
      "|MEASLES + MUMPS + RUBELLA (NO BRAND NAME)|5196           |\n",
      "|HPV (CERVARIX)                           |4677           |\n",
      "|HPV (GARDASIL)                           |10012          |\n",
      "|PNEUMO (PREVNAR)                         |9351           |\n",
      "|POLIO VIRUS, INACT. (NO BRAND NAME)      |5611           |\n",
      "|MEASLES + MUMPS + RUBELLA (MMR II)       |26631          |\n",
      "|HEP A + HEP B (TWINRIX)                  |2561           |\n",
      "+-----------------------------------------+---------------+\n"
     ]
    }
   ]
  },
  {
   "cell_type": "code",
   "source": [
    "import matplotlib.pyplot as plt\n",
    "top_vac = spark.sql(\"\"\"\n",
    "\n",
    "WITH top_20_vaccines AS (\n",
    "    SELECT vax.VAX_NAME\n",
    "      FROM OBSERVATIONS observ\n",
    "      INNER JOIN VAX vax ON vax.VAERS_ID = observ.VAERS_ID\n",
    "      GROUP BY vax.VAX_NAME\n",
    "      ORDER BY COUNT(*) DESC\n",
    "      LIMIT 20\n",
    "),\n",
    "\n",
    "symptom_counts_per_patient AS (\n",
    "    SELECT\n",
    "        vax.VAX_NAME,\n",
    "        vax.VAERS_ID,\n",
    "        COUNT(DISTINCT obs.SYMPTOM_ID) as symptom_count\n",
    "    FROM VAX vax\n",
    "    JOIN top_20_vaccines top ON vax.VAX_NAME = top.VAX_NAME\n",
    "    JOIN OBSERVATIONS obs ON vax.VAERS_ID = obs.VAERS_ID\n",
    "    GROUP BY vax.VAX_NAME, vax.VAERS_ID\n",
    ")\n",
    "SELECT\n",
    "    VAX_NAME,\n",
    "    MEAN(symptom_count) as moyenne_symptomes_par_patient\n",
    "FROM symptom_counts_per_patient\n",
    "GROUP BY VAX_NAME\n",
    "ORDER BY moyenne_symptomes_par_patient DESC\n",
    "\"\"\")\n",
    "pandas_df = top_vac.toPandas()\n",
    "\n",
    "plt.figure(figsize=(12, 6))\n",
    "plt.barh(pandas_df['VAX_NAME'], pandas_df['moyenne_symptomes_par_patient'], color='skyblue')\n",
    "plt.xlabel('Moyenne des Symptômes par Patient')\n",
    "plt.ylabel('Vaccin')\n",
    "plt.title('Top 20 Vaccins et leur Moyenne de Symptômes par Patient')\n",
    "plt.gca().invert_yaxis()  # Inverser l'axe pour afficher le plus populaire en haut\n",
    "plt.show()"
   ],
   "metadata": {
    "id": "KWWTusoh5sbt",
    "colab": {
     "base_uri": "https://localhost:8080/",
     "height": 211
    },
    "outputId": "5d3db744-78ca-4b44-82f0-8dd7b2f8b36c"
   },
   "execution_count": null,
   "outputs": []
  },
  {
   "cell_type": "markdown",
   "metadata": {
    "id": "PEWqTH1QMa0a"
   },
   "source": [
    "### 3.2 MBA pour les observations de 2024 (15 points)\n",
    "\n",
    "En utilisant les commandes du ``OBSERVATIONS_extract.csv``, créez un bloc de données où chaque ligne contient la liste des symptomes observés pour chaque patient, de manière similaire au GroceryDataset. Ensuite, exécutez l'algorithme MBA pour cet ensemble de transactions.\n",
    "Le format devra permettre d'appeler l'ensemble des méthodes précédemment implémentées.\n",
    "\n",
    "- Vous devez signaler le temps passé pour effectuer cette tâche.\n",
    "- La sortie doit contenir le nom des symptômes."
   ]
  },
  {
   "source": [
    "%%time\n",
    "\"\"\"\n",
    "TODO: create a query to create and struct the transactions\n",
    "\"\"\"\n",
    "list_symptoms = spark.sql(\"\"\"\n",
    "  SELECT\n",
    "    data.VAERS_ID as VAERS_id,\n",
    "    CONCAT_WS(', ', COLLECT_LIST(symp.SYMPTOM_NAME)) as transaction\n",
    "  FROM DATA\n",
    "  INNER JOIN OBSERVATIONS observ ON observ.VAERS_ID = data.VAERS_ID\n",
    "  INNER JOIN SYMPTOMS symp ON observ.SYMPTOM_ID = symp.SYMPTOM_ID\n",
    "  GROUP BY data.VAERS_ID ORDER BY data.VAERS_ID\n",
    "\"\"\")"
   ],
   "cell_type": "code",
   "metadata": {
    "collapsed": true,
    "id": "K3hqBdiR9a8P",
    "colab": {
     "base_uri": "https://localhost:8080/"
    },
    "outputId": "0f1726ca-021e-46f5-f0fa-1a385eaccaa2"
   },
   "execution_count": null,
   "outputs": [
    {
     "output_type": "stream",
     "name": "stdout",
     "text": [
      "CPU times: user 1.8 ms, sys: 1 ms, total: 2.8 ms\n",
      "Wall time: 39 ms\n"
     ]
    }
   ]
  },
  {
   "cell_type": "markdown",
   "source": [
    "Attention, l'exécution de cellule-ci devrait prendre plusieurs dizaines de minutes, dépendamment de l'implémentation que vous avez codé."
   ],
   "metadata": {
    "id": "wJD-Ra-qp5QZ"
   }
  },
  {
   "cell_type": "code",
   "execution_count": null,
   "metadata": {
    "id": "dewN0YUEMa0h",
    "collapsed": true,
    "colab": {
     "base_uri": "https://localhost:8080/"
    },
    "outputId": "db7565e0-59a3-488c-f586-617cf278571d"
   },
   "outputs": [
    {
     "output_type": "stream",
     "name": "stdout",
     "text": [
      "+-------------------------------------------------------------------------------------------------------------+-------------------------------------------------------------------------------------------------------------------------------------------------------------------------------------------------------------------------------------------------------------------------------------------------------------------------------------------------------------------------------------------------------------------------------------------------------------------------------------------------------------------------------------------------------------------------------------------------------------------------------------------------------------------------------------------------------------------------------------------------------------------------------------------------------------------------------------------------------------------------------------------------------------------------------------------------------------------------------------------------------------------------------------------------------------------------------------------------------------------------------------------------------------------------------------------------------------------------------------------------------------------------------------------------------------------------------------------------------------------------------------------------------------------------------------------------------------------------------------------------------------------------------------------------------------------------------------------------------------------------------------------------------------------------------------------------------------------------------------------+\n",
      "|patterns                                                                                                     |association_rules                                                                                                                                                                                                                                                                                                                                                                                                                                                                                                                                                                                                                                                                                                                                                                                                                                                                                                                                                                                                                                                                                                                                                                                                                                                                                                                                                                                                                                                                                                                                                                                                                                                                                                                          |\n",
      "+-------------------------------------------------------------------------------------------------------------+-------------------------------------------------------------------------------------------------------------------------------------------------------------------------------------------------------------------------------------------------------------------------------------------------------------------------------------------------------------------------------------------------------------------------------------------------------------------------------------------------------------------------------------------------------------------------------------------------------------------------------------------------------------------------------------------------------------------------------------------------------------------------------------------------------------------------------------------------------------------------------------------------------------------------------------------------------------------------------------------------------------------------------------------------------------------------------------------------------------------------------------------------------------------------------------------------------------------------------------------------------------------------------------------------------------------------------------------------------------------------------------------------------------------------------------------------------------------------------------------------------------------------------------------------------------------------------------------------------------------------------------------------------------------------------------------------------------------------------------------+\n",
      "|(\" 5'nucleotidase\", ' Activated partial thromboplastin time prolonged')                                      |[(' Streptococcus test negative', 1.0), (' Hepatitis B e antibody', 1.0), (' Hepatitis B e antigen negative', 1.0), (' Aspartate aminotransferase normal', 1.0), (' Petechiae', 1.0), (' Hepatitis C virus test', 1.0), (' Blood bilirubin normal', 1.0), (' Prothrombin time shortened', 1.0), (' Cytomegalovirus test negative', 1.0), (' Blood cholinesterase increased', 1.0), (' Toxoplasma serology negative', 1.0), (' PCO2 decreased', 1.0), (' Idiopathic thrombocytopenic purpura', 1.0), (' Scan bone marrow abnormal', 1.0), (' Hepatitis B surface antibody positive', 1.0), (' Blood immunoglobulin M', 1.0), (' Haemoglobin decreased', 1.0), ('White blood cell count normal', 1.0), (' Hepatitis B core antibody', 1.0), (' Platelet count decreased', 1.0), (' Rubella antibody negative', 1.0), (' C-reactive protein increased', 1.0), (' Thrombin time abnormal', 1.0), (' Bilirubin conjugated', 1.0), (' Herpes simplex serology negative', 1.0), (' HIV antibody negative', 1.0), (' Antibody test negative', 1.0), (' Red blood cell count decreased', 1.0), (' International normalised ratio normal', 1.0), (' Blood albumin normal', 1.0), (' Blood fibrinogen', 1.0), (' Blood pH decreased', 1.0), (' Blood bilirubin unconjugated increased', 1.0), (' Mycoplasma test', 1.0), (' Hepatitis B surface antigen negative', 1.0), (' Protein total normal', 1.0), (' Blood immunoglobulin A', 1.0), (' Gamma-glutamyltransferase increased', 1.0), (' Hepatitis B e antigen', 1.0), (' Immunoglobulin therapy', 1.0), (' Treponema test negative', 1.0), (' Total bile acids', 1.0), (' Blood immunoglobulin G', 1.0), (' Fibrin D dimer', 1.0), (' Alanine aminotransferase normal', 1.0), (' Globulin', 1.0)]|\n",
      "|(\" 5'nucleotidase\", ' Activated partial thromboplastin time prolonged', ' Alanine aminotransferase normal')  |[]                                                                                                                                                                                                                                                                                                                                                                                                                                                                                                                                                                                                                                                                                                                                                                                                                                                                                                                                                                                                                                                                                                                                                                                                                                                                                                                                                                                                                                                                                                                                                                                                                                                                                                                                         |\n",
      "|(\" 5'nucleotidase\", ' Activated partial thromboplastin time prolonged', ' Antibody test negative')           |[]                                                                                                                                                                                                                                                                                                                                                                                                                                                                                                                                                                                                                                                                                                                                                                                                                                                                                                                                                                                                                                                                                                                                                                                                                                                                                                                                                                                                                                                                                                                                                                                                                                                                                                                                         |\n",
      "|(\" 5'nucleotidase\", ' Activated partial thromboplastin time prolonged', ' Aspartate aminotransferase normal')|[]                                                                                                                                                                                                                                                                                                                                                                                                                                                                                                                                                                                                                                                                                                                                                                                                                                                                                                                                                                                                                                                                                                                                                                                                                                                                                                                                                                                                                                                                                                                                                                                                                                                                                                                                         |\n",
      "|(\" 5'nucleotidase\", ' Activated partial thromboplastin time prolonged', ' Bilirubin conjugated')             |[]                                                                                                                                                                                                                                                                                                                                                                                                                                                                                                                                                                                                                                                                                                                                                                                                                                                                                                                                                                                                                                                                                                                                                                                                                                                                                                                                                                                                                                                                                                                                                                                                                                                                                                                                         |\n",
      "+-------------------------------------------------------------------------------------------------------------+-------------------------------------------------------------------------------------------------------------------------------------------------------------------------------------------------------------------------------------------------------------------------------------------------------------------------------------------------------------------------------------------------------------------------------------------------------------------------------------------------------------------------------------------------------------------------------------------------------------------------------------------------------------------------------------------------------------------------------------------------------------------------------------------------------------------------------------------------------------------------------------------------------------------------------------------------------------------------------------------------------------------------------------------------------------------------------------------------------------------------------------------------------------------------------------------------------------------------------------------------------------------------------------------------------------------------------------------------------------------------------------------------------------------------------------------------------------------------------------------------------------------------------------------------------------------------------------------------------------------------------------------------------------------------------------------------------------------------------------------+\n",
      "only showing top 5 rows\n",
      "\n",
      "CPU times: user 18.7 s, sys: 2.2 s, total: 20.9 s\n",
      "Wall time: 1h 1min 17s\n"
     ]
    }
   ],
   "source": [
    "%%time\n",
    "\n",
    "\"\"\"\n",
    "TODO: run the MBA algorithm and show the first 5 association rules\n",
    "\"\"\"\n",
    "import time\n",
    "start_time = time.time()\n",
    "symptoms_rdd = list_symptoms.rdd\n",
    "patterns_rdd = symptoms_rdd.flatMap(map_to_patterns)\n",
    "patterns_rdd.map(format_tuples).toDF(['patterns', 'occurrences']).sort(['patterns'])\n",
    "\n",
    "combined_patterns_rdd = patterns_rdd.reduceByKey(reduce_patterns)\n",
    "combined_patterns_rdd.map(format_tuples).toDF(['patterns', 'combined_occurrences']).sort(['patterns'])\n",
    "\n",
    "subpatterns_rdd = combined_patterns_rdd.flatMap(map_to_subpatterns)\n",
    "subpatterns_rdd.map(format_tuples).toDF(['subpatterns', 'rules']).sort(['subpatterns'])\n",
    "\n",
    "combined_rules = subpatterns_rdd.map(lambda x:(x[0] , [x[1]])).reduceByKey(lambda x,y : x+y)\n",
    "combined_rules.map(format_tuples).toDF(['subpatterns', 'combined_rules']).sort(['subpatterns'])\n",
    "\n",
    "assoc_rules = combined_rules.flatMap(map_to_assoc_rules)\n",
    "assoc_rules.map(format_tuples).toDF(['patterns', 'association_rules']).sort(['patterns']).show(5, truncate=False)\n",
    "\n",
    "\n",
    "end_time = time.time()\n",
    "\n",
    "# Afficher le temps d'exécution\n",
    "execution_time = end_time - start_time\n",
    "\n",
    "\n"
   ]
  },
  {
   "cell_type": "code",
   "source": [
    "hours = int(execution_time // 3600)\n",
    "minutes = int((execution_time % 3600) // 60)\n",
    "seconds = execution_time % 60\n",
    "\n",
    "print(f\"Temps d'exécution : {hours} heures, {minutes} minutes, {seconds:.2f} secondes\")"
   ],
   "metadata": {
    "id": "hAOHENbP5jDG",
    "colab": {
     "base_uri": "https://localhost:8080/"
    },
    "outputId": "1b15ad42-c35f-434b-c2fd-26b62124684a"
   },
   "execution_count": null,
   "outputs": [
    {
     "output_type": "stream",
     "name": "stdout",
     "text": [
      "Temps d'exécution : 1 heures, 1 minutes, 17.53 secondes\n"
     ]
    }
   ]
  },
  {
   "cell_type": "markdown",
   "source": [
    "## 4. MBA pour le dataset complet (20 points)\n"
   ],
   "metadata": {
    "id": "e06nMh97qgl_"
   }
  },
  {
   "cell_type": "markdown",
   "metadata": {
    "id": "5DkNPEtGMa0l"
   },
   "source": [
    "Comme vous l'avez probablement remarqué, même pour un ensemble de données moins volumineux, l'algorithme MBA est coûteux en calcul. Pour cette raison, cette fois, nous allons répéter le processus, mais en utilisant maintenant Google Cloud Platform (GCP) pour créer un grand cluster. Toutes les instructions pour créer un cluster avec spark et comment soumettre un travail seront expliquées dans le laboratoire. Dans tous les cas, vous devez lire les instructions données dans le ``Instruction_GCP.pdf``.\n",
    "\n",
    "Cette fois, nous travaillerons avec le fichier ``OBSERVATIONS.csv``, qui contient plusieurs millions d'observations.\n",
    "\n",
    "**PRODUCTION ATTENDUE**\n",
    "\n",
    "Après avoir exécuté le MBA pour la plus grande collection d'observation, sélectionnez au hasard UN symptôme observé dans ``OBSERVATIONS`` et affichez les règles d'association (nom du symptôme et valeur d'association) de ce symptôme, c'est-à-dire lorsque le symptôme est seul. La sortie doit être formatée dans un tableau, où chaque ligne contenant les informations d'un symptôme associé.\n",
    "Afin d'accélérer son exécution, vous pouvez créer un second notebook uniquement dédié à cette partie et l'insérer dans le rendu final.\n",
    "\n",
    "- Affichez l'identifiant (SYMPTOM_ID) et le nom du symptôme (SYMPTOM_NAME) sélectionné au hasard.\n",
    "- Signalez le temps d'exécution.\n",
    "\n",
    "**Remarque importante : joignez des captures d'écran de votre sortie et de votre configuration de cluster.**"
   ]
  },
  {
   "cell_type": "markdown",
   "source": [
    "##### captures d'écran de notre configuration de cluster  :\n",
    "\n",
    "\n",
    "![Configuration_cluster_1](images/Configuration_cluster_1.png)\n",
    "![Configuration_cluster_2](images/Configuration_cluster_2.png)\n",
    "![Configuration_cluster_3](images/Configuration_cluster_3.png)"
   ],
   "metadata": {
    "id": "TwpZZZONWwH4"
   }
  },
  {
   "cell_type": "code",
   "source": [
    "df_observations_all = spark.read.csv(ROOT + 'OBSERVATIONS.csv', header=True, sep=',', inferSchema=True)\n",
    "print('OBSERVATIONS_ALL.csv')\n",
    "df_observations_all.createOrReplaceTempView(\"OBSERVATIONS_ALL\")\n",
    "\n",
    "list_symptoms = spark.sql(\"\"\"\n",
    "  SELECT\n",
    "    data.VAERS_ID as VAERS_id,\n",
    "    CONCAT_WS(', ', COLLECT_LIST(symp.SYMPTOM_NAME)) as transaction\n",
    "  FROM DATA\n",
    "  INNER JOIN OBSERVATIONS_ALL observ ON observ.VAERS_ID = data.VAERS_ID\n",
    "  INNER JOIN SYMPTOMS symp ON observ.SYMPTOM_ID = symp.SYMPTOM_ID\n",
    "  GROUP BY data.VAERS_ID ORDER BY data.VAERS_ID\n",
    "\"\"\")"
   ],
   "metadata": {
    "id": "Jg64tuLL-DPK"
   },
   "execution_count": null,
   "outputs": []
  },
  {
   "cell_type": "code",
   "execution_count": null,
   "metadata": {
    "id": "MVBQ12b2Ma0o"
   },
   "outputs": [],
   "source": [
    "import time\n",
    "start_time = time.time()\n",
    "\n",
    "symptoms_rdd = list_symptoms.rdd\n",
    "patterns_rdd = symptoms_rdd.flatMap(map_to_patterns)\n",
    "patterns_rdd.map(format_tuples).toDF(['patterns', 'occurrences']).sort(['patterns'])\n",
    "\n",
    "combined_patterns_rdd = patterns_rdd.reduceByKey(reduce_patterns)\n",
    "combined_patterns_rdd.map(format_tuples).toDF(['patterns', 'combined_occurrences']).sort(['patterns'])\n",
    "\n",
    "subpatterns_rdd = combined_patterns_rdd.flatMap(map_to_subpatterns)\n",
    "subpatterns_rdd.map(format_tuples).toDF(['subpatterns', 'rules']).sort(['subpatterns'])\n",
    "\n",
    "combined_rules = subpatterns_rdd.map(lambda x:(x[0] , [x[1]])).reduceByKey(lambda x,y : x+y) \n",
    "combined_rules.map(format_tuples).toDF(['subpatterns', 'combined_rules']).sort(['subpatterns'])\n",
    "\n",
    "assoc_rules = combined_rules.flatMap(map_to_assoc_rules)\n",
    "assoc_rules.map(format_tuples).toDF(['patterns', 'association_rules']).sort(['patterns']).show(5, truncate=False)\n",
    "\n",
    "\n",
    "end_time = time.time()\n",
    "# Afficher le temps d'exécution\n",
    "execution_time = end_time - start_time\n"
   ]
  },
  {
   "cell_type": "code",
   "execution_count": null,
   "outputs": [],
   "source": [
    "hours = int(execution_time // 3600)  \n",
    "minutes = int((execution_time % 3600) // 60)  \n",
    "seconds = execution_time % 60  \n",
    "\n",
    "print(f\"Temps d'exécution pour le grand jeu de donnée : {hours} heures, {minutes} minutes, {seconds:.2f} secondes\")"
   ],
   "metadata": {
    "collapsed": false
   }
  },
  {
   "cell_type": "markdown",
   "source": [
    "![Temps](images/Temps.png)"
   ],
   "metadata": {
    "collapsed": false
   }
  },
  {
   "cell_type": "code",
   "execution_count": null,
   "outputs": [],
   "source": [
    "### Récupération d'un symptome aléatoirement\n",
    "random_symptom_id = spark.sql(\"\"\"\n",
    "    SELECT symptoms.SYMPTOM_ID , symptoms.SYMPTOM_NAME\n",
    "    FROM OBSERVATIONS_ALL\n",
    "    INNER JOIN symptoms ON OBSERVATIONS_ALL.symptom_id = symptoms.symptom_id\n",
    "    ORDER BY RAND()\n",
    "    LIMIT 1\n",
    "\"\"\")\n",
    "\n",
    "random_symptom_id_value = random_symptom_id.collect()[0][\"SYMPTOM_ID\"]\n",
    "random_symptom_name = \" \" +random_symptom_id.collect()[0][\"SYMPTOM_NAME\"]\n",
    "\n",
    "single_rule_list = assoc_rules.filter(lambda rule: len(rule[0]) == 1  and rule[0][0] == random_symptom_name)\n",
    "\n",
    "row = single_rule_list.toDF([\"symptoms\", \"association_rule\"]).first()\n",
    "\n",
    "\n",
    "rules = row[\"association_rule\"]\n",
    "rules_values = [(rule[\"_1\"], rule[\"_2\"]) for rule in row[\"association_rule\"]]\n",
    "print(f'association rules for the symptom  : {random_symptom_name} of ID {random_symptom_id_value}')\n",
    "rules_df = spark.createDataFrame(rules_values, [\"rules\", \"value\"])\n",
    "sorted_rules_df = rules_df.orderBy(\"value\", ascending=False)\n",
    "row_count = rules_df.count()\n",
    "\n",
    "sorted_rules_df.show(row_count,  truncate  = False )"
   ],
   "metadata": {
    "collapsed": false
   }
  },
  {
   "cell_type": "markdown",
   "source": [
    "## Sortie \n",
    "![Temps](images/associations.png)\n",
    "\n",
    "Pour pouvoir consulter l'ensemble des règles d'associations vous pouvez regarder le fichier 'TP3_PARTIE_4.ipynb' ou le fichier pdf 'association_rules Product administered to patient of inappropriate age.pdf'"
   ],
   "metadata": {
    "collapsed": false
   }
  },
  {
   "cell_type": "code",
   "execution_count": null,
   "outputs": [],
   "source": [],
   "metadata": {
    "collapsed": false
   }
  }
 ],
 "metadata": {
  "colab": {
   "collapsed_sections": [
    "ZQOy7hD8t76L"
   ],
   "provenance": []
  },
  "kernelspec": {
   "display_name": "Python 3",
   "language": "python",
   "name": "python3"
  },
  "language_info": {
   "codemirror_mode": {
    "name": "ipython",
    "version": 3
   },
   "file_extension": ".py",
   "mimetype": "text/x-python",
   "name": "python",
   "nbconvert_exporter": "python",
   "pygments_lexer": "ipython3",
   "version": "3.7.3"
  }
 },
 "nbformat": 4,
 "nbformat_minor": 0
}
