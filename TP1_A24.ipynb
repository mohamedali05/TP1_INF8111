{
 "cells": [
  {
   "cell_type": "markdown",
   "source": [
    "# INF8111 - Fouille de données\n",
    "\n",
    "\n",
    "## TP1 AUTOMNE 2024 - Préparation de données\n",
    "\n",
    "\n"
   ],
   "metadata": {
    "id": "dfEnYLlo9yAM"
   }
  },
  {
   "cell_type": "markdown",
   "source": [
    "### Instructions de remise\n",
    "\n",
    "#### Membres de l'équipe :\n",
    "    - Nom (Matricule) 1\n",
    "    - Nom (Matricule) 2\n",
    "    - Nom (Matricule) 3\n",
    "    \n",
    "#### Délivrable :\n",
    "\n",
    "Vous devez soumettre ce notebook sur Moodle dans la boite de remise sous le nom TP1_NomDuMembre1_NomDuMembre2_NomDuMembre3.ipynb.\n",
    "\n",
    "**NB**: Tout travail en retard sera pénalisé d'une valeur de 10\\% par jour de retard.\n"
   ],
   "metadata": {
    "id": "aveyr1en994y"
   }
  },
  {
   "cell_type": "markdown",
   "metadata": {
    "id": "8WFBkYc660pI"
   },
   "source": [
    "## Introduction et objectifs"
   ]
  },
  {
   "cell_type": "markdown",
   "source": [
    "### Importation des différents modules"
   ],
   "metadata": {
    "id": "9fbCQ4YHNFtn"
   }
  },
  {
   "cell_type": "code",
   "execution_count": 1,
   "metadata": {
    "id": "Dni6R3K760pK",
    "ExecuteTime": {
     "end_time": "2024-09-16T15:21:22.824157100Z",
     "start_time": "2024-09-16T15:20:45.318358500Z"
    }
   },
   "outputs": [
    {
     "name": "stdout",
     "output_type": "stream",
     "text": [
      "Requirement already satisfied: pandas in c:\\users\\dalil\\anaconda3\\envs\\ml\\lib\\site-packages (2.1.4)\n",
      "Requirement already satisfied: numpy<2,>=1.23.2 in c:\\users\\dalil\\anaconda3\\envs\\ml\\lib\\site-packages (from pandas) (1.24.3)\n",
      "Requirement already satisfied: python-dateutil>=2.8.2 in c:\\users\\dalil\\anaconda3\\envs\\ml\\lib\\site-packages (from pandas) (2.8.2)\n",
      "Requirement already satisfied: pytz>=2020.1 in c:\\users\\dalil\\anaconda3\\envs\\ml\\lib\\site-packages (from pandas) (2023.3.post1)\n",
      "Requirement already satisfied: tzdata>=2022.1 in c:\\users\\dalil\\anaconda3\\envs\\ml\\lib\\site-packages (from pandas) (2023.3)\n",
      "Requirement already satisfied: six>=1.5 in c:\\users\\dalil\\anaconda3\\envs\\ml\\lib\\site-packages (from python-dateutil>=2.8.2->pandas) (1.16.0)\n"
     ]
    },
    {
     "name": "stderr",
     "output_type": "stream",
     "text": [
      "\n",
      "[notice] A new release of pip is available: 24.0 -> 24.2\n",
      "[notice] To update, run: python.exe -m pip install --upgrade pip\n"
     ]
    },
    {
     "name": "stdout",
     "output_type": "stream",
     "text": [
      "Requirement already satisfied: numpy in c:\\users\\dalil\\anaconda3\\envs\\ml\\lib\\site-packages (1.24.3)\n"
     ]
    },
    {
     "name": "stderr",
     "output_type": "stream",
     "text": [
      "\n",
      "[notice] A new release of pip is available: 24.0 -> 24.2\n",
      "[notice] To update, run: python.exe -m pip install --upgrade pip\n"
     ]
    },
    {
     "name": "stdout",
     "output_type": "stream",
     "text": [
      "Requirement already satisfied: scikit-learn in c:\\users\\dalil\\anaconda3\\envs\\ml\\lib\\site-packages (1.3.0)\n",
      "Requirement already satisfied: numpy>=1.17.3 in c:\\users\\dalil\\anaconda3\\envs\\ml\\lib\\site-packages (from scikit-learn) (1.24.3)\n",
      "Requirement already satisfied: scipy>=1.5.0 in c:\\users\\dalil\\anaconda3\\envs\\ml\\lib\\site-packages (from scikit-learn) (1.11.4)\n",
      "Requirement already satisfied: joblib>=1.1.1 in c:\\users\\dalil\\anaconda3\\envs\\ml\\lib\\site-packages (from scikit-learn) (1.2.0)\n",
      "Requirement already satisfied: threadpoolctl>=2.0.0 in c:\\users\\dalil\\anaconda3\\envs\\ml\\lib\\site-packages (from scikit-learn) (2.2.0)\n"
     ]
    },
    {
     "name": "stderr",
     "output_type": "stream",
     "text": [
      "\n",
      "[notice] A new release of pip is available: 24.0 -> 24.2\n",
      "[notice] To update, run: python.exe -m pip install --upgrade pip\n"
     ]
    },
    {
     "name": "stdout",
     "output_type": "stream",
     "text": [
      "Requirement already satisfied: seaborn in c:\\users\\dalil\\anaconda3\\envs\\ml\\lib\\site-packages (0.12.2)\n",
      "Requirement already satisfied: numpy!=1.24.0,>=1.17 in c:\\users\\dalil\\anaconda3\\envs\\ml\\lib\\site-packages (from seaborn) (1.24.3)\n",
      "Requirement already satisfied: pandas>=0.25 in c:\\users\\dalil\\anaconda3\\envs\\ml\\lib\\site-packages (from seaborn) (2.1.4)\n",
      "Requirement already satisfied: matplotlib!=3.6.1,>=3.1 in c:\\users\\dalil\\anaconda3\\envs\\ml\\lib\\site-packages (from seaborn) (3.8.0)\n",
      "Requirement already satisfied: contourpy>=1.0.1 in c:\\users\\dalil\\anaconda3\\envs\\ml\\lib\\site-packages (from matplotlib!=3.6.1,>=3.1->seaborn) (1.2.0)\n",
      "Requirement already satisfied: cycler>=0.10 in c:\\users\\dalil\\anaconda3\\envs\\ml\\lib\\site-packages (from matplotlib!=3.6.1,>=3.1->seaborn) (0.11.0)\n",
      "Requirement already satisfied: fonttools>=4.22.0 in c:\\users\\dalil\\anaconda3\\envs\\ml\\lib\\site-packages (from matplotlib!=3.6.1,>=3.1->seaborn) (4.25.0)\n",
      "Requirement already satisfied: kiwisolver>=1.0.1 in c:\\users\\dalil\\anaconda3\\envs\\ml\\lib\\site-packages (from matplotlib!=3.6.1,>=3.1->seaborn) (1.4.4)\n",
      "Requirement already satisfied: packaging>=20.0 in c:\\users\\dalil\\anaconda3\\envs\\ml\\lib\\site-packages (from matplotlib!=3.6.1,>=3.1->seaborn) (23.1)\n",
      "Requirement already satisfied: pillow>=6.2.0 in c:\\users\\dalil\\anaconda3\\envs\\ml\\lib\\site-packages (from matplotlib!=3.6.1,>=3.1->seaborn) (10.3.0)\n",
      "Requirement already satisfied: pyparsing>=2.3.1 in c:\\users\\dalil\\anaconda3\\envs\\ml\\lib\\site-packages (from matplotlib!=3.6.1,>=3.1->seaborn) (3.0.9)\n",
      "Requirement already satisfied: python-dateutil>=2.7 in c:\\users\\dalil\\anaconda3\\envs\\ml\\lib\\site-packages (from matplotlib!=3.6.1,>=3.1->seaborn) (2.8.2)\n",
      "Requirement already satisfied: pytz>=2020.1 in c:\\users\\dalil\\anaconda3\\envs\\ml\\lib\\site-packages (from pandas>=0.25->seaborn) (2023.3.post1)\n",
      "Requirement already satisfied: tzdata>=2022.1 in c:\\users\\dalil\\anaconda3\\envs\\ml\\lib\\site-packages (from pandas>=0.25->seaborn) (2023.3)\n",
      "Requirement already satisfied: six>=1.5 in c:\\users\\dalil\\anaconda3\\envs\\ml\\lib\\site-packages (from python-dateutil>=2.7->matplotlib!=3.6.1,>=3.1->seaborn) (1.16.0)\n"
     ]
    },
    {
     "name": "stderr",
     "output_type": "stream",
     "text": [
      "\n",
      "[notice] A new release of pip is available: 24.0 -> 24.2\n",
      "[notice] To update, run: python.exe -m pip install --upgrade pip\n"
     ]
    },
    {
     "name": "stdout",
     "output_type": "stream",
     "text": [
      "Requirement already satisfied: matplotlib in c:\\users\\dalil\\anaconda3\\envs\\ml\\lib\\site-packages (3.8.0)\n",
      "Requirement already satisfied: contourpy>=1.0.1 in c:\\users\\dalil\\anaconda3\\envs\\ml\\lib\\site-packages (from matplotlib) (1.2.0)\n",
      "Requirement already satisfied: cycler>=0.10 in c:\\users\\dalil\\anaconda3\\envs\\ml\\lib\\site-packages (from matplotlib) (0.11.0)\n",
      "Requirement already satisfied: fonttools>=4.22.0 in c:\\users\\dalil\\anaconda3\\envs\\ml\\lib\\site-packages (from matplotlib) (4.25.0)\n",
      "Requirement already satisfied: kiwisolver>=1.0.1 in c:\\users\\dalil\\anaconda3\\envs\\ml\\lib\\site-packages (from matplotlib) (1.4.4)\n",
      "Requirement already satisfied: numpy<2,>=1.21 in c:\\users\\dalil\\anaconda3\\envs\\ml\\lib\\site-packages (from matplotlib) (1.24.3)\n",
      "Requirement already satisfied: packaging>=20.0 in c:\\users\\dalil\\anaconda3\\envs\\ml\\lib\\site-packages (from matplotlib) (23.1)\n",
      "Requirement already satisfied: pillow>=6.2.0 in c:\\users\\dalil\\anaconda3\\envs\\ml\\lib\\site-packages (from matplotlib) (10.3.0)\n",
      "Requirement already satisfied: pyparsing>=2.3.1 in c:\\users\\dalil\\anaconda3\\envs\\ml\\lib\\site-packages (from matplotlib) (3.0.9)\n",
      "Requirement already satisfied: python-dateutil>=2.7 in c:\\users\\dalil\\anaconda3\\envs\\ml\\lib\\site-packages (from matplotlib) (2.8.2)\n",
      "Requirement already satisfied: six>=1.5 in c:\\users\\dalil\\anaconda3\\envs\\ml\\lib\\site-packages (from python-dateutil>=2.7->matplotlib) (1.16.0)\n"
     ]
    },
    {
     "name": "stderr",
     "output_type": "stream",
     "text": [
      "\n",
      "[notice] A new release of pip is available: 24.0 -> 24.2\n",
      "[notice] To update, run: python.exe -m pip install --upgrade pip\n"
     ]
    },
    {
     "name": "stdout",
     "output_type": "stream",
     "text": [
      "Requirement already satisfied: plotly in c:\\users\\dalil\\anaconda3\\envs\\ml\\lib\\site-packages (5.22.0)\n",
      "Requirement already satisfied: tenacity>=6.2.0 in c:\\users\\dalil\\anaconda3\\envs\\ml\\lib\\site-packages (from plotly) (8.2.2)\n",
      "Requirement already satisfied: packaging in c:\\users\\dalil\\anaconda3\\envs\\ml\\lib\\site-packages (from plotly) (23.1)\n"
     ]
    },
    {
     "name": "stderr",
     "output_type": "stream",
     "text": [
      "\n",
      "[notice] A new release of pip is available: 24.0 -> 24.2\n",
      "[notice] To update, run: python.exe -m pip install --upgrade pip\n"
     ]
    },
    {
     "name": "stdout",
     "output_type": "stream",
     "text": [
      "Requirement already satisfied: requests in c:\\users\\dalil\\anaconda3\\envs\\ml\\lib\\site-packages (2.31.0)\n",
      "Requirement already satisfied: charset-normalizer<4,>=2 in c:\\users\\dalil\\anaconda3\\envs\\ml\\lib\\site-packages (from requests) (2.0.4)\n",
      "Requirement already satisfied: idna<4,>=2.5 in c:\\users\\dalil\\anaconda3\\envs\\ml\\lib\\site-packages (from requests) (3.4)\n",
      "Requirement already satisfied: urllib3<3,>=1.21.1 in c:\\users\\dalil\\anaconda3\\envs\\ml\\lib\\site-packages (from requests) (1.26.18)\n",
      "Requirement already satisfied: certifi>=2017.4.17 in c:\\users\\dalil\\anaconda3\\envs\\ml\\lib\\site-packages (from requests) (2024.6.2)\n"
     ]
    },
    {
     "name": "stderr",
     "output_type": "stream",
     "text": [
      "\n",
      "[notice] A new release of pip is available: 24.0 -> 24.2\n",
      "[notice] To update, run: python.exe -m pip install --upgrade pip\n"
     ]
    },
    {
     "name": "stdout",
     "output_type": "stream",
     "text": [
      "Collecting shap\n",
      "  Downloading shap-0.46.0-cp311-cp311-win_amd64.whl.metadata (25 kB)\n",
      "Requirement already satisfied: numpy in c:\\users\\dalil\\anaconda3\\envs\\ml\\lib\\site-packages (from shap) (1.24.3)\n",
      "Requirement already satisfied: scipy in c:\\users\\dalil\\anaconda3\\envs\\ml\\lib\\site-packages (from shap) (1.11.4)\n",
      "Requirement already satisfied: scikit-learn in c:\\users\\dalil\\anaconda3\\envs\\ml\\lib\\site-packages (from shap) (1.3.0)\n",
      "Requirement already satisfied: pandas in c:\\users\\dalil\\anaconda3\\envs\\ml\\lib\\site-packages (from shap) (2.1.4)\n",
      "Requirement already satisfied: tqdm>=4.27.0 in c:\\users\\dalil\\anaconda3\\envs\\ml\\lib\\site-packages (from shap) (4.65.0)\n",
      "Requirement already satisfied: packaging>20.9 in c:\\users\\dalil\\anaconda3\\envs\\ml\\lib\\site-packages (from shap) (23.1)\n",
      "Collecting slicer==0.0.8 (from shap)\n",
      "  Downloading slicer-0.0.8-py3-none-any.whl.metadata (4.0 kB)\n",
      "Collecting numba (from shap)\n",
      "  Downloading numba-0.60.0-cp311-cp311-win_amd64.whl.metadata (2.8 kB)\n",
      "Collecting cloudpickle (from shap)\n",
      "  Downloading cloudpickle-3.0.0-py3-none-any.whl.metadata (7.0 kB)\n",
      "Requirement already satisfied: colorama in c:\\users\\dalil\\anaconda3\\envs\\ml\\lib\\site-packages (from tqdm>=4.27.0->shap) (0.4.6)\n",
      "Collecting llvmlite<0.44,>=0.43.0dev0 (from numba->shap)\n",
      "  Downloading llvmlite-0.43.0-cp311-cp311-win_amd64.whl.metadata (4.9 kB)\n",
      "Requirement already satisfied: python-dateutil>=2.8.2 in c:\\users\\dalil\\anaconda3\\envs\\ml\\lib\\site-packages (from pandas->shap) (2.8.2)\n",
      "Requirement already satisfied: pytz>=2020.1 in c:\\users\\dalil\\anaconda3\\envs\\ml\\lib\\site-packages (from pandas->shap) (2023.3.post1)\n",
      "Requirement already satisfied: tzdata>=2022.1 in c:\\users\\dalil\\anaconda3\\envs\\ml\\lib\\site-packages (from pandas->shap) (2023.3)\n",
      "Requirement already satisfied: joblib>=1.1.1 in c:\\users\\dalil\\anaconda3\\envs\\ml\\lib\\site-packages (from scikit-learn->shap) (1.2.0)\n",
      "Requirement already satisfied: threadpoolctl>=2.0.0 in c:\\users\\dalil\\anaconda3\\envs\\ml\\lib\\site-packages (from scikit-learn->shap) (2.2.0)\n",
      "Requirement already satisfied: six>=1.5 in c:\\users\\dalil\\anaconda3\\envs\\ml\\lib\\site-packages (from python-dateutil>=2.8.2->pandas->shap) (1.16.0)\n",
      "Downloading shap-0.46.0-cp311-cp311-win_amd64.whl (456 kB)\n",
      "   ---------------------------------------- 0.0/456.1 kB ? eta -:--:--\n",
      "   ---------- ----------------------------- 122.9/456.1 kB 3.6 MB/s eta 0:00:01\n",
      "   --------------------------- ------------ 317.4/456.1 kB 3.9 MB/s eta 0:00:01\n",
      "   ---------------------------------------- 456.1/456.1 kB 3.6 MB/s eta 0:00:00\n",
      "Downloading slicer-0.0.8-py3-none-any.whl (15 kB)\n",
      "Downloading cloudpickle-3.0.0-py3-none-any.whl (20 kB)\n",
      "Downloading numba-0.60.0-cp311-cp311-win_amd64.whl (2.7 MB)\n",
      "   ---------------------------------------- 0.0/2.7 MB ? eta -:--:--\n",
      "   -- ------------------------------------- 0.2/2.7 MB 3.1 MB/s eta 0:00:01\n",
      "   ----- ---------------------------------- 0.3/2.7 MB 3.6 MB/s eta 0:00:01\n",
      "   -------- ------------------------------- 0.6/2.7 MB 4.2 MB/s eta 0:00:01\n",
      "   -------------- ------------------------- 1.0/2.7 MB 5.2 MB/s eta 0:00:01\n",
      "   -------------------- ------------------- 1.4/2.7 MB 5.9 MB/s eta 0:00:01\n",
      "   --------------------------- ------------ 1.9/2.7 MB 6.6 MB/s eta 0:00:01\n",
      "   --------------------------------- ------ 2.3/2.7 MB 7.2 MB/s eta 0:00:01\n",
      "   --------------------------------- ------ 2.3/2.7 MB 6.9 MB/s eta 0:00:01\n",
      "   -------------------------------------- - 2.6/2.7 MB 6.4 MB/s eta 0:00:01\n",
      "   ---------------------------------------- 2.7/2.7 MB 6.3 MB/s eta 0:00:00\n",
      "Downloading llvmlite-0.43.0-cp311-cp311-win_amd64.whl (28.1 MB)\n",
      "   ---------------------------------------- 0.0/28.1 MB ? eta -:--:--\n",
      "   ---------------------------------------- 0.1/28.1 MB 7.5 MB/s eta 0:00:04\n",
      "    --------------------------------------- 0.4/28.1 MB 5.9 MB/s eta 0:00:05\n",
      "   - -------------------------------------- 1.0/28.1 MB 7.6 MB/s eta 0:00:04\n",
      "   -- ------------------------------------- 1.6/28.1 MB 9.9 MB/s eta 0:00:03\n",
      "   -- ------------------------------------- 2.0/28.1 MB 9.8 MB/s eta 0:00:03\n",
      "   --- ------------------------------------ 2.3/28.1 MB 9.9 MB/s eta 0:00:03\n",
      "   ---- ----------------------------------- 3.0/28.1 MB 10.0 MB/s eta 0:00:03\n",
      "   ---- ----------------------------------- 3.4/28.1 MB 10.3 MB/s eta 0:00:03\n",
      "   ----- ---------------------------------- 4.0/28.1 MB 10.2 MB/s eta 0:00:03\n",
      "   ------ --------------------------------- 4.5/28.1 MB 10.7 MB/s eta 0:00:03\n",
      "   ------- -------------------------------- 5.2/28.1 MB 11.0 MB/s eta 0:00:03\n",
      "   -------- ------------------------------- 5.8/28.1 MB 11.2 MB/s eta 0:00:02\n",
      "   -------- ------------------------------- 6.3/28.1 MB 11.1 MB/s eta 0:00:02\n",
      "   --------- ------------------------------ 6.8/28.1 MB 11.2 MB/s eta 0:00:02\n",
      "   ---------- ----------------------------- 7.4/28.1 MB 11.2 MB/s eta 0:00:02\n",
      "   ----------- ---------------------------- 8.0/28.1 MB 11.3 MB/s eta 0:00:02\n",
      "   ------------ --------------------------- 8.5/28.1 MB 11.3 MB/s eta 0:00:02\n",
      "   ------------ --------------------------- 8.7/28.1 MB 11.4 MB/s eta 0:00:02\n",
      "   ------------- -------------------------- 9.2/28.1 MB 10.9 MB/s eta 0:00:02\n",
      "   ------------- -------------------------- 9.8/28.1 MB 11.0 MB/s eta 0:00:02\n",
      "   -------------- ------------------------- 10.4/28.1 MB 11.3 MB/s eta 0:00:02\n",
      "   --------------- ------------------------ 10.9/28.1 MB 11.5 MB/s eta 0:00:02\n",
      "   ---------------- ----------------------- 11.3/28.1 MB 11.3 MB/s eta 0:00:02\n",
      "   ----------------- ---------------------- 12.0/28.1 MB 11.5 MB/s eta 0:00:02\n",
      "   ----------------- ---------------------- 12.6/28.1 MB 11.7 MB/s eta 0:00:02\n",
      "   ------------------ --------------------- 13.2/28.1 MB 11.7 MB/s eta 0:00:02\n",
      "   ------------------- -------------------- 13.5/28.1 MB 11.3 MB/s eta 0:00:02\n",
      "   ------------------- -------------------- 14.0/28.1 MB 11.5 MB/s eta 0:00:02\n",
      "   -------------------- ------------------- 14.6/28.1 MB 11.7 MB/s eta 0:00:02\n",
      "   --------------------- ------------------ 15.4/28.1 MB 11.5 MB/s eta 0:00:02\n",
      "   ---------------------- ----------------- 16.0/28.1 MB 11.5 MB/s eta 0:00:02\n",
      "   ----------------------- ---------------- 16.3/28.1 MB 11.5 MB/s eta 0:00:02\n",
      "   ----------------------- ---------------- 16.6/28.1 MB 11.3 MB/s eta 0:00:02\n",
      "   ------------------------ --------------- 17.3/28.1 MB 11.1 MB/s eta 0:00:01\n",
      "   ------------------------- -------------- 17.8/28.1 MB 11.1 MB/s eta 0:00:01\n",
      "   ------------------------- -------------- 18.2/28.1 MB 11.1 MB/s eta 0:00:01\n",
      "   -------------------------- ------------- 18.8/28.1 MB 11.3 MB/s eta 0:00:01\n",
      "   --------------------------- ------------ 19.4/28.1 MB 11.7 MB/s eta 0:00:01\n",
      "   ---------------------------- ----------- 20.2/28.1 MB 11.9 MB/s eta 0:00:01\n",
      "   ----------------------------- ---------- 20.7/28.1 MB 11.9 MB/s eta 0:00:01\n",
      "   ------------------------------ --------- 21.3/28.1 MB 11.9 MB/s eta 0:00:01\n",
      "   ------------------------------- -------- 21.9/28.1 MB 11.9 MB/s eta 0:00:01\n",
      "   -------------------------------- ------- 22.6/28.1 MB 12.1 MB/s eta 0:00:01\n",
      "   -------------------------------- ------- 23.1/28.1 MB 12.1 MB/s eta 0:00:01\n",
      "   --------------------------------- ------ 23.6/28.1 MB 12.4 MB/s eta 0:00:01\n",
      "   ---------------------------------- ----- 23.9/28.1 MB 11.9 MB/s eta 0:00:01\n",
      "   ---------------------------------- ----- 24.3/28.1 MB 11.7 MB/s eta 0:00:01\n",
      "   ----------------------------------- ---- 24.9/28.1 MB 11.7 MB/s eta 0:00:01\n",
      "   ------------------------------------ --- 25.4/28.1 MB 11.5 MB/s eta 0:00:01\n",
      "   ------------------------------------- -- 26.1/28.1 MB 11.5 MB/s eta 0:00:01\n",
      "   ------------------------------------- -- 26.5/28.1 MB 11.7 MB/s eta 0:00:01\n",
      "   -------------------------------------- - 26.8/28.1 MB 11.3 MB/s eta 0:00:01\n",
      "   -------------------------------------- - 27.2/28.1 MB 11.5 MB/s eta 0:00:01\n",
      "   -------------------------------------- - 27.4/28.1 MB 11.1 MB/s eta 0:00:01\n",
      "   ---------------------------------------  27.7/28.1 MB 10.7 MB/s eta 0:00:01\n",
      "   ---------------------------------------  28.1/28.1 MB 10.7 MB/s eta 0:00:01\n",
      "   ---------------------------------------  28.1/28.1 MB 10.7 MB/s eta 0:00:01\n",
      "   ---------------------------------------- 28.1/28.1 MB 9.8 MB/s eta 0:00:00\n",
      "Installing collected packages: slicer, llvmlite, cloudpickle, numba, shap\n",
      "Successfully installed cloudpickle-3.0.0 llvmlite-0.43.0 numba-0.60.0 shap-0.46.0 slicer-0.0.8\n"
     ]
    },
    {
     "name": "stderr",
     "output_type": "stream",
     "text": [
      "\n",
      "[notice] A new release of pip is available: 24.0 -> 24.2\n",
      "[notice] To update, run: python.exe -m pip install --upgrade pip\n"
     ]
    }
   ],
   "source": [
    "!pip install pandas\n",
    "!pip install numpy\n",
    "!pip install scikit-learn\n",
    "!pip install seaborn\n",
    "!pip install matplotlib\n",
    "!pip install plotly\n",
    "!pip install requests\n",
    "!pip install shap"
   ]
  },
  {
   "cell_type": "code",
   "execution_count": 3,
   "metadata": {
    "id": "beJjTQOt60pM",
    "ExecuteTime": {
     "end_time": "2024-09-16T15:22:04.264749200Z",
     "start_time": "2024-09-16T15:22:03.014497600Z"
    }
   },
   "outputs": [],
   "source": [
    "import pandas as pd\n",
    "from sklearn.preprocessing import OneHotEncoder\n",
    "from sklearn import preprocessing\n",
    "import seaborn as sns\n",
    "import numpy as np\n",
    "import matplotlib.pyplot as plt\n",
    "import plotly.express as px\n",
    "import plotly.graph_objects as go\n",
    "from plotly.subplots import make_subplots\n",
    "from sklearn import linear_model\n",
    "import shap"
   ]
  },
  {
   "cell_type": "markdown",
   "source": [
    "### Téléchargement des données"
   ],
   "metadata": {
    "id": "xe5Ms4DINc8u"
   }
  },
  {
   "cell_type": "code",
   "source": [
    "import requests\n",
    "response = requests.get('https://docs.google.com/spreadsheets/d/1caaR9pT24GNmq3rDQpMiIMJrmiTGarbs/export?format=csv&gid=1150341366')\n",
    "assert response.status_code == 200, 'Wrong status code'\n",
    "# convert the csv to a pandas dataframe\n",
    "with open('data.csv', 'w') as f:\n",
    "    f.write(response.text)\n",
    "\n",
    "df = pd.read_csv('data.csv')"
   ],
   "metadata": {
    "id": "m_QcX1llNT2d",
    "ExecuteTime": {
     "end_time": "2024-09-16T15:37:52.746168900Z",
     "start_time": "2024-09-16T15:37:50.984357800Z"
    }
   },
   "execution_count": 18,
   "outputs": [
    {
     "ename": "PermissionError",
     "evalue": "[Errno 13] Permission denied: 'data.csv'",
     "output_type": "error",
     "traceback": [
      "\u001B[1;31m---------------------------------------------------------------------------\u001B[0m",
      "\u001B[1;31mPermissionError\u001B[0m                           Traceback (most recent call last)",
      "Cell \u001B[1;32mIn[18], line 5\u001B[0m\n\u001B[0;32m      3\u001B[0m \u001B[38;5;28;01massert\u001B[39;00m response\u001B[38;5;241m.\u001B[39mstatus_code \u001B[38;5;241m==\u001B[39m \u001B[38;5;241m200\u001B[39m, \u001B[38;5;124m'\u001B[39m\u001B[38;5;124mWrong status code\u001B[39m\u001B[38;5;124m'\u001B[39m\n\u001B[0;32m      4\u001B[0m \u001B[38;5;66;03m# convert the csv to a pandas dataframe\u001B[39;00m\n\u001B[1;32m----> 5\u001B[0m \u001B[38;5;28;01mwith\u001B[39;00m \u001B[38;5;28mopen\u001B[39m(\u001B[38;5;124m'\u001B[39m\u001B[38;5;124mdata.csv\u001B[39m\u001B[38;5;124m'\u001B[39m, \u001B[38;5;124m'\u001B[39m\u001B[38;5;124mw\u001B[39m\u001B[38;5;124m'\u001B[39m) \u001B[38;5;28;01mas\u001B[39;00m f:\n\u001B[0;32m      6\u001B[0m     f\u001B[38;5;241m.\u001B[39mwrite(response\u001B[38;5;241m.\u001B[39mtext)\n\u001B[0;32m      8\u001B[0m df \u001B[38;5;241m=\u001B[39m pd\u001B[38;5;241m.\u001B[39mread_csv(\u001B[38;5;124m'\u001B[39m\u001B[38;5;124mdata.csv\u001B[39m\u001B[38;5;124m'\u001B[39m)\n",
      "File \u001B[1;32m~\\anaconda3\\envs\\ml\\Lib\\site-packages\\IPython\\core\\interactiveshell.py:310\u001B[0m, in \u001B[0;36m_modified_open\u001B[1;34m(file, *args, **kwargs)\u001B[0m\n\u001B[0;32m    303\u001B[0m \u001B[38;5;28;01mif\u001B[39;00m file \u001B[38;5;129;01min\u001B[39;00m {\u001B[38;5;241m0\u001B[39m, \u001B[38;5;241m1\u001B[39m, \u001B[38;5;241m2\u001B[39m}:\n\u001B[0;32m    304\u001B[0m     \u001B[38;5;28;01mraise\u001B[39;00m \u001B[38;5;167;01mValueError\u001B[39;00m(\n\u001B[0;32m    305\u001B[0m         \u001B[38;5;124mf\u001B[39m\u001B[38;5;124m\"\u001B[39m\u001B[38;5;124mIPython won\u001B[39m\u001B[38;5;124m'\u001B[39m\u001B[38;5;124mt let you open fd=\u001B[39m\u001B[38;5;132;01m{\u001B[39;00mfile\u001B[38;5;132;01m}\u001B[39;00m\u001B[38;5;124m by default \u001B[39m\u001B[38;5;124m\"\u001B[39m\n\u001B[0;32m    306\u001B[0m         \u001B[38;5;124m\"\u001B[39m\u001B[38;5;124mas it is likely to crash IPython. If you know what you are doing, \u001B[39m\u001B[38;5;124m\"\u001B[39m\n\u001B[0;32m    307\u001B[0m         \u001B[38;5;124m\"\u001B[39m\u001B[38;5;124myou can use builtins\u001B[39m\u001B[38;5;124m'\u001B[39m\u001B[38;5;124m open.\u001B[39m\u001B[38;5;124m\"\u001B[39m\n\u001B[0;32m    308\u001B[0m     )\n\u001B[1;32m--> 310\u001B[0m \u001B[38;5;28;01mreturn\u001B[39;00m io_open(file, \u001B[38;5;241m*\u001B[39margs, \u001B[38;5;241m*\u001B[39m\u001B[38;5;241m*\u001B[39mkwargs)\n",
      "\u001B[1;31mPermissionError\u001B[0m: [Errno 13] Permission denied: 'data.csv'"
     ]
    }
   ]
  },
  {
   "cell_type": "markdown",
   "source": [
    "Le but de ce notebook est d'effectuer le prétraitement du dataset [HousePricePrediction](https://docs.google.com/spreadsheets/d/1caaR9pT24GNmq3rDQpMiIMJrmiTGarbs/edit#gid=1150341366) qui pourra être par la suite être utilisé pour entraîner un modèle de prédiction de prix de maisons."
   ],
   "metadata": {
    "id": "Txn5hmVWBSzF"
   }
  },
  {
   "cell_type": "markdown",
   "metadata": {
    "id": "kyYKhZfI60pN"
   },
   "source": [
    "## Préparation des données\n",
    "\n",
    "Plusieurs étapes sont nécessaires pour préparer un dataset pour la fouille des données\n",
    "- **Nettoyage des données** :\n",
    "    - Suppression des attributs inutiles\n",
    "    - Gestion des valeurs manquantes\n",
    "    - Gestion des valeurs aberrantes\n",
    "- **Transformation des données** :\n",
    "    - Encodage des données\n",
    "    - Normalisation des données\n",
    "- **Sélection des attributs** :\n",
    "    - Suppression des attributs les plus fortement corrélés"
   ]
  },
  {
   "cell_type": "markdown",
   "metadata": {
    "id": "iqv5R0AR60pN"
   },
   "source": [
    "## Sommaire\n",
    "\n",
    "1. [Première observation des données](#1.-Première-observation-des-donnees)\n",
    "2. [Nettoyage des données](#2.-Nettoyage-des-données)\n",
    "   1. [Suppression des attributs inutiles](#2.1.-Suppression-des-attributs-inutiles)\n",
    "   2. [Gestion des valeurs manquantes](#2.2.-Gestion-des-valeurs-manquantes)\n",
    "   3. [Détection des valeurs aberrantes](#2.3.-Détection-des-valeurs-aberrantes)\n",
    "3. [Transformation des données](#3.-Transformation-des-données)\n",
    "   1. [Encodage des attributs de type `object`](#3.1.-Encodage-des-attributs-de-type-object)\n",
    "   2. [Normalisation des données](#3.2.-Normalisation-des-données)\n",
    "4. [Sélection des attributs](#4.-Sélection-des-variables)\n",
    "   1. [Suppression des attributs corrélées](#4.1.-Suppression-des-variables-corrélées)\n",
    "5. [Récapitulatif des procédés](#5.-Récapitulatif-des-prétraitements)\n",
    "6. [Entrainement d'un modèle de régression linéaire](#6.-Récapitulatif-des-prétraitements)\n",
    "    1. [Rappel du concept](#6.1.-Rappel-concept)\n",
    "    2. [Application](#6.2.-Application)\n",
    "    3. [Sélection des attributs importants](#6.3.-Sélection-des-attributs-importants)\n",
    "7. [Méthode des écarts interquartiles ou IRQ](#7.-Récapitulatif-des-prétraitements)"
   ]
  },
  {
   "cell_type": "markdown",
   "metadata": {
    "id": "5SXXhu9S60pO"
   },
   "source": [
    "## 1. Exploration des données (5 points)"
   ]
  },
  {
   "cell_type": "markdown",
   "metadata": {
    "id": "fPtQqe4J60pO"
   },
   "source": [
    "Nous vous avons fourni le fichier *data.csv* avec l'exécution de la deuxième cellule. Il contient l'ensemble des données. Chaque ligne contient les données d'une vente. La description des attributs du dataset est la suivante:\n",
    "\n",
    "| # | Feature Name | Description |\n",
    "|---|--------------|-------------|\n",
    "| 1 | Id           | Numéro de vente / To count the records. |\n",
    "| 2 | MSSubClass   | Type de logement / Identifies the type of dwelling involved in the sale. |\n",
    "| 3 | MSZoning     | Zonage / Identifies the general zoning classification of the sale. |\n",
    "| 4 | LotArea      | Superficie du logement / Lot size in square feet. |\n",
    "| 5 | LotConfig    | Configuration du logement / Configuration of the lot |\n",
    "| 6 | BldgType     | Type de logement / Type of dwelling |\n",
    "| 7 | OverallCond  | Etat général / Rates the overall condition of the house |\n",
    "| 8 | YearBuilt    | Année de contruction / Original construction year |\n",
    "| 9 | YearRemodAdd | Année de rénovation / Remodel date (same as construction date if no remodeling or additions). |\n",
    "| 10| Exterior1st  | Type de revêtement extérieur / Exterior covering on house |\n",
    "| 11| BsmtFinSF2   | Surface de vie / Type 2 finished square feet. |\n",
    "| 12| TotalBsmtSF  | Surface totale de la base / Total square feet of basement area |\n",
    "| 13| SalePrice    | Prix de vente à prédire / To be predicted |\n",
    "\n",
    "On visualise le dataset pour avoir une idée de ce qu'il contient et des prétraitements à effectuer."
   ]
  },
  {
   "cell_type": "markdown",
   "metadata": {
    "id": "qaalN_p760pO"
   },
   "source": [
    "### 1.1 - Question 1 (2.5 points)\n",
    "\n",
    "**Combien d'éléments contient le dataset ? Quelles sont les types des attributs du dataset ?**"
   ]
  },
  {
   "cell_type": "code",
   "execution_count": 19,
   "metadata": {
    "id": "srCKpbVl60pO",
    "ExecuteTime": {
     "end_time": "2024-09-16T15:38:08.726164600Z",
     "start_time": "2024-09-16T15:38:08.710371400Z"
    }
   },
   "outputs": [
    {
     "name": "stdout",
     "output_type": "stream",
     "text": [
      "nombre d'éléments  : 2919 \n",
      "les types d'attributs :\n",
      "Id                       int64\n",
      "MSSubClass               int64\n",
      "MSZoning        string[python]\n",
      "LotArea                  int64\n",
      "LotConfig               object\n",
      "BldgType                object\n",
      "OverallCond              int64\n",
      "YearBuilt                int64\n",
      "YearRemodAdd             int64\n",
      "Exterior1st             object\n",
      "BsmtFinSF2             float64\n",
      "TotalBsmtSF            float64\n",
      "SalePrice              float64\n",
      "dtype: object \n"
     ]
    }
   ],
   "source": [
    "#TODO\n",
    "print(f\"nombre d'éléments  : {df.shape[0]} \\nles types d'attributs :\\n{df.dtypes} \" )\n",
    "      \n"
   ]
  },
  {
   "cell_type": "code",
   "execution_count": 21,
   "outputs": [
    {
     "name": "stdout",
     "output_type": "stream",
     "text": [
      "nombre d'éléments  : 2919 \n",
      "les types d'attributs :\n",
      "Id                int64\n",
      "MSSubClass        int64\n",
      "MSZoning         object\n",
      "LotArea           int64\n",
      "LotConfig        object\n",
      "BldgType         object\n",
      "OverallCond       int64\n",
      "YearBuilt         int64\n",
      "YearRemodAdd      int64\n",
      "Exterior1st      object\n",
      "BsmtFinSF2      float64\n",
      "TotalBsmtSF     float64\n",
      "SalePrice       float64\n",
      "dtype: object \n"
     ]
    }
   ],
   "source": [
    "print(f\"nombre d'éléments  : {df.shape[0]} \\nles types d'attributs :\\n{df.dtypes} \" ) "
   ],
   "metadata": {
    "collapsed": false,
    "ExecuteTime": {
     "end_time": "2024-09-16T15:38:26.062668800Z",
     "start_time": "2024-09-16T15:38:26.046318800Z"
    }
   }
  },
  {
   "cell_type": "markdown",
   "metadata": {
    "id": "iopxmVPF60pP"
   },
   "source": [
    "### 1.2 - Question 2 (2.5 points)\n",
    "\n",
    "**Quelles sont les valeurs uniques des attributs de type `object` ?**"
   ]
  },
  {
   "cell_type": "code",
   "execution_count": 26,
   "metadata": {
    "id": "akNtIgGE60pP",
    "ExecuteTime": {
     "end_time": "2024-09-16T16:42:33.142925600Z",
     "start_time": "2024-09-16T16:42:33.109868900Z"
    }
   },
   "outputs": [
    {
     "name": "stdout",
     "output_type": "stream",
     "text": [
      "{'Stone', 'Twnhs', 'FV', 'TwnhsE', 'HdBoard', 'Stucco', 'CBlock', '1Fam', 'CemntBd', 'AsbShng', 'Plywood', 'RM', 'MetalSd', nan, 'Duplex', 'Corner', 'Wd Sdng', 'C (all)', 'CulDSac', 'FR2', 'AsphShn', 'RL', 'BrkFace', 'RH', 'WdShing', 'BrkComm', 'FR3', 'VinylSd', 'ImStucc', '2fmCon', 'Inside', <NA>}\n"
     ]
    }
   ],
   "source": [
    "#TODO\n",
    "#print(set(df['MSZoning']))\n",
    "unique_values = set(pd.concat([df['MSZoning'] , df['LotConfig'] , df['BldgType'] , df['Exterior1st'] , ]))\n",
    "print(unique_values)"
   ]
  },
  {
   "cell_type": "markdown",
   "metadata": {
    "id": "ft67cmEY60pQ"
   },
   "source": [
    "## 2. Nettoyage des données (30 points)"
   ]
  },
  {
   "cell_type": "markdown",
   "metadata": {
    "id": "eEAKIo8W60pQ"
   },
   "source": [
    "### 2.1 Suppression des attributs inutiles"
   ]
  },
  {
   "cell_type": "markdown",
   "source": [
    "### 2.1.1 - Question 3 (5 points)\n",
    "\n",
    "**Pourquoi on peut supprimer l'attribut `Id` dans le cas de ce TP? Effectuez cette suppression.**"
   ],
   "metadata": {
    "id": "njGJm6PHiiAK"
   }
  },
  {
   "cell_type": "code",
   "execution_count": 27,
   "metadata": {
    "id": "LS6YJCwI60pQ",
    "ExecuteTime": {
     "end_time": "2024-09-16T16:44:45.837283500Z",
     "start_time": "2024-09-16T16:44:45.737517500Z"
    }
   },
   "outputs": [
    {
     "data": {
      "text/plain": "      MSSubClass MSZoning  LotArea LotConfig BldgType  OverallCond  YearBuilt  \\\n0             60       RL     8450    Inside     1Fam            5       2003   \n1             20       RL     9600       FR2     1Fam            8       1976   \n2             60       RL    11250    Inside     1Fam            5       2001   \n3             70       RL     9550    Corner     1Fam            5       1915   \n4             60       RL    14260       FR2     1Fam            5       2000   \n...          ...      ...      ...       ...      ...          ...        ...   \n2914         160       RM     1936    Inside    Twnhs            7       1970   \n2915         160       RM     1894    Inside   TwnhsE            5       1970   \n2916          20       RL    20000    Inside     1Fam            7       1960   \n2917          85       RL    10441    Inside     1Fam            5       1992   \n2918          60       RL     9627    Inside     1Fam            5       1993   \n\n      YearRemodAdd Exterior1st  BsmtFinSF2  TotalBsmtSF  SalePrice  \n0             2003     VinylSd         0.0        856.0   208500.0  \n1             1976     MetalSd         0.0       1262.0   181500.0  \n2             2002     VinylSd         0.0        920.0   223500.0  \n3             1970     Wd Sdng         0.0        756.0   140000.0  \n4             2000     VinylSd         0.0       1145.0   250000.0  \n...            ...         ...         ...          ...        ...  \n2914          1970     CemntBd         0.0        546.0        NaN  \n2915          1970     CemntBd         0.0        546.0        NaN  \n2916          1996     VinylSd         0.0       1224.0        NaN  \n2917          1992     HdBoard         0.0        912.0        NaN  \n2918          1994     HdBoard         0.0        996.0        NaN  \n\n[2919 rows x 12 columns]",
      "text/html": "<div>\n<style scoped>\n    .dataframe tbody tr th:only-of-type {\n        vertical-align: middle;\n    }\n\n    .dataframe tbody tr th {\n        vertical-align: top;\n    }\n\n    .dataframe thead th {\n        text-align: right;\n    }\n</style>\n<table border=\"1\" class=\"dataframe\">\n  <thead>\n    <tr style=\"text-align: right;\">\n      <th></th>\n      <th>MSSubClass</th>\n      <th>MSZoning</th>\n      <th>LotArea</th>\n      <th>LotConfig</th>\n      <th>BldgType</th>\n      <th>OverallCond</th>\n      <th>YearBuilt</th>\n      <th>YearRemodAdd</th>\n      <th>Exterior1st</th>\n      <th>BsmtFinSF2</th>\n      <th>TotalBsmtSF</th>\n      <th>SalePrice</th>\n    </tr>\n  </thead>\n  <tbody>\n    <tr>\n      <th>0</th>\n      <td>60</td>\n      <td>RL</td>\n      <td>8450</td>\n      <td>Inside</td>\n      <td>1Fam</td>\n      <td>5</td>\n      <td>2003</td>\n      <td>2003</td>\n      <td>VinylSd</td>\n      <td>0.0</td>\n      <td>856.0</td>\n      <td>208500.0</td>\n    </tr>\n    <tr>\n      <th>1</th>\n      <td>20</td>\n      <td>RL</td>\n      <td>9600</td>\n      <td>FR2</td>\n      <td>1Fam</td>\n      <td>8</td>\n      <td>1976</td>\n      <td>1976</td>\n      <td>MetalSd</td>\n      <td>0.0</td>\n      <td>1262.0</td>\n      <td>181500.0</td>\n    </tr>\n    <tr>\n      <th>2</th>\n      <td>60</td>\n      <td>RL</td>\n      <td>11250</td>\n      <td>Inside</td>\n      <td>1Fam</td>\n      <td>5</td>\n      <td>2001</td>\n      <td>2002</td>\n      <td>VinylSd</td>\n      <td>0.0</td>\n      <td>920.0</td>\n      <td>223500.0</td>\n    </tr>\n    <tr>\n      <th>3</th>\n      <td>70</td>\n      <td>RL</td>\n      <td>9550</td>\n      <td>Corner</td>\n      <td>1Fam</td>\n      <td>5</td>\n      <td>1915</td>\n      <td>1970</td>\n      <td>Wd Sdng</td>\n      <td>0.0</td>\n      <td>756.0</td>\n      <td>140000.0</td>\n    </tr>\n    <tr>\n      <th>4</th>\n      <td>60</td>\n      <td>RL</td>\n      <td>14260</td>\n      <td>FR2</td>\n      <td>1Fam</td>\n      <td>5</td>\n      <td>2000</td>\n      <td>2000</td>\n      <td>VinylSd</td>\n      <td>0.0</td>\n      <td>1145.0</td>\n      <td>250000.0</td>\n    </tr>\n    <tr>\n      <th>...</th>\n      <td>...</td>\n      <td>...</td>\n      <td>...</td>\n      <td>...</td>\n      <td>...</td>\n      <td>...</td>\n      <td>...</td>\n      <td>...</td>\n      <td>...</td>\n      <td>...</td>\n      <td>...</td>\n      <td>...</td>\n    </tr>\n    <tr>\n      <th>2914</th>\n      <td>160</td>\n      <td>RM</td>\n      <td>1936</td>\n      <td>Inside</td>\n      <td>Twnhs</td>\n      <td>7</td>\n      <td>1970</td>\n      <td>1970</td>\n      <td>CemntBd</td>\n      <td>0.0</td>\n      <td>546.0</td>\n      <td>NaN</td>\n    </tr>\n    <tr>\n      <th>2915</th>\n      <td>160</td>\n      <td>RM</td>\n      <td>1894</td>\n      <td>Inside</td>\n      <td>TwnhsE</td>\n      <td>5</td>\n      <td>1970</td>\n      <td>1970</td>\n      <td>CemntBd</td>\n      <td>0.0</td>\n      <td>546.0</td>\n      <td>NaN</td>\n    </tr>\n    <tr>\n      <th>2916</th>\n      <td>20</td>\n      <td>RL</td>\n      <td>20000</td>\n      <td>Inside</td>\n      <td>1Fam</td>\n      <td>7</td>\n      <td>1960</td>\n      <td>1996</td>\n      <td>VinylSd</td>\n      <td>0.0</td>\n      <td>1224.0</td>\n      <td>NaN</td>\n    </tr>\n    <tr>\n      <th>2917</th>\n      <td>85</td>\n      <td>RL</td>\n      <td>10441</td>\n      <td>Inside</td>\n      <td>1Fam</td>\n      <td>5</td>\n      <td>1992</td>\n      <td>1992</td>\n      <td>HdBoard</td>\n      <td>0.0</td>\n      <td>912.0</td>\n      <td>NaN</td>\n    </tr>\n    <tr>\n      <th>2918</th>\n      <td>60</td>\n      <td>RL</td>\n      <td>9627</td>\n      <td>Inside</td>\n      <td>1Fam</td>\n      <td>5</td>\n      <td>1993</td>\n      <td>1994</td>\n      <td>HdBoard</td>\n      <td>0.0</td>\n      <td>996.0</td>\n      <td>NaN</td>\n    </tr>\n  </tbody>\n</table>\n<p>2919 rows × 12 columns</p>\n</div>"
     },
     "execution_count": 27,
     "metadata": {},
     "output_type": "execute_result"
    }
   ],
   "source": [
    "\n",
    "df.drop(labels='Id' , axis=1 , inplace = True)\n",
    "df\n",
    "#TODO"
   ]
  },
  {
   "cell_type": "markdown",
   "metadata": {
    "id": "cWPPDvJx60pQ"
   },
   "source": [
    "### 2.2 Gestion des valeurs manquantes\n",
    "\n",
    "Pour gérer les valeurs manquantes, plusieurs solutions s'offrent à nous :\n",
    "- Remplacer par la valeur la plus fréquente (le mode)\n",
    "- Remplacer par la valeur moyenne/médiane\n",
    "- Suppression des lignes contenant des valeurs manquantes\n",
    "\n",
    "Pour ce TP, nous utiliserons la dernière option car nous avons peu de valeurs manquantes."
   ]
  },
  {
   "cell_type": "markdown",
   "source": [
    "#### 2.2.1 - Question 4 (2.5 points)\n",
    "\n",
    "**Quels attributs contiennent des valeurs manquantes ?**"
   ],
   "metadata": {
    "id": "ijKA36QIhN9O"
   }
  },
  {
   "cell_type": "code",
   "execution_count": 28,
   "outputs": [
    {
     "name": "stdout",
     "output_type": "stream",
     "text": [
      "<class 'pandas.core.frame.DataFrame'>\n",
      "RangeIndex: 2919 entries, 0 to 2918\n",
      "Data columns (total 12 columns):\n",
      " #   Column        Non-Null Count  Dtype  \n",
      "---  ------        --------------  -----  \n",
      " 0   MSSubClass    2919 non-null   int64  \n",
      " 1   MSZoning      2915 non-null   object \n",
      " 2   LotArea       2919 non-null   int64  \n",
      " 3   LotConfig     2919 non-null   object \n",
      " 4   BldgType      2919 non-null   object \n",
      " 5   OverallCond   2919 non-null   int64  \n",
      " 6   YearBuilt     2919 non-null   int64  \n",
      " 7   YearRemodAdd  2919 non-null   int64  \n",
      " 8   Exterior1st   2918 non-null   object \n",
      " 9   BsmtFinSF2    2918 non-null   float64\n",
      " 10  TotalBsmtSF   2918 non-null   float64\n",
      " 11  SalePrice     1460 non-null   float64\n",
      "dtypes: float64(3), int64(5), object(4)\n",
      "memory usage: 273.8+ KB\n"
     ]
    }
   ],
   "source": [
    "df.info()"
   ],
   "metadata": {
    "collapsed": false,
    "ExecuteTime": {
     "end_time": "2024-09-16T16:48:06.918213200Z",
     "start_time": "2024-09-16T16:48:06.897563600Z"
    }
   }
  },
  {
   "cell_type": "code",
   "execution_count": null,
   "metadata": {
    "id": "sPdUgLoC60pQ"
   },
   "outputs": [],
   "source": [
    "#TODO\n"
   ]
  },
  {
   "cell_type": "markdown",
   "source": [
    "#### 2.2.2 - Question 5 (2.5 points)\n",
    "\n",
    "On peut alors gérer les valeurs manquantes colonne par colonne. L'attribut `SalePrice` n'est pas pris en considération car les valeurs manquantes sont justement les valeurs que nous voulons prédire.\n",
    "\n",
    "**Supprimer les lignes contenant les valeurs manquantes. Implémentez la fonction `delete_missing_values` qui retire ces données**."
   ],
   "metadata": {
    "id": "cD3p7SzPhvJr"
   }
  },
  {
   "cell_type": "code",
   "execution_count": null,
   "metadata": {
    "id": "lB8c_BHB60pS"
   },
   "outputs": [],
   "source": [
    "def delete_missing_values(dataset):\n",
    "    \"\"\"\n",
    "    This function deletes row whom a value is missing.\n",
    "\n",
    "    :param dataset: ensemble des données\n",
    "    :return:\n",
    "      dataset traitée\n",
    "    \"\"\"\n",
    "    pass"
   ]
  },
  {
   "cell_type": "code",
   "source": [
    "df = delete_missing_values(df)"
   ],
   "metadata": {
    "id": "hOQyhy5Bzeea"
   },
   "execution_count": null,
   "outputs": []
  },
  {
   "cell_type": "markdown",
   "metadata": {
    "id": "Dv7C76Pt60pR"
   },
   "source": [
    "Les données manquantes pour la colonne `SalePrice` sont celles du dataset de test. On laisse donc ces valeurs manquantes car on veut appliquer le même prétraitement sur les données de test."
   ]
  },
  {
   "cell_type": "markdown",
   "source": [
    "### 2.2.3 - Question 6 (10 points)\n",
    "\n",
    "On veut néanmoins que les données d'entrainement suivent une distribution gaussienne.\n",
    "\n",
    "**Implémenter le fonction `plot_hist`. Cette fonction doit permettre d'afficher la distribution des valeurs de l'attribut `SalePrice` ainsi que la loi normale de même moyenne et variance.**"
   ],
   "metadata": {
    "id": "nd7i82HySOTw"
   }
  },
  {
   "cell_type": "code",
   "execution_count": null,
   "metadata": {
    "id": "LJVGJ9rm60pR"
   },
   "outputs": [],
   "source": [
    "def plot_hist(prices):\n",
    "    \"\"\"\n",
    "    Affiche la distribution du prix de vente\n",
    "\n",
    "    :param prices: ensemble des prix.\n",
    "    \"\"\"\n",
    "    pass"
   ]
  },
  {
   "cell_type": "code",
   "execution_count": null,
   "metadata": {
    "id": "ouDFr8tK60pR"
   },
   "outputs": [],
   "source": [
    "plot_hist(df['SalePrice'])"
   ]
  },
  {
   "cell_type": "markdown",
   "metadata": {
    "id": "niiWCCwX60pS"
   },
   "source": [
    "Vous devez obtenir une distribution des valeurs de `SalePrice` proches d'une distribution normale mais légèrement asymétrique. On peut alors appliquer une transformation logarithmique pour approcher d'une distribution normale symétrique.\n",
    "\n",
    "**Effectuer cette transformation sur notre ensemble de données.**"
   ]
  },
  {
   "cell_type": "code",
   "execution_count": null,
   "metadata": {
    "id": "zDakO5Is60pS"
   },
   "outputs": [],
   "source": [
    "#TODO"
   ]
  },
  {
   "cell_type": "code",
   "source": [
    "plot_hist(df['SalePrice'])"
   ],
   "metadata": {
    "id": "CVO6QYKK_msM"
   },
   "execution_count": null,
   "outputs": []
  },
  {
   "cell_type": "markdown",
   "metadata": {
    "id": "Zv5pOxkH60pT"
   },
   "source": [
    "### 2.3 Détection des valeurs aberrantes"
   ]
  },
  {
   "cell_type": "markdown",
   "metadata": {
    "id": "96toDgSp60pT"
   },
   "source": [
    "En pratique, la méthode de détection d'une valeur aberrante nécessite de se poser les questions suivantes:\n",
    "- Quelles valeurs seraient incohérentes pour chaque colonne ?\n",
    "- Quelles valeurs peuvent être problématiques pour l'utilisation de ces données ? Exemple: pour une régression linéaire, on préfère avoir des valeurs distribuées suivant une loi normale.\n",
    "\n",
    "Avec ces éléments, on peut:\n",
    "- Fixer des seuils de tolérance pour les valeurs aberrantes\n",
    "- Utiliser des algorithmes de détection de valeurs aberrantes (ex: clustering, IRQ, [QTest](https://plotly.com/python/v3/outlier-test/), ...)\n",
    "\n",
    "A noter que suivant les méthodes, les valeurs détectées comme aberrantes peuvent être différentes.\n",
    "\n",
    "La méthode IRQ fait l'objet d'une question, en fin de ce notebook."
   ]
  },
  {
   "cell_type": "markdown",
   "source": [
    "### 2.3.1 Question 7 (10 points)\n",
    "\n",
    "Ici comme nous allons réaliser une régression linéaire, nous allons visuellement voir si certains points s'écartent franchement de la droite de régression.\n",
    "\n",
    "On sait que l'on veut effectuer une régression linéaire pour prédire `SalePrice`. On peut donc visualiser les valeurs de chaque attribut en fonction de `SalePrice` pour détecter la présence de valeurs aberrantes.\n",
    "\n",
    "**Implémenter la fonction `plot_line`. Elle doit permettre de visualiser la relation entre un attribut donné et `SalePrice`.**"
   ],
   "metadata": {
    "id": "TwgcO0k9Jjiw"
   }
  },
  {
   "cell_type": "code",
   "source": [
    "def plot_line(attr):\n",
    "    \"\"\"\n",
    "    Affiche la relation entre attr et SalePrice\n",
    "\n",
    "    :param attr: attribut à comparer à SalePrice\n",
    "    \"\"\"\n",
    "    pass"
   ],
   "metadata": {
    "id": "zGLszIizKSYO"
   },
   "execution_count": null,
   "outputs": []
  },
  {
   "cell_type": "markdown",
   "source": [
    "**Afficher les relations de tous les attributs avec `SalePrice`. Peut-on y déceler des valeurs aberrantes ?**"
   ],
   "metadata": {
    "id": "Iq_0y4OeK_Pm"
   }
  },
  {
   "cell_type": "code",
   "execution_count": null,
   "metadata": {
    "id": "3EPDHuUJZ1a4"
   },
   "outputs": [],
   "source": [
    "#TODO"
   ]
  },
  {
   "cell_type": "markdown",
   "metadata": {
    "id": "BrnapsJb60pV"
   },
   "source": [
    "## 3. Transformation des données (10 points)"
   ]
  },
  {
   "cell_type": "markdown",
   "metadata": {
    "id": "PZKsU-2t60pV"
   },
   "source": [
    "### 3.1 Encodage des attributs de type `object`"
   ]
  },
  {
   "cell_type": "markdown",
   "metadata": {
    "id": "MElC6Gao60pV"
   },
   "source": [
    "Les attributs de type `object` étant catégoriques (voire partie 1), on peut effectuer un `one hot encoding` de ces attributs. `Pandas` permet d'effectuer cela avec la fonction `get_dummies()`. Cela nous permettra d'obtenir un dataset contenant uniquement des attributs de type `int` ou `float`.\n"
   ]
  },
  {
   "cell_type": "markdown",
   "source": [
    "#### 3.1.1 Question 8 (5 points)\n",
    "\n",
    "**Encodez les attributs de type `object` avec un `one hot encoding`**"
   ],
   "metadata": {
    "id": "JHcKIIn_xcbg"
   }
  },
  {
   "cell_type": "code",
   "execution_count": null,
   "metadata": {
    "id": "4oTBcJTT60pV"
   },
   "outputs": [],
   "source": [
    "#TODO"
   ]
  },
  {
   "cell_type": "markdown",
   "metadata": {
    "id": "Nern4lpg60pW"
   },
   "source": [
    "### 3.2 Normalisation des données"
   ]
  },
  {
   "cell_type": "markdown",
   "metadata": {
    "id": "WharCiE560pW"
   },
   "source": [
    "Pour faciliter l'entraînement du modèle, on peut normaliser les données. `sklearn` permet d'effectuer cela avec les fonctions suivantes :\n",
    "\n",
    "*   `StandardScaler()` normalise les données en soustrayant la moyenne et en divisant par l'écart-type\n",
    "*   `MinMaxScaler()` normalise les données en les ramenant entre 0 et 1.\n",
    "\n",
    "Dans la suite de ce TP, nous utiliserons la fonction `StandardScaler()`."
   ]
  },
  {
   "cell_type": "code",
   "source": [
    "# A utiliser dans la partie 6.2\n",
    "mu_sale_price = df[\"SalePrice\"].mean()\n",
    "sigma_sale_price = df[\"SalePrice\"].std()"
   ],
   "metadata": {
    "id": "tGl8KxkwXyC2"
   },
   "execution_count": null,
   "outputs": []
  },
  {
   "cell_type": "markdown",
   "source": [
    "#### 3.2.1 Question 9 (5 points)\n",
    "\n",
    "**Implémenter la fonction `normalize`. Elle doit réaliser la normalisation des données.**"
   ],
   "metadata": {
    "id": "q0_AYgbsxzdY"
   }
  },
  {
   "cell_type": "code",
   "execution_count": null,
   "metadata": {
    "id": "JsJz5irG60pW"
   },
   "outputs": [],
   "source": [
    "def normalize(dataset):\n",
    "    \"\"\"\n",
    "    Normalise les données du dataset.\n",
    "\n",
    "    :param dataset: ensemble des données\n",
    "    :return:\n",
    "      dataset traitée\n",
    "    \"\"\"\n",
    "    pass"
   ]
  },
  {
   "cell_type": "code",
   "source": [
    "df = normalize(df)"
   ],
   "metadata": {
    "id": "2amj4-7mcPjS"
   },
   "execution_count": null,
   "outputs": []
  },
  {
   "cell_type": "markdown",
   "metadata": {
    "id": "E0AY3k-a60pX"
   },
   "source": [
    "## 4. Sélection des attributs corrélées (15 points)"
   ]
  },
  {
   "cell_type": "markdown",
   "metadata": {
    "id": "-QdxBuVE60pX"
   },
   "source": [
    "### 4.1 Suppression des attributs corrélées"
   ]
  },
  {
   "cell_type": "markdown",
   "metadata": {
    "id": "tqQZacRb60pX"
   },
   "source": [
    "Pour améliorer la qualité de la prédiction, nous devons prendre en compte la corrélation entre attributs. L'objectif est donc de supprimer les attributs les plus fortement corrélées entre eux.\n",
    "\n",
    "Pour ce faire, vous disposez des fonctions suivantes\n",
    "\n",
    "* `corr()` de `Pandas` qui calcule la matrice de corrélation\n",
    "* `heatmap()` de `seaborn` qui permet de visualiser la matrice de corrélation\n"
   ]
  },
  {
   "cell_type": "markdown",
   "source": [
    "#### 4.1.1 Question 10 (10 points)\n",
    "\n",
    "**Implémenter la fonction `display_corr_matrix`. Elle doit permettre d'afficher la matrice de corrélation entre les différents attributs de nos données après normalisation des données.**"
   ],
   "metadata": {
    "id": "X_vrfq-hyJdL"
   }
  },
  {
   "cell_type": "code",
   "execution_count": null,
   "metadata": {
    "id": "LAM9uYXW60pX"
   },
   "outputs": [],
   "source": [
    "def display_corr_matrix(dataset)\n",
    "    \"\"\"\n",
    "    Créer et affiche la matrice de corrélation des attributs liés au dataset.\n",
    "\n",
    "    :param dataset: ensemble des données\n",
    "    \"\"\""
   ]
  },
  {
   "cell_type": "code",
   "source": [
    "display_corr_matrix(df)"
   ],
   "metadata": {
    "id": "rQL8kIMfaVEk"
   },
   "execution_count": null,
   "outputs": []
  },
  {
   "cell_type": "markdown",
   "source": [
    "#### 4.1.2 Question 11 (5 points)\n",
    "\n",
    "On peut alors choisir de supprimer les attributs qui sont fortement corrélées entre eux en définissant un seuil. Fixons ce seuil à 0.7.\n",
    "\n",
    "**Quels sont les attributs fortement correlés selon le critère ci-dessus ? Supprimez ces attributs et affichez la nouvelle matrice de corrélation.**"
   ],
   "metadata": {
    "id": "9-nwjR6E0W44"
   }
  },
  {
   "cell_type": "code",
   "execution_count": null,
   "metadata": {
    "id": "joIHvsMX60pX"
   },
   "outputs": [],
   "source": [
    "#TODO"
   ]
  },
  {
   "cell_type": "markdown",
   "metadata": {
    "id": "OTzYLVBF60pY"
   },
   "source": [
    "## 5. Récapitulatif des prétraitements"
   ]
  },
  {
   "cell_type": "markdown",
   "metadata": {
    "id": "JuqL1CEI60pY"
   },
   "source": [
    "<img src=\" data:image/jpeg;base64,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\" height=\"600px\">"
   ]
  },
  {
   "cell_type": "markdown",
   "metadata": {
    "id": "GQpercMc60pd"
   },
   "source": [
    "## 6. Entrainement d'un modèle de régression linéaire (30 points)"
   ]
  },
  {
   "cell_type": "markdown",
   "metadata": {
    "id": "ORdHTRsB60pd"
   },
   "source": [
    "### 6.1 Rappel du concept"
   ]
  },
  {
   "cell_type": "markdown",
   "metadata": {
    "id": "ELjDQ7Le60pd"
   },
   "source": [
    "La régression linéaire consiste à trouver une fonction affine qui minimise la somme des carrés des erreurs. La fonction affine est définie par la formule suivante :\n",
    "$$ f(x) = \\beta_0 + \\beta_1^T x $$\n",
    "Nous tentons de trouver les paramètres $\\beta_0$ et $\\beta_1$ qui minimisent $\\sum_{i=1}^n (f(x_i) - y_i)^2=||y-X\\beta||^2$ où $X$ est la matrice des données fournies au modèle et $y$ le vecteur des `SalePrice`."
   ]
  },
  {
   "cell_type": "markdown",
   "metadata": {
    "id": "p7h64C2F60pd"
   },
   "source": [
    "On veut trouver le minimum de cette fonction. On va utiliser `RidgeRegression` de `sklearn` pour trouver les paramètres $\\beta_0$ et $\\beta_1$. Ce module utilise la méthode des moindres carrés (`numpy.linalg.lstsq`) pour trouver les paramètres $\\beta_0$ et $\\beta_1$."
   ]
  },
  {
   "cell_type": "markdown",
   "metadata": {
    "id": "Wso4UXP260pd"
   },
   "source": [
    "### 6.2 Application"
   ]
  },
  {
   "cell_type": "markdown",
   "source": [
    "#### 6.2.1 Question 12 (5 points)\n",
    "\n",
    "Après avoir effectué le prétraitement, on peut commencer par séparer les données en un ensemble d'entraînement et un ensemble de test. Pour cela, les 1460 premières lignes contiennent les données d'entrainement. On peut ainsi séparer les données en deux ensembles.\n",
    "\n",
    "**Compléter la structure suivante afin de diviser les données en deux sous-ensembles.**"
   ],
   "metadata": {
    "id": "mY-e46r71ucY"
   }
  },
  {
   "cell_type": "code",
   "execution_count": null,
   "metadata": {
    "id": "pMK22chk60pe"
   },
   "outputs": [],
   "source": [
    "data_train = {\"x\": pass, \"y\": pass, \"df\": pass}\n",
    "data_pred = {\"x\": pass, \"df\": pass}"
   ]
  },
  {
   "cell_type": "markdown",
   "metadata": {
    "id": "yl68_rKE60pe"
   },
   "source": [
    "#### 6.2.2 Question 13 (7.5 points)\n",
    "\n",
    "Une fois cette scission faite, on peut utiliser `RidgeRegression` pour effectuer la régression linéaire avec pénalisation de la norme L2.\n",
    "\n",
    "**Compléter la fonction `ridge_regression`. Elle doit implémenter l'ensemble de la régression.**\n",
    "\n",
    "*Pour cette question, vous devez retourner les coefficients de la regression linéaire. De plus, cette fonction doit modifier le paramètre `data_pred` en y ajoutant les valeurs prédites. Il est aussi nécéssaire de prendre en compte certaines modifications effectuées lors de la transformation des données*"
   ]
  },
  {
   "cell_type": "code",
   "execution_count": null,
   "metadata": {
    "id": "j2ZKD-jN60pe"
   },
   "outputs": [],
   "source": [
    "def ridge_regression(data_train, data_pred):\n",
    "    \"\"\"\n",
    "    Réaliser la prédiction selon la régression de Rigde.\n",
    "\n",
    "    :param data_train: données d'entrainement\n",
    "    :param data_pred: données de prédiction\n",
    "    :return:\n",
    "      coefficients de la régression\n",
    "    \"\"\"\n",
    "    data_pred[\"y\"] = #TODO\n",
    "    pass"
   ]
  },
  {
   "cell_type": "code",
   "source": [
    " reg = ridge_regression(data_train, data_pred)\n",
    " data_pred[\"y\"]"
   ],
   "metadata": {
    "id": "zmCcvTKU1TQQ"
   },
   "execution_count": null,
   "outputs": []
  },
  {
   "cell_type": "markdown",
   "source": [
    "#### 6.2.3 Question 14 (5 points)\n",
    "\n",
    "**Comparer la distribution des données prédites avec celles d'entrainement.**"
   ],
   "metadata": {
    "id": "0YqmB6786dJ7"
   }
  },
  {
   "cell_type": "code",
   "execution_count": null,
   "metadata": {
    "id": "sFjYYGaz60pf"
   },
   "outputs": [],
   "source": [
    "#TODO"
   ]
  },
  {
   "cell_type": "markdown",
   "source": [
    "### 6.3. Sélection des attributs importants\n",
    "#### 6.3.1 Question 15 (5 points)\n",
    "\n",
    "Une fois la prédiction obtenue, on peut maintenant mesurer l'importance de chaque attribut dans la prédicition en traçant les coefficients de la régression linéaire.\n",
    "\n",
    "**Quels sont les dix attributs ayant le plus d'impact dans la prédiction ?**\n"
   ],
   "metadata": {
    "id": "be4k6q0-5Siq"
   }
  },
  {
   "cell_type": "code",
   "execution_count": null,
   "metadata": {
    "id": "JCGi6vQI60pg"
   },
   "outputs": [],
   "source": [
    "#TODO"
   ]
  },
  {
   "cell_type": "markdown",
   "source": [
    "#### 6.3.2 Question 16 (7.5 points)\n",
    "\n",
    "Cette dernière méthode n'est pas nécessairement une bonne mesure de l'importance d'un attribut. On peut utiliser la méthode SHAP (SHapley Additive exPlanations) pour effectuer la sélection des attributs.\n",
    "\n",
    "**Les dix attributs ayant le plus d'impact dans la prédiction pour cette mesure sont-ils les mêmes que ceux de la question précédente ? Donnez une interprétation comparative de ces deux résultats**\n"
   ],
   "metadata": {
    "id": "uXVWypfjeahG"
   }
  },
  {
   "cell_type": "code",
   "source": [
    "#TODO"
   ],
   "metadata": {
    "id": "mFBr7mdXgwef"
   },
   "execution_count": null,
   "outputs": []
  },
  {
   "cell_type": "markdown",
   "source": [
    "## 7. Méthode des écarts interquartiles ou IRQ (10 points)"
   ],
   "metadata": {
    "id": "OEkbTIvZ59aP"
   }
  },
  {
   "cell_type": "markdown",
   "metadata": {
    "id": "egC3g-Pk60pT"
   },
   "source": [
    "On peut également détecter les valeurs aberrantes en affichant un boxplot de chaque colonne. `Plotly` considère les valeurs aberrantes comme des outliers si elles sont situées en dehors de l'intervalle [Q1 - α * IQR, Q3 + α * IQR] où\n",
    "* Q1 et Q3 sont les quantiles 25% et 75%,\n",
    "* IQR l'intervalle interquartile (Q3 - Q1)\n",
    "* α le facteur d'ajustement.\n",
    "\n",
    "On exclut `SalePrice` car les seules valeurs manquantes de cet attribut sont celles du dataset de test."
   ]
  },
  {
   "cell_type": "markdown",
   "source": [
    "### 7.1 Question 17 (5 points)\n",
    "\n",
    "**A quelle valeur fixer le facteur d'ajustement α ? Combien y-a-t-il alors de données aberrantes pour chaque attribut ?**"
   ],
   "metadata": {
    "id": "NiY4Y6FeMAM-"
   }
  },
  {
   "cell_type": "code",
   "source": [
    "#TODO"
   ],
   "metadata": {
    "id": "y3CRdn2sNH-W"
   },
   "execution_count": null,
   "outputs": []
  },
  {
   "cell_type": "markdown",
   "source": [
    "### 7.2 Question 18 (5 points)\n",
    "\n",
    "**Traitez les données aberrantes identifiées à la question précédantes. Quel traitement appliquer ?**"
   ],
   "metadata": {
    "id": "wj-3CYhqNGuG"
   }
  },
  {
   "cell_type": "code",
   "execution_count": null,
   "metadata": {
    "id": "AGf-A4Xz60pT"
   },
   "outputs": [],
   "source": [
    "#TODO"
   ]
  }
 ],
 "metadata": {
  "colab": {
   "provenance": []
  },
  "kernelspec": {
   "display_name": "Python 3",
   "language": "python",
   "name": "python3"
  },
  "language_info": {
   "codemirror_mode": {
    "name": "ipython",
    "version": 3
   },
   "file_extension": ".py",
   "mimetype": "text/x-python",
   "name": "python",
   "nbconvert_exporter": "python",
   "pygments_lexer": "ipython3",
   "version": "3.8.8"
  },
  "orig_nbformat": 4
 },
 "nbformat": 4,
 "nbformat_minor": 0
}
